{
 "cells": [
  {
   "cell_type": "markdown",
   "source": "<a href=\"https://colab.research.google.com/github/wangshouh/LearnDataCleaning/blob/main/ch1/cleardata_ch1_excel.ipynb\" target=\"_parent\"><img src=\"https://colab.research.google.com/assets/colab-badge.svg\" alt=\"Open In Colab\"/></a>",
   "metadata": {
    "id": "view-in-github",
    "colab_type": "text",
    "cell_id": "00000-8ec73ccb-c3dc-49b1-8b00-79649e4504e1",
    "deepnote_cell_type": "markdown"
   }
  },
  {
   "cell_type": "code",
   "metadata": {
    "id": "ZqZLY60SHO7A",
    "cell_id": "00001-20013e09-0927-476d-a12f-ec94552c083b",
    "deepnote_to_be_reexecuted": false,
    "source_hash": "9b82ee11",
    "execution_start": 1635242639436,
    "execution_millis": 44,
    "deepnote_cell_type": "code"
   },
   "source": "import pandas as pd",
   "execution_count": 1,
   "outputs": []
  },
  {
   "cell_type": "code",
   "source": "!pip install xlrd\n!pip install openpyxl ",
   "metadata": {
    "tags": [],
    "cell_id": "00002-4af4f9c1-c61e-4626-8fe3-3627712bc3a1",
    "deepnote_to_be_reexecuted": false,
    "source_hash": "bc194d85",
    "execution_start": 1635242639481,
    "execution_millis": 6652,
    "deepnote_cell_type": "code"
   },
   "outputs": [
    {
     "name": "stdout",
     "text": "Requirement already satisfied: xlrd in /root/venv/lib/python3.7/site-packages (2.0.1)\n\u001b[33mWARNING: You are using pip version 21.2.4; however, version 21.3.1 is available.\nYou should consider upgrading via the '/root/venv/bin/python -m pip install --upgrade pip' command.\u001b[0m\nRequirement already satisfied: openpyxl in /root/venv/lib/python3.7/site-packages (3.0.9)\nRequirement already satisfied: et-xmlfile in /root/venv/lib/python3.7/site-packages (from openpyxl) (1.1.0)\n\u001b[33mWARNING: You are using pip version 21.2.4; however, version 21.3.1 is available.\nYou should consider upgrading via the '/root/venv/bin/python -m pip install --upgrade pip' command.\u001b[0m\n",
     "output_type": "stream"
    }
   ],
   "execution_count": 2
  },
  {
   "cell_type": "code",
   "metadata": {
    "id": "MUEEAalyH_WN",
    "cell_id": "00002-a96c5676-5f5b-40b3-b1d1-d30d42119296",
    "deepnote_to_be_reexecuted": false,
    "source_hash": "acaa1acc",
    "execution_start": 1635242646140,
    "execution_millis": 862,
    "deepnote_cell_type": "code"
   },
   "source": "percapitaGDP = pd.read_excel(\n    \"https://github.com/PacktPublishing/Python-Data-Cleaning-Cookbook/raw/master/Chapter01/data/GDPpercapita.xlsx\",\n    sheet_name=\"OECD.Stat export\",\n    skiprows=4,\n    skipfooter=1,\n    usecols=\"A,C:T\"                                                       \n    )",
   "execution_count": 3,
   "outputs": []
  },
  {
   "cell_type": "code",
   "metadata": {
    "colab": {
     "base_uri": "https://localhost:8080/",
     "height": 206
    },
    "id": "wG-oJrhaItZw",
    "outputId": "33e4b9c7-dfca-4d4c-bd8a-03b469a47bfa",
    "cell_id": "00003-e693c300-4d55-4fdd-a8b1-87985fe29079",
    "deepnote_to_be_reexecuted": false,
    "source_hash": "8a93af70",
    "execution_start": 1635242647054,
    "execution_millis": 57,
    "deepnote_cell_type": "code"
   },
   "source": "percapitaGDP.head()",
   "execution_count": 4,
   "outputs": [
    {
     "output_type": "execute_result",
     "execution_count": 4,
     "data": {
      "application/vnd.deepnote.dataframe.v2+json": {
       "row_count": 5,
       "column_count": 19,
       "columns": [
        {
         "name": "Year",
         "dtype": "object",
         "stats": {
          "unique_count": 5,
          "nan_count": 0,
          "categories": [
           {
            "name": "Metropolitan areas",
            "count": 1
           },
           {
            "name": "AUS: Australia",
            "count": 1
           },
           {
            "name": "3 others",
            "count": 3
           }
          ]
         }
        },
        {
         "name": "2001",
         "dtype": "object",
         "stats": {
          "unique_count": 4,
          "nan_count": 1,
          "categories": [
           {
            "name": "..",
            "count": 1
           },
           {
            "name": "3 others",
            "count": 3
           },
           {
            "name": "Missing",
            "count": 1
           }
          ]
         }
        },
        {
         "name": "2002",
         "dtype": "object",
         "stats": {
          "unique_count": 4,
          "nan_count": 1,
          "categories": [
           {
            "name": "..",
            "count": 1
           },
           {
            "name": "3 others",
            "count": 3
           },
           {
            "name": "Missing",
            "count": 1
           }
          ]
         }
        },
        {
         "name": "2003",
         "dtype": "object",
         "stats": {
          "unique_count": 4,
          "nan_count": 1,
          "categories": [
           {
            "name": "..",
            "count": 1
           },
           {
            "name": "3 others",
            "count": 3
           },
           {
            "name": "Missing",
            "count": 1
           }
          ]
         }
        },
        {
         "name": "2004",
         "dtype": "object",
         "stats": {
          "unique_count": 4,
          "nan_count": 1,
          "categories": [
           {
            "name": "..",
            "count": 1
           },
           {
            "name": "3 others",
            "count": 3
           },
           {
            "name": "Missing",
            "count": 1
           }
          ]
         }
        },
        {
         "name": "2005",
         "dtype": "object",
         "stats": {
          "unique_count": 4,
          "nan_count": 1,
          "categories": [
           {
            "name": "..",
            "count": 1
           },
           {
            "name": "3 others",
            "count": 3
           },
           {
            "name": "Missing",
            "count": 1
           }
          ]
         }
        },
        {
         "name": "2006",
         "dtype": "object",
         "stats": {
          "unique_count": 4,
          "nan_count": 1,
          "categories": [
           {
            "name": "..",
            "count": 1
           },
           {
            "name": "3 others",
            "count": 3
           },
           {
            "name": "Missing",
            "count": 1
           }
          ]
         }
        },
        {
         "name": "2007",
         "dtype": "object",
         "stats": {
          "unique_count": 4,
          "nan_count": 1,
          "categories": [
           {
            "name": "..",
            "count": 1
           },
           {
            "name": "3 others",
            "count": 3
           },
           {
            "name": "Missing",
            "count": 1
           }
          ]
         }
        },
        {
         "name": "2008",
         "dtype": "object",
         "stats": {
          "unique_count": 4,
          "nan_count": 1,
          "categories": [
           {
            "name": "..",
            "count": 1
           },
           {
            "name": "3 others",
            "count": 3
           },
           {
            "name": "Missing",
            "count": 1
           }
          ]
         }
        },
        {
         "name": "2009",
         "dtype": "object",
         "stats": {
          "unique_count": 4,
          "nan_count": 1,
          "categories": [
           {
            "name": "..",
            "count": 1
           },
           {
            "name": "3 others",
            "count": 3
           },
           {
            "name": "Missing",
            "count": 1
           }
          ]
         }
        },
        {
         "name": "2010",
         "dtype": "object",
         "stats": {
          "unique_count": 4,
          "nan_count": 1,
          "categories": [
           {
            "name": "..",
            "count": 1
           },
           {
            "name": "3 others",
            "count": 3
           },
           {
            "name": "Missing",
            "count": 1
           }
          ]
         }
        },
        {
         "name": "2011",
         "dtype": "object",
         "stats": {
          "unique_count": 4,
          "nan_count": 1,
          "categories": [
           {
            "name": "..",
            "count": 1
           },
           {
            "name": "3 others",
            "count": 3
           },
           {
            "name": "Missing",
            "count": 1
           }
          ]
         }
        },
        {
         "name": "2012",
         "dtype": "object",
         "stats": {
          "unique_count": 4,
          "nan_count": 1,
          "categories": [
           {
            "name": "..",
            "count": 1
           },
           {
            "name": "3 others",
            "count": 3
           },
           {
            "name": "Missing",
            "count": 1
           }
          ]
         }
        },
        {
         "name": "2013",
         "dtype": "object",
         "stats": {
          "unique_count": 4,
          "nan_count": 1,
          "categories": [
           {
            "name": "..",
            "count": 1
           },
           {
            "name": "3 others",
            "count": 3
           },
           {
            "name": "Missing",
            "count": 1
           }
          ]
         }
        },
        {
         "name": "2014",
         "dtype": "object",
         "stats": {
          "unique_count": 4,
          "nan_count": 1,
          "categories": [
           {
            "name": "..",
            "count": 1
           },
           {
            "name": "3 others",
            "count": 3
           },
           {
            "name": "Missing",
            "count": 1
           }
          ]
         }
        },
        {
         "name": "2015",
         "dtype": "object",
         "stats": {
          "unique_count": 4,
          "nan_count": 1,
          "categories": [
           {
            "name": "..",
            "count": 1
           },
           {
            "name": "3 others",
            "count": 3
           },
           {
            "name": "Missing",
            "count": 1
           }
          ]
         }
        },
        {
         "name": "2016",
         "dtype": "object",
         "stats": {
          "unique_count": 4,
          "nan_count": 1,
          "categories": [
           {
            "name": "..",
            "count": 1
           },
           {
            "name": "3 others",
            "count": 3
           },
           {
            "name": "Missing",
            "count": 1
           }
          ]
         }
        },
        {
         "name": "2017",
         "dtype": "object",
         "stats": {
          "unique_count": 4,
          "nan_count": 1,
          "categories": [
           {
            "name": "..",
            "count": 1
           },
           {
            "name": "3 others",
            "count": 3
           },
           {
            "name": "Missing",
            "count": 1
           }
          ]
         }
        },
        {
         "name": "2018",
         "dtype": "object",
         "stats": {
          "unique_count": 4,
          "nan_count": 1,
          "categories": [
           {
            "name": "..",
            "count": 1
           },
           {
            "name": "3 others",
            "count": 3
           },
           {
            "name": "Missing",
            "count": 1
           }
          ]
         }
        },
        {
         "name": "_deepnote_index_column",
         "dtype": "int64"
        }
       ],
       "rows_top": [
        {
         "2001": "nan",
         "2002": "nan",
         "2003": "nan",
         "2004": "nan",
         "2005": "nan",
         "2006": "nan",
         "2007": "nan",
         "2008": "nan",
         "2009": "nan",
         "2010": "nan",
         "2011": "nan",
         "2012": "nan",
         "2013": "nan",
         "2014": "nan",
         "2015": "nan",
         "2016": "nan",
         "2017": "nan",
         "2018": "nan",
         "Year": "Metropolitan areas",
         "_deepnote_index_column": 0
        },
        {
         "2001": "..",
         "2002": "..",
         "2003": "..",
         "2004": "..",
         "2005": "..",
         "2006": "..",
         "2007": "..",
         "2008": "..",
         "2009": "..",
         "2010": "..",
         "2011": "..",
         "2012": "..",
         "2013": "..",
         "2014": "..",
         "2015": "..",
         "2016": "..",
         "2017": "..",
         "2018": "..",
         "Year": "AUS: Australia",
         "_deepnote_index_column": 1
        },
        {
         "2001": "43313",
         "2002": "44008",
         "2003": "45424",
         "2004": "45837",
         "2005": "45423",
         "2006": "45547",
         "2007": "45880",
         "2008": "45225",
         "2009": "45900",
         "2010": "45672",
         "2011": "46535",
         "2012": "47350",
         "2013": "47225",
         "2014": "48510",
         "2015": "50075",
         "2016": "50519",
         "2017": "50578",
         "2018": "49860",
         "Year": "  AUS01: Greater Sydney",
         "_deepnote_index_column": 2
        },
        {
         "2001": "40125",
         "2002": "40894",
         "2003": "41602",
         "2004": "42188",
         "2005": "41484",
         "2006": "41589",
         "2007": "42316",
         "2008": "40975",
         "2009": "41384",
         "2010": "40943",
         "2011": "41165",
         "2012": "41264",
         "2013": "41157",
         "2014": "42114",
         "2015": "42928",
         "2016": "42671",
         "2017": "43025",
         "2018": "42674",
         "Year": "  AUS02: Greater Melbourne",
         "_deepnote_index_column": 3
        },
        {
         "2001": "37580",
         "2002": "37564",
         "2003": "39080",
         "2004": "40762",
         "2005": "42976",
         "2006": "44475",
         "2007": "44635",
         "2008": "46192",
         "2009": "43507",
         "2010": "42774",
         "2011": "44166",
         "2012": "43764",
         "2013": "43379",
         "2014": "43754",
         "2015": "44388",
         "2016": "45723",
         "2017": "46876",
         "2018": "46640",
         "Year": "  AUS03: Greater Brisbane",
         "_deepnote_index_column": 4
        }
       ],
       "rows_bottom": null
      },
      "text/plain": "                         Year   2001   2002   2003   2004   2005   2006  \\\n0          Metropolitan areas    NaN    NaN    NaN    NaN    NaN    NaN   \n1              AUS: Australia     ..     ..     ..     ..     ..     ..   \n2       AUS01: Greater Sydney  43313  44008  45424  45837  45423  45547   \n3    AUS02: Greater Melbourne  40125  40894  41602  42188  41484  41589   \n4     AUS03: Greater Brisbane  37580  37564  39080  40762  42976  44475   \n\n    2007   2008   2009   2010   2011   2012   2013   2014   2015   2016  \\\n0    NaN    NaN    NaN    NaN    NaN    NaN    NaN    NaN    NaN    NaN   \n1     ..     ..     ..     ..     ..     ..     ..     ..     ..     ..   \n2  45880  45225  45900  45672  46535  47350  47225  48510  50075  50519   \n3  42316  40975  41384  40943  41165  41264  41157  42114  42928  42671   \n4  44635  46192  43507  42774  44166  43764  43379  43754  44388  45723   \n\n    2017   2018  \n0    NaN    NaN  \n1     ..     ..  \n2  50578  49860  \n3  43025  42674  \n4  46876  46640  ",
      "text/html": "<div>\n<style scoped>\n    .dataframe tbody tr th:only-of-type {\n        vertical-align: middle;\n    }\n\n    .dataframe tbody tr th {\n        vertical-align: top;\n    }\n\n    .dataframe thead th {\n        text-align: right;\n    }\n</style>\n<table border=\"1\" class=\"dataframe\">\n  <thead>\n    <tr style=\"text-align: right;\">\n      <th></th>\n      <th>Year</th>\n      <th>2001</th>\n      <th>2002</th>\n      <th>2003</th>\n      <th>2004</th>\n      <th>2005</th>\n      <th>2006</th>\n      <th>2007</th>\n      <th>2008</th>\n      <th>2009</th>\n      <th>2010</th>\n      <th>2011</th>\n      <th>2012</th>\n      <th>2013</th>\n      <th>2014</th>\n      <th>2015</th>\n      <th>2016</th>\n      <th>2017</th>\n      <th>2018</th>\n    </tr>\n  </thead>\n  <tbody>\n    <tr>\n      <th>0</th>\n      <td>Metropolitan areas</td>\n      <td>NaN</td>\n      <td>NaN</td>\n      <td>NaN</td>\n      <td>NaN</td>\n      <td>NaN</td>\n      <td>NaN</td>\n      <td>NaN</td>\n      <td>NaN</td>\n      <td>NaN</td>\n      <td>NaN</td>\n      <td>NaN</td>\n      <td>NaN</td>\n      <td>NaN</td>\n      <td>NaN</td>\n      <td>NaN</td>\n      <td>NaN</td>\n      <td>NaN</td>\n      <td>NaN</td>\n    </tr>\n    <tr>\n      <th>1</th>\n      <td>AUS: Australia</td>\n      <td>..</td>\n      <td>..</td>\n      <td>..</td>\n      <td>..</td>\n      <td>..</td>\n      <td>..</td>\n      <td>..</td>\n      <td>..</td>\n      <td>..</td>\n      <td>..</td>\n      <td>..</td>\n      <td>..</td>\n      <td>..</td>\n      <td>..</td>\n      <td>..</td>\n      <td>..</td>\n      <td>..</td>\n      <td>..</td>\n    </tr>\n    <tr>\n      <th>2</th>\n      <td>AUS01: Greater Sydney</td>\n      <td>43313</td>\n      <td>44008</td>\n      <td>45424</td>\n      <td>45837</td>\n      <td>45423</td>\n      <td>45547</td>\n      <td>45880</td>\n      <td>45225</td>\n      <td>45900</td>\n      <td>45672</td>\n      <td>46535</td>\n      <td>47350</td>\n      <td>47225</td>\n      <td>48510</td>\n      <td>50075</td>\n      <td>50519</td>\n      <td>50578</td>\n      <td>49860</td>\n    </tr>\n    <tr>\n      <th>3</th>\n      <td>AUS02: Greater Melbourne</td>\n      <td>40125</td>\n      <td>40894</td>\n      <td>41602</td>\n      <td>42188</td>\n      <td>41484</td>\n      <td>41589</td>\n      <td>42316</td>\n      <td>40975</td>\n      <td>41384</td>\n      <td>40943</td>\n      <td>41165</td>\n      <td>41264</td>\n      <td>41157</td>\n      <td>42114</td>\n      <td>42928</td>\n      <td>42671</td>\n      <td>43025</td>\n      <td>42674</td>\n    </tr>\n    <tr>\n      <th>4</th>\n      <td>AUS03: Greater Brisbane</td>\n      <td>37580</td>\n      <td>37564</td>\n      <td>39080</td>\n      <td>40762</td>\n      <td>42976</td>\n      <td>44475</td>\n      <td>44635</td>\n      <td>46192</td>\n      <td>43507</td>\n      <td>42774</td>\n      <td>44166</td>\n      <td>43764</td>\n      <td>43379</td>\n      <td>43754</td>\n      <td>44388</td>\n      <td>45723</td>\n      <td>46876</td>\n      <td>46640</td>\n    </tr>\n  </tbody>\n</table>\n</div>"
     },
     "metadata": {}
    }
   ]
  },
  {
   "cell_type": "code",
   "metadata": {
    "colab": {
     "base_uri": "https://localhost:8080/"
    },
    "id": "nCm-bcX8Iv6F",
    "outputId": "728054c7-8e7c-4844-b3ef-563f3db2cd31",
    "cell_id": "00004-557fd715-6c04-47ae-a371-5f6b3e98837e",
    "deepnote_to_be_reexecuted": false,
    "source_hash": "b23eef2a",
    "execution_start": 1635242647116,
    "execution_millis": 23,
    "deepnote_cell_type": "code"
   },
   "source": "percapitaGDP.info()",
   "execution_count": 5,
   "outputs": [
    {
     "name": "stdout",
     "text": "<class 'pandas.core.frame.DataFrame'>\nRangeIndex: 702 entries, 0 to 701\nData columns (total 19 columns):\n #   Column  Non-Null Count  Dtype \n---  ------  --------------  ----- \n 0   Year    702 non-null    object\n 1   2001    701 non-null    object\n 2   2002    701 non-null    object\n 3   2003    701 non-null    object\n 4   2004    701 non-null    object\n 5   2005    701 non-null    object\n 6   2006    701 non-null    object\n 7   2007    701 non-null    object\n 8   2008    701 non-null    object\n 9   2009    701 non-null    object\n 10  2010    701 non-null    object\n 11  2011    701 non-null    object\n 12  2012    701 non-null    object\n 13  2013    701 non-null    object\n 14  2014    701 non-null    object\n 15  2015    701 non-null    object\n 16  2016    701 non-null    object\n 17  2017    701 non-null    object\n 18  2018    701 non-null    object\ndtypes: object(19)\nmemory usage: 104.3+ KB\n",
     "output_type": "stream"
    }
   ]
  },
  {
   "cell_type": "code",
   "metadata": {
    "id": "5CBmOHX2JRdz",
    "cell_id": "00005-45eafbce-8706-4964-a40c-23812e0b745e",
    "deepnote_to_be_reexecuted": false,
    "source_hash": "df48eca9",
    "execution_start": 1635242647174,
    "execution_millis": 0,
    "deepnote_cell_type": "code"
   },
   "source": "percapitaGDP.rename(columns={\"Year\":\"metro\"}, inplace=True)",
   "execution_count": 6,
   "outputs": []
  },
  {
   "cell_type": "code",
   "metadata": {
    "id": "2rIehFEEJtTf",
    "cell_id": "00006-75ee18b1-2ab0-489e-8c0d-051cf9a64414",
    "deepnote_to_be_reexecuted": false,
    "source_hash": "5e09f243",
    "execution_start": 1635242647175,
    "execution_millis": 0,
    "deepnote_cell_type": "code"
   },
   "source": "percapitaGDP.metro = percapitaGDP.metro.str.strip()",
   "execution_count": 7,
   "outputs": []
  },
  {
   "cell_type": "code",
   "metadata": {
    "colab": {
     "base_uri": "https://localhost:8080/"
    },
    "id": "_v8GSN_KKL8_",
    "outputId": "0a9a7b55-a189-49b3-e42b-ba53a6d70289",
    "cell_id": "00007-0d876d40-5204-4886-a863-6e68766c2583",
    "deepnote_to_be_reexecuted": false,
    "source_hash": "7e579c20",
    "execution_start": 1635242647175,
    "execution_millis": 3,
    "deepnote_cell_type": "code"
   },
   "source": "percapitaGDP.dtypes",
   "execution_count": 8,
   "outputs": [
    {
     "output_type": "execute_result",
     "execution_count": 8,
     "data": {
      "text/plain": "metro    object\n2001     object\n2002     object\n2003     object\n2004     object\n2005     object\n2006     object\n2007     object\n2008     object\n2009     object\n2010     object\n2011     object\n2012     object\n2013     object\n2014     object\n2015     object\n2016     object\n2017     object\n2018     object\ndtype: object"
     },
     "metadata": {}
    }
   ]
  },
  {
   "cell_type": "code",
   "metadata": {
    "id": "JBRhLSdqKErP",
    "cell_id": "00008-538ed547-3d4d-4ccf-a1c2-8810bed9201f",
    "deepnote_to_be_reexecuted": false,
    "source_hash": "2362e0ff",
    "execution_start": 1635242647212,
    "execution_millis": 4,
    "deepnote_cell_type": "code"
   },
   "source": "for col in percapitaGDP.columns[1:]:\n  percapitaGDP[col] = pd.to_numeric(percapitaGDP[col], errors='coerce')\n  percapitaGDP.rename(columns={col:'pcGDP'+col}, inplace=True)",
   "execution_count": 9,
   "outputs": []
  },
  {
   "cell_type": "code",
   "metadata": {
    "colab": {
     "base_uri": "https://localhost:8080/"
    },
    "id": "foE-NV4XKzfv",
    "outputId": "84ed2ba4-52eb-46b3-c2b9-7b238ae283f2",
    "cell_id": "00009-47dc15d6-9984-4406-a8c4-b15e25ca32fb",
    "deepnote_to_be_reexecuted": false,
    "source_hash": "7e579c20",
    "execution_start": 1635242647268,
    "execution_millis": 2,
    "deepnote_cell_type": "code"
   },
   "source": "percapitaGDP.dtypes",
   "execution_count": 10,
   "outputs": [
    {
     "output_type": "execute_result",
     "execution_count": 10,
     "data": {
      "text/plain": "metro         object\npcGDP2001    float64\npcGDP2002    float64\npcGDP2003    float64\npcGDP2004    float64\npcGDP2005    float64\npcGDP2006    float64\npcGDP2007    float64\npcGDP2008    float64\npcGDP2009    float64\npcGDP2010    float64\npcGDP2011    float64\npcGDP2012    float64\npcGDP2013    float64\npcGDP2014    float64\npcGDP2015    float64\npcGDP2016    float64\npcGDP2017    float64\npcGDP2018    float64\ndtype: object"
     },
     "metadata": {}
    }
   ]
  },
  {
   "cell_type": "code",
   "metadata": {
    "colab": {
     "base_uri": "https://localhost:8080/",
     "height": 320
    },
    "id": "9JZ8f43DK5u6",
    "outputId": "3ee546e4-7949-48ab-b08c-b3320fd0fa57",
    "cell_id": "00010-8f53aaae-6c49-4753-9717-e223cb9fa3f7",
    "deepnote_to_be_reexecuted": false,
    "source_hash": "b12a30ce",
    "execution_start": 1635242647269,
    "execution_millis": 143,
    "deepnote_cell_type": "code"
   },
   "source": "percapitaGDP.describe()",
   "execution_count": 11,
   "outputs": [
    {
     "output_type": "execute_result",
     "execution_count": 11,
     "data": {
      "application/vnd.deepnote.dataframe.v2+json": {
       "row_count": 8,
       "column_count": 18,
       "columns": [
        {
         "name": "pcGDP2001",
         "dtype": "float64",
         "stats": {
          "unique_count": 8,
          "nan_count": 0,
          "min": "424.0",
          "max": "91488.0",
          "histogram": [
           {
            "bin_start": 424,
            "bin_end": 9530.4,
            "count": 1
           },
           {
            "bin_start": 9530.4,
            "bin_end": 18636.8,
            "count": 2
           },
           {
            "bin_start": 18636.8,
            "bin_end": 27743.199999999997,
            "count": 0
           },
           {
            "bin_start": 27743.199999999997,
            "bin_end": 36849.6,
            "count": 1
           },
           {
            "bin_start": 36849.6,
            "bin_end": 45956,
            "count": 2
           },
           {
            "bin_start": 45956,
            "bin_end": 55062.399999999994,
            "count": 1
           },
           {
            "bin_start": 55062.399999999994,
            "bin_end": 64168.799999999996,
            "count": 0
           },
           {
            "bin_start": 64168.799999999996,
            "bin_end": 73275.2,
            "count": 0
           },
           {
            "bin_start": 73275.2,
            "bin_end": 82381.59999999999,
            "count": 0
           },
           {
            "bin_start": 82381.59999999999,
            "bin_end": 91488,
            "count": 1
           }
          ]
         }
        },
        {
         "name": "pcGDP2002",
         "dtype": "float64",
         "stats": {
          "unique_count": 8,
          "nan_count": 0,
          "min": "440.0",
          "max": "93566.0",
          "histogram": [
           {
            "bin_start": 440,
            "bin_end": 9752.6,
            "count": 1
           },
           {
            "bin_start": 9752.6,
            "bin_end": 19065.2,
            "count": 2
           },
           {
            "bin_start": 19065.2,
            "bin_end": 28377.800000000003,
            "count": 0
           },
           {
            "bin_start": 28377.800000000003,
            "bin_end": 37690.4,
            "count": 1
           },
           {
            "bin_start": 37690.4,
            "bin_end": 47003,
            "count": 2
           },
           {
            "bin_start": 47003,
            "bin_end": 56315.600000000006,
            "count": 1
           },
           {
            "bin_start": 56315.600000000006,
            "bin_end": 65628.20000000001,
            "count": 0
           },
           {
            "bin_start": 65628.20000000001,
            "bin_end": 74940.8,
            "count": 0
           },
           {
            "bin_start": 74940.8,
            "bin_end": 84253.40000000001,
            "count": 0
           },
           {
            "bin_start": 84253.40000000001,
            "bin_end": 93566,
            "count": 1
           }
          ]
         }
        },
        {
         "name": "pcGDP2003",
         "dtype": "float64",
         "stats": {
          "unique_count": 8,
          "nan_count": 0,
          "min": "440.0",
          "max": "98123.0",
          "histogram": [
           {
            "bin_start": 440,
            "bin_end": 10208.3,
            "count": 1
           },
           {
            "bin_start": 10208.3,
            "bin_end": 19976.6,
            "count": 2
           },
           {
            "bin_start": 19976.6,
            "bin_end": 29744.899999999998,
            "count": 0
           },
           {
            "bin_start": 29744.899999999998,
            "bin_end": 39513.2,
            "count": 1
           },
           {
            "bin_start": 39513.2,
            "bin_end": 49281.5,
            "count": 2
           },
           {
            "bin_start": 49281.5,
            "bin_end": 59049.799999999996,
            "count": 1
           },
           {
            "bin_start": 59049.799999999996,
            "bin_end": 68818.09999999999,
            "count": 0
           },
           {
            "bin_start": 68818.09999999999,
            "bin_end": 78586.4,
            "count": 0
           },
           {
            "bin_start": 78586.4,
            "bin_end": 88354.7,
            "count": 0
           },
           {
            "bin_start": 88354.7,
            "bin_end": 98123,
            "count": 1
           }
          ]
         }
        },
        {
         "name": "pcGDP2004",
         "dtype": "float64",
         "stats": {
          "unique_count": 8,
          "nan_count": 0,
          "min": "440.0",
          "max": "96242.0",
          "histogram": [
           {
            "bin_start": 440,
            "bin_end": 10020.2,
            "count": 1
           },
           {
            "bin_start": 10020.2,
            "bin_end": 19600.4,
            "count": 2
           },
           {
            "bin_start": 19600.4,
            "bin_end": 29180.600000000002,
            "count": 0
           },
           {
            "bin_start": 29180.600000000002,
            "bin_end": 38760.8,
            "count": 1
           },
           {
            "bin_start": 38760.8,
            "bin_end": 48341,
            "count": 2
           },
           {
            "bin_start": 48341,
            "bin_end": 57921.200000000004,
            "count": 1
           },
           {
            "bin_start": 57921.200000000004,
            "bin_end": 67501.40000000001,
            "count": 0
           },
           {
            "bin_start": 67501.40000000001,
            "bin_end": 77081.6,
            "count": 0
           },
           {
            "bin_start": 77081.6,
            "bin_end": 86661.8,
            "count": 0
           },
           {
            "bin_start": 86661.8,
            "bin_end": 96242,
            "count": 1
           }
          ]
         }
        },
        {
         "name": "pcGDP2005",
         "dtype": "float64",
         "stats": {
          "unique_count": 8,
          "nan_count": 0,
          "min": "447.0",
          "max": "101084.0",
          "histogram": [
           {
            "bin_start": 447,
            "bin_end": 10510.7,
            "count": 1
           },
           {
            "bin_start": 10510.7,
            "bin_end": 20574.4,
            "count": 2
           },
           {
            "bin_start": 20574.4,
            "bin_end": 30638.100000000002,
            "count": 0
           },
           {
            "bin_start": 30638.100000000002,
            "bin_end": 40701.8,
            "count": 1
           },
           {
            "bin_start": 40701.8,
            "bin_end": 50765.5,
            "count": 2
           },
           {
            "bin_start": 50765.5,
            "bin_end": 60829.200000000004,
            "count": 1
           },
           {
            "bin_start": 60829.200000000004,
            "bin_end": 70892.90000000001,
            "count": 0
           },
           {
            "bin_start": 70892.90000000001,
            "bin_end": 80956.6,
            "count": 0
           },
           {
            "bin_start": 80956.6,
            "bin_end": 91020.3,
            "count": 0
           },
           {
            "bin_start": 91020.3,
            "bin_end": 101084,
            "count": 1
           }
          ]
         }
        },
        {
         "name": "pcGDP2006",
         "dtype": "float64",
         "stats": {
          "unique_count": 8,
          "nan_count": 0,
          "min": "447.0",
          "max": "121053.0",
          "histogram": [
           {
            "bin_start": 447,
            "bin_end": 12507.6,
            "count": 1
           },
           {
            "bin_start": 12507.6,
            "bin_end": 24568.2,
            "count": 2
           },
           {
            "bin_start": 24568.2,
            "bin_end": 36628.8,
            "count": 1
           },
           {
            "bin_start": 36628.8,
            "bin_end": 48689.4,
            "count": 2
           },
           {
            "bin_start": 48689.4,
            "bin_end": 60750,
            "count": 1
           },
           {
            "bin_start": 60750,
            "bin_end": 72810.6,
            "count": 0
           },
           {
            "bin_start": 72810.6,
            "bin_end": 84871.2,
            "count": 0
           },
           {
            "bin_start": 84871.2,
            "bin_end": 96931.8,
            "count": 0
           },
           {
            "bin_start": 96931.8,
            "bin_end": 108992.40000000001,
            "count": 0
           },
           {
            "bin_start": 108992.40000000001,
            "bin_end": 121053,
            "count": 1
           }
          ]
         }
        },
        {
         "name": "pcGDP2007",
         "dtype": "float64",
         "stats": {
          "unique_count": 8,
          "nan_count": 0,
          "min": "447.0",
          "max": "122897.0",
          "histogram": [
           {
            "bin_start": 447,
            "bin_end": 12692,
            "count": 1
           },
           {
            "bin_start": 12692,
            "bin_end": 24937,
            "count": 2
           },
           {
            "bin_start": 24937,
            "bin_end": 37182,
            "count": 1
           },
           {
            "bin_start": 37182,
            "bin_end": 49427,
            "count": 2
           },
           {
            "bin_start": 49427,
            "bin_end": 61672,
            "count": 1
           },
           {
            "bin_start": 61672,
            "bin_end": 73917,
            "count": 0
           },
           {
            "bin_start": 73917,
            "bin_end": 86162,
            "count": 0
           },
           {
            "bin_start": 86162,
            "bin_end": 98407,
            "count": 0
           },
           {
            "bin_start": 98407,
            "bin_end": 110652,
            "count": 0
           },
           {
            "bin_start": 110652,
            "bin_end": 122897,
            "count": 1
           }
          ]
         }
        },
        {
         "name": "pcGDP2008",
         "dtype": "float64",
         "stats": {
          "unique_count": 8,
          "nan_count": 0,
          "min": "455.0",
          "max": "120158.0",
          "histogram": [
           {
            "bin_start": 455,
            "bin_end": 12425.3,
            "count": 2
           },
           {
            "bin_start": 12425.3,
            "bin_end": 24395.6,
            "count": 1
           },
           {
            "bin_start": 24395.6,
            "bin_end": 36365.899999999994,
            "count": 1
           },
           {
            "bin_start": 36365.899999999994,
            "bin_end": 48336.2,
            "count": 2
           },
           {
            "bin_start": 48336.2,
            "bin_end": 60306.5,
            "count": 1
           },
           {
            "bin_start": 60306.5,
            "bin_end": 72276.79999999999,
            "count": 0
           },
           {
            "bin_start": 72276.79999999999,
            "bin_end": 84247.09999999999,
            "count": 0
           },
           {
            "bin_start": 84247.09999999999,
            "bin_end": 96217.4,
            "count": 0
           },
           {
            "bin_start": 96217.4,
            "bin_end": 108187.7,
            "count": 0
           },
           {
            "bin_start": 108187.7,
            "bin_end": 120158,
            "count": 1
           }
          ]
         }
        },
        {
         "name": "pcGDP2009",
         "dtype": "float64",
         "stats": {
          "unique_count": 8,
          "nan_count": 0,
          "min": "471.0",
          "max": "114486.0",
          "histogram": [
           {
            "bin_start": 471,
            "bin_end": 11872.5,
            "count": 2
           },
           {
            "bin_start": 11872.5,
            "bin_end": 23274,
            "count": 1
           },
           {
            "bin_start": 23274,
            "bin_end": 34675.5,
            "count": 1
           },
           {
            "bin_start": 34675.5,
            "bin_end": 46077,
            "count": 2
           },
           {
            "bin_start": 46077,
            "bin_end": 57478.5,
            "count": 1
           },
           {
            "bin_start": 57478.5,
            "bin_end": 68880,
            "count": 0
           },
           {
            "bin_start": 68880,
            "bin_end": 80281.5,
            "count": 0
           },
           {
            "bin_start": 80281.5,
            "bin_end": 91683,
            "count": 0
           },
           {
            "bin_start": 91683,
            "bin_end": 103084.5,
            "count": 0
           },
           {
            "bin_start": 103084.5,
            "bin_end": 114486,
            "count": 1
           }
          ]
         }
        },
        {
         "name": "pcGDP2010",
         "dtype": "float64",
         "stats": {
          "unique_count": 8,
          "nan_count": 0,
          "min": "471.0",
          "max": "119658.0",
          "histogram": [
           {
            "bin_start": 471,
            "bin_end": 12389.7,
            "count": 2
           },
           {
            "bin_start": 12389.7,
            "bin_end": 24308.4,
            "count": 1
           },
           {
            "bin_start": 24308.4,
            "bin_end": 36227.100000000006,
            "count": 1
           },
           {
            "bin_start": 36227.100000000006,
            "bin_end": 48145.8,
            "count": 2
           },
           {
            "bin_start": 48145.8,
            "bin_end": 60064.5,
            "count": 1
           },
           {
            "bin_start": 60064.5,
            "bin_end": 71983.20000000001,
            "count": 0
           },
           {
            "bin_start": 71983.20000000001,
            "bin_end": 83901.90000000001,
            "count": 0
           },
           {
            "bin_start": 83901.90000000001,
            "bin_end": 95820.6,
            "count": 0
           },
           {
            "bin_start": 95820.6,
            "bin_end": 107739.3,
            "count": 0
           },
           {
            "bin_start": 107739.3,
            "bin_end": 119658,
            "count": 1
           }
          ]
         }
        },
        {
         "name": "pcGDP2011",
         "dtype": "float64",
         "stats": {
          "unique_count": 8,
          "nan_count": 0,
          "min": "480.0",
          "max": "119965.0",
          "histogram": [
           {
            "bin_start": 480,
            "bin_end": 12428.5,
            "count": 2
           },
           {
            "bin_start": 12428.5,
            "bin_end": 24377,
            "count": 1
           },
           {
            "bin_start": 24377,
            "bin_end": 36325.5,
            "count": 1
           },
           {
            "bin_start": 36325.5,
            "bin_end": 48274,
            "count": 2
           },
           {
            "bin_start": 48274,
            "bin_end": 60222.5,
            "count": 1
           },
           {
            "bin_start": 60222.5,
            "bin_end": 72171,
            "count": 0
           },
           {
            "bin_start": 72171,
            "bin_end": 84119.5,
            "count": 0
           },
           {
            "bin_start": 84119.5,
            "bin_end": 96068,
            "count": 0
           },
           {
            "bin_start": 96068,
            "bin_end": 108016.5,
            "count": 0
           },
           {
            "bin_start": 108016.5,
            "bin_end": 119965,
            "count": 1
           }
          ]
         }
        },
        {
         "name": "pcGDP2012",
         "dtype": "float64",
         "stats": {
          "unique_count": 8,
          "nan_count": 0,
          "min": "480.0",
          "max": "117348.0",
          "histogram": [
           {
            "bin_start": 480,
            "bin_end": 12166.8,
            "count": 2
           },
           {
            "bin_start": 12166.8,
            "bin_end": 23853.6,
            "count": 1
           },
           {
            "bin_start": 23853.6,
            "bin_end": 35540.399999999994,
            "count": 1
           },
           {
            "bin_start": 35540.399999999994,
            "bin_end": 47227.2,
            "count": 2
           },
           {
            "bin_start": 47227.2,
            "bin_end": 58914,
            "count": 1
           },
           {
            "bin_start": 58914,
            "bin_end": 70600.79999999999,
            "count": 0
           },
           {
            "bin_start": 70600.79999999999,
            "bin_end": 82287.59999999999,
            "count": 0
           },
           {
            "bin_start": 82287.59999999999,
            "bin_end": 93974.4,
            "count": 0
           },
           {
            "bin_start": 93974.4,
            "bin_end": 105661.2,
            "count": 0
           },
           {
            "bin_start": 105661.2,
            "bin_end": 117348,
            "count": 1
           }
          ]
         }
        },
        {
         "name": "pcGDP2013",
         "dtype": "float64",
         "stats": {
          "unique_count": 8,
          "nan_count": 0,
          "min": "480.0",
          "max": "123709.0",
          "histogram": [
           {
            "bin_start": 480,
            "bin_end": 12802.9,
            "count": 2
           },
           {
            "bin_start": 12802.9,
            "bin_end": 25125.8,
            "count": 1
           },
           {
            "bin_start": 25125.8,
            "bin_end": 37448.7,
            "count": 1
           },
           {
            "bin_start": 37448.7,
            "bin_end": 49771.6,
            "count": 2
           },
           {
            "bin_start": 49771.6,
            "bin_end": 62094.5,
            "count": 1
           },
           {
            "bin_start": 62094.5,
            "bin_end": 74417.4,
            "count": 0
           },
           {
            "bin_start": 74417.4,
            "bin_end": 86740.3,
            "count": 0
           },
           {
            "bin_start": 86740.3,
            "bin_end": 99063.2,
            "count": 0
           },
           {
            "bin_start": 99063.2,
            "bin_end": 111386.09999999999,
            "count": 0
           },
           {
            "bin_start": 111386.09999999999,
            "bin_end": 123709,
            "count": 1
           }
          ]
         }
        },
        {
         "name": "pcGDP2014",
         "dtype": "float64",
         "stats": {
          "unique_count": 8,
          "nan_count": 0,
          "min": "480.0",
          "max": "121011.0",
          "histogram": [
           {
            "bin_start": 480,
            "bin_end": 12533.1,
            "count": 2
           },
           {
            "bin_start": 12533.1,
            "bin_end": 24586.2,
            "count": 1
           },
           {
            "bin_start": 24586.2,
            "bin_end": 36639.3,
            "count": 1
           },
           {
            "bin_start": 36639.3,
            "bin_end": 48692.4,
            "count": 2
           },
           {
            "bin_start": 48692.4,
            "bin_end": 60745.5,
            "count": 1
           },
           {
            "bin_start": 60745.5,
            "bin_end": 72798.6,
            "count": 0
           },
           {
            "bin_start": 72798.6,
            "bin_end": 84851.7,
            "count": 0
           },
           {
            "bin_start": 84851.7,
            "bin_end": 96904.8,
            "count": 0
           },
           {
            "bin_start": 96904.8,
            "bin_end": 108957.90000000001,
            "count": 0
           },
           {
            "bin_start": 108957.90000000001,
            "bin_end": 121011,
            "count": 1
           }
          ]
         }
        },
        {
         "name": "pcGDP2015",
         "dtype": "float64",
         "stats": {
          "unique_count": 8,
          "nan_count": 0,
          "min": "480.0",
          "max": "121623.0",
          "histogram": [
           {
            "bin_start": 480,
            "bin_end": 12594.3,
            "count": 2
           },
           {
            "bin_start": 12594.3,
            "bin_end": 24708.6,
            "count": 1
           },
           {
            "bin_start": 24708.6,
            "bin_end": 36822.899999999994,
            "count": 1
           },
           {
            "bin_start": 36822.899999999994,
            "bin_end": 48937.2,
            "count": 2
           },
           {
            "bin_start": 48937.2,
            "bin_end": 61051.5,
            "count": 1
           },
           {
            "bin_start": 61051.5,
            "bin_end": 73165.79999999999,
            "count": 0
           },
           {
            "bin_start": 73165.79999999999,
            "bin_end": 85280.09999999999,
            "count": 0
           },
           {
            "bin_start": 85280.09999999999,
            "bin_end": 97394.4,
            "count": 0
           },
           {
            "bin_start": 97394.4,
            "bin_end": 109508.7,
            "count": 0
           },
           {
            "bin_start": 109508.7,
            "bin_end": 121623,
            "count": 1
           }
          ]
         }
        },
        {
         "name": "pcGDP2016",
         "dtype": "float64",
         "stats": {
          "unique_count": 8,
          "nan_count": 0,
          "min": "480.0",
          "max": "117879.0",
          "histogram": [
           {
            "bin_start": 480,
            "bin_end": 12219.9,
            "count": 2
           },
           {
            "bin_start": 12219.9,
            "bin_end": 23959.8,
            "count": 1
           },
           {
            "bin_start": 23959.8,
            "bin_end": 35699.7,
            "count": 0
           },
           {
            "bin_start": 35699.7,
            "bin_end": 47439.6,
            "count": 3
           },
           {
            "bin_start": 47439.6,
            "bin_end": 59179.5,
            "count": 1
           },
           {
            "bin_start": 59179.5,
            "bin_end": 70919.4,
            "count": 0
           },
           {
            "bin_start": 70919.4,
            "bin_end": 82659.3,
            "count": 0
           },
           {
            "bin_start": 82659.3,
            "bin_end": 94399.2,
            "count": 0
           },
           {
            "bin_start": 94399.2,
            "bin_end": 106139.09999999999,
            "count": 0
           },
           {
            "bin_start": 106139.09999999999,
            "bin_end": 117879,
            "count": 1
           }
          ]
         }
        },
        {
         "name": "pcGDP2017",
         "dtype": "float64",
         "stats": {
          "unique_count": 8,
          "nan_count": 0,
          "min": "445.0",
          "max": "122242.0",
          "histogram": [
           {
            "bin_start": 445,
            "bin_end": 12624.7,
            "count": 2
           },
           {
            "bin_start": 12624.7,
            "bin_end": 24804.4,
            "count": 1
           },
           {
            "bin_start": 24804.4,
            "bin_end": 36984.100000000006,
            "count": 0
           },
           {
            "bin_start": 36984.100000000006,
            "bin_end": 49163.8,
            "count": 3
           },
           {
            "bin_start": 49163.8,
            "bin_end": 61343.5,
            "count": 1
           },
           {
            "bin_start": 61343.5,
            "bin_end": 73523.20000000001,
            "count": 0
           },
           {
            "bin_start": 73523.20000000001,
            "bin_end": 85702.90000000001,
            "count": 0
           },
           {
            "bin_start": 85702.90000000001,
            "bin_end": 97882.6,
            "count": 0
           },
           {
            "bin_start": 97882.6,
            "bin_end": 110062.3,
            "count": 0
           },
           {
            "bin_start": 110062.3,
            "bin_end": 122242,
            "count": 1
           }
          ]
         }
        },
        {
         "name": "pcGDP2018",
         "dtype": "float64",
         "stats": {
          "unique_count": 8,
          "nan_count": 0,
          "min": "441.0",
          "max": "127468.0",
          "histogram": [
           {
            "bin_start": 441,
            "bin_end": 13143.7,
            "count": 2
           },
           {
            "bin_start": 13143.7,
            "bin_end": 25846.4,
            "count": 1
           },
           {
            "bin_start": 25846.4,
            "bin_end": 38549.100000000006,
            "count": 1
           },
           {
            "bin_start": 38549.100000000006,
            "bin_end": 51251.8,
            "count": 2
           },
           {
            "bin_start": 51251.8,
            "bin_end": 63954.5,
            "count": 1
           },
           {
            "bin_start": 63954.5,
            "bin_end": 76657.20000000001,
            "count": 0
           },
           {
            "bin_start": 76657.20000000001,
            "bin_end": 89359.90000000001,
            "count": 0
           },
           {
            "bin_start": 89359.90000000001,
            "bin_end": 102062.6,
            "count": 0
           },
           {
            "bin_start": 102062.6,
            "bin_end": 114765.3,
            "count": 0
           },
           {
            "bin_start": 114765.3,
            "bin_end": 127468,
            "count": 1
           }
          ]
         }
        },
        {
         "name": "_deepnote_index_column",
         "dtype": "object"
        }
       ],
       "rows_top": [
        {
         "pcGDP2001": 424,
         "pcGDP2002": 440,
         "pcGDP2003": 440,
         "pcGDP2004": 440,
         "pcGDP2005": 447,
         "pcGDP2006": 447,
         "pcGDP2007": 447,
         "pcGDP2008": 455,
         "pcGDP2009": 471,
         "pcGDP2010": 471,
         "pcGDP2011": 480,
         "pcGDP2012": 480,
         "pcGDP2013": 480,
         "pcGDP2014": 480,
         "pcGDP2015": 480,
         "pcGDP2016": 480,
         "pcGDP2017": 445,
         "pcGDP2018": 441,
         "_deepnote_index_column": "count"
        },
        {
         "pcGDP2001": 41263.65801886792,
         "pcGDP2002": 41015.07045454546,
         "pcGDP2003": 41553.361363636366,
         "pcGDP2004": 42473.02272727273,
         "pcGDP2005": 42881.14317673378,
         "pcGDP2006": 43987.76286353468,
         "pcGDP2007": 44786.76062639821,
         "pcGDP2008": 44533.95824175824,
         "pcGDP2009": 42724.31634819533,
         "pcGDP2010": 43433.511677282375,
         "pcGDP2011": 43946.96666666667,
         "pcGDP2012": 44075.9375,
         "pcGDP2013": 44302.15416666667,
         "pcGDP2014": 44942.49375,
         "pcGDP2015": 45802.22083333333,
         "pcGDP2016": 46243.666666666664,
         "pcGDP2017": 47489.089887640446,
         "pcGDP2018": 48032.66893424036,
         "_deepnote_index_column": "mean"
        },
        {
         "pcGDP2001": 11877.960192686167,
         "pcGDP2002": 12536.516771523045,
         "pcGDP2003": 12456.583152857846,
         "pcGDP2004": 12621.901150239102,
         "pcGDP2005": 13172.229180546308,
         "pcGDP2006": 13450.431995068193,
         "pcGDP2007": 13693.732714396543,
         "pcGDP2008": 14082.871702778904,
         "pcGDP2009": 13602.7232458004,
         "pcGDP2010": 13896.775080486454,
         "pcGDP2011": 14018.472001756194,
         "pcGDP2012": 14170.164166055172,
         "pcGDP2013": 14251.392256243555,
         "pcGDP2014": 14421.619848702978,
         "pcGDP2015": 14948.683819049196,
         "pcGDP2016": 14938.549380032851,
         "pcGDP2017": 15463.803388838685,
         "pcGDP2018": 15719.725615063186,
         "_deepnote_index_column": "std"
        },
        {
         "pcGDP2001": 10988,
         "pcGDP2002": 11435,
         "pcGDP2003": 11969,
         "pcGDP2004": 12777,
         "pcGDP2005": 13062,
         "pcGDP2006": 13855,
         "pcGDP2007": 13937,
         "pcGDP2008": 2236,
         "pcGDP2009": 2202,
         "pcGDP2010": 2227,
         "pcGDP2011": 2363,
         "pcGDP2012": 2572,
         "pcGDP2013": 2700,
         "pcGDP2014": 2683,
         "pcGDP2015": 2761,
         "pcGDP2016": 2796,
         "pcGDP2017": 2745,
         "pcGDP2018": 2832,
         "_deepnote_index_column": "min"
        },
        {
         "pcGDP2001": 33139.25,
         "pcGDP2002": 32636,
         "pcGDP2003": 33284.75,
         "pcGDP2004": 33864.5,
         "pcGDP2005": 33735.5,
         "pcGDP2006": 34540,
         "pcGDP2007": 35226,
         "pcGDP2008": 35094,
         "pcGDP2009": 33730,
         "pcGDP2010": 34294.5,
         "pcGDP2011": 34582.75,
         "pcGDP2012": 34808.75,
         "pcGDP2013": 35113.75,
         "pcGDP2014": 35766.25,
         "pcGDP2015": 36128.5,
         "pcGDP2016": 36584.75,
         "pcGDP2017": 37316,
         "pcGDP2018": 37908,
         "_deepnote_index_column": "25%"
        },
        {
         "pcGDP2001": 39543.5,
         "pcGDP2002": 39683.5,
         "pcGDP2003": 40390.5,
         "pcGDP2004": 41200.5,
         "pcGDP2005": 41609,
         "pcGDP2006": 42929,
         "pcGDP2007": 43461,
         "pcGDP2008": 43287,
         "pcGDP2009": 41250,
         "pcGDP2010": 41627,
         "pcGDP2011": 42345,
         "pcGDP2012": 42131.5,
         "pcGDP2013": 42154.5,
         "pcGDP2014": 42777.5,
         "pcGDP2015": 43237.5,
         "pcGDP2016": 43931.5,
         "pcGDP2017": 45385,
         "pcGDP2018": 46057,
         "_deepnote_index_column": "50%"
        },
        {
         "pcGDP2001": 47971.75,
         "pcGDP2002": 48611,
         "pcGDP2003": 49354.75,
         "pcGDP2004": 50468.25,
         "pcGDP2005": 51025,
         "pcGDP2006": 52304,
         "pcGDP2007": 53043.5,
         "pcGDP2008": 53132,
         "pcGDP2009": 50739.5,
         "pcGDP2010": 51428.5,
         "pcGDP2011": 52568.75,
         "pcGDP2012": 52569.75,
         "pcGDP2013": 53087.5,
         "pcGDP2014": 53737.25,
         "pcGDP2015": 54134.25,
         "pcGDP2016": 54449.75,
         "pcGDP2017": 56023,
         "pcGDP2018": 56638,
         "_deepnote_index_column": "75%"
        },
        {
         "pcGDP2001": 91488,
         "pcGDP2002": 93566,
         "pcGDP2003": 98123,
         "pcGDP2004": 96242,
         "pcGDP2005": 101084,
         "pcGDP2006": 121053,
         "pcGDP2007": 122897,
         "pcGDP2008": 120158,
         "pcGDP2009": 114486,
         "pcGDP2010": 119658,
         "pcGDP2011": 119965,
         "pcGDP2012": 117348,
         "pcGDP2013": 123709,
         "pcGDP2014": 121011,
         "pcGDP2015": 121623,
         "pcGDP2016": 117879,
         "pcGDP2017": 122242,
         "pcGDP2018": 127468,
         "_deepnote_index_column": "max"
        }
       ],
       "rows_bottom": null
      },
      "text/plain": "          pcGDP2001     pcGDP2002     pcGDP2003     pcGDP2004      pcGDP2005  \\\ncount    424.000000    440.000000    440.000000    440.000000     447.000000   \nmean   41263.658019  41015.070455  41553.361364  42473.022727   42881.143177   \nstd    11877.960193  12536.516772  12456.583153  12621.901150   13172.229181   \nmin    10988.000000  11435.000000  11969.000000  12777.000000   13062.000000   \n25%    33139.250000  32636.000000  33284.750000  33864.500000   33735.500000   \n50%    39543.500000  39683.500000  40390.500000  41200.500000   41609.000000   \n75%    47971.750000  48611.000000  49354.750000  50468.250000   51025.000000   \nmax    91488.000000  93566.000000  98123.000000  96242.000000  101084.000000   \n\n           pcGDP2006      pcGDP2007      pcGDP2008      pcGDP2009  \\\ncount     447.000000     447.000000     455.000000     471.000000   \nmean    43987.762864   44786.760626   44533.958242   42724.316348   \nstd     13450.431995   13693.732714   14082.871703   13602.723246   \nmin     13855.000000   13937.000000    2236.000000    2202.000000   \n25%     34540.000000   35226.000000   35094.000000   33730.000000   \n50%     42929.000000   43461.000000   43287.000000   41250.000000   \n75%     52304.000000   53043.500000   53132.000000   50739.500000   \nmax    121053.000000  122897.000000  120158.000000  114486.000000   \n\n           pcGDP2010      pcGDP2011      pcGDP2012      pcGDP2013  \\\ncount     471.000000     480.000000     480.000000     480.000000   \nmean    43433.511677   43946.966667   44075.937500   44302.154167   \nstd     13896.775080   14018.472002   14170.164166   14251.392256   \nmin      2227.000000    2363.000000    2572.000000    2700.000000   \n25%     34294.500000   34582.750000   34808.750000   35113.750000   \n50%     41627.000000   42345.000000   42131.500000   42154.500000   \n75%     51428.500000   52568.750000   52569.750000   53087.500000   \nmax    119658.000000  119965.000000  117348.000000  123709.000000   \n\n           pcGDP2014      pcGDP2015      pcGDP2016      pcGDP2017  \\\ncount     480.000000     480.000000     480.000000     445.000000   \nmean    44942.493750   45802.220833   46243.666667   47489.089888   \nstd     14421.619849   14948.683819   14938.549380   15463.803389   \nmin      2683.000000    2761.000000    2796.000000    2745.000000   \n25%     35766.250000   36128.500000   36584.750000   37316.000000   \n50%     42777.500000   43237.500000   43931.500000   45385.000000   \n75%     53737.250000   54134.250000   54449.750000   56023.000000   \nmax    121011.000000  121623.000000  117879.000000  122242.000000   \n\n           pcGDP2018  \ncount     441.000000  \nmean    48032.668934  \nstd     15719.725615  \nmin      2832.000000  \n25%     37908.000000  \n50%     46057.000000  \n75%     56638.000000  \nmax    127468.000000  ",
      "text/html": "<div>\n<style scoped>\n    .dataframe tbody tr th:only-of-type {\n        vertical-align: middle;\n    }\n\n    .dataframe tbody tr th {\n        vertical-align: top;\n    }\n\n    .dataframe thead th {\n        text-align: right;\n    }\n</style>\n<table border=\"1\" class=\"dataframe\">\n  <thead>\n    <tr style=\"text-align: right;\">\n      <th></th>\n      <th>pcGDP2001</th>\n      <th>pcGDP2002</th>\n      <th>pcGDP2003</th>\n      <th>pcGDP2004</th>\n      <th>pcGDP2005</th>\n      <th>pcGDP2006</th>\n      <th>pcGDP2007</th>\n      <th>pcGDP2008</th>\n      <th>pcGDP2009</th>\n      <th>pcGDP2010</th>\n      <th>pcGDP2011</th>\n      <th>pcGDP2012</th>\n      <th>pcGDP2013</th>\n      <th>pcGDP2014</th>\n      <th>pcGDP2015</th>\n      <th>pcGDP2016</th>\n      <th>pcGDP2017</th>\n      <th>pcGDP2018</th>\n    </tr>\n  </thead>\n  <tbody>\n    <tr>\n      <th>count</th>\n      <td>424.000000</td>\n      <td>440.000000</td>\n      <td>440.000000</td>\n      <td>440.000000</td>\n      <td>447.000000</td>\n      <td>447.000000</td>\n      <td>447.000000</td>\n      <td>455.000000</td>\n      <td>471.000000</td>\n      <td>471.000000</td>\n      <td>480.000000</td>\n      <td>480.000000</td>\n      <td>480.000000</td>\n      <td>480.000000</td>\n      <td>480.000000</td>\n      <td>480.000000</td>\n      <td>445.000000</td>\n      <td>441.000000</td>\n    </tr>\n    <tr>\n      <th>mean</th>\n      <td>41263.658019</td>\n      <td>41015.070455</td>\n      <td>41553.361364</td>\n      <td>42473.022727</td>\n      <td>42881.143177</td>\n      <td>43987.762864</td>\n      <td>44786.760626</td>\n      <td>44533.958242</td>\n      <td>42724.316348</td>\n      <td>43433.511677</td>\n      <td>43946.966667</td>\n      <td>44075.937500</td>\n      <td>44302.154167</td>\n      <td>44942.493750</td>\n      <td>45802.220833</td>\n      <td>46243.666667</td>\n      <td>47489.089888</td>\n      <td>48032.668934</td>\n    </tr>\n    <tr>\n      <th>std</th>\n      <td>11877.960193</td>\n      <td>12536.516772</td>\n      <td>12456.583153</td>\n      <td>12621.901150</td>\n      <td>13172.229181</td>\n      <td>13450.431995</td>\n      <td>13693.732714</td>\n      <td>14082.871703</td>\n      <td>13602.723246</td>\n      <td>13896.775080</td>\n      <td>14018.472002</td>\n      <td>14170.164166</td>\n      <td>14251.392256</td>\n      <td>14421.619849</td>\n      <td>14948.683819</td>\n      <td>14938.549380</td>\n      <td>15463.803389</td>\n      <td>15719.725615</td>\n    </tr>\n    <tr>\n      <th>min</th>\n      <td>10988.000000</td>\n      <td>11435.000000</td>\n      <td>11969.000000</td>\n      <td>12777.000000</td>\n      <td>13062.000000</td>\n      <td>13855.000000</td>\n      <td>13937.000000</td>\n      <td>2236.000000</td>\n      <td>2202.000000</td>\n      <td>2227.000000</td>\n      <td>2363.000000</td>\n      <td>2572.000000</td>\n      <td>2700.000000</td>\n      <td>2683.000000</td>\n      <td>2761.000000</td>\n      <td>2796.000000</td>\n      <td>2745.000000</td>\n      <td>2832.000000</td>\n    </tr>\n    <tr>\n      <th>25%</th>\n      <td>33139.250000</td>\n      <td>32636.000000</td>\n      <td>33284.750000</td>\n      <td>33864.500000</td>\n      <td>33735.500000</td>\n      <td>34540.000000</td>\n      <td>35226.000000</td>\n      <td>35094.000000</td>\n      <td>33730.000000</td>\n      <td>34294.500000</td>\n      <td>34582.750000</td>\n      <td>34808.750000</td>\n      <td>35113.750000</td>\n      <td>35766.250000</td>\n      <td>36128.500000</td>\n      <td>36584.750000</td>\n      <td>37316.000000</td>\n      <td>37908.000000</td>\n    </tr>\n    <tr>\n      <th>50%</th>\n      <td>39543.500000</td>\n      <td>39683.500000</td>\n      <td>40390.500000</td>\n      <td>41200.500000</td>\n      <td>41609.000000</td>\n      <td>42929.000000</td>\n      <td>43461.000000</td>\n      <td>43287.000000</td>\n      <td>41250.000000</td>\n      <td>41627.000000</td>\n      <td>42345.000000</td>\n      <td>42131.500000</td>\n      <td>42154.500000</td>\n      <td>42777.500000</td>\n      <td>43237.500000</td>\n      <td>43931.500000</td>\n      <td>45385.000000</td>\n      <td>46057.000000</td>\n    </tr>\n    <tr>\n      <th>75%</th>\n      <td>47971.750000</td>\n      <td>48611.000000</td>\n      <td>49354.750000</td>\n      <td>50468.250000</td>\n      <td>51025.000000</td>\n      <td>52304.000000</td>\n      <td>53043.500000</td>\n      <td>53132.000000</td>\n      <td>50739.500000</td>\n      <td>51428.500000</td>\n      <td>52568.750000</td>\n      <td>52569.750000</td>\n      <td>53087.500000</td>\n      <td>53737.250000</td>\n      <td>54134.250000</td>\n      <td>54449.750000</td>\n      <td>56023.000000</td>\n      <td>56638.000000</td>\n    </tr>\n    <tr>\n      <th>max</th>\n      <td>91488.000000</td>\n      <td>93566.000000</td>\n      <td>98123.000000</td>\n      <td>96242.000000</td>\n      <td>101084.000000</td>\n      <td>121053.000000</td>\n      <td>122897.000000</td>\n      <td>120158.000000</td>\n      <td>114486.000000</td>\n      <td>119658.000000</td>\n      <td>119965.000000</td>\n      <td>117348.000000</td>\n      <td>123709.000000</td>\n      <td>121011.000000</td>\n      <td>121623.000000</td>\n      <td>117879.000000</td>\n      <td>122242.000000</td>\n      <td>127468.000000</td>\n    </tr>\n  </tbody>\n</table>\n</div>"
     },
     "metadata": {}
    }
   ]
  },
  {
   "cell_type": "code",
   "metadata": {
    "colab": {
     "base_uri": "https://localhost:8080/",
     "height": 320
    },
    "id": "g6EYmar5LGwI",
    "outputId": "f7e3c1cd-02dc-49ad-cb8b-47c9c8cca534",
    "cell_id": "00011-824cf37b-a342-4804-8aa1-7518b602df2a",
    "deepnote_to_be_reexecuted": false,
    "source_hash": "22493c91",
    "execution_start": 1635242647413,
    "execution_millis": 179,
    "deepnote_cell_type": "code"
   },
   "source": "percapitaGDP.dropna(subset=percapitaGDP.columns[1:], how='all', inplace=True)\npercapitaGDP.describe()",
   "execution_count": 12,
   "outputs": [
    {
     "output_type": "execute_result",
     "execution_count": 12,
     "data": {
      "application/vnd.deepnote.dataframe.v2+json": {
       "row_count": 8,
       "column_count": 18,
       "columns": [
        {
         "name": "pcGDP2001",
         "dtype": "float64",
         "stats": {
          "unique_count": 8,
          "nan_count": 0,
          "min": "424.0",
          "max": "91488.0",
          "histogram": [
           {
            "bin_start": 424,
            "bin_end": 9530.4,
            "count": 1
           },
           {
            "bin_start": 9530.4,
            "bin_end": 18636.8,
            "count": 2
           },
           {
            "bin_start": 18636.8,
            "bin_end": 27743.199999999997,
            "count": 0
           },
           {
            "bin_start": 27743.199999999997,
            "bin_end": 36849.6,
            "count": 1
           },
           {
            "bin_start": 36849.6,
            "bin_end": 45956,
            "count": 2
           },
           {
            "bin_start": 45956,
            "bin_end": 55062.399999999994,
            "count": 1
           },
           {
            "bin_start": 55062.399999999994,
            "bin_end": 64168.799999999996,
            "count": 0
           },
           {
            "bin_start": 64168.799999999996,
            "bin_end": 73275.2,
            "count": 0
           },
           {
            "bin_start": 73275.2,
            "bin_end": 82381.59999999999,
            "count": 0
           },
           {
            "bin_start": 82381.59999999999,
            "bin_end": 91488,
            "count": 1
           }
          ]
         }
        },
        {
         "name": "pcGDP2002",
         "dtype": "float64",
         "stats": {
          "unique_count": 8,
          "nan_count": 0,
          "min": "440.0",
          "max": "93566.0",
          "histogram": [
           {
            "bin_start": 440,
            "bin_end": 9752.6,
            "count": 1
           },
           {
            "bin_start": 9752.6,
            "bin_end": 19065.2,
            "count": 2
           },
           {
            "bin_start": 19065.2,
            "bin_end": 28377.800000000003,
            "count": 0
           },
           {
            "bin_start": 28377.800000000003,
            "bin_end": 37690.4,
            "count": 1
           },
           {
            "bin_start": 37690.4,
            "bin_end": 47003,
            "count": 2
           },
           {
            "bin_start": 47003,
            "bin_end": 56315.600000000006,
            "count": 1
           },
           {
            "bin_start": 56315.600000000006,
            "bin_end": 65628.20000000001,
            "count": 0
           },
           {
            "bin_start": 65628.20000000001,
            "bin_end": 74940.8,
            "count": 0
           },
           {
            "bin_start": 74940.8,
            "bin_end": 84253.40000000001,
            "count": 0
           },
           {
            "bin_start": 84253.40000000001,
            "bin_end": 93566,
            "count": 1
           }
          ]
         }
        },
        {
         "name": "pcGDP2003",
         "dtype": "float64",
         "stats": {
          "unique_count": 8,
          "nan_count": 0,
          "min": "440.0",
          "max": "98123.0",
          "histogram": [
           {
            "bin_start": 440,
            "bin_end": 10208.3,
            "count": 1
           },
           {
            "bin_start": 10208.3,
            "bin_end": 19976.6,
            "count": 2
           },
           {
            "bin_start": 19976.6,
            "bin_end": 29744.899999999998,
            "count": 0
           },
           {
            "bin_start": 29744.899999999998,
            "bin_end": 39513.2,
            "count": 1
           },
           {
            "bin_start": 39513.2,
            "bin_end": 49281.5,
            "count": 2
           },
           {
            "bin_start": 49281.5,
            "bin_end": 59049.799999999996,
            "count": 1
           },
           {
            "bin_start": 59049.799999999996,
            "bin_end": 68818.09999999999,
            "count": 0
           },
           {
            "bin_start": 68818.09999999999,
            "bin_end": 78586.4,
            "count": 0
           },
           {
            "bin_start": 78586.4,
            "bin_end": 88354.7,
            "count": 0
           },
           {
            "bin_start": 88354.7,
            "bin_end": 98123,
            "count": 1
           }
          ]
         }
        },
        {
         "name": "pcGDP2004",
         "dtype": "float64",
         "stats": {
          "unique_count": 8,
          "nan_count": 0,
          "min": "440.0",
          "max": "96242.0",
          "histogram": [
           {
            "bin_start": 440,
            "bin_end": 10020.2,
            "count": 1
           },
           {
            "bin_start": 10020.2,
            "bin_end": 19600.4,
            "count": 2
           },
           {
            "bin_start": 19600.4,
            "bin_end": 29180.600000000002,
            "count": 0
           },
           {
            "bin_start": 29180.600000000002,
            "bin_end": 38760.8,
            "count": 1
           },
           {
            "bin_start": 38760.8,
            "bin_end": 48341,
            "count": 2
           },
           {
            "bin_start": 48341,
            "bin_end": 57921.200000000004,
            "count": 1
           },
           {
            "bin_start": 57921.200000000004,
            "bin_end": 67501.40000000001,
            "count": 0
           },
           {
            "bin_start": 67501.40000000001,
            "bin_end": 77081.6,
            "count": 0
           },
           {
            "bin_start": 77081.6,
            "bin_end": 86661.8,
            "count": 0
           },
           {
            "bin_start": 86661.8,
            "bin_end": 96242,
            "count": 1
           }
          ]
         }
        },
        {
         "name": "pcGDP2005",
         "dtype": "float64",
         "stats": {
          "unique_count": 8,
          "nan_count": 0,
          "min": "447.0",
          "max": "101084.0",
          "histogram": [
           {
            "bin_start": 447,
            "bin_end": 10510.7,
            "count": 1
           },
           {
            "bin_start": 10510.7,
            "bin_end": 20574.4,
            "count": 2
           },
           {
            "bin_start": 20574.4,
            "bin_end": 30638.100000000002,
            "count": 0
           },
           {
            "bin_start": 30638.100000000002,
            "bin_end": 40701.8,
            "count": 1
           },
           {
            "bin_start": 40701.8,
            "bin_end": 50765.5,
            "count": 2
           },
           {
            "bin_start": 50765.5,
            "bin_end": 60829.200000000004,
            "count": 1
           },
           {
            "bin_start": 60829.200000000004,
            "bin_end": 70892.90000000001,
            "count": 0
           },
           {
            "bin_start": 70892.90000000001,
            "bin_end": 80956.6,
            "count": 0
           },
           {
            "bin_start": 80956.6,
            "bin_end": 91020.3,
            "count": 0
           },
           {
            "bin_start": 91020.3,
            "bin_end": 101084,
            "count": 1
           }
          ]
         }
        },
        {
         "name": "pcGDP2006",
         "dtype": "float64",
         "stats": {
          "unique_count": 8,
          "nan_count": 0,
          "min": "447.0",
          "max": "121053.0",
          "histogram": [
           {
            "bin_start": 447,
            "bin_end": 12507.6,
            "count": 1
           },
           {
            "bin_start": 12507.6,
            "bin_end": 24568.2,
            "count": 2
           },
           {
            "bin_start": 24568.2,
            "bin_end": 36628.8,
            "count": 1
           },
           {
            "bin_start": 36628.8,
            "bin_end": 48689.4,
            "count": 2
           },
           {
            "bin_start": 48689.4,
            "bin_end": 60750,
            "count": 1
           },
           {
            "bin_start": 60750,
            "bin_end": 72810.6,
            "count": 0
           },
           {
            "bin_start": 72810.6,
            "bin_end": 84871.2,
            "count": 0
           },
           {
            "bin_start": 84871.2,
            "bin_end": 96931.8,
            "count": 0
           },
           {
            "bin_start": 96931.8,
            "bin_end": 108992.40000000001,
            "count": 0
           },
           {
            "bin_start": 108992.40000000001,
            "bin_end": 121053,
            "count": 1
           }
          ]
         }
        },
        {
         "name": "pcGDP2007",
         "dtype": "float64",
         "stats": {
          "unique_count": 8,
          "nan_count": 0,
          "min": "447.0",
          "max": "122897.0",
          "histogram": [
           {
            "bin_start": 447,
            "bin_end": 12692,
            "count": 1
           },
           {
            "bin_start": 12692,
            "bin_end": 24937,
            "count": 2
           },
           {
            "bin_start": 24937,
            "bin_end": 37182,
            "count": 1
           },
           {
            "bin_start": 37182,
            "bin_end": 49427,
            "count": 2
           },
           {
            "bin_start": 49427,
            "bin_end": 61672,
            "count": 1
           },
           {
            "bin_start": 61672,
            "bin_end": 73917,
            "count": 0
           },
           {
            "bin_start": 73917,
            "bin_end": 86162,
            "count": 0
           },
           {
            "bin_start": 86162,
            "bin_end": 98407,
            "count": 0
           },
           {
            "bin_start": 98407,
            "bin_end": 110652,
            "count": 0
           },
           {
            "bin_start": 110652,
            "bin_end": 122897,
            "count": 1
           }
          ]
         }
        },
        {
         "name": "pcGDP2008",
         "dtype": "float64",
         "stats": {
          "unique_count": 8,
          "nan_count": 0,
          "min": "455.0",
          "max": "120158.0",
          "histogram": [
           {
            "bin_start": 455,
            "bin_end": 12425.3,
            "count": 2
           },
           {
            "bin_start": 12425.3,
            "bin_end": 24395.6,
            "count": 1
           },
           {
            "bin_start": 24395.6,
            "bin_end": 36365.899999999994,
            "count": 1
           },
           {
            "bin_start": 36365.899999999994,
            "bin_end": 48336.2,
            "count": 2
           },
           {
            "bin_start": 48336.2,
            "bin_end": 60306.5,
            "count": 1
           },
           {
            "bin_start": 60306.5,
            "bin_end": 72276.79999999999,
            "count": 0
           },
           {
            "bin_start": 72276.79999999999,
            "bin_end": 84247.09999999999,
            "count": 0
           },
           {
            "bin_start": 84247.09999999999,
            "bin_end": 96217.4,
            "count": 0
           },
           {
            "bin_start": 96217.4,
            "bin_end": 108187.7,
            "count": 0
           },
           {
            "bin_start": 108187.7,
            "bin_end": 120158,
            "count": 1
           }
          ]
         }
        },
        {
         "name": "pcGDP2009",
         "dtype": "float64",
         "stats": {
          "unique_count": 8,
          "nan_count": 0,
          "min": "471.0",
          "max": "114486.0",
          "histogram": [
           {
            "bin_start": 471,
            "bin_end": 11872.5,
            "count": 2
           },
           {
            "bin_start": 11872.5,
            "bin_end": 23274,
            "count": 1
           },
           {
            "bin_start": 23274,
            "bin_end": 34675.5,
            "count": 1
           },
           {
            "bin_start": 34675.5,
            "bin_end": 46077,
            "count": 2
           },
           {
            "bin_start": 46077,
            "bin_end": 57478.5,
            "count": 1
           },
           {
            "bin_start": 57478.5,
            "bin_end": 68880,
            "count": 0
           },
           {
            "bin_start": 68880,
            "bin_end": 80281.5,
            "count": 0
           },
           {
            "bin_start": 80281.5,
            "bin_end": 91683,
            "count": 0
           },
           {
            "bin_start": 91683,
            "bin_end": 103084.5,
            "count": 0
           },
           {
            "bin_start": 103084.5,
            "bin_end": 114486,
            "count": 1
           }
          ]
         }
        },
        {
         "name": "pcGDP2010",
         "dtype": "float64",
         "stats": {
          "unique_count": 8,
          "nan_count": 0,
          "min": "471.0",
          "max": "119658.0",
          "histogram": [
           {
            "bin_start": 471,
            "bin_end": 12389.7,
            "count": 2
           },
           {
            "bin_start": 12389.7,
            "bin_end": 24308.4,
            "count": 1
           },
           {
            "bin_start": 24308.4,
            "bin_end": 36227.100000000006,
            "count": 1
           },
           {
            "bin_start": 36227.100000000006,
            "bin_end": 48145.8,
            "count": 2
           },
           {
            "bin_start": 48145.8,
            "bin_end": 60064.5,
            "count": 1
           },
           {
            "bin_start": 60064.5,
            "bin_end": 71983.20000000001,
            "count": 0
           },
           {
            "bin_start": 71983.20000000001,
            "bin_end": 83901.90000000001,
            "count": 0
           },
           {
            "bin_start": 83901.90000000001,
            "bin_end": 95820.6,
            "count": 0
           },
           {
            "bin_start": 95820.6,
            "bin_end": 107739.3,
            "count": 0
           },
           {
            "bin_start": 107739.3,
            "bin_end": 119658,
            "count": 1
           }
          ]
         }
        },
        {
         "name": "pcGDP2011",
         "dtype": "float64",
         "stats": {
          "unique_count": 8,
          "nan_count": 0,
          "min": "480.0",
          "max": "119965.0",
          "histogram": [
           {
            "bin_start": 480,
            "bin_end": 12428.5,
            "count": 2
           },
           {
            "bin_start": 12428.5,
            "bin_end": 24377,
            "count": 1
           },
           {
            "bin_start": 24377,
            "bin_end": 36325.5,
            "count": 1
           },
           {
            "bin_start": 36325.5,
            "bin_end": 48274,
            "count": 2
           },
           {
            "bin_start": 48274,
            "bin_end": 60222.5,
            "count": 1
           },
           {
            "bin_start": 60222.5,
            "bin_end": 72171,
            "count": 0
           },
           {
            "bin_start": 72171,
            "bin_end": 84119.5,
            "count": 0
           },
           {
            "bin_start": 84119.5,
            "bin_end": 96068,
            "count": 0
           },
           {
            "bin_start": 96068,
            "bin_end": 108016.5,
            "count": 0
           },
           {
            "bin_start": 108016.5,
            "bin_end": 119965,
            "count": 1
           }
          ]
         }
        },
        {
         "name": "pcGDP2012",
         "dtype": "float64",
         "stats": {
          "unique_count": 8,
          "nan_count": 0,
          "min": "480.0",
          "max": "117348.0",
          "histogram": [
           {
            "bin_start": 480,
            "bin_end": 12166.8,
            "count": 2
           },
           {
            "bin_start": 12166.8,
            "bin_end": 23853.6,
            "count": 1
           },
           {
            "bin_start": 23853.6,
            "bin_end": 35540.399999999994,
            "count": 1
           },
           {
            "bin_start": 35540.399999999994,
            "bin_end": 47227.2,
            "count": 2
           },
           {
            "bin_start": 47227.2,
            "bin_end": 58914,
            "count": 1
           },
           {
            "bin_start": 58914,
            "bin_end": 70600.79999999999,
            "count": 0
           },
           {
            "bin_start": 70600.79999999999,
            "bin_end": 82287.59999999999,
            "count": 0
           },
           {
            "bin_start": 82287.59999999999,
            "bin_end": 93974.4,
            "count": 0
           },
           {
            "bin_start": 93974.4,
            "bin_end": 105661.2,
            "count": 0
           },
           {
            "bin_start": 105661.2,
            "bin_end": 117348,
            "count": 1
           }
          ]
         }
        },
        {
         "name": "pcGDP2013",
         "dtype": "float64",
         "stats": {
          "unique_count": 8,
          "nan_count": 0,
          "min": "480.0",
          "max": "123709.0",
          "histogram": [
           {
            "bin_start": 480,
            "bin_end": 12802.9,
            "count": 2
           },
           {
            "bin_start": 12802.9,
            "bin_end": 25125.8,
            "count": 1
           },
           {
            "bin_start": 25125.8,
            "bin_end": 37448.7,
            "count": 1
           },
           {
            "bin_start": 37448.7,
            "bin_end": 49771.6,
            "count": 2
           },
           {
            "bin_start": 49771.6,
            "bin_end": 62094.5,
            "count": 1
           },
           {
            "bin_start": 62094.5,
            "bin_end": 74417.4,
            "count": 0
           },
           {
            "bin_start": 74417.4,
            "bin_end": 86740.3,
            "count": 0
           },
           {
            "bin_start": 86740.3,
            "bin_end": 99063.2,
            "count": 0
           },
           {
            "bin_start": 99063.2,
            "bin_end": 111386.09999999999,
            "count": 0
           },
           {
            "bin_start": 111386.09999999999,
            "bin_end": 123709,
            "count": 1
           }
          ]
         }
        },
        {
         "name": "pcGDP2014",
         "dtype": "float64",
         "stats": {
          "unique_count": 8,
          "nan_count": 0,
          "min": "480.0",
          "max": "121011.0",
          "histogram": [
           {
            "bin_start": 480,
            "bin_end": 12533.1,
            "count": 2
           },
           {
            "bin_start": 12533.1,
            "bin_end": 24586.2,
            "count": 1
           },
           {
            "bin_start": 24586.2,
            "bin_end": 36639.3,
            "count": 1
           },
           {
            "bin_start": 36639.3,
            "bin_end": 48692.4,
            "count": 2
           },
           {
            "bin_start": 48692.4,
            "bin_end": 60745.5,
            "count": 1
           },
           {
            "bin_start": 60745.5,
            "bin_end": 72798.6,
            "count": 0
           },
           {
            "bin_start": 72798.6,
            "bin_end": 84851.7,
            "count": 0
           },
           {
            "bin_start": 84851.7,
            "bin_end": 96904.8,
            "count": 0
           },
           {
            "bin_start": 96904.8,
            "bin_end": 108957.90000000001,
            "count": 0
           },
           {
            "bin_start": 108957.90000000001,
            "bin_end": 121011,
            "count": 1
           }
          ]
         }
        },
        {
         "name": "pcGDP2015",
         "dtype": "float64",
         "stats": {
          "unique_count": 8,
          "nan_count": 0,
          "min": "480.0",
          "max": "121623.0",
          "histogram": [
           {
            "bin_start": 480,
            "bin_end": 12594.3,
            "count": 2
           },
           {
            "bin_start": 12594.3,
            "bin_end": 24708.6,
            "count": 1
           },
           {
            "bin_start": 24708.6,
            "bin_end": 36822.899999999994,
            "count": 1
           },
           {
            "bin_start": 36822.899999999994,
            "bin_end": 48937.2,
            "count": 2
           },
           {
            "bin_start": 48937.2,
            "bin_end": 61051.5,
            "count": 1
           },
           {
            "bin_start": 61051.5,
            "bin_end": 73165.79999999999,
            "count": 0
           },
           {
            "bin_start": 73165.79999999999,
            "bin_end": 85280.09999999999,
            "count": 0
           },
           {
            "bin_start": 85280.09999999999,
            "bin_end": 97394.4,
            "count": 0
           },
           {
            "bin_start": 97394.4,
            "bin_end": 109508.7,
            "count": 0
           },
           {
            "bin_start": 109508.7,
            "bin_end": 121623,
            "count": 1
           }
          ]
         }
        },
        {
         "name": "pcGDP2016",
         "dtype": "float64",
         "stats": {
          "unique_count": 8,
          "nan_count": 0,
          "min": "480.0",
          "max": "117879.0",
          "histogram": [
           {
            "bin_start": 480,
            "bin_end": 12219.9,
            "count": 2
           },
           {
            "bin_start": 12219.9,
            "bin_end": 23959.8,
            "count": 1
           },
           {
            "bin_start": 23959.8,
            "bin_end": 35699.7,
            "count": 0
           },
           {
            "bin_start": 35699.7,
            "bin_end": 47439.6,
            "count": 3
           },
           {
            "bin_start": 47439.6,
            "bin_end": 59179.5,
            "count": 1
           },
           {
            "bin_start": 59179.5,
            "bin_end": 70919.4,
            "count": 0
           },
           {
            "bin_start": 70919.4,
            "bin_end": 82659.3,
            "count": 0
           },
           {
            "bin_start": 82659.3,
            "bin_end": 94399.2,
            "count": 0
           },
           {
            "bin_start": 94399.2,
            "bin_end": 106139.09999999999,
            "count": 0
           },
           {
            "bin_start": 106139.09999999999,
            "bin_end": 117879,
            "count": 1
           }
          ]
         }
        },
        {
         "name": "pcGDP2017",
         "dtype": "float64",
         "stats": {
          "unique_count": 8,
          "nan_count": 0,
          "min": "445.0",
          "max": "122242.0",
          "histogram": [
           {
            "bin_start": 445,
            "bin_end": 12624.7,
            "count": 2
           },
           {
            "bin_start": 12624.7,
            "bin_end": 24804.4,
            "count": 1
           },
           {
            "bin_start": 24804.4,
            "bin_end": 36984.100000000006,
            "count": 0
           },
           {
            "bin_start": 36984.100000000006,
            "bin_end": 49163.8,
            "count": 3
           },
           {
            "bin_start": 49163.8,
            "bin_end": 61343.5,
            "count": 1
           },
           {
            "bin_start": 61343.5,
            "bin_end": 73523.20000000001,
            "count": 0
           },
           {
            "bin_start": 73523.20000000001,
            "bin_end": 85702.90000000001,
            "count": 0
           },
           {
            "bin_start": 85702.90000000001,
            "bin_end": 97882.6,
            "count": 0
           },
           {
            "bin_start": 97882.6,
            "bin_end": 110062.3,
            "count": 0
           },
           {
            "bin_start": 110062.3,
            "bin_end": 122242,
            "count": 1
           }
          ]
         }
        },
        {
         "name": "pcGDP2018",
         "dtype": "float64",
         "stats": {
          "unique_count": 8,
          "nan_count": 0,
          "min": "441.0",
          "max": "127468.0",
          "histogram": [
           {
            "bin_start": 441,
            "bin_end": 13143.7,
            "count": 2
           },
           {
            "bin_start": 13143.7,
            "bin_end": 25846.4,
            "count": 1
           },
           {
            "bin_start": 25846.4,
            "bin_end": 38549.100000000006,
            "count": 1
           },
           {
            "bin_start": 38549.100000000006,
            "bin_end": 51251.8,
            "count": 2
           },
           {
            "bin_start": 51251.8,
            "bin_end": 63954.5,
            "count": 1
           },
           {
            "bin_start": 63954.5,
            "bin_end": 76657.20000000001,
            "count": 0
           },
           {
            "bin_start": 76657.20000000001,
            "bin_end": 89359.90000000001,
            "count": 0
           },
           {
            "bin_start": 89359.90000000001,
            "bin_end": 102062.6,
            "count": 0
           },
           {
            "bin_start": 102062.6,
            "bin_end": 114765.3,
            "count": 0
           },
           {
            "bin_start": 114765.3,
            "bin_end": 127468,
            "count": 1
           }
          ]
         }
        },
        {
         "name": "_deepnote_index_column",
         "dtype": "object"
        }
       ],
       "rows_top": [
        {
         "pcGDP2001": 424,
         "pcGDP2002": 440,
         "pcGDP2003": 440,
         "pcGDP2004": 440,
         "pcGDP2005": 447,
         "pcGDP2006": 447,
         "pcGDP2007": 447,
         "pcGDP2008": 455,
         "pcGDP2009": 471,
         "pcGDP2010": 471,
         "pcGDP2011": 480,
         "pcGDP2012": 480,
         "pcGDP2013": 480,
         "pcGDP2014": 480,
         "pcGDP2015": 480,
         "pcGDP2016": 480,
         "pcGDP2017": 445,
         "pcGDP2018": 441,
         "_deepnote_index_column": "count"
        },
        {
         "pcGDP2001": 41263.65801886792,
         "pcGDP2002": 41015.07045454546,
         "pcGDP2003": 41553.361363636366,
         "pcGDP2004": 42473.02272727273,
         "pcGDP2005": 42881.14317673378,
         "pcGDP2006": 43987.76286353468,
         "pcGDP2007": 44786.76062639821,
         "pcGDP2008": 44533.95824175824,
         "pcGDP2009": 42724.31634819533,
         "pcGDP2010": 43433.511677282375,
         "pcGDP2011": 43946.96666666667,
         "pcGDP2012": 44075.9375,
         "pcGDP2013": 44302.15416666667,
         "pcGDP2014": 44942.49375,
         "pcGDP2015": 45802.22083333333,
         "pcGDP2016": 46243.666666666664,
         "pcGDP2017": 47489.089887640446,
         "pcGDP2018": 48032.66893424036,
         "_deepnote_index_column": "mean"
        },
        {
         "pcGDP2001": 11877.960192686167,
         "pcGDP2002": 12536.516771523045,
         "pcGDP2003": 12456.583152857846,
         "pcGDP2004": 12621.901150239102,
         "pcGDP2005": 13172.229180546308,
         "pcGDP2006": 13450.431995068193,
         "pcGDP2007": 13693.732714396543,
         "pcGDP2008": 14082.871702778904,
         "pcGDP2009": 13602.7232458004,
         "pcGDP2010": 13896.775080486454,
         "pcGDP2011": 14018.472001756194,
         "pcGDP2012": 14170.164166055172,
         "pcGDP2013": 14251.392256243555,
         "pcGDP2014": 14421.619848702978,
         "pcGDP2015": 14948.683819049196,
         "pcGDP2016": 14938.549380032851,
         "pcGDP2017": 15463.803388838685,
         "pcGDP2018": 15719.725615063186,
         "_deepnote_index_column": "std"
        },
        {
         "pcGDP2001": 10988,
         "pcGDP2002": 11435,
         "pcGDP2003": 11969,
         "pcGDP2004": 12777,
         "pcGDP2005": 13062,
         "pcGDP2006": 13855,
         "pcGDP2007": 13937,
         "pcGDP2008": 2236,
         "pcGDP2009": 2202,
         "pcGDP2010": 2227,
         "pcGDP2011": 2363,
         "pcGDP2012": 2572,
         "pcGDP2013": 2700,
         "pcGDP2014": 2683,
         "pcGDP2015": 2761,
         "pcGDP2016": 2796,
         "pcGDP2017": 2745,
         "pcGDP2018": 2832,
         "_deepnote_index_column": "min"
        },
        {
         "pcGDP2001": 33139.25,
         "pcGDP2002": 32636,
         "pcGDP2003": 33284.75,
         "pcGDP2004": 33864.5,
         "pcGDP2005": 33735.5,
         "pcGDP2006": 34540,
         "pcGDP2007": 35226,
         "pcGDP2008": 35094,
         "pcGDP2009": 33730,
         "pcGDP2010": 34294.5,
         "pcGDP2011": 34582.75,
         "pcGDP2012": 34808.75,
         "pcGDP2013": 35113.75,
         "pcGDP2014": 35766.25,
         "pcGDP2015": 36128.5,
         "pcGDP2016": 36584.75,
         "pcGDP2017": 37316,
         "pcGDP2018": 37908,
         "_deepnote_index_column": "25%"
        },
        {
         "pcGDP2001": 39543.5,
         "pcGDP2002": 39683.5,
         "pcGDP2003": 40390.5,
         "pcGDP2004": 41200.5,
         "pcGDP2005": 41609,
         "pcGDP2006": 42929,
         "pcGDP2007": 43461,
         "pcGDP2008": 43287,
         "pcGDP2009": 41250,
         "pcGDP2010": 41627,
         "pcGDP2011": 42345,
         "pcGDP2012": 42131.5,
         "pcGDP2013": 42154.5,
         "pcGDP2014": 42777.5,
         "pcGDP2015": 43237.5,
         "pcGDP2016": 43931.5,
         "pcGDP2017": 45385,
         "pcGDP2018": 46057,
         "_deepnote_index_column": "50%"
        },
        {
         "pcGDP2001": 47971.75,
         "pcGDP2002": 48611,
         "pcGDP2003": 49354.75,
         "pcGDP2004": 50468.25,
         "pcGDP2005": 51025,
         "pcGDP2006": 52304,
         "pcGDP2007": 53043.5,
         "pcGDP2008": 53132,
         "pcGDP2009": 50739.5,
         "pcGDP2010": 51428.5,
         "pcGDP2011": 52568.75,
         "pcGDP2012": 52569.75,
         "pcGDP2013": 53087.5,
         "pcGDP2014": 53737.25,
         "pcGDP2015": 54134.25,
         "pcGDP2016": 54449.75,
         "pcGDP2017": 56023,
         "pcGDP2018": 56638,
         "_deepnote_index_column": "75%"
        },
        {
         "pcGDP2001": 91488,
         "pcGDP2002": 93566,
         "pcGDP2003": 98123,
         "pcGDP2004": 96242,
         "pcGDP2005": 101084,
         "pcGDP2006": 121053,
         "pcGDP2007": 122897,
         "pcGDP2008": 120158,
         "pcGDP2009": 114486,
         "pcGDP2010": 119658,
         "pcGDP2011": 119965,
         "pcGDP2012": 117348,
         "pcGDP2013": 123709,
         "pcGDP2014": 121011,
         "pcGDP2015": 121623,
         "pcGDP2016": 117879,
         "pcGDP2017": 122242,
         "pcGDP2018": 127468,
         "_deepnote_index_column": "max"
        }
       ],
       "rows_bottom": null
      },
      "text/plain": "          pcGDP2001     pcGDP2002     pcGDP2003     pcGDP2004      pcGDP2005  \\\ncount    424.000000    440.000000    440.000000    440.000000     447.000000   \nmean   41263.658019  41015.070455  41553.361364  42473.022727   42881.143177   \nstd    11877.960193  12536.516772  12456.583153  12621.901150   13172.229181   \nmin    10988.000000  11435.000000  11969.000000  12777.000000   13062.000000   \n25%    33139.250000  32636.000000  33284.750000  33864.500000   33735.500000   \n50%    39543.500000  39683.500000  40390.500000  41200.500000   41609.000000   \n75%    47971.750000  48611.000000  49354.750000  50468.250000   51025.000000   \nmax    91488.000000  93566.000000  98123.000000  96242.000000  101084.000000   \n\n           pcGDP2006      pcGDP2007      pcGDP2008      pcGDP2009  \\\ncount     447.000000     447.000000     455.000000     471.000000   \nmean    43987.762864   44786.760626   44533.958242   42724.316348   \nstd     13450.431995   13693.732714   14082.871703   13602.723246   \nmin     13855.000000   13937.000000    2236.000000    2202.000000   \n25%     34540.000000   35226.000000   35094.000000   33730.000000   \n50%     42929.000000   43461.000000   43287.000000   41250.000000   \n75%     52304.000000   53043.500000   53132.000000   50739.500000   \nmax    121053.000000  122897.000000  120158.000000  114486.000000   \n\n           pcGDP2010      pcGDP2011      pcGDP2012      pcGDP2013  \\\ncount     471.000000     480.000000     480.000000     480.000000   \nmean    43433.511677   43946.966667   44075.937500   44302.154167   \nstd     13896.775080   14018.472002   14170.164166   14251.392256   \nmin      2227.000000    2363.000000    2572.000000    2700.000000   \n25%     34294.500000   34582.750000   34808.750000   35113.750000   \n50%     41627.000000   42345.000000   42131.500000   42154.500000   \n75%     51428.500000   52568.750000   52569.750000   53087.500000   \nmax    119658.000000  119965.000000  117348.000000  123709.000000   \n\n           pcGDP2014      pcGDP2015      pcGDP2016      pcGDP2017  \\\ncount     480.000000     480.000000     480.000000     445.000000   \nmean    44942.493750   45802.220833   46243.666667   47489.089888   \nstd     14421.619849   14948.683819   14938.549380   15463.803389   \nmin      2683.000000    2761.000000    2796.000000    2745.000000   \n25%     35766.250000   36128.500000   36584.750000   37316.000000   \n50%     42777.500000   43237.500000   43931.500000   45385.000000   \n75%     53737.250000   54134.250000   54449.750000   56023.000000   \nmax    121011.000000  121623.000000  117879.000000  122242.000000   \n\n           pcGDP2018  \ncount     441.000000  \nmean    48032.668934  \nstd     15719.725615  \nmin      2832.000000  \n25%     37908.000000  \n50%     46057.000000  \n75%     56638.000000  \nmax    127468.000000  ",
      "text/html": "<div>\n<style scoped>\n    .dataframe tbody tr th:only-of-type {\n        vertical-align: middle;\n    }\n\n    .dataframe tbody tr th {\n        vertical-align: top;\n    }\n\n    .dataframe thead th {\n        text-align: right;\n    }\n</style>\n<table border=\"1\" class=\"dataframe\">\n  <thead>\n    <tr style=\"text-align: right;\">\n      <th></th>\n      <th>pcGDP2001</th>\n      <th>pcGDP2002</th>\n      <th>pcGDP2003</th>\n      <th>pcGDP2004</th>\n      <th>pcGDP2005</th>\n      <th>pcGDP2006</th>\n      <th>pcGDP2007</th>\n      <th>pcGDP2008</th>\n      <th>pcGDP2009</th>\n      <th>pcGDP2010</th>\n      <th>pcGDP2011</th>\n      <th>pcGDP2012</th>\n      <th>pcGDP2013</th>\n      <th>pcGDP2014</th>\n      <th>pcGDP2015</th>\n      <th>pcGDP2016</th>\n      <th>pcGDP2017</th>\n      <th>pcGDP2018</th>\n    </tr>\n  </thead>\n  <tbody>\n    <tr>\n      <th>count</th>\n      <td>424.000000</td>\n      <td>440.000000</td>\n      <td>440.000000</td>\n      <td>440.000000</td>\n      <td>447.000000</td>\n      <td>447.000000</td>\n      <td>447.000000</td>\n      <td>455.000000</td>\n      <td>471.000000</td>\n      <td>471.000000</td>\n      <td>480.000000</td>\n      <td>480.000000</td>\n      <td>480.000000</td>\n      <td>480.000000</td>\n      <td>480.000000</td>\n      <td>480.000000</td>\n      <td>445.000000</td>\n      <td>441.000000</td>\n    </tr>\n    <tr>\n      <th>mean</th>\n      <td>41263.658019</td>\n      <td>41015.070455</td>\n      <td>41553.361364</td>\n      <td>42473.022727</td>\n      <td>42881.143177</td>\n      <td>43987.762864</td>\n      <td>44786.760626</td>\n      <td>44533.958242</td>\n      <td>42724.316348</td>\n      <td>43433.511677</td>\n      <td>43946.966667</td>\n      <td>44075.937500</td>\n      <td>44302.154167</td>\n      <td>44942.493750</td>\n      <td>45802.220833</td>\n      <td>46243.666667</td>\n      <td>47489.089888</td>\n      <td>48032.668934</td>\n    </tr>\n    <tr>\n      <th>std</th>\n      <td>11877.960193</td>\n      <td>12536.516772</td>\n      <td>12456.583153</td>\n      <td>12621.901150</td>\n      <td>13172.229181</td>\n      <td>13450.431995</td>\n      <td>13693.732714</td>\n      <td>14082.871703</td>\n      <td>13602.723246</td>\n      <td>13896.775080</td>\n      <td>14018.472002</td>\n      <td>14170.164166</td>\n      <td>14251.392256</td>\n      <td>14421.619849</td>\n      <td>14948.683819</td>\n      <td>14938.549380</td>\n      <td>15463.803389</td>\n      <td>15719.725615</td>\n    </tr>\n    <tr>\n      <th>min</th>\n      <td>10988.000000</td>\n      <td>11435.000000</td>\n      <td>11969.000000</td>\n      <td>12777.000000</td>\n      <td>13062.000000</td>\n      <td>13855.000000</td>\n      <td>13937.000000</td>\n      <td>2236.000000</td>\n      <td>2202.000000</td>\n      <td>2227.000000</td>\n      <td>2363.000000</td>\n      <td>2572.000000</td>\n      <td>2700.000000</td>\n      <td>2683.000000</td>\n      <td>2761.000000</td>\n      <td>2796.000000</td>\n      <td>2745.000000</td>\n      <td>2832.000000</td>\n    </tr>\n    <tr>\n      <th>25%</th>\n      <td>33139.250000</td>\n      <td>32636.000000</td>\n      <td>33284.750000</td>\n      <td>33864.500000</td>\n      <td>33735.500000</td>\n      <td>34540.000000</td>\n      <td>35226.000000</td>\n      <td>35094.000000</td>\n      <td>33730.000000</td>\n      <td>34294.500000</td>\n      <td>34582.750000</td>\n      <td>34808.750000</td>\n      <td>35113.750000</td>\n      <td>35766.250000</td>\n      <td>36128.500000</td>\n      <td>36584.750000</td>\n      <td>37316.000000</td>\n      <td>37908.000000</td>\n    </tr>\n    <tr>\n      <th>50%</th>\n      <td>39543.500000</td>\n      <td>39683.500000</td>\n      <td>40390.500000</td>\n      <td>41200.500000</td>\n      <td>41609.000000</td>\n      <td>42929.000000</td>\n      <td>43461.000000</td>\n      <td>43287.000000</td>\n      <td>41250.000000</td>\n      <td>41627.000000</td>\n      <td>42345.000000</td>\n      <td>42131.500000</td>\n      <td>42154.500000</td>\n      <td>42777.500000</td>\n      <td>43237.500000</td>\n      <td>43931.500000</td>\n      <td>45385.000000</td>\n      <td>46057.000000</td>\n    </tr>\n    <tr>\n      <th>75%</th>\n      <td>47971.750000</td>\n      <td>48611.000000</td>\n      <td>49354.750000</td>\n      <td>50468.250000</td>\n      <td>51025.000000</td>\n      <td>52304.000000</td>\n      <td>53043.500000</td>\n      <td>53132.000000</td>\n      <td>50739.500000</td>\n      <td>51428.500000</td>\n      <td>52568.750000</td>\n      <td>52569.750000</td>\n      <td>53087.500000</td>\n      <td>53737.250000</td>\n      <td>54134.250000</td>\n      <td>54449.750000</td>\n      <td>56023.000000</td>\n      <td>56638.000000</td>\n    </tr>\n    <tr>\n      <th>max</th>\n      <td>91488.000000</td>\n      <td>93566.000000</td>\n      <td>98123.000000</td>\n      <td>96242.000000</td>\n      <td>101084.000000</td>\n      <td>121053.000000</td>\n      <td>122897.000000</td>\n      <td>120158.000000</td>\n      <td>114486.000000</td>\n      <td>119658.000000</td>\n      <td>119965.000000</td>\n      <td>117348.000000</td>\n      <td>123709.000000</td>\n      <td>121011.000000</td>\n      <td>121623.000000</td>\n      <td>117879.000000</td>\n      <td>122242.000000</td>\n      <td>127468.000000</td>\n    </tr>\n  </tbody>\n</table>\n</div>"
     },
     "metadata": {}
    }
   ]
  },
  {
   "cell_type": "code",
   "metadata": {
    "colab": {
     "base_uri": "https://localhost:8080/",
     "height": 400
    },
    "id": "VmE35VKaM0fi",
    "outputId": "a7b69930-fc54-4db8-bd24-a609e1b1d5e4",
    "cell_id": "00012-364adc63-a242-44c1-9a00-4f37c59c37b6",
    "deepnote_to_be_reexecuted": false,
    "source_hash": "8a93af70",
    "execution_start": 1635242647596,
    "execution_millis": 127,
    "deepnote_cell_type": "code"
   },
   "source": "percapitaGDP.head()",
   "execution_count": 13,
   "outputs": [
    {
     "output_type": "execute_result",
     "execution_count": 13,
     "data": {
      "application/vnd.deepnote.dataframe.v2+json": {
       "row_count": 5,
       "column_count": 19,
       "columns": [
        {
         "name": "metro",
         "dtype": "object",
         "stats": {
          "unique_count": 5,
          "nan_count": 0,
          "categories": [
           {
            "name": "AUS01: Greater Sydney",
            "count": 1
           },
           {
            "name": "AUS02: Greater Melbourne",
            "count": 1
           },
           {
            "name": "3 others",
            "count": 3
           }
          ]
         }
        },
        {
         "name": "pcGDP2001",
         "dtype": "float64",
         "stats": {
          "unique_count": 5,
          "nan_count": 0,
          "min": "36505.0",
          "max": "45713.0",
          "histogram": [
           {
            "bin_start": 36505,
            "bin_end": 37425.8,
            "count": 1
           },
           {
            "bin_start": 37425.8,
            "bin_end": 38346.6,
            "count": 1
           },
           {
            "bin_start": 38346.6,
            "bin_end": 39267.4,
            "count": 0
           },
           {
            "bin_start": 39267.4,
            "bin_end": 40188.2,
            "count": 1
           },
           {
            "bin_start": 40188.2,
            "bin_end": 41109,
            "count": 0
           },
           {
            "bin_start": 41109,
            "bin_end": 42029.8,
            "count": 0
           },
           {
            "bin_start": 42029.8,
            "bin_end": 42950.6,
            "count": 0
           },
           {
            "bin_start": 42950.6,
            "bin_end": 43871.4,
            "count": 1
           },
           {
            "bin_start": 43871.4,
            "bin_end": 44792.2,
            "count": 0
           },
           {
            "bin_start": 44792.2,
            "bin_end": 45713,
            "count": 1
           }
          ]
         }
        },
        {
         "name": "pcGDP2002",
         "dtype": "float64",
         "stats": {
          "unique_count": 5,
          "nan_count": 0,
          "min": "37194.0",
          "max": "47371.0",
          "histogram": [
           {
            "bin_start": 37194,
            "bin_end": 38211.7,
            "count": 2
           },
           {
            "bin_start": 38211.7,
            "bin_end": 39229.4,
            "count": 0
           },
           {
            "bin_start": 39229.4,
            "bin_end": 40247.1,
            "count": 0
           },
           {
            "bin_start": 40247.1,
            "bin_end": 41264.8,
            "count": 1
           },
           {
            "bin_start": 41264.8,
            "bin_end": 42282.5,
            "count": 0
           },
           {
            "bin_start": 42282.5,
            "bin_end": 43300.2,
            "count": 0
           },
           {
            "bin_start": 43300.2,
            "bin_end": 44317.9,
            "count": 1
           },
           {
            "bin_start": 44317.9,
            "bin_end": 45335.6,
            "count": 0
           },
           {
            "bin_start": 45335.6,
            "bin_end": 46353.3,
            "count": 0
           },
           {
            "bin_start": 46353.3,
            "bin_end": 47371,
            "count": 1
           }
          ]
         }
        },
        {
         "name": "pcGDP2003",
         "dtype": "float64",
         "stats": {
          "unique_count": 5,
          "nan_count": 0,
          "min": "37634.0",
          "max": "48719.0",
          "histogram": [
           {
            "bin_start": 37634,
            "bin_end": 38742.5,
            "count": 1
           },
           {
            "bin_start": 38742.5,
            "bin_end": 39851,
            "count": 1
           },
           {
            "bin_start": 39851,
            "bin_end": 40959.5,
            "count": 0
           },
           {
            "bin_start": 40959.5,
            "bin_end": 42068,
            "count": 1
           },
           {
            "bin_start": 42068,
            "bin_end": 43176.5,
            "count": 0
           },
           {
            "bin_start": 43176.5,
            "bin_end": 44285,
            "count": 0
           },
           {
            "bin_start": 44285,
            "bin_end": 45393.5,
            "count": 0
           },
           {
            "bin_start": 45393.5,
            "bin_end": 46502,
            "count": 1
           },
           {
            "bin_start": 46502,
            "bin_end": 47610.5,
            "count": 0
           },
           {
            "bin_start": 47610.5,
            "bin_end": 48719,
            "count": 1
           }
          ]
         }
        },
        {
         "name": "pcGDP2004",
         "dtype": "float64",
         "stats": {
          "unique_count": 5,
          "nan_count": 0,
          "min": "37399.0",
          "max": "51020.0",
          "histogram": [
           {
            "bin_start": 37399,
            "bin_end": 38761.1,
            "count": 1
           },
           {
            "bin_start": 38761.1,
            "bin_end": 40123.2,
            "count": 0
           },
           {
            "bin_start": 40123.2,
            "bin_end": 41485.3,
            "count": 1
           },
           {
            "bin_start": 41485.3,
            "bin_end": 42847.4,
            "count": 1
           },
           {
            "bin_start": 42847.4,
            "bin_end": 44209.5,
            "count": 0
           },
           {
            "bin_start": 44209.5,
            "bin_end": 45571.6,
            "count": 0
           },
           {
            "bin_start": 45571.6,
            "bin_end": 46933.7,
            "count": 1
           },
           {
            "bin_start": 46933.7,
            "bin_end": 48295.8,
            "count": 0
           },
           {
            "bin_start": 48295.8,
            "bin_end": 49657.9,
            "count": 0
           },
           {
            "bin_start": 49657.9,
            "bin_end": 51020,
            "count": 1
           }
          ]
         }
        },
        {
         "name": "pcGDP2005",
         "dtype": "float64",
         "stats": {
          "unique_count": 5,
          "nan_count": 0,
          "min": "37604.0",
          "max": "55278.0",
          "histogram": [
           {
            "bin_start": 37604,
            "bin_end": 39371.4,
            "count": 1
           },
           {
            "bin_start": 39371.4,
            "bin_end": 41138.8,
            "count": 0
           },
           {
            "bin_start": 41138.8,
            "bin_end": 42906.2,
            "count": 1
           },
           {
            "bin_start": 42906.2,
            "bin_end": 44673.6,
            "count": 1
           },
           {
            "bin_start": 44673.6,
            "bin_end": 46441,
            "count": 1
           },
           {
            "bin_start": 46441,
            "bin_end": 48208.4,
            "count": 0
           },
           {
            "bin_start": 48208.4,
            "bin_end": 49975.8,
            "count": 0
           },
           {
            "bin_start": 49975.8,
            "bin_end": 51743.2,
            "count": 0
           },
           {
            "bin_start": 51743.2,
            "bin_end": 53510.6,
            "count": 0
           },
           {
            "bin_start": 53510.6,
            "bin_end": 55278,
            "count": 1
           }
          ]
         }
        },
        {
         "name": "pcGDP2006",
         "dtype": "float64",
         "stats": {
          "unique_count": 5,
          "nan_count": 0,
          "min": "38151.0",
          "max": "60142.0",
          "histogram": [
           {
            "bin_start": 38151,
            "bin_end": 40350.1,
            "count": 1
           },
           {
            "bin_start": 40350.1,
            "bin_end": 42549.2,
            "count": 1
           },
           {
            "bin_start": 42549.2,
            "bin_end": 44748.3,
            "count": 1
           },
           {
            "bin_start": 44748.3,
            "bin_end": 46947.4,
            "count": 1
           },
           {
            "bin_start": 46947.4,
            "bin_end": 49146.5,
            "count": 0
           },
           {
            "bin_start": 49146.5,
            "bin_end": 51345.6,
            "count": 0
           },
           {
            "bin_start": 51345.6,
            "bin_end": 53544.7,
            "count": 0
           },
           {
            "bin_start": 53544.7,
            "bin_end": 55743.8,
            "count": 0
           },
           {
            "bin_start": 55743.8,
            "bin_end": 57942.899999999994,
            "count": 0
           },
           {
            "bin_start": 57942.899999999994,
            "bin_end": 60142,
            "count": 1
           }
          ]
         }
        },
        {
         "name": "pcGDP2007",
         "dtype": "float64",
         "stats": {
          "unique_count": 5,
          "nan_count": 0,
          "min": "39049.0",
          "max": "62551.0",
          "histogram": [
           {
            "bin_start": 39049,
            "bin_end": 41399.2,
            "count": 1
           },
           {
            "bin_start": 41399.2,
            "bin_end": 43749.4,
            "count": 1
           },
           {
            "bin_start": 43749.4,
            "bin_end": 46099.6,
            "count": 2
           },
           {
            "bin_start": 46099.6,
            "bin_end": 48449.8,
            "count": 0
           },
           {
            "bin_start": 48449.8,
            "bin_end": 50800,
            "count": 0
           },
           {
            "bin_start": 50800,
            "bin_end": 53150.2,
            "count": 0
           },
           {
            "bin_start": 53150.2,
            "bin_end": 55500.399999999994,
            "count": 0
           },
           {
            "bin_start": 55500.399999999994,
            "bin_end": 57850.6,
            "count": 0
           },
           {
            "bin_start": 57850.6,
            "bin_end": 60200.8,
            "count": 0
           },
           {
            "bin_start": 60200.8,
            "bin_end": 62551,
            "count": 1
           }
          ]
         }
        },
        {
         "name": "pcGDP2008",
         "dtype": "float64",
         "stats": {
          "unique_count": 5,
          "nan_count": 0,
          "min": "38502.0",
          "max": "63899.0",
          "histogram": [
           {
            "bin_start": 38502,
            "bin_end": 41041.7,
            "count": 2
           },
           {
            "bin_start": 41041.7,
            "bin_end": 43581.4,
            "count": 0
           },
           {
            "bin_start": 43581.4,
            "bin_end": 46121.1,
            "count": 1
           },
           {
            "bin_start": 46121.1,
            "bin_end": 48660.8,
            "count": 1
           },
           {
            "bin_start": 48660.8,
            "bin_end": 51200.5,
            "count": 0
           },
           {
            "bin_start": 51200.5,
            "bin_end": 53740.2,
            "count": 0
           },
           {
            "bin_start": 53740.2,
            "bin_end": 56279.899999999994,
            "count": 0
           },
           {
            "bin_start": 56279.899999999994,
            "bin_end": 58819.6,
            "count": 0
           },
           {
            "bin_start": 58819.6,
            "bin_end": 61359.3,
            "count": 0
           },
           {
            "bin_start": 61359.3,
            "bin_end": 63899,
            "count": 1
           }
          ]
         }
        },
        {
         "name": "pcGDP2009",
         "dtype": "float64",
         "stats": {
          "unique_count": 5,
          "nan_count": 0,
          "min": "39538.0",
          "max": "63616.0",
          "histogram": [
           {
            "bin_start": 39538,
            "bin_end": 41945.8,
            "count": 2
           },
           {
            "bin_start": 41945.8,
            "bin_end": 44353.6,
            "count": 1
           },
           {
            "bin_start": 44353.6,
            "bin_end": 46761.4,
            "count": 1
           },
           {
            "bin_start": 46761.4,
            "bin_end": 49169.2,
            "count": 0
           },
           {
            "bin_start": 49169.2,
            "bin_end": 51577,
            "count": 0
           },
           {
            "bin_start": 51577,
            "bin_end": 53984.8,
            "count": 0
           },
           {
            "bin_start": 53984.8,
            "bin_end": 56392.600000000006,
            "count": 0
           },
           {
            "bin_start": 56392.600000000006,
            "bin_end": 58800.4,
            "count": 0
           },
           {
            "bin_start": 58800.4,
            "bin_end": 61208.2,
            "count": 0
           },
           {
            "bin_start": 61208.2,
            "bin_end": 63616,
            "count": 1
           }
          ]
         }
        },
        {
         "name": "pcGDP2010",
         "dtype": "float64",
         "stats": {
          "unique_count": 5,
          "nan_count": 0,
          "min": "39309.0",
          "max": "70111.0",
          "histogram": [
           {
            "bin_start": 39309,
            "bin_end": 42389.2,
            "count": 2
           },
           {
            "bin_start": 42389.2,
            "bin_end": 45469.4,
            "count": 1
           },
           {
            "bin_start": 45469.4,
            "bin_end": 48549.6,
            "count": 1
           },
           {
            "bin_start": 48549.6,
            "bin_end": 51629.8,
            "count": 0
           },
           {
            "bin_start": 51629.8,
            "bin_end": 54710,
            "count": 0
           },
           {
            "bin_start": 54710,
            "bin_end": 57790.2,
            "count": 0
           },
           {
            "bin_start": 57790.2,
            "bin_end": 60870.399999999994,
            "count": 0
           },
           {
            "bin_start": 60870.399999999994,
            "bin_end": 63950.6,
            "count": 0
           },
           {
            "bin_start": 63950.6,
            "bin_end": 67030.8,
            "count": 0
           },
           {
            "bin_start": 67030.8,
            "bin_end": 70111,
            "count": 1
           }
          ]
         }
        },
        {
         "name": "pcGDP2011",
         "dtype": "float64",
         "stats": {
          "unique_count": 5,
          "nan_count": 0,
          "min": "39223.0",
          "max": "73715.0",
          "histogram": [
           {
            "bin_start": 39223,
            "bin_end": 42672.2,
            "count": 2
           },
           {
            "bin_start": 42672.2,
            "bin_end": 46121.4,
            "count": 1
           },
           {
            "bin_start": 46121.4,
            "bin_end": 49570.6,
            "count": 1
           },
           {
            "bin_start": 49570.6,
            "bin_end": 53019.8,
            "count": 0
           },
           {
            "bin_start": 53019.8,
            "bin_end": 56469,
            "count": 0
           },
           {
            "bin_start": 56469,
            "bin_end": 59918.2,
            "count": 0
           },
           {
            "bin_start": 59918.2,
            "bin_end": 63367.399999999994,
            "count": 0
           },
           {
            "bin_start": 63367.399999999994,
            "bin_end": 66816.6,
            "count": 0
           },
           {
            "bin_start": 66816.6,
            "bin_end": 70265.8,
            "count": 0
           },
           {
            "bin_start": 70265.8,
            "bin_end": 73715,
            "count": 1
           }
          ]
         }
        },
        {
         "name": "pcGDP2012",
         "dtype": "float64",
         "stats": {
          "unique_count": 5,
          "nan_count": 0,
          "min": "39812.0",
          "max": "72679.0",
          "histogram": [
           {
            "bin_start": 39812,
            "bin_end": 43098.7,
            "count": 2
           },
           {
            "bin_start": 43098.7,
            "bin_end": 46385.4,
            "count": 1
           },
           {
            "bin_start": 46385.4,
            "bin_end": 49672.1,
            "count": 1
           },
           {
            "bin_start": 49672.1,
            "bin_end": 52958.8,
            "count": 0
           },
           {
            "bin_start": 52958.8,
            "bin_end": 56245.5,
            "count": 0
           },
           {
            "bin_start": 56245.5,
            "bin_end": 59532.2,
            "count": 0
           },
           {
            "bin_start": 59532.2,
            "bin_end": 62818.899999999994,
            "count": 0
           },
           {
            "bin_start": 62818.899999999994,
            "bin_end": 66105.6,
            "count": 0
           },
           {
            "bin_start": 66105.6,
            "bin_end": 69392.3,
            "count": 0
           },
           {
            "bin_start": 69392.3,
            "bin_end": 72679,
            "count": 1
           }
          ]
         }
        },
        {
         "name": "pcGDP2013",
         "dtype": "float64",
         "stats": {
          "unique_count": 5,
          "nan_count": 0,
          "min": "39855.0",
          "max": "76153.0",
          "histogram": [
           {
            "bin_start": 39855,
            "bin_end": 43484.8,
            "count": 3
           },
           {
            "bin_start": 43484.8,
            "bin_end": 47114.6,
            "count": 0
           },
           {
            "bin_start": 47114.6,
            "bin_end": 50744.4,
            "count": 1
           },
           {
            "bin_start": 50744.4,
            "bin_end": 54374.2,
            "count": 0
           },
           {
            "bin_start": 54374.2,
            "bin_end": 58004,
            "count": 0
           },
           {
            "bin_start": 58004,
            "bin_end": 61633.8,
            "count": 0
           },
           {
            "bin_start": 61633.8,
            "bin_end": 65263.600000000006,
            "count": 0
           },
           {
            "bin_start": 65263.600000000006,
            "bin_end": 68893.4,
            "count": 0
           },
           {
            "bin_start": 68893.4,
            "bin_end": 72523.2,
            "count": 0
           },
           {
            "bin_start": 72523.2,
            "bin_end": 76153,
            "count": 1
           }
          ]
         }
        },
        {
         "name": "pcGDP2014",
         "dtype": "float64",
         "stats": {
          "unique_count": 5,
          "nan_count": 0,
          "min": "40306.0",
          "max": "70395.0",
          "histogram": [
           {
            "bin_start": 40306,
            "bin_end": 43314.9,
            "count": 2
           },
           {
            "bin_start": 43314.9,
            "bin_end": 46323.8,
            "count": 1
           },
           {
            "bin_start": 46323.8,
            "bin_end": 49332.7,
            "count": 1
           },
           {
            "bin_start": 49332.7,
            "bin_end": 52341.6,
            "count": 0
           },
           {
            "bin_start": 52341.6,
            "bin_end": 55350.5,
            "count": 0
           },
           {
            "bin_start": 55350.5,
            "bin_end": 58359.4,
            "count": 0
           },
           {
            "bin_start": 58359.4,
            "bin_end": 61368.3,
            "count": 0
           },
           {
            "bin_start": 61368.3,
            "bin_end": 64377.2,
            "count": 0
           },
           {
            "bin_start": 64377.2,
            "bin_end": 67386.1,
            "count": 0
           },
           {
            "bin_start": 67386.1,
            "bin_end": 70395,
            "count": 1
           }
          ]
         }
        },
        {
         "name": "pcGDP2015",
         "dtype": "float64",
         "stats": {
          "unique_count": 5,
          "nan_count": 0,
          "min": "40295.0",
          "max": "66544.0",
          "histogram": [
           {
            "bin_start": 40295,
            "bin_end": 42919.9,
            "count": 1
           },
           {
            "bin_start": 42919.9,
            "bin_end": 45544.8,
            "count": 2
           },
           {
            "bin_start": 45544.8,
            "bin_end": 48169.7,
            "count": 0
           },
           {
            "bin_start": 48169.7,
            "bin_end": 50794.6,
            "count": 1
           },
           {
            "bin_start": 50794.6,
            "bin_end": 53419.5,
            "count": 0
           },
           {
            "bin_start": 53419.5,
            "bin_end": 56044.4,
            "count": 0
           },
           {
            "bin_start": 56044.4,
            "bin_end": 58669.3,
            "count": 0
           },
           {
            "bin_start": 58669.3,
            "bin_end": 61294.2,
            "count": 0
           },
           {
            "bin_start": 61294.2,
            "bin_end": 63919.100000000006,
            "count": 0
           },
           {
            "bin_start": 63919.100000000006,
            "bin_end": 66544,
            "count": 1
           }
          ]
         }
        },
        {
         "name": "pcGDP2016",
         "dtype": "float64",
         "stats": {
          "unique_count": 5,
          "nan_count": 0,
          "min": "39737.0",
          "max": "66032.0",
          "histogram": [
           {
            "bin_start": 39737,
            "bin_end": 42366.5,
            "count": 1
           },
           {
            "bin_start": 42366.5,
            "bin_end": 44996,
            "count": 1
           },
           {
            "bin_start": 44996,
            "bin_end": 47625.5,
            "count": 1
           },
           {
            "bin_start": 47625.5,
            "bin_end": 50255,
            "count": 0
           },
           {
            "bin_start": 50255,
            "bin_end": 52884.5,
            "count": 1
           },
           {
            "bin_start": 52884.5,
            "bin_end": 55514,
            "count": 0
           },
           {
            "bin_start": 55514,
            "bin_end": 58143.5,
            "count": 0
           },
           {
            "bin_start": 58143.5,
            "bin_end": 60773,
            "count": 0
           },
           {
            "bin_start": 60773,
            "bin_end": 63402.5,
            "count": 0
           },
           {
            "bin_start": 63402.5,
            "bin_end": 66032,
            "count": 1
           }
          ]
         }
        },
        {
         "name": "pcGDP2017",
         "dtype": "float64",
         "stats": {
          "unique_count": 5,
          "nan_count": 0,
          "min": "40115.0",
          "max": "66424.0",
          "histogram": [
           {
            "bin_start": 40115,
            "bin_end": 42745.9,
            "count": 1
           },
           {
            "bin_start": 42745.9,
            "bin_end": 45376.8,
            "count": 1
           },
           {
            "bin_start": 45376.8,
            "bin_end": 48007.7,
            "count": 1
           },
           {
            "bin_start": 48007.7,
            "bin_end": 50638.6,
            "count": 1
           },
           {
            "bin_start": 50638.6,
            "bin_end": 53269.5,
            "count": 0
           },
           {
            "bin_start": 53269.5,
            "bin_end": 55900.4,
            "count": 0
           },
           {
            "bin_start": 55900.4,
            "bin_end": 58531.3,
            "count": 0
           },
           {
            "bin_start": 58531.3,
            "bin_end": 61162.2,
            "count": 0
           },
           {
            "bin_start": 61162.2,
            "bin_end": 63793.100000000006,
            "count": 0
           },
           {
            "bin_start": 63793.100000000006,
            "bin_end": 66424,
            "count": 1
           }
          ]
         }
        },
        {
         "name": "pcGDP2018",
         "dtype": "float64",
         "stats": {
          "unique_count": 5,
          "nan_count": 0,
          "min": "39924.0",
          "max": "70390.0",
          "histogram": [
           {
            "bin_start": 39924,
            "bin_end": 42970.6,
            "count": 2
           },
           {
            "bin_start": 42970.6,
            "bin_end": 46017.2,
            "count": 0
           },
           {
            "bin_start": 46017.2,
            "bin_end": 49063.8,
            "count": 1
           },
           {
            "bin_start": 49063.8,
            "bin_end": 52110.4,
            "count": 1
           },
           {
            "bin_start": 52110.4,
            "bin_end": 55157,
            "count": 0
           },
           {
            "bin_start": 55157,
            "bin_end": 58203.6,
            "count": 0
           },
           {
            "bin_start": 58203.6,
            "bin_end": 61250.2,
            "count": 0
           },
           {
            "bin_start": 61250.2,
            "bin_end": 64296.8,
            "count": 0
           },
           {
            "bin_start": 64296.8,
            "bin_end": 67343.4,
            "count": 0
           },
           {
            "bin_start": 67343.4,
            "bin_end": 70390,
            "count": 1
           }
          ]
         }
        },
        {
         "name": "_deepnote_index_column",
         "dtype": "int64"
        }
       ],
       "rows_top": [
        {
         "metro": "AUS01: Greater Sydney",
         "pcGDP2001": 43313,
         "pcGDP2002": 44008,
         "pcGDP2003": 45424,
         "pcGDP2004": 45837,
         "pcGDP2005": 45423,
         "pcGDP2006": 45547,
         "pcGDP2007": 45880,
         "pcGDP2008": 45225,
         "pcGDP2009": 45900,
         "pcGDP2010": 45672,
         "pcGDP2011": 46535,
         "pcGDP2012": 47350,
         "pcGDP2013": 47225,
         "pcGDP2014": 48510,
         "pcGDP2015": 50075,
         "pcGDP2016": 50519,
         "pcGDP2017": 50578,
         "pcGDP2018": 49860,
         "_deepnote_index_column": 2
        },
        {
         "metro": "AUS02: Greater Melbourne",
         "pcGDP2001": 40125,
         "pcGDP2002": 40894,
         "pcGDP2003": 41602,
         "pcGDP2004": 42188,
         "pcGDP2005": 41484,
         "pcGDP2006": 41589,
         "pcGDP2007": 42316,
         "pcGDP2008": 40975,
         "pcGDP2009": 41384,
         "pcGDP2010": 40943,
         "pcGDP2011": 41165,
         "pcGDP2012": 41264,
         "pcGDP2013": 41157,
         "pcGDP2014": 42114,
         "pcGDP2015": 42928,
         "pcGDP2016": 42671,
         "pcGDP2017": 43025,
         "pcGDP2018": 42674,
         "_deepnote_index_column": 3
        },
        {
         "metro": "AUS03: Greater Brisbane",
         "pcGDP2001": 37580,
         "pcGDP2002": 37564,
         "pcGDP2003": 39080,
         "pcGDP2004": 40762,
         "pcGDP2005": 42976,
         "pcGDP2006": 44475,
         "pcGDP2007": 44635,
         "pcGDP2008": 46192,
         "pcGDP2009": 43507,
         "pcGDP2010": 42774,
         "pcGDP2011": 44166,
         "pcGDP2012": 43764,
         "pcGDP2013": 43379,
         "pcGDP2014": 43754,
         "pcGDP2015": 44388,
         "pcGDP2016": 45723,
         "pcGDP2017": 46876,
         "pcGDP2018": 46640,
         "_deepnote_index_column": 4
        },
        {
         "metro": "AUS04: Greater Perth",
         "pcGDP2001": 45713,
         "pcGDP2002": 47371,
         "pcGDP2003": 48719,
         "pcGDP2004": 51020,
         "pcGDP2005": 55278,
         "pcGDP2006": 60142,
         "pcGDP2007": 62551,
         "pcGDP2008": 63899,
         "pcGDP2009": 63616,
         "pcGDP2010": 70111,
         "pcGDP2011": 73715,
         "pcGDP2012": 72679,
         "pcGDP2013": 76153,
         "pcGDP2014": 70395,
         "pcGDP2015": 66544,
         "pcGDP2016": 66032,
         "pcGDP2017": 66424,
         "pcGDP2018": 70390,
         "_deepnote_index_column": 5
        },
        {
         "metro": "AUS05: Greater Adelaide",
         "pcGDP2001": 36505,
         "pcGDP2002": 37194,
         "pcGDP2003": 37634,
         "pcGDP2004": 37399,
         "pcGDP2005": 37604,
         "pcGDP2006": 38151,
         "pcGDP2007": 39049,
         "pcGDP2008": 38502,
         "pcGDP2009": 39538,
         "pcGDP2010": 39309,
         "pcGDP2011": 39223,
         "pcGDP2012": 39812,
         "pcGDP2013": 39855,
         "pcGDP2014": 40306,
         "pcGDP2015": 40295,
         "pcGDP2016": 39737,
         "pcGDP2017": 40115,
         "pcGDP2018": 39924,
         "_deepnote_index_column": 6
        }
       ],
       "rows_bottom": null
      },
      "text/plain": "                      metro  pcGDP2001  pcGDP2002  pcGDP2003  pcGDP2004  \\\n2     AUS01: Greater Sydney    43313.0    44008.0    45424.0    45837.0   \n3  AUS02: Greater Melbourne    40125.0    40894.0    41602.0    42188.0   \n4   AUS03: Greater Brisbane    37580.0    37564.0    39080.0    40762.0   \n5      AUS04: Greater Perth    45713.0    47371.0    48719.0    51020.0   \n6   AUS05: Greater Adelaide    36505.0    37194.0    37634.0    37399.0   \n\n   pcGDP2005  pcGDP2006  pcGDP2007  pcGDP2008  pcGDP2009  pcGDP2010  \\\n2    45423.0    45547.0    45880.0    45225.0    45900.0    45672.0   \n3    41484.0    41589.0    42316.0    40975.0    41384.0    40943.0   \n4    42976.0    44475.0    44635.0    46192.0    43507.0    42774.0   \n5    55278.0    60142.0    62551.0    63899.0    63616.0    70111.0   \n6    37604.0    38151.0    39049.0    38502.0    39538.0    39309.0   \n\n   pcGDP2011  pcGDP2012  pcGDP2013  pcGDP2014  pcGDP2015  pcGDP2016  \\\n2    46535.0    47350.0    47225.0    48510.0    50075.0    50519.0   \n3    41165.0    41264.0    41157.0    42114.0    42928.0    42671.0   \n4    44166.0    43764.0    43379.0    43754.0    44388.0    45723.0   \n5    73715.0    72679.0    76153.0    70395.0    66544.0    66032.0   \n6    39223.0    39812.0    39855.0    40306.0    40295.0    39737.0   \n\n   pcGDP2017  pcGDP2018  \n2    50578.0    49860.0  \n3    43025.0    42674.0  \n4    46876.0    46640.0  \n5    66424.0    70390.0  \n6    40115.0    39924.0  ",
      "text/html": "<div>\n<style scoped>\n    .dataframe tbody tr th:only-of-type {\n        vertical-align: middle;\n    }\n\n    .dataframe tbody tr th {\n        vertical-align: top;\n    }\n\n    .dataframe thead th {\n        text-align: right;\n    }\n</style>\n<table border=\"1\" class=\"dataframe\">\n  <thead>\n    <tr style=\"text-align: right;\">\n      <th></th>\n      <th>metro</th>\n      <th>pcGDP2001</th>\n      <th>pcGDP2002</th>\n      <th>pcGDP2003</th>\n      <th>pcGDP2004</th>\n      <th>pcGDP2005</th>\n      <th>pcGDP2006</th>\n      <th>pcGDP2007</th>\n      <th>pcGDP2008</th>\n      <th>pcGDP2009</th>\n      <th>pcGDP2010</th>\n      <th>pcGDP2011</th>\n      <th>pcGDP2012</th>\n      <th>pcGDP2013</th>\n      <th>pcGDP2014</th>\n      <th>pcGDP2015</th>\n      <th>pcGDP2016</th>\n      <th>pcGDP2017</th>\n      <th>pcGDP2018</th>\n    </tr>\n  </thead>\n  <tbody>\n    <tr>\n      <th>2</th>\n      <td>AUS01: Greater Sydney</td>\n      <td>43313.0</td>\n      <td>44008.0</td>\n      <td>45424.0</td>\n      <td>45837.0</td>\n      <td>45423.0</td>\n      <td>45547.0</td>\n      <td>45880.0</td>\n      <td>45225.0</td>\n      <td>45900.0</td>\n      <td>45672.0</td>\n      <td>46535.0</td>\n      <td>47350.0</td>\n      <td>47225.0</td>\n      <td>48510.0</td>\n      <td>50075.0</td>\n      <td>50519.0</td>\n      <td>50578.0</td>\n      <td>49860.0</td>\n    </tr>\n    <tr>\n      <th>3</th>\n      <td>AUS02: Greater Melbourne</td>\n      <td>40125.0</td>\n      <td>40894.0</td>\n      <td>41602.0</td>\n      <td>42188.0</td>\n      <td>41484.0</td>\n      <td>41589.0</td>\n      <td>42316.0</td>\n      <td>40975.0</td>\n      <td>41384.0</td>\n      <td>40943.0</td>\n      <td>41165.0</td>\n      <td>41264.0</td>\n      <td>41157.0</td>\n      <td>42114.0</td>\n      <td>42928.0</td>\n      <td>42671.0</td>\n      <td>43025.0</td>\n      <td>42674.0</td>\n    </tr>\n    <tr>\n      <th>4</th>\n      <td>AUS03: Greater Brisbane</td>\n      <td>37580.0</td>\n      <td>37564.0</td>\n      <td>39080.0</td>\n      <td>40762.0</td>\n      <td>42976.0</td>\n      <td>44475.0</td>\n      <td>44635.0</td>\n      <td>46192.0</td>\n      <td>43507.0</td>\n      <td>42774.0</td>\n      <td>44166.0</td>\n      <td>43764.0</td>\n      <td>43379.0</td>\n      <td>43754.0</td>\n      <td>44388.0</td>\n      <td>45723.0</td>\n      <td>46876.0</td>\n      <td>46640.0</td>\n    </tr>\n    <tr>\n      <th>5</th>\n      <td>AUS04: Greater Perth</td>\n      <td>45713.0</td>\n      <td>47371.0</td>\n      <td>48719.0</td>\n      <td>51020.0</td>\n      <td>55278.0</td>\n      <td>60142.0</td>\n      <td>62551.0</td>\n      <td>63899.0</td>\n      <td>63616.0</td>\n      <td>70111.0</td>\n      <td>73715.0</td>\n      <td>72679.0</td>\n      <td>76153.0</td>\n      <td>70395.0</td>\n      <td>66544.0</td>\n      <td>66032.0</td>\n      <td>66424.0</td>\n      <td>70390.0</td>\n    </tr>\n    <tr>\n      <th>6</th>\n      <td>AUS05: Greater Adelaide</td>\n      <td>36505.0</td>\n      <td>37194.0</td>\n      <td>37634.0</td>\n      <td>37399.0</td>\n      <td>37604.0</td>\n      <td>38151.0</td>\n      <td>39049.0</td>\n      <td>38502.0</td>\n      <td>39538.0</td>\n      <td>39309.0</td>\n      <td>39223.0</td>\n      <td>39812.0</td>\n      <td>39855.0</td>\n      <td>40306.0</td>\n      <td>40295.0</td>\n      <td>39737.0</td>\n      <td>40115.0</td>\n      <td>39924.0</td>\n    </tr>\n  </tbody>\n</table>\n</div>"
     },
     "metadata": {}
    }
   ]
  },
  {
   "cell_type": "code",
   "metadata": {
    "colab": {
     "base_uri": "https://localhost:8080/"
    },
    "id": "0ZdCL5huM62x",
    "outputId": "3feab935-c25f-4543-f2be-291f447b952c",
    "cell_id": "00013-cd605d2e-8529-47f1-80b3-dd4ab0bfacde",
    "deepnote_to_be_reexecuted": false,
    "source_hash": "21e7da49",
    "execution_start": 1635242647729,
    "execution_millis": 13,
    "deepnote_cell_type": "code"
   },
   "source": "percapitaGDP.metro.count() == percapitaGDP.metro.nunique()",
   "execution_count": 14,
   "outputs": [
    {
     "output_type": "execute_result",
     "execution_count": 14,
     "data": {
      "text/plain": "True"
     },
     "metadata": {}
    }
   ]
  },
  {
   "cell_type": "code",
   "metadata": {
    "id": "_LdRu-yeNK0Z",
    "cell_id": "00014-99e27003-5cfb-4cfd-bd85-745b2ddfed9b",
    "deepnote_to_be_reexecuted": false,
    "source_hash": "73e7104e",
    "execution_start": 1635242647747,
    "execution_millis": 3,
    "deepnote_cell_type": "code"
   },
   "source": "percapitaGDP.set_index('metro', inplace=True)",
   "execution_count": 15,
   "outputs": []
  },
  {
   "cell_type": "code",
   "metadata": {
    "colab": {
     "base_uri": "https://localhost:8080/",
     "height": 431
    },
    "id": "qbV5LUPoNZ-1",
    "outputId": "b2c2f6e6-48a2-4b97-a927-c70786d09f3a",
    "cell_id": "00015-fadf67e9-54b6-45d4-8b92-1280a3bdf2a3",
    "deepnote_to_be_reexecuted": false,
    "source_hash": "8a93af70",
    "execution_start": 1635242647847,
    "execution_millis": 11,
    "deepnote_cell_type": "code"
   },
   "source": "percapitaGDP.head()",
   "execution_count": 16,
   "outputs": [
    {
     "output_type": "execute_result",
     "execution_count": 16,
     "data": {
      "application/vnd.deepnote.dataframe.v2+json": {
       "row_count": 5,
       "column_count": 18,
       "columns": [
        {
         "name": "pcGDP2001",
         "dtype": "float64",
         "stats": {
          "unique_count": 5,
          "nan_count": 0,
          "min": "36505.0",
          "max": "45713.0",
          "histogram": [
           {
            "bin_start": 36505,
            "bin_end": 37425.8,
            "count": 1
           },
           {
            "bin_start": 37425.8,
            "bin_end": 38346.6,
            "count": 1
           },
           {
            "bin_start": 38346.6,
            "bin_end": 39267.4,
            "count": 0
           },
           {
            "bin_start": 39267.4,
            "bin_end": 40188.2,
            "count": 1
           },
           {
            "bin_start": 40188.2,
            "bin_end": 41109,
            "count": 0
           },
           {
            "bin_start": 41109,
            "bin_end": 42029.8,
            "count": 0
           },
           {
            "bin_start": 42029.8,
            "bin_end": 42950.6,
            "count": 0
           },
           {
            "bin_start": 42950.6,
            "bin_end": 43871.4,
            "count": 1
           },
           {
            "bin_start": 43871.4,
            "bin_end": 44792.2,
            "count": 0
           },
           {
            "bin_start": 44792.2,
            "bin_end": 45713,
            "count": 1
           }
          ]
         }
        },
        {
         "name": "pcGDP2002",
         "dtype": "float64",
         "stats": {
          "unique_count": 5,
          "nan_count": 0,
          "min": "37194.0",
          "max": "47371.0",
          "histogram": [
           {
            "bin_start": 37194,
            "bin_end": 38211.7,
            "count": 2
           },
           {
            "bin_start": 38211.7,
            "bin_end": 39229.4,
            "count": 0
           },
           {
            "bin_start": 39229.4,
            "bin_end": 40247.1,
            "count": 0
           },
           {
            "bin_start": 40247.1,
            "bin_end": 41264.8,
            "count": 1
           },
           {
            "bin_start": 41264.8,
            "bin_end": 42282.5,
            "count": 0
           },
           {
            "bin_start": 42282.5,
            "bin_end": 43300.2,
            "count": 0
           },
           {
            "bin_start": 43300.2,
            "bin_end": 44317.9,
            "count": 1
           },
           {
            "bin_start": 44317.9,
            "bin_end": 45335.6,
            "count": 0
           },
           {
            "bin_start": 45335.6,
            "bin_end": 46353.3,
            "count": 0
           },
           {
            "bin_start": 46353.3,
            "bin_end": 47371,
            "count": 1
           }
          ]
         }
        },
        {
         "name": "pcGDP2003",
         "dtype": "float64",
         "stats": {
          "unique_count": 5,
          "nan_count": 0,
          "min": "37634.0",
          "max": "48719.0",
          "histogram": [
           {
            "bin_start": 37634,
            "bin_end": 38742.5,
            "count": 1
           },
           {
            "bin_start": 38742.5,
            "bin_end": 39851,
            "count": 1
           },
           {
            "bin_start": 39851,
            "bin_end": 40959.5,
            "count": 0
           },
           {
            "bin_start": 40959.5,
            "bin_end": 42068,
            "count": 1
           },
           {
            "bin_start": 42068,
            "bin_end": 43176.5,
            "count": 0
           },
           {
            "bin_start": 43176.5,
            "bin_end": 44285,
            "count": 0
           },
           {
            "bin_start": 44285,
            "bin_end": 45393.5,
            "count": 0
           },
           {
            "bin_start": 45393.5,
            "bin_end": 46502,
            "count": 1
           },
           {
            "bin_start": 46502,
            "bin_end": 47610.5,
            "count": 0
           },
           {
            "bin_start": 47610.5,
            "bin_end": 48719,
            "count": 1
           }
          ]
         }
        },
        {
         "name": "pcGDP2004",
         "dtype": "float64",
         "stats": {
          "unique_count": 5,
          "nan_count": 0,
          "min": "37399.0",
          "max": "51020.0",
          "histogram": [
           {
            "bin_start": 37399,
            "bin_end": 38761.1,
            "count": 1
           },
           {
            "bin_start": 38761.1,
            "bin_end": 40123.2,
            "count": 0
           },
           {
            "bin_start": 40123.2,
            "bin_end": 41485.3,
            "count": 1
           },
           {
            "bin_start": 41485.3,
            "bin_end": 42847.4,
            "count": 1
           },
           {
            "bin_start": 42847.4,
            "bin_end": 44209.5,
            "count": 0
           },
           {
            "bin_start": 44209.5,
            "bin_end": 45571.6,
            "count": 0
           },
           {
            "bin_start": 45571.6,
            "bin_end": 46933.7,
            "count": 1
           },
           {
            "bin_start": 46933.7,
            "bin_end": 48295.8,
            "count": 0
           },
           {
            "bin_start": 48295.8,
            "bin_end": 49657.9,
            "count": 0
           },
           {
            "bin_start": 49657.9,
            "bin_end": 51020,
            "count": 1
           }
          ]
         }
        },
        {
         "name": "pcGDP2005",
         "dtype": "float64",
         "stats": {
          "unique_count": 5,
          "nan_count": 0,
          "min": "37604.0",
          "max": "55278.0",
          "histogram": [
           {
            "bin_start": 37604,
            "bin_end": 39371.4,
            "count": 1
           },
           {
            "bin_start": 39371.4,
            "bin_end": 41138.8,
            "count": 0
           },
           {
            "bin_start": 41138.8,
            "bin_end": 42906.2,
            "count": 1
           },
           {
            "bin_start": 42906.2,
            "bin_end": 44673.6,
            "count": 1
           },
           {
            "bin_start": 44673.6,
            "bin_end": 46441,
            "count": 1
           },
           {
            "bin_start": 46441,
            "bin_end": 48208.4,
            "count": 0
           },
           {
            "bin_start": 48208.4,
            "bin_end": 49975.8,
            "count": 0
           },
           {
            "bin_start": 49975.8,
            "bin_end": 51743.2,
            "count": 0
           },
           {
            "bin_start": 51743.2,
            "bin_end": 53510.6,
            "count": 0
           },
           {
            "bin_start": 53510.6,
            "bin_end": 55278,
            "count": 1
           }
          ]
         }
        },
        {
         "name": "pcGDP2006",
         "dtype": "float64",
         "stats": {
          "unique_count": 5,
          "nan_count": 0,
          "min": "38151.0",
          "max": "60142.0",
          "histogram": [
           {
            "bin_start": 38151,
            "bin_end": 40350.1,
            "count": 1
           },
           {
            "bin_start": 40350.1,
            "bin_end": 42549.2,
            "count": 1
           },
           {
            "bin_start": 42549.2,
            "bin_end": 44748.3,
            "count": 1
           },
           {
            "bin_start": 44748.3,
            "bin_end": 46947.4,
            "count": 1
           },
           {
            "bin_start": 46947.4,
            "bin_end": 49146.5,
            "count": 0
           },
           {
            "bin_start": 49146.5,
            "bin_end": 51345.6,
            "count": 0
           },
           {
            "bin_start": 51345.6,
            "bin_end": 53544.7,
            "count": 0
           },
           {
            "bin_start": 53544.7,
            "bin_end": 55743.8,
            "count": 0
           },
           {
            "bin_start": 55743.8,
            "bin_end": 57942.899999999994,
            "count": 0
           },
           {
            "bin_start": 57942.899999999994,
            "bin_end": 60142,
            "count": 1
           }
          ]
         }
        },
        {
         "name": "pcGDP2007",
         "dtype": "float64",
         "stats": {
          "unique_count": 5,
          "nan_count": 0,
          "min": "39049.0",
          "max": "62551.0",
          "histogram": [
           {
            "bin_start": 39049,
            "bin_end": 41399.2,
            "count": 1
           },
           {
            "bin_start": 41399.2,
            "bin_end": 43749.4,
            "count": 1
           },
           {
            "bin_start": 43749.4,
            "bin_end": 46099.6,
            "count": 2
           },
           {
            "bin_start": 46099.6,
            "bin_end": 48449.8,
            "count": 0
           },
           {
            "bin_start": 48449.8,
            "bin_end": 50800,
            "count": 0
           },
           {
            "bin_start": 50800,
            "bin_end": 53150.2,
            "count": 0
           },
           {
            "bin_start": 53150.2,
            "bin_end": 55500.399999999994,
            "count": 0
           },
           {
            "bin_start": 55500.399999999994,
            "bin_end": 57850.6,
            "count": 0
           },
           {
            "bin_start": 57850.6,
            "bin_end": 60200.8,
            "count": 0
           },
           {
            "bin_start": 60200.8,
            "bin_end": 62551,
            "count": 1
           }
          ]
         }
        },
        {
         "name": "pcGDP2008",
         "dtype": "float64",
         "stats": {
          "unique_count": 5,
          "nan_count": 0,
          "min": "38502.0",
          "max": "63899.0",
          "histogram": [
           {
            "bin_start": 38502,
            "bin_end": 41041.7,
            "count": 2
           },
           {
            "bin_start": 41041.7,
            "bin_end": 43581.4,
            "count": 0
           },
           {
            "bin_start": 43581.4,
            "bin_end": 46121.1,
            "count": 1
           },
           {
            "bin_start": 46121.1,
            "bin_end": 48660.8,
            "count": 1
           },
           {
            "bin_start": 48660.8,
            "bin_end": 51200.5,
            "count": 0
           },
           {
            "bin_start": 51200.5,
            "bin_end": 53740.2,
            "count": 0
           },
           {
            "bin_start": 53740.2,
            "bin_end": 56279.899999999994,
            "count": 0
           },
           {
            "bin_start": 56279.899999999994,
            "bin_end": 58819.6,
            "count": 0
           },
           {
            "bin_start": 58819.6,
            "bin_end": 61359.3,
            "count": 0
           },
           {
            "bin_start": 61359.3,
            "bin_end": 63899,
            "count": 1
           }
          ]
         }
        },
        {
         "name": "pcGDP2009",
         "dtype": "float64",
         "stats": {
          "unique_count": 5,
          "nan_count": 0,
          "min": "39538.0",
          "max": "63616.0",
          "histogram": [
           {
            "bin_start": 39538,
            "bin_end": 41945.8,
            "count": 2
           },
           {
            "bin_start": 41945.8,
            "bin_end": 44353.6,
            "count": 1
           },
           {
            "bin_start": 44353.6,
            "bin_end": 46761.4,
            "count": 1
           },
           {
            "bin_start": 46761.4,
            "bin_end": 49169.2,
            "count": 0
           },
           {
            "bin_start": 49169.2,
            "bin_end": 51577,
            "count": 0
           },
           {
            "bin_start": 51577,
            "bin_end": 53984.8,
            "count": 0
           },
           {
            "bin_start": 53984.8,
            "bin_end": 56392.600000000006,
            "count": 0
           },
           {
            "bin_start": 56392.600000000006,
            "bin_end": 58800.4,
            "count": 0
           },
           {
            "bin_start": 58800.4,
            "bin_end": 61208.2,
            "count": 0
           },
           {
            "bin_start": 61208.2,
            "bin_end": 63616,
            "count": 1
           }
          ]
         }
        },
        {
         "name": "pcGDP2010",
         "dtype": "float64",
         "stats": {
          "unique_count": 5,
          "nan_count": 0,
          "min": "39309.0",
          "max": "70111.0",
          "histogram": [
           {
            "bin_start": 39309,
            "bin_end": 42389.2,
            "count": 2
           },
           {
            "bin_start": 42389.2,
            "bin_end": 45469.4,
            "count": 1
           },
           {
            "bin_start": 45469.4,
            "bin_end": 48549.6,
            "count": 1
           },
           {
            "bin_start": 48549.6,
            "bin_end": 51629.8,
            "count": 0
           },
           {
            "bin_start": 51629.8,
            "bin_end": 54710,
            "count": 0
           },
           {
            "bin_start": 54710,
            "bin_end": 57790.2,
            "count": 0
           },
           {
            "bin_start": 57790.2,
            "bin_end": 60870.399999999994,
            "count": 0
           },
           {
            "bin_start": 60870.399999999994,
            "bin_end": 63950.6,
            "count": 0
           },
           {
            "bin_start": 63950.6,
            "bin_end": 67030.8,
            "count": 0
           },
           {
            "bin_start": 67030.8,
            "bin_end": 70111,
            "count": 1
           }
          ]
         }
        },
        {
         "name": "pcGDP2011",
         "dtype": "float64",
         "stats": {
          "unique_count": 5,
          "nan_count": 0,
          "min": "39223.0",
          "max": "73715.0",
          "histogram": [
           {
            "bin_start": 39223,
            "bin_end": 42672.2,
            "count": 2
           },
           {
            "bin_start": 42672.2,
            "bin_end": 46121.4,
            "count": 1
           },
           {
            "bin_start": 46121.4,
            "bin_end": 49570.6,
            "count": 1
           },
           {
            "bin_start": 49570.6,
            "bin_end": 53019.8,
            "count": 0
           },
           {
            "bin_start": 53019.8,
            "bin_end": 56469,
            "count": 0
           },
           {
            "bin_start": 56469,
            "bin_end": 59918.2,
            "count": 0
           },
           {
            "bin_start": 59918.2,
            "bin_end": 63367.399999999994,
            "count": 0
           },
           {
            "bin_start": 63367.399999999994,
            "bin_end": 66816.6,
            "count": 0
           },
           {
            "bin_start": 66816.6,
            "bin_end": 70265.8,
            "count": 0
           },
           {
            "bin_start": 70265.8,
            "bin_end": 73715,
            "count": 1
           }
          ]
         }
        },
        {
         "name": "pcGDP2012",
         "dtype": "float64",
         "stats": {
          "unique_count": 5,
          "nan_count": 0,
          "min": "39812.0",
          "max": "72679.0",
          "histogram": [
           {
            "bin_start": 39812,
            "bin_end": 43098.7,
            "count": 2
           },
           {
            "bin_start": 43098.7,
            "bin_end": 46385.4,
            "count": 1
           },
           {
            "bin_start": 46385.4,
            "bin_end": 49672.1,
            "count": 1
           },
           {
            "bin_start": 49672.1,
            "bin_end": 52958.8,
            "count": 0
           },
           {
            "bin_start": 52958.8,
            "bin_end": 56245.5,
            "count": 0
           },
           {
            "bin_start": 56245.5,
            "bin_end": 59532.2,
            "count": 0
           },
           {
            "bin_start": 59532.2,
            "bin_end": 62818.899999999994,
            "count": 0
           },
           {
            "bin_start": 62818.899999999994,
            "bin_end": 66105.6,
            "count": 0
           },
           {
            "bin_start": 66105.6,
            "bin_end": 69392.3,
            "count": 0
           },
           {
            "bin_start": 69392.3,
            "bin_end": 72679,
            "count": 1
           }
          ]
         }
        },
        {
         "name": "pcGDP2013",
         "dtype": "float64",
         "stats": {
          "unique_count": 5,
          "nan_count": 0,
          "min": "39855.0",
          "max": "76153.0",
          "histogram": [
           {
            "bin_start": 39855,
            "bin_end": 43484.8,
            "count": 3
           },
           {
            "bin_start": 43484.8,
            "bin_end": 47114.6,
            "count": 0
           },
           {
            "bin_start": 47114.6,
            "bin_end": 50744.4,
            "count": 1
           },
           {
            "bin_start": 50744.4,
            "bin_end": 54374.2,
            "count": 0
           },
           {
            "bin_start": 54374.2,
            "bin_end": 58004,
            "count": 0
           },
           {
            "bin_start": 58004,
            "bin_end": 61633.8,
            "count": 0
           },
           {
            "bin_start": 61633.8,
            "bin_end": 65263.600000000006,
            "count": 0
           },
           {
            "bin_start": 65263.600000000006,
            "bin_end": 68893.4,
            "count": 0
           },
           {
            "bin_start": 68893.4,
            "bin_end": 72523.2,
            "count": 0
           },
           {
            "bin_start": 72523.2,
            "bin_end": 76153,
            "count": 1
           }
          ]
         }
        },
        {
         "name": "pcGDP2014",
         "dtype": "float64",
         "stats": {
          "unique_count": 5,
          "nan_count": 0,
          "min": "40306.0",
          "max": "70395.0",
          "histogram": [
           {
            "bin_start": 40306,
            "bin_end": 43314.9,
            "count": 2
           },
           {
            "bin_start": 43314.9,
            "bin_end": 46323.8,
            "count": 1
           },
           {
            "bin_start": 46323.8,
            "bin_end": 49332.7,
            "count": 1
           },
           {
            "bin_start": 49332.7,
            "bin_end": 52341.6,
            "count": 0
           },
           {
            "bin_start": 52341.6,
            "bin_end": 55350.5,
            "count": 0
           },
           {
            "bin_start": 55350.5,
            "bin_end": 58359.4,
            "count": 0
           },
           {
            "bin_start": 58359.4,
            "bin_end": 61368.3,
            "count": 0
           },
           {
            "bin_start": 61368.3,
            "bin_end": 64377.2,
            "count": 0
           },
           {
            "bin_start": 64377.2,
            "bin_end": 67386.1,
            "count": 0
           },
           {
            "bin_start": 67386.1,
            "bin_end": 70395,
            "count": 1
           }
          ]
         }
        },
        {
         "name": "pcGDP2015",
         "dtype": "float64",
         "stats": {
          "unique_count": 5,
          "nan_count": 0,
          "min": "40295.0",
          "max": "66544.0",
          "histogram": [
           {
            "bin_start": 40295,
            "bin_end": 42919.9,
            "count": 1
           },
           {
            "bin_start": 42919.9,
            "bin_end": 45544.8,
            "count": 2
           },
           {
            "bin_start": 45544.8,
            "bin_end": 48169.7,
            "count": 0
           },
           {
            "bin_start": 48169.7,
            "bin_end": 50794.6,
            "count": 1
           },
           {
            "bin_start": 50794.6,
            "bin_end": 53419.5,
            "count": 0
           },
           {
            "bin_start": 53419.5,
            "bin_end": 56044.4,
            "count": 0
           },
           {
            "bin_start": 56044.4,
            "bin_end": 58669.3,
            "count": 0
           },
           {
            "bin_start": 58669.3,
            "bin_end": 61294.2,
            "count": 0
           },
           {
            "bin_start": 61294.2,
            "bin_end": 63919.100000000006,
            "count": 0
           },
           {
            "bin_start": 63919.100000000006,
            "bin_end": 66544,
            "count": 1
           }
          ]
         }
        },
        {
         "name": "pcGDP2016",
         "dtype": "float64",
         "stats": {
          "unique_count": 5,
          "nan_count": 0,
          "min": "39737.0",
          "max": "66032.0",
          "histogram": [
           {
            "bin_start": 39737,
            "bin_end": 42366.5,
            "count": 1
           },
           {
            "bin_start": 42366.5,
            "bin_end": 44996,
            "count": 1
           },
           {
            "bin_start": 44996,
            "bin_end": 47625.5,
            "count": 1
           },
           {
            "bin_start": 47625.5,
            "bin_end": 50255,
            "count": 0
           },
           {
            "bin_start": 50255,
            "bin_end": 52884.5,
            "count": 1
           },
           {
            "bin_start": 52884.5,
            "bin_end": 55514,
            "count": 0
           },
           {
            "bin_start": 55514,
            "bin_end": 58143.5,
            "count": 0
           },
           {
            "bin_start": 58143.5,
            "bin_end": 60773,
            "count": 0
           },
           {
            "bin_start": 60773,
            "bin_end": 63402.5,
            "count": 0
           },
           {
            "bin_start": 63402.5,
            "bin_end": 66032,
            "count": 1
           }
          ]
         }
        },
        {
         "name": "pcGDP2017",
         "dtype": "float64",
         "stats": {
          "unique_count": 5,
          "nan_count": 0,
          "min": "40115.0",
          "max": "66424.0",
          "histogram": [
           {
            "bin_start": 40115,
            "bin_end": 42745.9,
            "count": 1
           },
           {
            "bin_start": 42745.9,
            "bin_end": 45376.8,
            "count": 1
           },
           {
            "bin_start": 45376.8,
            "bin_end": 48007.7,
            "count": 1
           },
           {
            "bin_start": 48007.7,
            "bin_end": 50638.6,
            "count": 1
           },
           {
            "bin_start": 50638.6,
            "bin_end": 53269.5,
            "count": 0
           },
           {
            "bin_start": 53269.5,
            "bin_end": 55900.4,
            "count": 0
           },
           {
            "bin_start": 55900.4,
            "bin_end": 58531.3,
            "count": 0
           },
           {
            "bin_start": 58531.3,
            "bin_end": 61162.2,
            "count": 0
           },
           {
            "bin_start": 61162.2,
            "bin_end": 63793.100000000006,
            "count": 0
           },
           {
            "bin_start": 63793.100000000006,
            "bin_end": 66424,
            "count": 1
           }
          ]
         }
        },
        {
         "name": "pcGDP2018",
         "dtype": "float64",
         "stats": {
          "unique_count": 5,
          "nan_count": 0,
          "min": "39924.0",
          "max": "70390.0",
          "histogram": [
           {
            "bin_start": 39924,
            "bin_end": 42970.6,
            "count": 2
           },
           {
            "bin_start": 42970.6,
            "bin_end": 46017.2,
            "count": 0
           },
           {
            "bin_start": 46017.2,
            "bin_end": 49063.8,
            "count": 1
           },
           {
            "bin_start": 49063.8,
            "bin_end": 52110.4,
            "count": 1
           },
           {
            "bin_start": 52110.4,
            "bin_end": 55157,
            "count": 0
           },
           {
            "bin_start": 55157,
            "bin_end": 58203.6,
            "count": 0
           },
           {
            "bin_start": 58203.6,
            "bin_end": 61250.2,
            "count": 0
           },
           {
            "bin_start": 61250.2,
            "bin_end": 64296.8,
            "count": 0
           },
           {
            "bin_start": 64296.8,
            "bin_end": 67343.4,
            "count": 0
           },
           {
            "bin_start": 67343.4,
            "bin_end": 70390,
            "count": 1
           }
          ]
         }
        },
        {
         "name": "_deepnote_index_column",
         "dtype": "object"
        }
       ],
       "rows_top": [
        {
         "pcGDP2001": 43313,
         "pcGDP2002": 44008,
         "pcGDP2003": 45424,
         "pcGDP2004": 45837,
         "pcGDP2005": 45423,
         "pcGDP2006": 45547,
         "pcGDP2007": 45880,
         "pcGDP2008": 45225,
         "pcGDP2009": 45900,
         "pcGDP2010": 45672,
         "pcGDP2011": 46535,
         "pcGDP2012": 47350,
         "pcGDP2013": 47225,
         "pcGDP2014": 48510,
         "pcGDP2015": 50075,
         "pcGDP2016": 50519,
         "pcGDP2017": 50578,
         "pcGDP2018": 49860,
         "_deepnote_index_column": "AUS01: Greater Sydney"
        },
        {
         "pcGDP2001": 40125,
         "pcGDP2002": 40894,
         "pcGDP2003": 41602,
         "pcGDP2004": 42188,
         "pcGDP2005": 41484,
         "pcGDP2006": 41589,
         "pcGDP2007": 42316,
         "pcGDP2008": 40975,
         "pcGDP2009": 41384,
         "pcGDP2010": 40943,
         "pcGDP2011": 41165,
         "pcGDP2012": 41264,
         "pcGDP2013": 41157,
         "pcGDP2014": 42114,
         "pcGDP2015": 42928,
         "pcGDP2016": 42671,
         "pcGDP2017": 43025,
         "pcGDP2018": 42674,
         "_deepnote_index_column": "AUS02: Greater Melbourne"
        },
        {
         "pcGDP2001": 37580,
         "pcGDP2002": 37564,
         "pcGDP2003": 39080,
         "pcGDP2004": 40762,
         "pcGDP2005": 42976,
         "pcGDP2006": 44475,
         "pcGDP2007": 44635,
         "pcGDP2008": 46192,
         "pcGDP2009": 43507,
         "pcGDP2010": 42774,
         "pcGDP2011": 44166,
         "pcGDP2012": 43764,
         "pcGDP2013": 43379,
         "pcGDP2014": 43754,
         "pcGDP2015": 44388,
         "pcGDP2016": 45723,
         "pcGDP2017": 46876,
         "pcGDP2018": 46640,
         "_deepnote_index_column": "AUS03: Greater Brisbane"
        },
        {
         "pcGDP2001": 45713,
         "pcGDP2002": 47371,
         "pcGDP2003": 48719,
         "pcGDP2004": 51020,
         "pcGDP2005": 55278,
         "pcGDP2006": 60142,
         "pcGDP2007": 62551,
         "pcGDP2008": 63899,
         "pcGDP2009": 63616,
         "pcGDP2010": 70111,
         "pcGDP2011": 73715,
         "pcGDP2012": 72679,
         "pcGDP2013": 76153,
         "pcGDP2014": 70395,
         "pcGDP2015": 66544,
         "pcGDP2016": 66032,
         "pcGDP2017": 66424,
         "pcGDP2018": 70390,
         "_deepnote_index_column": "AUS04: Greater Perth"
        },
        {
         "pcGDP2001": 36505,
         "pcGDP2002": 37194,
         "pcGDP2003": 37634,
         "pcGDP2004": 37399,
         "pcGDP2005": 37604,
         "pcGDP2006": 38151,
         "pcGDP2007": 39049,
         "pcGDP2008": 38502,
         "pcGDP2009": 39538,
         "pcGDP2010": 39309,
         "pcGDP2011": 39223,
         "pcGDP2012": 39812,
         "pcGDP2013": 39855,
         "pcGDP2014": 40306,
         "pcGDP2015": 40295,
         "pcGDP2016": 39737,
         "pcGDP2017": 40115,
         "pcGDP2018": 39924,
         "_deepnote_index_column": "AUS05: Greater Adelaide"
        }
       ],
       "rows_bottom": null
      },
      "text/plain": "                          pcGDP2001  pcGDP2002  pcGDP2003  pcGDP2004  \\\nmetro                                                                  \nAUS01: Greater Sydney       43313.0    44008.0    45424.0    45837.0   \nAUS02: Greater Melbourne    40125.0    40894.0    41602.0    42188.0   \nAUS03: Greater Brisbane     37580.0    37564.0    39080.0    40762.0   \nAUS04: Greater Perth        45713.0    47371.0    48719.0    51020.0   \nAUS05: Greater Adelaide     36505.0    37194.0    37634.0    37399.0   \n\n                          pcGDP2005  pcGDP2006  pcGDP2007  pcGDP2008  \\\nmetro                                                                  \nAUS01: Greater Sydney       45423.0    45547.0    45880.0    45225.0   \nAUS02: Greater Melbourne    41484.0    41589.0    42316.0    40975.0   \nAUS03: Greater Brisbane     42976.0    44475.0    44635.0    46192.0   \nAUS04: Greater Perth        55278.0    60142.0    62551.0    63899.0   \nAUS05: Greater Adelaide     37604.0    38151.0    39049.0    38502.0   \n\n                          pcGDP2009  pcGDP2010  pcGDP2011  pcGDP2012  \\\nmetro                                                                  \nAUS01: Greater Sydney       45900.0    45672.0    46535.0    47350.0   \nAUS02: Greater Melbourne    41384.0    40943.0    41165.0    41264.0   \nAUS03: Greater Brisbane     43507.0    42774.0    44166.0    43764.0   \nAUS04: Greater Perth        63616.0    70111.0    73715.0    72679.0   \nAUS05: Greater Adelaide     39538.0    39309.0    39223.0    39812.0   \n\n                          pcGDP2013  pcGDP2014  pcGDP2015  pcGDP2016  \\\nmetro                                                                  \nAUS01: Greater Sydney       47225.0    48510.0    50075.0    50519.0   \nAUS02: Greater Melbourne    41157.0    42114.0    42928.0    42671.0   \nAUS03: Greater Brisbane     43379.0    43754.0    44388.0    45723.0   \nAUS04: Greater Perth        76153.0    70395.0    66544.0    66032.0   \nAUS05: Greater Adelaide     39855.0    40306.0    40295.0    39737.0   \n\n                          pcGDP2017  pcGDP2018  \nmetro                                           \nAUS01: Greater Sydney       50578.0    49860.0  \nAUS02: Greater Melbourne    43025.0    42674.0  \nAUS03: Greater Brisbane     46876.0    46640.0  \nAUS04: Greater Perth        66424.0    70390.0  \nAUS05: Greater Adelaide     40115.0    39924.0  ",
      "text/html": "<div>\n<style scoped>\n    .dataframe tbody tr th:only-of-type {\n        vertical-align: middle;\n    }\n\n    .dataframe tbody tr th {\n        vertical-align: top;\n    }\n\n    .dataframe thead th {\n        text-align: right;\n    }\n</style>\n<table border=\"1\" class=\"dataframe\">\n  <thead>\n    <tr style=\"text-align: right;\">\n      <th></th>\n      <th>pcGDP2001</th>\n      <th>pcGDP2002</th>\n      <th>pcGDP2003</th>\n      <th>pcGDP2004</th>\n      <th>pcGDP2005</th>\n      <th>pcGDP2006</th>\n      <th>pcGDP2007</th>\n      <th>pcGDP2008</th>\n      <th>pcGDP2009</th>\n      <th>pcGDP2010</th>\n      <th>pcGDP2011</th>\n      <th>pcGDP2012</th>\n      <th>pcGDP2013</th>\n      <th>pcGDP2014</th>\n      <th>pcGDP2015</th>\n      <th>pcGDP2016</th>\n      <th>pcGDP2017</th>\n      <th>pcGDP2018</th>\n    </tr>\n    <tr>\n      <th>metro</th>\n      <th></th>\n      <th></th>\n      <th></th>\n      <th></th>\n      <th></th>\n      <th></th>\n      <th></th>\n      <th></th>\n      <th></th>\n      <th></th>\n      <th></th>\n      <th></th>\n      <th></th>\n      <th></th>\n      <th></th>\n      <th></th>\n      <th></th>\n      <th></th>\n    </tr>\n  </thead>\n  <tbody>\n    <tr>\n      <th>AUS01: Greater Sydney</th>\n      <td>43313.0</td>\n      <td>44008.0</td>\n      <td>45424.0</td>\n      <td>45837.0</td>\n      <td>45423.0</td>\n      <td>45547.0</td>\n      <td>45880.0</td>\n      <td>45225.0</td>\n      <td>45900.0</td>\n      <td>45672.0</td>\n      <td>46535.0</td>\n      <td>47350.0</td>\n      <td>47225.0</td>\n      <td>48510.0</td>\n      <td>50075.0</td>\n      <td>50519.0</td>\n      <td>50578.0</td>\n      <td>49860.0</td>\n    </tr>\n    <tr>\n      <th>AUS02: Greater Melbourne</th>\n      <td>40125.0</td>\n      <td>40894.0</td>\n      <td>41602.0</td>\n      <td>42188.0</td>\n      <td>41484.0</td>\n      <td>41589.0</td>\n      <td>42316.0</td>\n      <td>40975.0</td>\n      <td>41384.0</td>\n      <td>40943.0</td>\n      <td>41165.0</td>\n      <td>41264.0</td>\n      <td>41157.0</td>\n      <td>42114.0</td>\n      <td>42928.0</td>\n      <td>42671.0</td>\n      <td>43025.0</td>\n      <td>42674.0</td>\n    </tr>\n    <tr>\n      <th>AUS03: Greater Brisbane</th>\n      <td>37580.0</td>\n      <td>37564.0</td>\n      <td>39080.0</td>\n      <td>40762.0</td>\n      <td>42976.0</td>\n      <td>44475.0</td>\n      <td>44635.0</td>\n      <td>46192.0</td>\n      <td>43507.0</td>\n      <td>42774.0</td>\n      <td>44166.0</td>\n      <td>43764.0</td>\n      <td>43379.0</td>\n      <td>43754.0</td>\n      <td>44388.0</td>\n      <td>45723.0</td>\n      <td>46876.0</td>\n      <td>46640.0</td>\n    </tr>\n    <tr>\n      <th>AUS04: Greater Perth</th>\n      <td>45713.0</td>\n      <td>47371.0</td>\n      <td>48719.0</td>\n      <td>51020.0</td>\n      <td>55278.0</td>\n      <td>60142.0</td>\n      <td>62551.0</td>\n      <td>63899.0</td>\n      <td>63616.0</td>\n      <td>70111.0</td>\n      <td>73715.0</td>\n      <td>72679.0</td>\n      <td>76153.0</td>\n      <td>70395.0</td>\n      <td>66544.0</td>\n      <td>66032.0</td>\n      <td>66424.0</td>\n      <td>70390.0</td>\n    </tr>\n    <tr>\n      <th>AUS05: Greater Adelaide</th>\n      <td>36505.0</td>\n      <td>37194.0</td>\n      <td>37634.0</td>\n      <td>37399.0</td>\n      <td>37604.0</td>\n      <td>38151.0</td>\n      <td>39049.0</td>\n      <td>38502.0</td>\n      <td>39538.0</td>\n      <td>39309.0</td>\n      <td>39223.0</td>\n      <td>39812.0</td>\n      <td>39855.0</td>\n      <td>40306.0</td>\n      <td>40295.0</td>\n      <td>39737.0</td>\n      <td>40115.0</td>\n      <td>39924.0</td>\n    </tr>\n  </tbody>\n</table>\n</div>"
     },
     "metadata": {}
    }
   ]
  },
  {
   "cell_type": "code",
   "metadata": {
    "colab": {
     "base_uri": "https://localhost:8080/"
    },
    "id": "bbhHTox0NdPY",
    "outputId": "f3996649-702c-4a32-ab2f-2dc32195bddf",
    "cell_id": "00016-fd31c0e9-f38c-4dcd-bc1b-a018e2e8b4d3",
    "deepnote_to_be_reexecuted": false,
    "source_hash": "4118b981",
    "execution_start": 1635242647860,
    "execution_millis": 13,
    "deepnote_cell_type": "code"
   },
   "source": "percapitaGDP.loc['AUS01: Greater Sydney']",
   "execution_count": 17,
   "outputs": [
    {
     "output_type": "execute_result",
     "execution_count": 17,
     "data": {
      "text/plain": "pcGDP2001    43313.0\npcGDP2002    44008.0\npcGDP2003    45424.0\npcGDP2004    45837.0\npcGDP2005    45423.0\npcGDP2006    45547.0\npcGDP2007    45880.0\npcGDP2008    45225.0\npcGDP2009    45900.0\npcGDP2010    45672.0\npcGDP2011    46535.0\npcGDP2012    47350.0\npcGDP2013    47225.0\npcGDP2014    48510.0\npcGDP2015    50075.0\npcGDP2016    50519.0\npcGDP2017    50578.0\npcGDP2018    49860.0\nName: AUS01: Greater Sydney, dtype: float64"
     },
     "metadata": {}
    }
   ]
  },
  {
   "cell_type": "markdown",
   "source": "<a style='text-decoration:none;line-height:16px;display:flex;color:#5B5B62;padding:10px;justify-content:end;' href='https://deepnote.com?utm_source=created-in-deepnote-cell&projectId=48bf7820-5e38-454a-a6db-ca906c5b65d0' target=\"_blank\">\n<img alt='Created in deepnote.com' style='display:inline;max-height:16px;margin:0px;margin-right:7.5px;' src='data:image/svg+xml;base64,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' > </img>\nCreated in <span style='font-weight:600;margin-left:4px;'>Deepnote</span></a>",
   "metadata": {
    "tags": [],
    "created_in_deepnote_cell": true,
    "deepnote_cell_type": "markdown"
   }
  }
 ],
 "nbformat": 4,
 "nbformat_minor": 0,
 "metadata": {
  "colab": {
   "name": "cleardata_ch1_excel.ipynb",
   "provenance": [],
   "authorship_tag": "ABX9TyO6pLW3YxXcoxVbKZuxLLST",
   "include_colab_link": true
  },
  "kernelspec": {
   "name": "python3",
   "display_name": "Python 3"
  },
  "language_info": {
   "name": "python"
  },
  "deepnote_notebook_id": "2fab009e-0913-44ce-a166-a23bfdb28c6b",
  "deepnote": {},
  "deepnote_execution_queue": []
 }
}