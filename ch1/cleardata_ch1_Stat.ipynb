{
 "cells": [
  {
   "cell_type": "markdown",
   "source": "### Import some packages.",
   "metadata": {
    "tags": [],
    "cell_id": "00001-f2f6a246-4c58-4724-bc2c-53e23b4e4956",
    "deepnote_cell_type": "markdown"
   }
  },
  {
   "cell_type": "code",
   "source": "import pandas as pd\nimport numpy as np\nimport pyreadstat",
   "metadata": {
    "tags": [],
    "cell_id": "00001-3d64c55b-80f6-48b3-8606-57995fa470ee",
    "deepnote_to_be_reexecuted": false,
    "source_hash": "a0ed2d7e",
    "execution_start": 1635257693336,
    "execution_millis": 564,
    "deepnote_cell_type": "code"
   },
   "outputs": [],
   "execution_count": 5
  },
  {
   "cell_type": "markdown",
   "source": "### Retrieve the SPSS data.",
   "metadata": {
    "tags": [],
    "cell_id": "00003-6603fb4c-c8ec-4bb3-88d0-5bb284e391c0",
    "deepnote_cell_type": "markdown"
   }
  },
  {
   "cell_type": "code",
   "source": "nls97spss, metaspss = pyreadstat.read_sav('/work/nls97.sav')\nnls97spss.dtypes",
   "metadata": {
    "tags": [],
    "cell_id": "00002-b8133e9b-23e6-40e7-8c8e-c4cbf368180a",
    "deepnote_to_be_reexecuted": false,
    "source_hash": "500d8254",
    "execution_start": 1635257858003,
    "execution_millis": 56,
    "deepnote_cell_type": "code"
   },
   "outputs": [
    {
     "output_type": "execute_result",
     "execution_count": 7,
     "data": {
      "text/plain": "R0000100    float64\nR0536300    float64\nR0536401    float64\nR0536402    float64\nR1235800    float64\nR1482600    float64\nR9793800    float64\nR9793900    float64\nR9871900    float64\nR9872000    float64\nR9872200    float64\nR9872400    float64\nS8646900    float64\nS8647000    float64\nS8647100    float64\nS8647200    float64\nS8647300    float64\nS8647400    float64\nS8647500    float64\nS8647600    float64\nS8647700    float64\nS8647800    float64\nT6651700    float64\nU1836800    float64\nU1836900    float64\nU1837000    float64\nU1837100    float64\nU1837200    float64\nU1837300    float64\nU1845400    float64\nU1852400    float64\nU1852600    float64\nU1852700    float64\nU2166200    float64\nU2166300    float64\nU2166400    float64\nU2166500    float64\nU2857300    float64\nU2962800    float64\nU2962900    float64\nU2963000    float64\nZ9063900    float64\ndtype: object"
     },
     "metadata": {}
    }
   ],
   "execution_count": 7
  },
  {
   "cell_type": "code",
   "source": "nls97spss.head()",
   "metadata": {
    "tags": [],
    "cell_id": "00003-bf137ccc-092e-478c-9caa-192f44322afc",
    "deepnote_to_be_reexecuted": false,
    "source_hash": "196aff0a",
    "execution_start": 1635257879721,
    "execution_millis": 90,
    "deepnote_cell_type": "code"
   },
   "outputs": [
    {
     "output_type": "execute_result",
     "execution_count": 8,
     "data": {
      "application/vnd.deepnote.dataframe.v2+json": {
       "row_count": 5,
       "column_count": 42,
       "columns": [
        {
         "name": "R0000100",
         "dtype": "float64",
         "stats": {
          "unique_count": 5,
          "nan_count": 0,
          "min": "1.0",
          "max": "5.0",
          "histogram": [
           {
            "bin_start": 1,
            "bin_end": 1.4,
            "count": 1
           },
           {
            "bin_start": 1.4,
            "bin_end": 1.8,
            "count": 0
           },
           {
            "bin_start": 1.8,
            "bin_end": 2.2,
            "count": 1
           },
           {
            "bin_start": 2.2,
            "bin_end": 2.6,
            "count": 0
           },
           {
            "bin_start": 2.6,
            "bin_end": 3,
            "count": 0
           },
           {
            "bin_start": 3,
            "bin_end": 3.4000000000000004,
            "count": 1
           },
           {
            "bin_start": 3.4000000000000004,
            "bin_end": 3.8000000000000003,
            "count": 0
           },
           {
            "bin_start": 3.8000000000000003,
            "bin_end": 4.2,
            "count": 1
           },
           {
            "bin_start": 4.2,
            "bin_end": 4.6,
            "count": 0
           },
           {
            "bin_start": 4.6,
            "bin_end": 5,
            "count": 1
           }
          ]
         }
        },
        {
         "name": "R0536300",
         "dtype": "float64",
         "stats": {
          "unique_count": 2,
          "nan_count": 0,
          "min": "1.0",
          "max": "2.0",
          "histogram": [
           {
            "bin_start": 1,
            "bin_end": 1.1,
            "count": 2
           },
           {
            "bin_start": 1.1,
            "bin_end": 1.2,
            "count": 0
           },
           {
            "bin_start": 1.2,
            "bin_end": 1.3,
            "count": 0
           },
           {
            "bin_start": 1.3,
            "bin_end": 1.4,
            "count": 0
           },
           {
            "bin_start": 1.4,
            "bin_end": 1.5,
            "count": 0
           },
           {
            "bin_start": 1.5,
            "bin_end": 1.6,
            "count": 0
           },
           {
            "bin_start": 1.6,
            "bin_end": 1.7000000000000002,
            "count": 0
           },
           {
            "bin_start": 1.7000000000000002,
            "bin_end": 1.8,
            "count": 0
           },
           {
            "bin_start": 1.8,
            "bin_end": 1.9,
            "count": 0
           },
           {
            "bin_start": 1.9,
            "bin_end": 2,
            "count": 3
           }
          ]
         }
        },
        {
         "name": "R0536401",
         "dtype": "float64",
         "stats": {
          "unique_count": 4,
          "nan_count": 0,
          "min": "2.0",
          "max": "10.0",
          "histogram": [
           {
            "bin_start": 2,
            "bin_end": 2.8,
            "count": 1
           },
           {
            "bin_start": 2.8,
            "bin_end": 3.6,
            "count": 0
           },
           {
            "bin_start": 3.6,
            "bin_end": 4.4,
            "count": 0
           },
           {
            "bin_start": 4.4,
            "bin_end": 5.2,
            "count": 0
           },
           {
            "bin_start": 5.2,
            "bin_end": 6,
            "count": 0
           },
           {
            "bin_start": 6,
            "bin_end": 6.800000000000001,
            "count": 0
           },
           {
            "bin_start": 6.800000000000001,
            "bin_end": 7.6000000000000005,
            "count": 1
           },
           {
            "bin_start": 7.6000000000000005,
            "bin_end": 8.4,
            "count": 0
           },
           {
            "bin_start": 8.4,
            "bin_end": 9.2,
            "count": 2
           },
           {
            "bin_start": 9.2,
            "bin_end": 10,
            "count": 1
           }
          ]
         }
        },
        {
         "name": "R0536402",
         "dtype": "float64",
         "stats": {
          "unique_count": 3,
          "nan_count": 0,
          "min": "1981.0",
          "max": "1983.0",
          "histogram": [
           {
            "bin_start": 1981,
            "bin_end": 1981.2,
            "count": 2
           },
           {
            "bin_start": 1981.2,
            "bin_end": 1981.4,
            "count": 0
           },
           {
            "bin_start": 1981.4,
            "bin_end": 1981.6,
            "count": 0
           },
           {
            "bin_start": 1981.6,
            "bin_end": 1981.8,
            "count": 0
           },
           {
            "bin_start": 1981.8,
            "bin_end": 1982,
            "count": 0
           },
           {
            "bin_start": 1982,
            "bin_end": 1982.2,
            "count": 2
           },
           {
            "bin_start": 1982.2,
            "bin_end": 1982.4,
            "count": 0
           },
           {
            "bin_start": 1982.4,
            "bin_end": 1982.6,
            "count": 0
           },
           {
            "bin_start": 1982.6,
            "bin_end": 1982.8,
            "count": 0
           },
           {
            "bin_start": 1982.8,
            "bin_end": 1983,
            "count": 1
           }
          ]
         }
        },
        {
         "name": "R1235800",
         "dtype": "float64",
         "stats": {
          "unique_count": 1,
          "nan_count": 0,
          "min": "1.0",
          "max": "1.0",
          "histogram": [
           {
            "bin_start": 0.5,
            "bin_end": 0.6,
            "count": 0
           },
           {
            "bin_start": 0.6,
            "bin_end": 0.7,
            "count": 0
           },
           {
            "bin_start": 0.7,
            "bin_end": 0.8,
            "count": 0
           },
           {
            "bin_start": 0.8,
            "bin_end": 0.9,
            "count": 0
           },
           {
            "bin_start": 0.9,
            "bin_end": 1,
            "count": 0
           },
           {
            "bin_start": 1,
            "bin_end": 1.1,
            "count": 5
           },
           {
            "bin_start": 1.1,
            "bin_end": 1.2000000000000002,
            "count": 0
           },
           {
            "bin_start": 1.2000000000000002,
            "bin_end": 1.3,
            "count": 0
           },
           {
            "bin_start": 1.3,
            "bin_end": 1.4,
            "count": 0
           },
           {
            "bin_start": 1.4,
            "bin_end": 1.5,
            "count": 0
           }
          ]
         }
        },
        {
         "name": "R1482600",
         "dtype": "float64",
         "stats": {
          "unique_count": 2,
          "nan_count": 0,
          "min": "2.0",
          "max": "4.0",
          "histogram": [
           {
            "bin_start": 2,
            "bin_end": 2.2,
            "count": 4
           },
           {
            "bin_start": 2.2,
            "bin_end": 2.4,
            "count": 0
           },
           {
            "bin_start": 2.4,
            "bin_end": 2.6,
            "count": 0
           },
           {
            "bin_start": 2.6,
            "bin_end": 2.8,
            "count": 0
           },
           {
            "bin_start": 2.8,
            "bin_end": 3,
            "count": 0
           },
           {
            "bin_start": 3,
            "bin_end": 3.2,
            "count": 0
           },
           {
            "bin_start": 3.2,
            "bin_end": 3.4000000000000004,
            "count": 0
           },
           {
            "bin_start": 3.4000000000000004,
            "bin_end": 3.6,
            "count": 0
           },
           {
            "bin_start": 3.6,
            "bin_end": 3.8,
            "count": 0
           },
           {
            "bin_start": 3.8,
            "bin_end": 4,
            "count": 1
           }
          ]
         }
        },
        {
         "name": "R9793800",
         "dtype": "float64",
         "stats": {
          "unique_count": 2,
          "nan_count": 3,
          "min": "350.0",
          "max": "460.0",
          "histogram": [
           {
            "bin_start": 350,
            "bin_end": 361,
            "count": 1
           },
           {
            "bin_start": 361,
            "bin_end": 372,
            "count": 0
           },
           {
            "bin_start": 372,
            "bin_end": 383,
            "count": 0
           },
           {
            "bin_start": 383,
            "bin_end": 394,
            "count": 0
           },
           {
            "bin_start": 394,
            "bin_end": 405,
            "count": 0
           },
           {
            "bin_start": 405,
            "bin_end": 416,
            "count": 0
           },
           {
            "bin_start": 416,
            "bin_end": 427,
            "count": 0
           },
           {
            "bin_start": 427,
            "bin_end": 438,
            "count": 0
           },
           {
            "bin_start": 438,
            "bin_end": 449,
            "count": 0
           },
           {
            "bin_start": 449,
            "bin_end": 460,
            "count": 1
           }
          ]
         }
        },
        {
         "name": "R9793900",
         "dtype": "float64",
         "stats": {
          "unique_count": 2,
          "nan_count": 3,
          "min": "440.0",
          "max": "470.0",
          "histogram": [
           {
            "bin_start": 440,
            "bin_end": 443,
            "count": 1
           },
           {
            "bin_start": 443,
            "bin_end": 446,
            "count": 0
           },
           {
            "bin_start": 446,
            "bin_end": 449,
            "count": 0
           },
           {
            "bin_start": 449,
            "bin_end": 452,
            "count": 0
           },
           {
            "bin_start": 452,
            "bin_end": 455,
            "count": 0
           },
           {
            "bin_start": 455,
            "bin_end": 458,
            "count": 0
           },
           {
            "bin_start": 458,
            "bin_end": 461,
            "count": 0
           },
           {
            "bin_start": 461,
            "bin_end": 464,
            "count": 0
           },
           {
            "bin_start": 464,
            "bin_end": 467,
            "count": 0
           },
           {
            "bin_start": 467,
            "bin_end": 470,
            "count": 1
           }
          ]
         }
        },
        {
         "name": "R9871900",
         "dtype": "float64",
         "stats": {
          "unique_count": 4,
          "nan_count": 1,
          "min": "217.0",
          "max": "309.0",
          "histogram": [
           {
            "bin_start": 217,
            "bin_end": 226.2,
            "count": 1
           },
           {
            "bin_start": 226.2,
            "bin_end": 235.4,
            "count": 0
           },
           {
            "bin_start": 235.4,
            "bin_end": 244.6,
            "count": 1
           },
           {
            "bin_start": 244.6,
            "bin_end": 253.8,
            "count": 1
           },
           {
            "bin_start": 253.8,
            "bin_end": 263,
            "count": 0
           },
           {
            "bin_start": 263,
            "bin_end": 272.2,
            "count": 0
           },
           {
            "bin_start": 272.2,
            "bin_end": 281.4,
            "count": 0
           },
           {
            "bin_start": 281.4,
            "bin_end": 290.6,
            "count": 0
           },
           {
            "bin_start": 290.6,
            "bin_end": 299.8,
            "count": 0
           },
           {
            "bin_start": 299.8,
            "bin_end": 309,
            "count": 1
           }
          ]
         }
        },
        {
         "name": "R9872000",
         "dtype": "float64",
         "stats": {
          "unique_count": 4,
          "nan_count": 1,
          "min": "216.0",
          "max": "310.0",
          "histogram": [
           {
            "bin_start": 216,
            "bin_end": 225.4,
            "count": 1
           },
           {
            "bin_start": 225.4,
            "bin_end": 234.8,
            "count": 0
           },
           {
            "bin_start": 234.8,
            "bin_end": 244.2,
            "count": 1
           },
           {
            "bin_start": 244.2,
            "bin_end": 253.6,
            "count": 0
           },
           {
            "bin_start": 253.6,
            "bin_end": 263,
            "count": 0
           },
           {
            "bin_start": 263,
            "bin_end": 272.4,
            "count": 0
           },
           {
            "bin_start": 272.4,
            "bin_end": 281.8,
            "count": 1
           },
           {
            "bin_start": 281.8,
            "bin_end": 291.2,
            "count": 0
           },
           {
            "bin_start": 291.2,
            "bin_end": 300.6,
            "count": 0
           },
           {
            "bin_start": 300.6,
            "bin_end": 310,
            "count": 1
           }
          ]
         }
        },
        {
         "name": "R9872200",
         "dtype": "float64",
         "stats": {
          "unique_count": 3,
          "nan_count": 1,
          "min": "114.0",
          "max": "293.0",
          "histogram": [
           {
            "bin_start": 114,
            "bin_end": 131.9,
            "count": 1
           },
           {
            "bin_start": 131.9,
            "bin_end": 149.8,
            "count": 0
           },
           {
            "bin_start": 149.8,
            "bin_end": 167.7,
            "count": 0
           },
           {
            "bin_start": 167.7,
            "bin_end": 185.6,
            "count": 0
           },
           {
            "bin_start": 185.6,
            "bin_end": 203.5,
            "count": 1
           },
           {
            "bin_start": 203.5,
            "bin_end": 221.39999999999998,
            "count": 0
           },
           {
            "bin_start": 221.39999999999998,
            "bin_end": 239.29999999999998,
            "count": 0
           },
           {
            "bin_start": 239.29999999999998,
            "bin_end": 257.2,
            "count": 0
           },
           {
            "bin_start": 257.2,
            "bin_end": 275.1,
            "count": 0
           },
           {
            "bin_start": 275.1,
            "bin_end": 293,
            "count": 2
           }
          ]
         }
        },
        {
         "name": "R9872400",
         "dtype": "float64",
         "stats": {
          "unique_count": 4,
          "nan_count": 1,
          "min": "143.0",
          "max": "333.0",
          "histogram": [
           {
            "bin_start": 143,
            "bin_end": 162,
            "count": 1
           },
           {
            "bin_start": 162,
            "bin_end": 181,
            "count": 0
           },
           {
            "bin_start": 181,
            "bin_end": 200,
            "count": 0
           },
           {
            "bin_start": 200,
            "bin_end": 219,
            "count": 1
           },
           {
            "bin_start": 219,
            "bin_end": 238,
            "count": 1
           },
           {
            "bin_start": 238,
            "bin_end": 257,
            "count": 0
           },
           {
            "bin_start": 257,
            "bin_end": 276,
            "count": 0
           },
           {
            "bin_start": 276,
            "bin_end": 295,
            "count": 0
           },
           {
            "bin_start": 295,
            "bin_end": 314,
            "count": 0
           },
           {
            "bin_start": 314,
            "bin_end": 333,
            "count": 1
           }
          ]
         }
        },
        {
         "name": "S8646900",
         "dtype": "float64",
         "stats": {
          "unique_count": 0,
          "nan_count": 5,
          "min": null,
          "max": null,
          "histogram": [
           {
            "bin_start": 0,
            "bin_end": 0.1,
            "count": 0
           },
           {
            "bin_start": 0.1,
            "bin_end": 0.2,
            "count": 0
           },
           {
            "bin_start": 0.2,
            "bin_end": 0.30000000000000004,
            "count": 0
           },
           {
            "bin_start": 0.30000000000000004,
            "bin_end": 0.4,
            "count": 0
           },
           {
            "bin_start": 0.4,
            "bin_end": 0.5,
            "count": 0
           },
           {
            "bin_start": 0.5,
            "bin_end": 0.6000000000000001,
            "count": 0
           },
           {
            "bin_start": 0.6000000000000001,
            "bin_end": 0.7000000000000001,
            "count": 0
           },
           {
            "bin_start": 0.7000000000000001,
            "bin_end": 0.8,
            "count": 0
           },
           {
            "bin_start": 0.8,
            "bin_end": 0.9,
            "count": 0
           },
           {
            "bin_start": 0.9,
            "bin_end": 1,
            "count": 0
           }
          ]
         }
        },
        {
         "name": "S8647000",
         "dtype": "float64",
         "stats": {
          "unique_count": 0,
          "nan_count": 5,
          "min": null,
          "max": null,
          "histogram": [
           {
            "bin_start": 0,
            "bin_end": 0.1,
            "count": 0
           },
           {
            "bin_start": 0.1,
            "bin_end": 0.2,
            "count": 0
           },
           {
            "bin_start": 0.2,
            "bin_end": 0.30000000000000004,
            "count": 0
           },
           {
            "bin_start": 0.30000000000000004,
            "bin_end": 0.4,
            "count": 0
           },
           {
            "bin_start": 0.4,
            "bin_end": 0.5,
            "count": 0
           },
           {
            "bin_start": 0.5,
            "bin_end": 0.6000000000000001,
            "count": 0
           },
           {
            "bin_start": 0.6000000000000001,
            "bin_end": 0.7000000000000001,
            "count": 0
           },
           {
            "bin_start": 0.7000000000000001,
            "bin_end": 0.8,
            "count": 0
           },
           {
            "bin_start": 0.8,
            "bin_end": 0.9,
            "count": 0
           },
           {
            "bin_start": 0.9,
            "bin_end": 1,
            "count": 0
           }
          ]
         }
        },
        {
         "name": "S8647100",
         "dtype": "float64",
         "stats": {
          "unique_count": 0,
          "nan_count": 5,
          "min": null,
          "max": null,
          "histogram": [
           {
            "bin_start": 0,
            "bin_end": 0.1,
            "count": 0
           },
           {
            "bin_start": 0.1,
            "bin_end": 0.2,
            "count": 0
           },
           {
            "bin_start": 0.2,
            "bin_end": 0.30000000000000004,
            "count": 0
           },
           {
            "bin_start": 0.30000000000000004,
            "bin_end": 0.4,
            "count": 0
           },
           {
            "bin_start": 0.4,
            "bin_end": 0.5,
            "count": 0
           },
           {
            "bin_start": 0.5,
            "bin_end": 0.6000000000000001,
            "count": 0
           },
           {
            "bin_start": 0.6000000000000001,
            "bin_end": 0.7000000000000001,
            "count": 0
           },
           {
            "bin_start": 0.7000000000000001,
            "bin_end": 0.8,
            "count": 0
           },
           {
            "bin_start": 0.8,
            "bin_end": 0.9,
            "count": 0
           },
           {
            "bin_start": 0.9,
            "bin_end": 1,
            "count": 0
           }
          ]
         }
        },
        {
         "name": "S8647200",
         "dtype": "float64",
         "stats": {
          "unique_count": 0,
          "nan_count": 5,
          "min": null,
          "max": null,
          "histogram": [
           {
            "bin_start": 0,
            "bin_end": 0.1,
            "count": 0
           },
           {
            "bin_start": 0.1,
            "bin_end": 0.2,
            "count": 0
           },
           {
            "bin_start": 0.2,
            "bin_end": 0.30000000000000004,
            "count": 0
           },
           {
            "bin_start": 0.30000000000000004,
            "bin_end": 0.4,
            "count": 0
           },
           {
            "bin_start": 0.4,
            "bin_end": 0.5,
            "count": 0
           },
           {
            "bin_start": 0.5,
            "bin_end": 0.6000000000000001,
            "count": 0
           },
           {
            "bin_start": 0.6000000000000001,
            "bin_end": 0.7000000000000001,
            "count": 0
           },
           {
            "bin_start": 0.7000000000000001,
            "bin_end": 0.8,
            "count": 0
           },
           {
            "bin_start": 0.8,
            "bin_end": 0.9,
            "count": 0
           },
           {
            "bin_start": 0.9,
            "bin_end": 1,
            "count": 0
           }
          ]
         }
        },
        {
         "name": "S8647300",
         "dtype": "float64",
         "stats": {
          "unique_count": 0,
          "nan_count": 5,
          "min": null,
          "max": null,
          "histogram": [
           {
            "bin_start": 0,
            "bin_end": 0.1,
            "count": 0
           },
           {
            "bin_start": 0.1,
            "bin_end": 0.2,
            "count": 0
           },
           {
            "bin_start": 0.2,
            "bin_end": 0.30000000000000004,
            "count": 0
           },
           {
            "bin_start": 0.30000000000000004,
            "bin_end": 0.4,
            "count": 0
           },
           {
            "bin_start": 0.4,
            "bin_end": 0.5,
            "count": 0
           },
           {
            "bin_start": 0.5,
            "bin_end": 0.6000000000000001,
            "count": 0
           },
           {
            "bin_start": 0.6000000000000001,
            "bin_end": 0.7000000000000001,
            "count": 0
           },
           {
            "bin_start": 0.7000000000000001,
            "bin_end": 0.8,
            "count": 0
           },
           {
            "bin_start": 0.8,
            "bin_end": 0.9,
            "count": 0
           },
           {
            "bin_start": 0.9,
            "bin_end": 1,
            "count": 0
           }
          ]
         }
        },
        {
         "name": "S8647400",
         "dtype": "float64",
         "stats": {
          "unique_count": 0,
          "nan_count": 5,
          "min": null,
          "max": null,
          "histogram": [
           {
            "bin_start": 0,
            "bin_end": 0.1,
            "count": 0
           },
           {
            "bin_start": 0.1,
            "bin_end": 0.2,
            "count": 0
           },
           {
            "bin_start": 0.2,
            "bin_end": 0.30000000000000004,
            "count": 0
           },
           {
            "bin_start": 0.30000000000000004,
            "bin_end": 0.4,
            "count": 0
           },
           {
            "bin_start": 0.4,
            "bin_end": 0.5,
            "count": 0
           },
           {
            "bin_start": 0.5,
            "bin_end": 0.6000000000000001,
            "count": 0
           },
           {
            "bin_start": 0.6000000000000001,
            "bin_end": 0.7000000000000001,
            "count": 0
           },
           {
            "bin_start": 0.7000000000000001,
            "bin_end": 0.8,
            "count": 0
           },
           {
            "bin_start": 0.8,
            "bin_end": 0.9,
            "count": 0
           },
           {
            "bin_start": 0.9,
            "bin_end": 1,
            "count": 0
           }
          ]
         }
        },
        {
         "name": "S8647500",
         "dtype": "float64",
         "stats": {
          "unique_count": 0,
          "nan_count": 5,
          "min": null,
          "max": null,
          "histogram": [
           {
            "bin_start": 0,
            "bin_end": 0.1,
            "count": 0
           },
           {
            "bin_start": 0.1,
            "bin_end": 0.2,
            "count": 0
           },
           {
            "bin_start": 0.2,
            "bin_end": 0.30000000000000004,
            "count": 0
           },
           {
            "bin_start": 0.30000000000000004,
            "bin_end": 0.4,
            "count": 0
           },
           {
            "bin_start": 0.4,
            "bin_end": 0.5,
            "count": 0
           },
           {
            "bin_start": 0.5,
            "bin_end": 0.6000000000000001,
            "count": 0
           },
           {
            "bin_start": 0.6000000000000001,
            "bin_end": 0.7000000000000001,
            "count": 0
           },
           {
            "bin_start": 0.7000000000000001,
            "bin_end": 0.8,
            "count": 0
           },
           {
            "bin_start": 0.8,
            "bin_end": 0.9,
            "count": 0
           },
           {
            "bin_start": 0.9,
            "bin_end": 1,
            "count": 0
           }
          ]
         }
        },
        {
         "name": "S8647600",
         "dtype": "float64",
         "stats": {
          "unique_count": 0,
          "nan_count": 5,
          "min": null,
          "max": null,
          "histogram": [
           {
            "bin_start": 0,
            "bin_end": 0.1,
            "count": 0
           },
           {
            "bin_start": 0.1,
            "bin_end": 0.2,
            "count": 0
           },
           {
            "bin_start": 0.2,
            "bin_end": 0.30000000000000004,
            "count": 0
           },
           {
            "bin_start": 0.30000000000000004,
            "bin_end": 0.4,
            "count": 0
           },
           {
            "bin_start": 0.4,
            "bin_end": 0.5,
            "count": 0
           },
           {
            "bin_start": 0.5,
            "bin_end": 0.6000000000000001,
            "count": 0
           },
           {
            "bin_start": 0.6000000000000001,
            "bin_end": 0.7000000000000001,
            "count": 0
           },
           {
            "bin_start": 0.7000000000000001,
            "bin_end": 0.8,
            "count": 0
           },
           {
            "bin_start": 0.8,
            "bin_end": 0.9,
            "count": 0
           },
           {
            "bin_start": 0.9,
            "bin_end": 1,
            "count": 0
           }
          ]
         }
        },
        {
         "name": "S8647700",
         "dtype": "float64",
         "stats": {
          "unique_count": 0,
          "nan_count": 5,
          "min": null,
          "max": null,
          "histogram": [
           {
            "bin_start": 0,
            "bin_end": 0.1,
            "count": 0
           },
           {
            "bin_start": 0.1,
            "bin_end": 0.2,
            "count": 0
           },
           {
            "bin_start": 0.2,
            "bin_end": 0.30000000000000004,
            "count": 0
           },
           {
            "bin_start": 0.30000000000000004,
            "bin_end": 0.4,
            "count": 0
           },
           {
            "bin_start": 0.4,
            "bin_end": 0.5,
            "count": 0
           },
           {
            "bin_start": 0.5,
            "bin_end": 0.6000000000000001,
            "count": 0
           },
           {
            "bin_start": 0.6000000000000001,
            "bin_end": 0.7000000000000001,
            "count": 0
           },
           {
            "bin_start": 0.7000000000000001,
            "bin_end": 0.8,
            "count": 0
           },
           {
            "bin_start": 0.8,
            "bin_end": 0.9,
            "count": 0
           },
           {
            "bin_start": 0.9,
            "bin_end": 1,
            "count": 0
           }
          ]
         }
        },
        {
         "name": "S8647800",
         "dtype": "float64",
         "stats": {
          "unique_count": 0,
          "nan_count": 5,
          "min": null,
          "max": null,
          "histogram": [
           {
            "bin_start": 0,
            "bin_end": 0.1,
            "count": 0
           },
           {
            "bin_start": 0.1,
            "bin_end": 0.2,
            "count": 0
           },
           {
            "bin_start": 0.2,
            "bin_end": 0.30000000000000004,
            "count": 0
           },
           {
            "bin_start": 0.30000000000000004,
            "bin_end": 0.4,
            "count": 0
           },
           {
            "bin_start": 0.4,
            "bin_end": 0.5,
            "count": 0
           },
           {
            "bin_start": 0.5,
            "bin_end": 0.6000000000000001,
            "count": 0
           },
           {
            "bin_start": 0.6000000000000001,
            "bin_end": 0.7000000000000001,
            "count": 0
           },
           {
            "bin_start": 0.7000000000000001,
            "bin_end": 0.8,
            "count": 0
           },
           {
            "bin_start": 0.8,
            "bin_end": 0.9,
            "count": 0
           },
           {
            "bin_start": 0.9,
            "bin_end": 1,
            "count": 0
           }
          ]
         }
        },
        {
         "name": "T6651700",
         "dtype": "float64",
         "stats": {
          "unique_count": 0,
          "nan_count": 5,
          "min": null,
          "max": null,
          "histogram": [
           {
            "bin_start": 0,
            "bin_end": 0.1,
            "count": 0
           },
           {
            "bin_start": 0.1,
            "bin_end": 0.2,
            "count": 0
           },
           {
            "bin_start": 0.2,
            "bin_end": 0.30000000000000004,
            "count": 0
           },
           {
            "bin_start": 0.30000000000000004,
            "bin_end": 0.4,
            "count": 0
           },
           {
            "bin_start": 0.4,
            "bin_end": 0.5,
            "count": 0
           },
           {
            "bin_start": 0.5,
            "bin_end": 0.6000000000000001,
            "count": 0
           },
           {
            "bin_start": 0.6000000000000001,
            "bin_end": 0.7000000000000001,
            "count": 0
           },
           {
            "bin_start": 0.7000000000000001,
            "bin_end": 0.8,
            "count": 0
           },
           {
            "bin_start": 0.8,
            "bin_end": 0.9,
            "count": 0
           },
           {
            "bin_start": 0.9,
            "bin_end": 1,
            "count": 0
           }
          ]
         }
        },
        {
         "name": "U1836800",
         "dtype": "float64",
         "stats": {
          "unique_count": 1,
          "nan_count": 4,
          "min": "3.0",
          "max": "3.0",
          "histogram": [
           {
            "bin_start": 2.5,
            "bin_end": 2.6,
            "count": 0
           },
           {
            "bin_start": 2.6,
            "bin_end": 2.7,
            "count": 0
           },
           {
            "bin_start": 2.7,
            "bin_end": 2.8,
            "count": 0
           },
           {
            "bin_start": 2.8,
            "bin_end": 2.9,
            "count": 0
           },
           {
            "bin_start": 2.9,
            "bin_end": 3,
            "count": 0
           },
           {
            "bin_start": 3,
            "bin_end": 3.1,
            "count": 1
           },
           {
            "bin_start": 3.1,
            "bin_end": 3.2,
            "count": 0
           },
           {
            "bin_start": 3.2,
            "bin_end": 3.3,
            "count": 0
           },
           {
            "bin_start": 3.3,
            "bin_end": 3.4,
            "count": 0
           },
           {
            "bin_start": 3.4,
            "bin_end": 3.5,
            "count": 0
           }
          ]
         }
        },
        {
         "name": "U1836900",
         "dtype": "float64",
         "stats": {
          "unique_count": 0,
          "nan_count": 5,
          "min": null,
          "max": null,
          "histogram": [
           {
            "bin_start": 0,
            "bin_end": 0.1,
            "count": 0
           },
           {
            "bin_start": 0.1,
            "bin_end": 0.2,
            "count": 0
           },
           {
            "bin_start": 0.2,
            "bin_end": 0.30000000000000004,
            "count": 0
           },
           {
            "bin_start": 0.30000000000000004,
            "bin_end": 0.4,
            "count": 0
           },
           {
            "bin_start": 0.4,
            "bin_end": 0.5,
            "count": 0
           },
           {
            "bin_start": 0.5,
            "bin_end": 0.6000000000000001,
            "count": 0
           },
           {
            "bin_start": 0.6000000000000001,
            "bin_end": 0.7000000000000001,
            "count": 0
           },
           {
            "bin_start": 0.7000000000000001,
            "bin_end": 0.8,
            "count": 0
           },
           {
            "bin_start": 0.8,
            "bin_end": 0.9,
            "count": 0
           },
           {
            "bin_start": 0.9,
            "bin_end": 1,
            "count": 0
           }
          ]
         }
        },
        {
         "name": "U1837000",
         "dtype": "float64",
         "stats": {
          "unique_count": 0,
          "nan_count": 5,
          "min": null,
          "max": null,
          "histogram": [
           {
            "bin_start": 0,
            "bin_end": 0.1,
            "count": 0
           },
           {
            "bin_start": 0.1,
            "bin_end": 0.2,
            "count": 0
           },
           {
            "bin_start": 0.2,
            "bin_end": 0.30000000000000004,
            "count": 0
           },
           {
            "bin_start": 0.30000000000000004,
            "bin_end": 0.4,
            "count": 0
           },
           {
            "bin_start": 0.4,
            "bin_end": 0.5,
            "count": 0
           },
           {
            "bin_start": 0.5,
            "bin_end": 0.6000000000000001,
            "count": 0
           },
           {
            "bin_start": 0.6000000000000001,
            "bin_end": 0.7000000000000001,
            "count": 0
           },
           {
            "bin_start": 0.7000000000000001,
            "bin_end": 0.8,
            "count": 0
           },
           {
            "bin_start": 0.8,
            "bin_end": 0.9,
            "count": 0
           },
           {
            "bin_start": 0.9,
            "bin_end": 1,
            "count": 0
           }
          ]
         }
        },
        {
         "name": "U1837100",
         "dtype": "float64",
         "stats": {
          "unique_count": 0,
          "nan_count": 5,
          "min": null,
          "max": null,
          "histogram": [
           {
            "bin_start": 0,
            "bin_end": 0.1,
            "count": 0
           },
           {
            "bin_start": 0.1,
            "bin_end": 0.2,
            "count": 0
           },
           {
            "bin_start": 0.2,
            "bin_end": 0.30000000000000004,
            "count": 0
           },
           {
            "bin_start": 0.30000000000000004,
            "bin_end": 0.4,
            "count": 0
           },
           {
            "bin_start": 0.4,
            "bin_end": 0.5,
            "count": 0
           },
           {
            "bin_start": 0.5,
            "bin_end": 0.6000000000000001,
            "count": 0
           },
           {
            "bin_start": 0.6000000000000001,
            "bin_end": 0.7000000000000001,
            "count": 0
           },
           {
            "bin_start": 0.7000000000000001,
            "bin_end": 0.8,
            "count": 0
           },
           {
            "bin_start": 0.8,
            "bin_end": 0.9,
            "count": 0
           },
           {
            "bin_start": 0.9,
            "bin_end": 1,
            "count": 0
           }
          ]
         }
        },
        {
         "name": "U1837200",
         "dtype": "float64",
         "stats": {
          "unique_count": 0,
          "nan_count": 5,
          "min": null,
          "max": null,
          "histogram": [
           {
            "bin_start": 0,
            "bin_end": 0.1,
            "count": 0
           },
           {
            "bin_start": 0.1,
            "bin_end": 0.2,
            "count": 0
           },
           {
            "bin_start": 0.2,
            "bin_end": 0.30000000000000004,
            "count": 0
           },
           {
            "bin_start": 0.30000000000000004,
            "bin_end": 0.4,
            "count": 0
           },
           {
            "bin_start": 0.4,
            "bin_end": 0.5,
            "count": 0
           },
           {
            "bin_start": 0.5,
            "bin_end": 0.6000000000000001,
            "count": 0
           },
           {
            "bin_start": 0.6000000000000001,
            "bin_end": 0.7000000000000001,
            "count": 0
           },
           {
            "bin_start": 0.7000000000000001,
            "bin_end": 0.8,
            "count": 0
           },
           {
            "bin_start": 0.8,
            "bin_end": 0.9,
            "count": 0
           },
           {
            "bin_start": 0.9,
            "bin_end": 1,
            "count": 0
           }
          ]
         }
        },
        {
         "name": "U1837300",
         "dtype": "float64",
         "stats": {
          "unique_count": 0,
          "nan_count": 5,
          "min": null,
          "max": null,
          "histogram": [
           {
            "bin_start": 0,
            "bin_end": 0.1,
            "count": 0
           },
           {
            "bin_start": 0.1,
            "bin_end": 0.2,
            "count": 0
           },
           {
            "bin_start": 0.2,
            "bin_end": 0.30000000000000004,
            "count": 0
           },
           {
            "bin_start": 0.30000000000000004,
            "bin_end": 0.4,
            "count": 0
           },
           {
            "bin_start": 0.4,
            "bin_end": 0.5,
            "count": 0
           },
           {
            "bin_start": 0.5,
            "bin_end": 0.6000000000000001,
            "count": 0
           },
           {
            "bin_start": 0.6000000000000001,
            "bin_end": 0.7000000000000001,
            "count": 0
           },
           {
            "bin_start": 0.7000000000000001,
            "bin_end": 0.8,
            "count": 0
           },
           {
            "bin_start": 0.8,
            "bin_end": 0.9,
            "count": 0
           },
           {
            "bin_start": 0.9,
            "bin_end": 1,
            "count": 0
           }
          ]
         }
        },
        {
         "name": "U1845400",
         "dtype": "float64",
         "stats": {
          "unique_count": 4,
          "nan_count": 1,
          "min": "12.0",
          "max": "16.0",
          "histogram": [
           {
            "bin_start": 12,
            "bin_end": 12.4,
            "count": 1
           },
           {
            "bin_start": 12.4,
            "bin_end": 12.8,
            "count": 0
           },
           {
            "bin_start": 12.8,
            "bin_end": 13.2,
            "count": 1
           },
           {
            "bin_start": 13.2,
            "bin_end": 13.6,
            "count": 0
           },
           {
            "bin_start": 13.6,
            "bin_end": 14,
            "count": 0
           },
           {
            "bin_start": 14,
            "bin_end": 14.4,
            "count": 1
           },
           {
            "bin_start": 14.4,
            "bin_end": 14.8,
            "count": 0
           },
           {
            "bin_start": 14.8,
            "bin_end": 15.2,
            "count": 0
           },
           {
            "bin_start": 15.2,
            "bin_end": 15.6,
            "count": 0
           },
           {
            "bin_start": 15.6,
            "bin_end": 16,
            "count": 1
           }
          ]
         }
        },
        {
         "name": "U1852400",
         "dtype": "float64",
         "stats": {
          "unique_count": 2,
          "nan_count": 1,
          "min": "0.0",
          "max": "1.0",
          "histogram": [
           {
            "bin_start": 0,
            "bin_end": 0.1,
            "count": 2
           },
           {
            "bin_start": 0.1,
            "bin_end": 0.2,
            "count": 0
           },
           {
            "bin_start": 0.2,
            "bin_end": 0.30000000000000004,
            "count": 0
           },
           {
            "bin_start": 0.30000000000000004,
            "bin_end": 0.4,
            "count": 0
           },
           {
            "bin_start": 0.4,
            "bin_end": 0.5,
            "count": 0
           },
           {
            "bin_start": 0.5,
            "bin_end": 0.6000000000000001,
            "count": 0
           },
           {
            "bin_start": 0.6000000000000001,
            "bin_end": 0.7000000000000001,
            "count": 0
           },
           {
            "bin_start": 0.7000000000000001,
            "bin_end": 0.8,
            "count": 0
           },
           {
            "bin_start": 0.8,
            "bin_end": 0.9,
            "count": 0
           },
           {
            "bin_start": 0.9,
            "bin_end": 1,
            "count": 2
           }
          ]
         }
        },
        {
         "name": "U1852600",
         "dtype": "float64",
         "stats": {
          "unique_count": 2,
          "nan_count": 2,
          "min": "1.0",
          "max": "2.0",
          "histogram": [
           {
            "bin_start": 1,
            "bin_end": 1.1,
            "count": 1
           },
           {
            "bin_start": 1.1,
            "bin_end": 1.2,
            "count": 0
           },
           {
            "bin_start": 1.2,
            "bin_end": 1.3,
            "count": 0
           },
           {
            "bin_start": 1.3,
            "bin_end": 1.4,
            "count": 0
           },
           {
            "bin_start": 1.4,
            "bin_end": 1.5,
            "count": 0
           },
           {
            "bin_start": 1.5,
            "bin_end": 1.6,
            "count": 0
           },
           {
            "bin_start": 1.6,
            "bin_end": 1.7000000000000002,
            "count": 0
           },
           {
            "bin_start": 1.7000000000000002,
            "bin_end": 1.8,
            "count": 0
           },
           {
            "bin_start": 1.8,
            "bin_end": 1.9,
            "count": 0
           },
           {
            "bin_start": 1.9,
            "bin_end": 2,
            "count": 2
           }
          ]
         }
        },
        {
         "name": "U1852700",
         "dtype": "float64",
         "stats": {
          "unique_count": 2,
          "nan_count": 2,
          "min": "0.0",
          "max": "1.0",
          "histogram": [
           {
            "bin_start": 0,
            "bin_end": 0.1,
            "count": 2
           },
           {
            "bin_start": 0.1,
            "bin_end": 0.2,
            "count": 0
           },
           {
            "bin_start": 0.2,
            "bin_end": 0.30000000000000004,
            "count": 0
           },
           {
            "bin_start": 0.30000000000000004,
            "bin_end": 0.4,
            "count": 0
           },
           {
            "bin_start": 0.4,
            "bin_end": 0.5,
            "count": 0
           },
           {
            "bin_start": 0.5,
            "bin_end": 0.6000000000000001,
            "count": 0
           },
           {
            "bin_start": 0.6000000000000001,
            "bin_end": 0.7000000000000001,
            "count": 0
           },
           {
            "bin_start": 0.7000000000000001,
            "bin_end": 0.8,
            "count": 0
           },
           {
            "bin_start": 0.8,
            "bin_end": 0.9,
            "count": 0
           },
           {
            "bin_start": 0.9,
            "bin_end": 1,
            "count": 1
           }
          ]
         }
        },
        {
         "name": "U2166200",
         "dtype": "float64",
         "stats": {
          "unique_count": 0,
          "nan_count": 5,
          "min": null,
          "max": null,
          "histogram": [
           {
            "bin_start": 0,
            "bin_end": 0.1,
            "count": 0
           },
           {
            "bin_start": 0.1,
            "bin_end": 0.2,
            "count": 0
           },
           {
            "bin_start": 0.2,
            "bin_end": 0.30000000000000004,
            "count": 0
           },
           {
            "bin_start": 0.30000000000000004,
            "bin_end": 0.4,
            "count": 0
           },
           {
            "bin_start": 0.4,
            "bin_end": 0.5,
            "count": 0
           },
           {
            "bin_start": 0.5,
            "bin_end": 0.6000000000000001,
            "count": 0
           },
           {
            "bin_start": 0.6000000000000001,
            "bin_end": 0.7000000000000001,
            "count": 0
           },
           {
            "bin_start": 0.7000000000000001,
            "bin_end": 0.8,
            "count": 0
           },
           {
            "bin_start": 0.8,
            "bin_end": 0.9,
            "count": 0
           },
           {
            "bin_start": 0.9,
            "bin_end": 1,
            "count": 0
           }
          ]
         }
        },
        {
         "name": "U2166300",
         "dtype": "float64",
         "stats": {
          "unique_count": 0,
          "nan_count": 5,
          "min": null,
          "max": null,
          "histogram": [
           {
            "bin_start": 0,
            "bin_end": 0.1,
            "count": 0
           },
           {
            "bin_start": 0.1,
            "bin_end": 0.2,
            "count": 0
           },
           {
            "bin_start": 0.2,
            "bin_end": 0.30000000000000004,
            "count": 0
           },
           {
            "bin_start": 0.30000000000000004,
            "bin_end": 0.4,
            "count": 0
           },
           {
            "bin_start": 0.4,
            "bin_end": 0.5,
            "count": 0
           },
           {
            "bin_start": 0.5,
            "bin_end": 0.6000000000000001,
            "count": 0
           },
           {
            "bin_start": 0.6000000000000001,
            "bin_end": 0.7000000000000001,
            "count": 0
           },
           {
            "bin_start": 0.7000000000000001,
            "bin_end": 0.8,
            "count": 0
           },
           {
            "bin_start": 0.8,
            "bin_end": 0.9,
            "count": 0
           },
           {
            "bin_start": 0.9,
            "bin_end": 1,
            "count": 0
           }
          ]
         }
        },
        {
         "name": "U2166400",
         "dtype": "float64",
         "stats": {
          "unique_count": 0,
          "nan_count": 5,
          "min": null,
          "max": null,
          "histogram": [
           {
            "bin_start": 0,
            "bin_end": 0.1,
            "count": 0
           },
           {
            "bin_start": 0.1,
            "bin_end": 0.2,
            "count": 0
           },
           {
            "bin_start": 0.2,
            "bin_end": 0.30000000000000004,
            "count": 0
           },
           {
            "bin_start": 0.30000000000000004,
            "bin_end": 0.4,
            "count": 0
           },
           {
            "bin_start": 0.4,
            "bin_end": 0.5,
            "count": 0
           },
           {
            "bin_start": 0.5,
            "bin_end": 0.6000000000000001,
            "count": 0
           },
           {
            "bin_start": 0.6000000000000001,
            "bin_end": 0.7000000000000001,
            "count": 0
           },
           {
            "bin_start": 0.7000000000000001,
            "bin_end": 0.8,
            "count": 0
           },
           {
            "bin_start": 0.8,
            "bin_end": 0.9,
            "count": 0
           },
           {
            "bin_start": 0.9,
            "bin_end": 1,
            "count": 0
           }
          ]
         }
        },
        {
         "name": "U2166500",
         "dtype": "float64",
         "stats": {
          "unique_count": 0,
          "nan_count": 5,
          "min": null,
          "max": null,
          "histogram": [
           {
            "bin_start": 0,
            "bin_end": 0.1,
            "count": 0
           },
           {
            "bin_start": 0.1,
            "bin_end": 0.2,
            "count": 0
           },
           {
            "bin_start": 0.2,
            "bin_end": 0.30000000000000004,
            "count": 0
           },
           {
            "bin_start": 0.30000000000000004,
            "bin_end": 0.4,
            "count": 0
           },
           {
            "bin_start": 0.4,
            "bin_end": 0.5,
            "count": 0
           },
           {
            "bin_start": 0.5,
            "bin_end": 0.6000000000000001,
            "count": 0
           },
           {
            "bin_start": 0.6000000000000001,
            "bin_end": 0.7000000000000001,
            "count": 0
           },
           {
            "bin_start": 0.7000000000000001,
            "bin_end": 0.8,
            "count": 0
           },
           {
            "bin_start": 0.8,
            "bin_end": 0.9,
            "count": 0
           },
           {
            "bin_start": 0.9,
            "bin_end": 1,
            "count": 0
           }
          ]
         }
        },
        {
         "name": "U2857300",
         "dtype": "float64",
         "stats": {
          "unique_count": 0,
          "nan_count": 5,
          "min": null,
          "max": null,
          "histogram": [
           {
            "bin_start": 0,
            "bin_end": 0.1,
            "count": 0
           },
           {
            "bin_start": 0.1,
            "bin_end": 0.2,
            "count": 0
           },
           {
            "bin_start": 0.2,
            "bin_end": 0.30000000000000004,
            "count": 0
           },
           {
            "bin_start": 0.30000000000000004,
            "bin_end": 0.4,
            "count": 0
           },
           {
            "bin_start": 0.4,
            "bin_end": 0.5,
            "count": 0
           },
           {
            "bin_start": 0.5,
            "bin_end": 0.6000000000000001,
            "count": 0
           },
           {
            "bin_start": 0.6000000000000001,
            "bin_end": 0.7000000000000001,
            "count": 0
           },
           {
            "bin_start": 0.7000000000000001,
            "bin_end": 0.8,
            "count": 0
           },
           {
            "bin_start": 0.8,
            "bin_end": 0.9,
            "count": 0
           },
           {
            "bin_start": 0.9,
            "bin_end": 1,
            "count": 0
           }
          ]
         }
        },
        {
         "name": "U2962800",
         "dtype": "float64",
         "stats": {
          "unique_count": 4,
          "nan_count": 1,
          "min": "2.0",
          "max": "6.0",
          "histogram": [
           {
            "bin_start": 2,
            "bin_end": 2.4,
            "count": 1
           },
           {
            "bin_start": 2.4,
            "bin_end": 2.8,
            "count": 0
           },
           {
            "bin_start": 2.8,
            "bin_end": 3.2,
            "count": 1
           },
           {
            "bin_start": 3.2,
            "bin_end": 3.6,
            "count": 0
           },
           {
            "bin_start": 3.6,
            "bin_end": 4,
            "count": 0
           },
           {
            "bin_start": 4,
            "bin_end": 4.4,
            "count": 1
           },
           {
            "bin_start": 4.4,
            "bin_end": 4.800000000000001,
            "count": 0
           },
           {
            "bin_start": 4.800000000000001,
            "bin_end": 5.2,
            "count": 0
           },
           {
            "bin_start": 5.2,
            "bin_end": 5.6,
            "count": 0
           },
           {
            "bin_start": 5.6,
            "bin_end": 6,
            "count": 1
           }
          ]
         }
        },
        {
         "name": "U2962900",
         "dtype": "float64",
         "stats": {
          "unique_count": 1,
          "nan_count": 1,
          "min": "2.0",
          "max": "2.0",
          "histogram": [
           {
            "bin_start": 1.5,
            "bin_end": 1.6,
            "count": 0
           },
           {
            "bin_start": 1.6,
            "bin_end": 1.7,
            "count": 0
           },
           {
            "bin_start": 1.7,
            "bin_end": 1.8,
            "count": 0
           },
           {
            "bin_start": 1.8,
            "bin_end": 1.9,
            "count": 0
           },
           {
            "bin_start": 1.9,
            "bin_end": 2,
            "count": 0
           },
           {
            "bin_start": 2,
            "bin_end": 2.1,
            "count": 4
           },
           {
            "bin_start": 2.1,
            "bin_end": 2.2,
            "count": 0
           },
           {
            "bin_start": 2.2,
            "bin_end": 2.3,
            "count": 0
           },
           {
            "bin_start": 2.3,
            "bin_end": 2.4,
            "count": 0
           },
           {
            "bin_start": 2.4,
            "bin_end": 2.5,
            "count": 0
           }
          ]
         }
        },
        {
         "name": "U2963000",
         "dtype": "float64",
         "stats": {
          "unique_count": 2,
          "nan_count": 1,
          "min": "5.0",
          "max": "6.0",
          "histogram": [
           {
            "bin_start": 5,
            "bin_end": 5.1,
            "count": 1
           },
           {
            "bin_start": 5.1,
            "bin_end": 5.2,
            "count": 0
           },
           {
            "bin_start": 5.2,
            "bin_end": 5.3,
            "count": 0
           },
           {
            "bin_start": 5.3,
            "bin_end": 5.4,
            "count": 0
           },
           {
            "bin_start": 5.4,
            "bin_end": 5.5,
            "count": 0
           },
           {
            "bin_start": 5.5,
            "bin_end": 5.6,
            "count": 0
           },
           {
            "bin_start": 5.6,
            "bin_end": 5.7,
            "count": 0
           },
           {
            "bin_start": 5.7,
            "bin_end": 5.8,
            "count": 0
           },
           {
            "bin_start": 5.8,
            "bin_end": 5.9,
            "count": 0
           },
           {
            "bin_start": 5.9,
            "bin_end": 6,
            "count": 3
           }
          ]
         }
        },
        {
         "name": "Z9063900",
         "dtype": "float64",
         "stats": {
          "unique_count": 4,
          "nan_count": 0,
          "min": "0.0",
          "max": "52.0",
          "histogram": [
           {
            "bin_start": 0,
            "bin_end": 5.2,
            "count": 3
           },
           {
            "bin_start": 5.2,
            "bin_end": 10.4,
            "count": 0
           },
           {
            "bin_start": 10.4,
            "bin_end": 15.600000000000001,
            "count": 1
           },
           {
            "bin_start": 15.600000000000001,
            "bin_end": 20.8,
            "count": 0
           },
           {
            "bin_start": 20.8,
            "bin_end": 26,
            "count": 0
           },
           {
            "bin_start": 26,
            "bin_end": 31.200000000000003,
            "count": 0
           },
           {
            "bin_start": 31.200000000000003,
            "bin_end": 36.4,
            "count": 0
           },
           {
            "bin_start": 36.4,
            "bin_end": 41.6,
            "count": 0
           },
           {
            "bin_start": 41.6,
            "bin_end": 46.800000000000004,
            "count": 0
           },
           {
            "bin_start": 46.800000000000004,
            "bin_end": 52,
            "count": 1
           }
          ]
         }
        },
        {
         "name": "_deepnote_index_column",
         "dtype": "int64"
        }
       ],
       "rows_top": [
        {
         "R0000100": 1,
         "R0536300": 2,
         "R0536401": 9,
         "R0536402": 1981,
         "R1235800": 1,
         "R1482600": 4,
         "R9793800": 350,
         "R9793900": 470,
         "R9871900": 309,
         "R9872000": 310,
         "R9872200": 293,
         "R9872400": 333,
         "S8646900": "nan",
         "S8647000": "nan",
         "S8647100": "nan",
         "S8647200": "nan",
         "S8647300": "nan",
         "S8647400": "nan",
         "S8647500": "nan",
         "S8647600": "nan",
         "S8647700": "nan",
         "S8647800": "nan",
         "T6651700": "nan",
         "U1836800": "nan",
         "U1836900": "nan",
         "U1837000": "nan",
         "U1837100": "nan",
         "U1837200": "nan",
         "U1837300": "nan",
         "U1845400": "nan",
         "U1852400": "nan",
         "U1852600": "nan",
         "U1852700": "nan",
         "U2166200": "nan",
         "U2166300": "nan",
         "U2166400": "nan",
         "U2166500": "nan",
         "U2857300": "nan",
         "U2962800": "nan",
         "U2962900": "nan",
         "U2963000": "nan",
         "Z9063900": 52,
         "_deepnote_index_column": 0
        },
        {
         "R0000100": 2,
         "R0536300": 1,
         "R0536401": 7,
         "R0536402": 1982,
         "R1235800": 1,
         "R1482600": 2,
         "R9793800": 460,
         "R9793900": 440,
         "R9871900": 217,
         "R9872000": 280,
         "R9872200": 114,
         "R9872400": 143,
         "S8646900": "nan",
         "S8647000": "nan",
         "S8647100": "nan",
         "S8647200": "nan",
         "S8647300": "nan",
         "S8647400": "nan",
         "S8647500": "nan",
         "S8647600": "nan",
         "S8647700": "nan",
         "S8647800": "nan",
         "T6651700": "nan",
         "U1836800": "nan",
         "U1836900": "nan",
         "U1837000": "nan",
         "U1837100": "nan",
         "U1837200": "nan",
         "U1837300": "nan",
         "U1845400": 14,
         "U1852400": 0,
         "U1852600": "nan",
         "U1852700": "nan",
         "U2166200": "nan",
         "U2166300": "nan",
         "U2166400": "nan",
         "U2166500": "nan",
         "U2857300": "nan",
         "U2962800": 4,
         "U2962900": 2,
         "U2963000": 6,
         "Z9063900": 0,
         "_deepnote_index_column": 1
        },
        {
         "R0000100": 3,
         "R0536300": 2,
         "R0536401": 9,
         "R0536402": 1983,
         "R1235800": 1,
         "R1482600": 2,
         "R9793800": "nan",
         "R9793900": "nan",
         "R9871900": "nan",
         "R9872000": "nan",
         "R9872200": "nan",
         "R9872400": "nan",
         "S8646900": "nan",
         "S8647000": "nan",
         "S8647100": "nan",
         "S8647200": "nan",
         "S8647300": "nan",
         "S8647400": "nan",
         "S8647500": "nan",
         "S8647600": "nan",
         "S8647700": "nan",
         "S8647800": "nan",
         "T6651700": "nan",
         "U1836800": 3,
         "U1836900": "nan",
         "U1837000": "nan",
         "U1837100": "nan",
         "U1837200": "nan",
         "U1837300": "nan",
         "U1845400": 16,
         "U1852400": 1,
         "U1852600": 2,
         "U1852700": 0,
         "U2166200": "nan",
         "U2166300": "nan",
         "U2166400": "nan",
         "U2166500": "nan",
         "U2857300": "nan",
         "U2962800": 6,
         "U2962900": 2,
         "U2963000": 6,
         "Z9063900": 0,
         "_deepnote_index_column": 2
        },
        {
         "R0000100": 4,
         "R0536300": 2,
         "R0536401": 2,
         "R0536402": 1981,
         "R1235800": 1,
         "R1482600": 2,
         "R9793800": "nan",
         "R9793900": "nan",
         "R9871900": 253,
         "R9872000": 216,
         "R9872200": 195,
         "R9872400": 216,
         "S8646900": "nan",
         "S8647000": "nan",
         "S8647100": "nan",
         "S8647200": "nan",
         "S8647300": "nan",
         "S8647400": "nan",
         "S8647500": "nan",
         "S8647600": "nan",
         "S8647700": "nan",
         "S8647800": "nan",
         "T6651700": "nan",
         "U1836800": "nan",
         "U1836900": "nan",
         "U1837000": "nan",
         "U1837100": "nan",
         "U1837200": "nan",
         "U1837300": "nan",
         "U1845400": 13,
         "U1852400": 0,
         "U1852600": 1,
         "U1852700": 1,
         "U2166200": "nan",
         "U2166300": "nan",
         "U2166400": "nan",
         "U2166500": "nan",
         "U2857300": "nan",
         "U2962800": 3,
         "U2962900": 2,
         "U2963000": 6,
         "Z9063900": 4,
         "_deepnote_index_column": 3
        },
        {
         "R0000100": 5,
         "R0536300": 1,
         "R0536401": 10,
         "R0536402": 1982,
         "R1235800": 1,
         "R1482600": 2,
         "R9793800": "nan",
         "R9793900": "nan",
         "R9871900": 243,
         "R9872000": 235,
         "R9872200": 293,
         "R9872400": 231,
         "S8646900": "nan",
         "S8647000": "nan",
         "S8647100": "nan",
         "S8647200": "nan",
         "S8647300": "nan",
         "S8647400": "nan",
         "S8647500": "nan",
         "S8647600": "nan",
         "S8647700": "nan",
         "S8647800": "nan",
         "T6651700": "nan",
         "U1836800": "nan",
         "U1836900": "nan",
         "U1837000": "nan",
         "U1837100": "nan",
         "U1837200": "nan",
         "U1837300": "nan",
         "U1845400": 12,
         "U1852400": 1,
         "U1852600": 2,
         "U1852700": 0,
         "U2166200": "nan",
         "U2166300": "nan",
         "U2166400": "nan",
         "U2166500": "nan",
         "U2857300": "nan",
         "U2962800": 2,
         "U2962900": 2,
         "U2963000": 5,
         "Z9063900": 12,
         "_deepnote_index_column": 4
        }
       ],
       "rows_bottom": null
      },
      "text/plain": "   R0000100  R0536300  R0536401  R0536402  R1235800  R1482600  R9793800  \\\n0       1.0       2.0       9.0    1981.0       1.0       4.0     350.0   \n1       2.0       1.0       7.0    1982.0       1.0       2.0     460.0   \n2       3.0       2.0       9.0    1983.0       1.0       2.0       NaN   \n3       4.0       2.0       2.0    1981.0       1.0       2.0       NaN   \n4       5.0       1.0      10.0    1982.0       1.0       2.0       NaN   \n\n   R9793900  R9871900  R9872000  ...  U1852700  U2166200  U2166300  U2166400  \\\n0     470.0     309.0     310.0  ...       NaN       NaN       NaN       NaN   \n1     440.0     217.0     280.0  ...       NaN       NaN       NaN       NaN   \n2       NaN       NaN       NaN  ...       0.0       NaN       NaN       NaN   \n3       NaN     253.0     216.0  ...       1.0       NaN       NaN       NaN   \n4       NaN     243.0     235.0  ...       0.0       NaN       NaN       NaN   \n\n   U2166500  U2857300  U2962800  U2962900  U2963000  Z9063900  \n0       NaN       NaN       NaN       NaN       NaN      52.0  \n1       NaN       NaN       4.0       2.0       6.0       0.0  \n2       NaN       NaN       6.0       2.0       6.0       0.0  \n3       NaN       NaN       3.0       2.0       6.0       4.0  \n4       NaN       NaN       2.0       2.0       5.0      12.0  \n\n[5 rows x 42 columns]",
      "text/html": "<div>\n<style scoped>\n    .dataframe tbody tr th:only-of-type {\n        vertical-align: middle;\n    }\n\n    .dataframe tbody tr th {\n        vertical-align: top;\n    }\n\n    .dataframe thead th {\n        text-align: right;\n    }\n</style>\n<table border=\"1\" class=\"dataframe\">\n  <thead>\n    <tr style=\"text-align: right;\">\n      <th></th>\n      <th>R0000100</th>\n      <th>R0536300</th>\n      <th>R0536401</th>\n      <th>R0536402</th>\n      <th>R1235800</th>\n      <th>R1482600</th>\n      <th>R9793800</th>\n      <th>R9793900</th>\n      <th>R9871900</th>\n      <th>R9872000</th>\n      <th>...</th>\n      <th>U1852700</th>\n      <th>U2166200</th>\n      <th>U2166300</th>\n      <th>U2166400</th>\n      <th>U2166500</th>\n      <th>U2857300</th>\n      <th>U2962800</th>\n      <th>U2962900</th>\n      <th>U2963000</th>\n      <th>Z9063900</th>\n    </tr>\n  </thead>\n  <tbody>\n    <tr>\n      <th>0</th>\n      <td>1.0</td>\n      <td>2.0</td>\n      <td>9.0</td>\n      <td>1981.0</td>\n      <td>1.0</td>\n      <td>4.0</td>\n      <td>350.0</td>\n      <td>470.0</td>\n      <td>309.0</td>\n      <td>310.0</td>\n      <td>...</td>\n      <td>NaN</td>\n      <td>NaN</td>\n      <td>NaN</td>\n      <td>NaN</td>\n      <td>NaN</td>\n      <td>NaN</td>\n      <td>NaN</td>\n      <td>NaN</td>\n      <td>NaN</td>\n      <td>52.0</td>\n    </tr>\n    <tr>\n      <th>1</th>\n      <td>2.0</td>\n      <td>1.0</td>\n      <td>7.0</td>\n      <td>1982.0</td>\n      <td>1.0</td>\n      <td>2.0</td>\n      <td>460.0</td>\n      <td>440.0</td>\n      <td>217.0</td>\n      <td>280.0</td>\n      <td>...</td>\n      <td>NaN</td>\n      <td>NaN</td>\n      <td>NaN</td>\n      <td>NaN</td>\n      <td>NaN</td>\n      <td>NaN</td>\n      <td>4.0</td>\n      <td>2.0</td>\n      <td>6.0</td>\n      <td>0.0</td>\n    </tr>\n    <tr>\n      <th>2</th>\n      <td>3.0</td>\n      <td>2.0</td>\n      <td>9.0</td>\n      <td>1983.0</td>\n      <td>1.0</td>\n      <td>2.0</td>\n      <td>NaN</td>\n      <td>NaN</td>\n      <td>NaN</td>\n      <td>NaN</td>\n      <td>...</td>\n      <td>0.0</td>\n      <td>NaN</td>\n      <td>NaN</td>\n      <td>NaN</td>\n      <td>NaN</td>\n      <td>NaN</td>\n      <td>6.0</td>\n      <td>2.0</td>\n      <td>6.0</td>\n      <td>0.0</td>\n    </tr>\n    <tr>\n      <th>3</th>\n      <td>4.0</td>\n      <td>2.0</td>\n      <td>2.0</td>\n      <td>1981.0</td>\n      <td>1.0</td>\n      <td>2.0</td>\n      <td>NaN</td>\n      <td>NaN</td>\n      <td>253.0</td>\n      <td>216.0</td>\n      <td>...</td>\n      <td>1.0</td>\n      <td>NaN</td>\n      <td>NaN</td>\n      <td>NaN</td>\n      <td>NaN</td>\n      <td>NaN</td>\n      <td>3.0</td>\n      <td>2.0</td>\n      <td>6.0</td>\n      <td>4.0</td>\n    </tr>\n    <tr>\n      <th>4</th>\n      <td>5.0</td>\n      <td>1.0</td>\n      <td>10.0</td>\n      <td>1982.0</td>\n      <td>1.0</td>\n      <td>2.0</td>\n      <td>NaN</td>\n      <td>NaN</td>\n      <td>243.0</td>\n      <td>235.0</td>\n      <td>...</td>\n      <td>0.0</td>\n      <td>NaN</td>\n      <td>NaN</td>\n      <td>NaN</td>\n      <td>NaN</td>\n      <td>NaN</td>\n      <td>2.0</td>\n      <td>2.0</td>\n      <td>5.0</td>\n      <td>12.0</td>\n    </tr>\n  </tbody>\n</table>\n<p>5 rows × 42 columns</p>\n</div>"
     },
     "metadata": {}
    }
   ],
   "execution_count": 8
  },
  {
   "cell_type": "code",
   "source": "nls97spss['R0536300'].value_counts(normalize=True)",
   "metadata": {
    "tags": [],
    "cell_id": "00004-04fb0532-c653-437a-b49b-5ba36a89e80e",
    "deepnote_to_be_reexecuted": false,
    "source_hash": "f89c7172",
    "execution_start": 1635258037379,
    "execution_millis": 623,
    "deepnote_cell_type": "code"
   },
   "outputs": [
    {
     "output_type": "execute_result",
     "execution_count": 9,
     "data": {
      "text/plain": "1.0    0.51191\n2.0    0.48809\nName: R0536300, dtype: float64"
     },
     "metadata": {}
    }
   ],
   "execution_count": 9
  },
  {
   "cell_type": "markdown",
   "source": "### Grad the metadata to improve column lables and value labels.",
   "metadata": {
    "tags": [],
    "cell_id": "00005-704f98df-5943-4861-837c-e37f26ba5e9f",
    "deepnote_cell_type": "markdown"
   }
  },
  {
   "cell_type": "code",
   "source": "metaspss.variable_value_labels['R0536300']",
   "metadata": {
    "tags": [],
    "cell_id": "00006-558bd7d0-581d-4bbb-876a-d806580e6c8c",
    "deepnote_to_be_reexecuted": false,
    "source_hash": "cbcd550c",
    "execution_start": 1635258518799,
    "execution_millis": 1,
    "deepnote_cell_type": "code"
   },
   "outputs": [
    {
     "output_type": "execute_result",
     "execution_count": 10,
     "data": {
      "text/plain": "{0.0: 'No Information', 1.0: 'Male', 2.0: 'Female'}"
     },
     "metadata": {}
    }
   ],
   "execution_count": 10
  },
  {
   "cell_type": "code",
   "source": "nls97spss[\"R0536300\"].map(metaspss.variable_value_labels['R0536300']).value_counts(normalize=True)",
   "metadata": {
    "tags": [],
    "cell_id": "00008-a6e43e84-f043-40ce-92e1-eacb32ed3d6d",
    "deepnote_to_be_reexecuted": false,
    "source_hash": "430316e2",
    "execution_start": 1635258649912,
    "execution_millis": 30,
    "deepnote_cell_type": "code"
   },
   "outputs": [
    {
     "output_type": "execute_result",
     "execution_count": 11,
     "data": {
      "text/plain": "Male      0.51191\nFemale    0.48809\nName: R0536300, dtype: float64"
     },
     "metadata": {}
    }
   ],
   "execution_count": 11
  },
  {
   "cell_type": "code",
   "source": "nls97spss = pyreadstat.set_value_labels(nls97spss, metaspss, formats_as_category=True)",
   "metadata": {
    "tags": [],
    "cell_id": "00009-1430c619-9996-4bc7-ab83-2652244ae04e",
    "deepnote_to_be_reexecuted": false,
    "source_hash": "e6b4256c",
    "execution_start": 1635258715134,
    "execution_millis": 156,
    "deepnote_cell_type": "code"
   },
   "outputs": [],
   "execution_count": 12
  },
  {
   "cell_type": "markdown",
   "source": "### Use column labels in the metadata to rename the columns.",
   "metadata": {
    "tags": [],
    "cell_id": "00010-2de57354-dcdb-4e1f-a474-67040f5575a3",
    "deepnote_cell_type": "markdown"
   }
  },
  {
   "cell_type": "code",
   "source": "nls97spss.columns = metaspss.column_labels",
   "metadata": {
    "tags": [],
    "cell_id": "00010-2f2ca3e5-00a2-429e-949e-3122a68b96c6",
    "deepnote_to_be_reexecuted": false,
    "source_hash": "10b0f7e2",
    "execution_start": 1635258819837,
    "execution_millis": 3,
    "deepnote_cell_type": "code"
   },
   "outputs": [],
   "execution_count": 15
  },
  {
   "cell_type": "code",
   "source": "nls97spss['KEY!SEX (SYMBOL) 1997'].value_counts(normalize=True)",
   "metadata": {
    "tags": [],
    "cell_id": "00011-5bf6a6c8-e9f7-4ceb-8260-117b7ed59a3e",
    "deepnote_to_be_reexecuted": false,
    "source_hash": "90527178",
    "execution_start": 1635258904999,
    "execution_millis": 13,
    "deepnote_cell_type": "code"
   },
   "outputs": [
    {
     "output_type": "execute_result",
     "execution_count": 18,
     "data": {
      "text/plain": "Male      0.51191\nFemale    0.48809\nName: KEY!SEX (SYMBOL) 1997, dtype: float64"
     },
     "metadata": {}
    }
   ],
   "execution_count": 18
  },
  {
   "cell_type": "code",
   "source": "nls97spss.dtypes",
   "metadata": {
    "tags": [],
    "cell_id": "00012-50790cd8-f545-45c6-ad38-bcbdff1a368d",
    "deepnote_to_be_reexecuted": false,
    "source_hash": "799ebadc",
    "execution_start": 1635258964652,
    "execution_millis": 21,
    "deepnote_cell_type": "code"
   },
   "outputs": [
    {
     "output_type": "execute_result",
     "execution_count": 20,
     "data": {
      "text/plain": "PUBID - YTH ID CODE 1997                        float64\nKEY!SEX (SYMBOL) 1997                          category\nKEY!BDATE M/Y (SYMBOL) 1997                     float64\nKEY!BDATE M/Y (SYMBOL) 1997                     float64\nCV_SAMPLE_TYPE 1997                            category\nKEY!RACE_ETHNICITY (SYMBOL) 1997               category\nTRANS_SAT_VERBAL HSTR                           float64\nTRANS_SAT_MATH HSTR                             float64\nTRANS CRD GPA OVERALL HSTR                      float64\nTRANS CRD GPA ENG HSTR                          float64\nTRANS CRD GPA MATH HSTR                         float64\nTRANS CRD GPA LP SCI HSTR                       float64\nGOVT RESPONSIBILITY - PROVIDE JOBS 2006        category\nGOVT RESPNSBLTY - KEEP PRICES UND CTRL 2006    category\nGOVT RESPNSBLTY - HLTH CARE FOR SICK 2006      category\nGOVT RESPNSBLTY -PROV ELD LIV STAND 2006       category\nGOVT RESPNSBLTY -PROV IND HELP 2006            category\nGOVT RESPNSBLTY -PROV UNEMP LIV STAND 2006     category\nGOVT RESPNSBLTY -REDUCE INC DIFF 2006          category\nGOVT RESPNSBLTY -PROV COLL FIN AID 2006        category\nGOVT RESPNSBLTY -PROV DECENT HOUSING 2006      category\nGOVT RESPNSBLTY -PROTECT ENVIRONMENT 2006      category\nCV_BA_CREDITS L1 2011                           float64\nCV_COLLEGE_TYPE L1 2017                        category\nCV_COLLEGE_TYPE L2 2017                        category\nCV_COLLEGE_TYPE L3 2017                        category\nCV_COLLEGE_TYPE L4 2017                        category\nCV_COLLEGE_TYPE L5 2017                        category\nCV_COLLEGE_TYPE L6 2017                        category\nCV_HGC_EVER 2017                               category\nCV_MARSTAT_COLLAPSED 2017                      category\nCV_BIO_CHILD_HH 2017                            float64\nCV_BIO_CHILD_NR 2017                            float64\nDIPLOMA/DEGREE RCVD? L1 2017                   category\nDIPLOMA/DEGREE RCVD? L2 2017                   category\nDIPLOMA/DEGREE RCVD? L3 2017                   category\nDIPLOMA/DEGREE RCVD? L4 2017                   category\nEST INC WAGES, TIPS PAST YR 2017               category\nHRS/WK R USES A COMPUTER 2017                  category\nHRS/WK R WATCHES TELEVISION 2017               category\nHRS/NIGHT R SLEEPS 2017                         float64\nCVC_WKSWK_YR_ALL L99                            float64\ndtype: object"
     },
     "metadata": {}
    }
   ],
   "execution_count": 20
  },
  {
   "cell_type": "code",
   "source": "nls97spss.columns = nls97spss.columns.str.lower().str.replace(' ', '_').str.replace('[^a-z0-9_]', '')",
   "metadata": {
    "tags": [],
    "cell_id": "00013-e5252a9e-945b-42a9-84bd-810284d3f299",
    "deepnote_to_be_reexecuted": false,
    "source_hash": "4af9d12f",
    "execution_start": 1635259283714,
    "execution_millis": 2,
    "deepnote_cell_type": "code"
   },
   "outputs": [
    {
     "name": "stderr",
     "text": "/shared-libs/python3.7/py-core/lib/python3.7/site-packages/ipykernel_launcher.py:1: FutureWarning: The default value of regex will change from True to False in a future version.\n  \"\"\"Entry point for launching an IPython kernel.\n",
     "output_type": "stream"
    }
   ],
   "execution_count": 23
  },
  {
   "cell_type": "code",
   "source": "nls97spss.dtypes",
   "metadata": {
    "tags": [],
    "cell_id": "00015-8751bdc6-b6d8-4fdc-bf4d-6f50109c3025",
    "deepnote_to_be_reexecuted": false,
    "source_hash": "799ebadc",
    "execution_start": 1635259286450,
    "execution_millis": 8,
    "deepnote_cell_type": "code"
   },
   "outputs": [
    {
     "output_type": "execute_result",
     "execution_count": 24,
     "data": {
      "text/plain": "pubid___yth_id_code_1997                        float64\nkey_sex__symbol__1997                          category\nkey_bdate_m_y__symbol__1997                     float64\nkey_bdate_m_y__symbol__1997                     float64\ncv_sample_type_1997                            category\nkey_race_ethnicity__symbol__1997               category\ntrans_sat_verbal_hstr                           float64\ntrans_sat_math_hstr                             float64\ntrans_crd_gpa_overall_hstr                      float64\ntrans_crd_gpa_eng_hstr                          float64\ntrans_crd_gpa_math_hstr                         float64\ntrans_crd_gpa_lp_sci_hstr                       float64\ngovt_responsibility___provide_jobs_2006        category\ngovt_respnsblty___keep_prices_und_ctrl_2006    category\ngovt_respnsblty___hlth_care_for_sick_2006      category\ngovt_respnsblty__prov_eld_liv_stand_2006       category\ngovt_respnsblty__prov_ind_help_2006            category\ngovt_respnsblty__prov_unemp_liv_stand_2006     category\ngovt_respnsblty__reduce_inc_diff_2006          category\ngovt_respnsblty__prov_coll_fin_aid_2006        category\ngovt_respnsblty__prov_decent_housing_2006      category\ngovt_respnsblty__protect_environment_2006      category\ncv_ba_credits_l1_2011                           float64\ncv_college_type_l1_2017                        category\ncv_college_type_l2_2017                        category\ncv_college_type_l3_2017                        category\ncv_college_type_l4_2017                        category\ncv_college_type_l5_2017                        category\ncv_college_type_l6_2017                        category\ncv_hgc_ever_2017                               category\ncv_marstat_collapsed_2017                      category\ncv_bio_child_hh_2017                            float64\ncv_bio_child_nr_2017                            float64\ndiploma_degree_rcvd__l1_2017                   category\ndiploma_degree_rcvd__l2_2017                   category\ndiploma_degree_rcvd__l3_2017                   category\ndiploma_degree_rcvd__l4_2017                   category\nest_inc_wages__tips_past_yr_2017               category\nhrs_wk_r_uses_a_computer_2017                  category\nhrs_wk_r_watches_television_2017               category\nhrs_night_r_sleeps_2017                         float64\ncvc_wkswk_yr_all_l99                            float64\ndtype: object"
     },
     "metadata": {}
    }
   ],
   "execution_count": 24
  },
  {
   "cell_type": "markdown",
   "source": "### Set the Index",
   "metadata": {
    "tags": [],
    "cell_id": "00016-b190cb79-ce3e-41a9-90f7-daa75f1a5c4a",
    "deepnote_cell_type": "markdown"
   }
  },
  {
   "cell_type": "code",
   "source": "nls97spss.set_index('pubid___yth_id_code_1997',inplace=True)",
   "metadata": {
    "tags": [],
    "cell_id": "00017-a725c88e-88c3-40af-adbc-cdd1624f0beb",
    "deepnote_to_be_reexecuted": false,
    "source_hash": "4e35661c",
    "execution_start": 1635259495421,
    "execution_millis": 5,
    "deepnote_cell_type": "code"
   },
   "outputs": [],
   "execution_count": 26
  },
  {
   "cell_type": "markdown",
   "source": "<a style='text-decoration:none;line-height:16px;display:flex;color:#5B5B62;padding:10px;justify-content:end;' href='https://deepnote.com?utm_source=created-in-deepnote-cell&projectId=48bf7820-5e38-454a-a6db-ca906c5b65d0' target=\"_blank\">\n<img alt='Created in deepnote.com' style='display:inline;max-height:16px;margin:0px;margin-right:7.5px;' src='data:image/svg+xml;base64,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' > </img>\nCreated in <span style='font-weight:600;margin-left:4px;'>Deepnote</span></a>",
   "metadata": {
    "tags": [],
    "created_in_deepnote_cell": true,
    "deepnote_cell_type": "markdown"
   }
  }
 ],
 "nbformat": 4,
 "nbformat_minor": 2,
 "metadata": {
  "orig_nbformat": 2,
  "deepnote": {
   "is_reactive": false
  },
  "deepnote_notebook_id": "7250acfa-d774-4e08-acdf-2f4dd96739c6",
  "deepnote_execution_queue": []
 }
}