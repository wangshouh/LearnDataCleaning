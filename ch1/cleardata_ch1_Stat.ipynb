{
 "cells": [
  {
   "cell_type": "markdown",
   "source": "### Import some packages.",
   "metadata": {
    "tags": [],
    "cell_id": "00001-f2f6a246-4c58-4724-bc2c-53e23b4e4956",
    "deepnote_cell_type": "markdown"
   }
  },
  {
   "cell_type": "code",
   "source": "import pandas as pd\nimport numpy as np\nimport pyreadstat",
   "metadata": {
    "tags": [],
    "cell_id": "00001-3d64c55b-80f6-48b3-8606-57995fa470ee",
    "deepnote_to_be_reexecuted": false,
    "source_hash": "a0ed2d7e",
    "execution_start": 1635259942456,
    "execution_millis": 10,
    "deepnote_cell_type": "code"
   },
   "outputs": [],
   "execution_count": 2
  },
  {
   "cell_type": "markdown",
   "source": "### Applying the value labels from begining",
   "metadata": {
    "tags": [],
    "cell_id": "00003-6603fb4c-c8ec-4bb3-88d0-5bb284e391c0",
    "deepnote_cell_type": "markdown"
   }
  },
  {
   "cell_type": "code",
   "source": "nls97spss, metaspss = pyreadstat.read_sav('/work/nls97.sav', apply_value_formats=True, formats_as_category=True)\nnls97spss.columns = metaspss.column_labels\nnls97spss.columns = nls97spss.columns.str.lower().str.replace(' ', '_').str.replace('[^a-z0-9_]', '')",
   "metadata": {
    "tags": [],
    "cell_id": "00002-b8133e9b-23e6-40e7-8c8e-c4cbf368180a",
    "deepnote_to_be_reexecuted": false,
    "source_hash": "6250980",
    "execution_start": 1635259962611,
    "execution_millis": 199,
    "deepnote_cell_type": "code"
   },
   "outputs": [
    {
     "name": "stderr",
     "text": "/shared-libs/python3.7/py-core/lib/python3.7/site-packages/ipykernel_launcher.py:3: FutureWarning: The default value of regex will change from True to False in a future version.\n  This is separate from the ipykernel package so we can avoid doing imports until\n",
     "output_type": "stream"
    }
   ],
   "execution_count": 5
  },
  {
   "cell_type": "code",
   "source": "nls97spss.dtypes",
   "metadata": {
    "tags": [],
    "cell_id": "00003-bf137ccc-092e-478c-9caa-192f44322afc",
    "deepnote_to_be_reexecuted": false,
    "source_hash": "799ebadc",
    "execution_start": 1635259974960,
    "execution_millis": 43,
    "deepnote_cell_type": "code"
   },
   "outputs": [
    {
     "output_type": "execute_result",
     "execution_count": 6,
     "data": {
      "text/plain": "pubid__yth_id_code_1997                        float64\nkeysex_symbol_1997                            category\nkeybdate_my_symbol_1997                        float64\nkeybdate_my_symbol_1997                        float64\ncv_sample_type_1997                           category\nkeyrace_ethnicity_symbol_1997                 category\ntrans_sat_verbal_hstr                          float64\ntrans_sat_math_hstr                            float64\ntrans_crd_gpa_overall_hstr                     float64\ntrans_crd_gpa_eng_hstr                         float64\ntrans_crd_gpa_math_hstr                        float64\ntrans_crd_gpa_lp_sci_hstr                      float64\ngovt_responsibility__provide_jobs_2006        category\ngovt_respnsblty__keep_prices_und_ctrl_2006    category\ngovt_respnsblty__hlth_care_for_sick_2006      category\ngovt_respnsblty_prov_eld_liv_stand_2006       category\ngovt_respnsblty_prov_ind_help_2006            category\ngovt_respnsblty_prov_unemp_liv_stand_2006     category\ngovt_respnsblty_reduce_inc_diff_2006          category\ngovt_respnsblty_prov_coll_fin_aid_2006        category\ngovt_respnsblty_prov_decent_housing_2006      category\ngovt_respnsblty_protect_environment_2006      category\ncv_ba_credits_l1_2011                          float64\ncv_college_type_l1_2017                       category\ncv_college_type_l2_2017                       category\ncv_college_type_l3_2017                       category\ncv_college_type_l4_2017                       category\ncv_college_type_l5_2017                       category\ncv_college_type_l6_2017                       category\ncv_hgc_ever_2017                              category\ncv_marstat_collapsed_2017                     category\ncv_bio_child_hh_2017                           float64\ncv_bio_child_nr_2017                           float64\ndiplomadegree_rcvd_l1_2017                    category\ndiplomadegree_rcvd_l2_2017                    category\ndiplomadegree_rcvd_l3_2017                    category\ndiplomadegree_rcvd_l4_2017                    category\nest_inc_wages_tips_past_yr_2017               category\nhrswk_r_uses_a_computer_2017                  category\nhrswk_r_watches_television_2017               category\nhrsnight_r_sleeps_2017                         float64\ncvc_wkswk_yr_all_l99                           float64\ndtype: object"
     },
     "metadata": {}
    }
   ],
   "execution_count": 6
  },
  {
   "cell_type": "code",
   "source": "nls97spss.head()",
   "metadata": {
    "tags": [],
    "cell_id": "00005-b12f181c-2348-441d-9e5c-3574bb1b7a6c",
    "deepnote_to_be_reexecuted": false,
    "source_hash": "196aff0a",
    "execution_start": 1635260012839,
    "execution_millis": 154,
    "deepnote_cell_type": "code"
   },
   "outputs": [
    {
     "output_type": "execute_result",
     "execution_count": 7,
     "data": {
      "application/vnd.deepnote.dataframe.v2+json": {
       "row_count": 5,
       "column_count": 42,
       "columns": [
        {
         "name": "pubid__yth_id_code_1997",
         "dtype": "float64",
         "stats": {
          "unique_count": 5,
          "nan_count": 0,
          "min": "1.0",
          "max": "5.0",
          "histogram": [
           {
            "bin_start": 1,
            "bin_end": 1.4,
            "count": 1
           },
           {
            "bin_start": 1.4,
            "bin_end": 1.8,
            "count": 0
           },
           {
            "bin_start": 1.8,
            "bin_end": 2.2,
            "count": 1
           },
           {
            "bin_start": 2.2,
            "bin_end": 2.6,
            "count": 0
           },
           {
            "bin_start": 2.6,
            "bin_end": 3,
            "count": 0
           },
           {
            "bin_start": 3,
            "bin_end": 3.4000000000000004,
            "count": 1
           },
           {
            "bin_start": 3.4000000000000004,
            "bin_end": 3.8000000000000003,
            "count": 0
           },
           {
            "bin_start": 3.8000000000000003,
            "bin_end": 4.2,
            "count": 1
           },
           {
            "bin_start": 4.2,
            "bin_end": 4.6,
            "count": 0
           },
           {
            "bin_start": 4.6,
            "bin_end": 5,
            "count": 1
           }
          ]
         }
        },
        {
         "name": "keysex_symbol_1997",
         "dtype": "category",
         "stats": {
          "unique_count": 2,
          "nan_count": 0,
          "categories": [
           {
            "name": "Female",
            "count": 3
           },
           {
            "name": "Male",
            "count": 2
           }
          ]
         }
        },
        {
         "name": "keybdate_my_symbol_1997",
         "dtype": "float64",
         "stats": {
          "unique_count": 4,
          "nan_count": 0,
          "min": "2.0",
          "max": "10.0",
          "histogram": [
           {
            "bin_start": 2,
            "bin_end": 2.8,
            "count": 1
           },
           {
            "bin_start": 2.8,
            "bin_end": 3.6,
            "count": 0
           },
           {
            "bin_start": 3.6,
            "bin_end": 4.4,
            "count": 0
           },
           {
            "bin_start": 4.4,
            "bin_end": 5.2,
            "count": 0
           },
           {
            "bin_start": 5.2,
            "bin_end": 6,
            "count": 0
           },
           {
            "bin_start": 6,
            "bin_end": 6.800000000000001,
            "count": 0
           },
           {
            "bin_start": 6.800000000000001,
            "bin_end": 7.6000000000000005,
            "count": 1
           },
           {
            "bin_start": 7.6000000000000005,
            "bin_end": 8.4,
            "count": 0
           },
           {
            "bin_start": 8.4,
            "bin_end": 9.2,
            "count": 2
           },
           {
            "bin_start": 9.2,
            "bin_end": 10,
            "count": 1
           }
          ]
         }
        },
        {
         "name": "keybdate_my_symbol_1997.1",
         "dtype": "float64",
         "stats": {
          "unique_count": 3,
          "nan_count": 0,
          "min": "1981.0",
          "max": "1983.0",
          "histogram": [
           {
            "bin_start": 1981,
            "bin_end": 1981.2,
            "count": 2
           },
           {
            "bin_start": 1981.2,
            "bin_end": 1981.4,
            "count": 0
           },
           {
            "bin_start": 1981.4,
            "bin_end": 1981.6,
            "count": 0
           },
           {
            "bin_start": 1981.6,
            "bin_end": 1981.8,
            "count": 0
           },
           {
            "bin_start": 1981.8,
            "bin_end": 1982,
            "count": 0
           },
           {
            "bin_start": 1982,
            "bin_end": 1982.2,
            "count": 2
           },
           {
            "bin_start": 1982.2,
            "bin_end": 1982.4,
            "count": 0
           },
           {
            "bin_start": 1982.4,
            "bin_end": 1982.6,
            "count": 0
           },
           {
            "bin_start": 1982.6,
            "bin_end": 1982.8,
            "count": 0
           },
           {
            "bin_start": 1982.8,
            "bin_end": 1983,
            "count": 1
           }
          ]
         }
        },
        {
         "name": "cv_sample_type_1997",
         "dtype": "category",
         "stats": {
          "unique_count": 1,
          "nan_count": 0,
          "categories": [
           {
            "name": "Cross-sectional",
            "count": 5
           }
          ]
         }
        },
        {
         "name": "keyrace_ethnicity_symbol_1997",
         "dtype": "category",
         "stats": {
          "unique_count": 2,
          "nan_count": 0,
          "categories": [
           {
            "name": "Hispanic",
            "count": 4
           },
           {
            "name": "Non-Black / Non-Hispanic",
            "count": 1
           }
          ]
         }
        },
        {
         "name": "trans_sat_verbal_hstr",
         "dtype": "float64",
         "stats": {
          "unique_count": 2,
          "nan_count": 3,
          "min": "350.0",
          "max": "460.0",
          "histogram": [
           {
            "bin_start": 350,
            "bin_end": 361,
            "count": 1
           },
           {
            "bin_start": 361,
            "bin_end": 372,
            "count": 0
           },
           {
            "bin_start": 372,
            "bin_end": 383,
            "count": 0
           },
           {
            "bin_start": 383,
            "bin_end": 394,
            "count": 0
           },
           {
            "bin_start": 394,
            "bin_end": 405,
            "count": 0
           },
           {
            "bin_start": 405,
            "bin_end": 416,
            "count": 0
           },
           {
            "bin_start": 416,
            "bin_end": 427,
            "count": 0
           },
           {
            "bin_start": 427,
            "bin_end": 438,
            "count": 0
           },
           {
            "bin_start": 438,
            "bin_end": 449,
            "count": 0
           },
           {
            "bin_start": 449,
            "bin_end": 460,
            "count": 1
           }
          ]
         }
        },
        {
         "name": "trans_sat_math_hstr",
         "dtype": "float64",
         "stats": {
          "unique_count": 2,
          "nan_count": 3,
          "min": "440.0",
          "max": "470.0",
          "histogram": [
           {
            "bin_start": 440,
            "bin_end": 443,
            "count": 1
           },
           {
            "bin_start": 443,
            "bin_end": 446,
            "count": 0
           },
           {
            "bin_start": 446,
            "bin_end": 449,
            "count": 0
           },
           {
            "bin_start": 449,
            "bin_end": 452,
            "count": 0
           },
           {
            "bin_start": 452,
            "bin_end": 455,
            "count": 0
           },
           {
            "bin_start": 455,
            "bin_end": 458,
            "count": 0
           },
           {
            "bin_start": 458,
            "bin_end": 461,
            "count": 0
           },
           {
            "bin_start": 461,
            "bin_end": 464,
            "count": 0
           },
           {
            "bin_start": 464,
            "bin_end": 467,
            "count": 0
           },
           {
            "bin_start": 467,
            "bin_end": 470,
            "count": 1
           }
          ]
         }
        },
        {
         "name": "trans_crd_gpa_overall_hstr",
         "dtype": "float64",
         "stats": {
          "unique_count": 4,
          "nan_count": 1,
          "min": "217.0",
          "max": "309.0",
          "histogram": [
           {
            "bin_start": 217,
            "bin_end": 226.2,
            "count": 1
           },
           {
            "bin_start": 226.2,
            "bin_end": 235.4,
            "count": 0
           },
           {
            "bin_start": 235.4,
            "bin_end": 244.6,
            "count": 1
           },
           {
            "bin_start": 244.6,
            "bin_end": 253.8,
            "count": 1
           },
           {
            "bin_start": 253.8,
            "bin_end": 263,
            "count": 0
           },
           {
            "bin_start": 263,
            "bin_end": 272.2,
            "count": 0
           },
           {
            "bin_start": 272.2,
            "bin_end": 281.4,
            "count": 0
           },
           {
            "bin_start": 281.4,
            "bin_end": 290.6,
            "count": 0
           },
           {
            "bin_start": 290.6,
            "bin_end": 299.8,
            "count": 0
           },
           {
            "bin_start": 299.8,
            "bin_end": 309,
            "count": 1
           }
          ]
         }
        },
        {
         "name": "trans_crd_gpa_eng_hstr",
         "dtype": "float64",
         "stats": {
          "unique_count": 4,
          "nan_count": 1,
          "min": "216.0",
          "max": "310.0",
          "histogram": [
           {
            "bin_start": 216,
            "bin_end": 225.4,
            "count": 1
           },
           {
            "bin_start": 225.4,
            "bin_end": 234.8,
            "count": 0
           },
           {
            "bin_start": 234.8,
            "bin_end": 244.2,
            "count": 1
           },
           {
            "bin_start": 244.2,
            "bin_end": 253.6,
            "count": 0
           },
           {
            "bin_start": 253.6,
            "bin_end": 263,
            "count": 0
           },
           {
            "bin_start": 263,
            "bin_end": 272.4,
            "count": 0
           },
           {
            "bin_start": 272.4,
            "bin_end": 281.8,
            "count": 1
           },
           {
            "bin_start": 281.8,
            "bin_end": 291.2,
            "count": 0
           },
           {
            "bin_start": 291.2,
            "bin_end": 300.6,
            "count": 0
           },
           {
            "bin_start": 300.6,
            "bin_end": 310,
            "count": 1
           }
          ]
         }
        },
        {
         "name": "trans_crd_gpa_math_hstr",
         "dtype": "float64",
         "stats": {
          "unique_count": 3,
          "nan_count": 1,
          "min": "114.0",
          "max": "293.0",
          "histogram": [
           {
            "bin_start": 114,
            "bin_end": 131.9,
            "count": 1
           },
           {
            "bin_start": 131.9,
            "bin_end": 149.8,
            "count": 0
           },
           {
            "bin_start": 149.8,
            "bin_end": 167.7,
            "count": 0
           },
           {
            "bin_start": 167.7,
            "bin_end": 185.6,
            "count": 0
           },
           {
            "bin_start": 185.6,
            "bin_end": 203.5,
            "count": 1
           },
           {
            "bin_start": 203.5,
            "bin_end": 221.39999999999998,
            "count": 0
           },
           {
            "bin_start": 221.39999999999998,
            "bin_end": 239.29999999999998,
            "count": 0
           },
           {
            "bin_start": 239.29999999999998,
            "bin_end": 257.2,
            "count": 0
           },
           {
            "bin_start": 257.2,
            "bin_end": 275.1,
            "count": 0
           },
           {
            "bin_start": 275.1,
            "bin_end": 293,
            "count": 2
           }
          ]
         }
        },
        {
         "name": "trans_crd_gpa_lp_sci_hstr",
         "dtype": "float64",
         "stats": {
          "unique_count": 4,
          "nan_count": 1,
          "min": "143.0",
          "max": "333.0",
          "histogram": [
           {
            "bin_start": 143,
            "bin_end": 162,
            "count": 1
           },
           {
            "bin_start": 162,
            "bin_end": 181,
            "count": 0
           },
           {
            "bin_start": 181,
            "bin_end": 200,
            "count": 0
           },
           {
            "bin_start": 200,
            "bin_end": 219,
            "count": 1
           },
           {
            "bin_start": 219,
            "bin_end": 238,
            "count": 1
           },
           {
            "bin_start": 238,
            "bin_end": 257,
            "count": 0
           },
           {
            "bin_start": 257,
            "bin_end": 276,
            "count": 0
           },
           {
            "bin_start": 276,
            "bin_end": 295,
            "count": 0
           },
           {
            "bin_start": 295,
            "bin_end": 314,
            "count": 0
           },
           {
            "bin_start": 314,
            "bin_end": 333,
            "count": 1
           }
          ]
         }
        },
        {
         "name": "govt_responsibility__provide_jobs_2006",
         "dtype": "category",
         "stats": {
          "unique_count": 0,
          "nan_count": 5,
          "categories": [
           {
            "name": "Missing",
            "count": 5
           }
          ]
         }
        },
        {
         "name": "govt_respnsblty__keep_prices_und_ctrl_2006",
         "dtype": "category",
         "stats": {
          "unique_count": 0,
          "nan_count": 5,
          "categories": [
           {
            "name": "Missing",
            "count": 5
           }
          ]
         }
        },
        {
         "name": "govt_respnsblty__hlth_care_for_sick_2006",
         "dtype": "category",
         "stats": {
          "unique_count": 0,
          "nan_count": 5,
          "categories": [
           {
            "name": "Missing",
            "count": 5
           }
          ]
         }
        },
        {
         "name": "govt_respnsblty_prov_eld_liv_stand_2006",
         "dtype": "category",
         "stats": {
          "unique_count": 0,
          "nan_count": 5,
          "categories": [
           {
            "name": "Missing",
            "count": 5
           }
          ]
         }
        },
        {
         "name": "govt_respnsblty_prov_ind_help_2006",
         "dtype": "category",
         "stats": {
          "unique_count": 0,
          "nan_count": 5,
          "categories": [
           {
            "name": "Missing",
            "count": 5
           }
          ]
         }
        },
        {
         "name": "govt_respnsblty_prov_unemp_liv_stand_2006",
         "dtype": "category",
         "stats": {
          "unique_count": 0,
          "nan_count": 5,
          "categories": [
           {
            "name": "Missing",
            "count": 5
           }
          ]
         }
        },
        {
         "name": "govt_respnsblty_reduce_inc_diff_2006",
         "dtype": "category",
         "stats": {
          "unique_count": 0,
          "nan_count": 5,
          "categories": [
           {
            "name": "Missing",
            "count": 5
           }
          ]
         }
        },
        {
         "name": "govt_respnsblty_prov_coll_fin_aid_2006",
         "dtype": "category",
         "stats": {
          "unique_count": 0,
          "nan_count": 5,
          "categories": [
           {
            "name": "Missing",
            "count": 5
           }
          ]
         }
        },
        {
         "name": "govt_respnsblty_prov_decent_housing_2006",
         "dtype": "category",
         "stats": {
          "unique_count": 0,
          "nan_count": 5,
          "categories": [
           {
            "name": "Missing",
            "count": 5
           }
          ]
         }
        },
        {
         "name": "govt_respnsblty_protect_environment_2006",
         "dtype": "category",
         "stats": {
          "unique_count": 0,
          "nan_count": 5,
          "categories": [
           {
            "name": "Missing",
            "count": 5
           }
          ]
         }
        },
        {
         "name": "cv_ba_credits_l1_2011",
         "dtype": "float64",
         "stats": {
          "unique_count": 0,
          "nan_count": 5,
          "min": null,
          "max": null,
          "histogram": [
           {
            "bin_start": 0,
            "bin_end": 0.1,
            "count": 0
           },
           {
            "bin_start": 0.1,
            "bin_end": 0.2,
            "count": 0
           },
           {
            "bin_start": 0.2,
            "bin_end": 0.30000000000000004,
            "count": 0
           },
           {
            "bin_start": 0.30000000000000004,
            "bin_end": 0.4,
            "count": 0
           },
           {
            "bin_start": 0.4,
            "bin_end": 0.5,
            "count": 0
           },
           {
            "bin_start": 0.5,
            "bin_end": 0.6000000000000001,
            "count": 0
           },
           {
            "bin_start": 0.6000000000000001,
            "bin_end": 0.7000000000000001,
            "count": 0
           },
           {
            "bin_start": 0.7000000000000001,
            "bin_end": 0.8,
            "count": 0
           },
           {
            "bin_start": 0.8,
            "bin_end": 0.9,
            "count": 0
           },
           {
            "bin_start": 0.9,
            "bin_end": 1,
            "count": 0
           }
          ]
         }
        },
        {
         "name": "cv_college_type_l1_2017",
         "dtype": "category",
         "stats": {
          "unique_count": 1,
          "nan_count": 4,
          "categories": [
           {
            "name": "Private for-profit institution",
            "count": 1
           },
           {
            "name": "Missing",
            "count": 4
           }
          ]
         }
        },
        {
         "name": "cv_college_type_l2_2017",
         "dtype": "category",
         "stats": {
          "unique_count": 0,
          "nan_count": 5,
          "categories": [
           {
            "name": "Missing",
            "count": 5
           }
          ]
         }
        },
        {
         "name": "cv_college_type_l3_2017",
         "dtype": "category",
         "stats": {
          "unique_count": 0,
          "nan_count": 5,
          "categories": [
           {
            "name": "Missing",
            "count": 5
           }
          ]
         }
        },
        {
         "name": "cv_college_type_l4_2017",
         "dtype": "category",
         "stats": {
          "unique_count": 0,
          "nan_count": 5,
          "categories": [
           {
            "name": "Missing",
            "count": 5
           }
          ]
         }
        },
        {
         "name": "cv_college_type_l5_2017",
         "dtype": "category",
         "stats": {
          "unique_count": 0,
          "nan_count": 5,
          "categories": [
           {
            "name": "Missing",
            "count": 5
           }
          ]
         }
        },
        {
         "name": "cv_college_type_l6_2017",
         "dtype": "category",
         "stats": {
          "unique_count": 0,
          "nan_count": 5,
          "categories": [
           {
            "name": "Missing",
            "count": 5
           }
          ]
         }
        },
        {
         "name": "cv_hgc_ever_2017",
         "dtype": "category",
         "stats": {
          "unique_count": 4,
          "nan_count": 1,
          "categories": [
           {
            "name": "2ND YEAR COLLEGE",
            "count": 1
           },
           {
            "name": "3 others",
            "count": 3
           },
           {
            "name": "Missing",
            "count": 1
           }
          ]
         }
        },
        {
         "name": "cv_marstat_collapsed_2017",
         "dtype": "category",
         "stats": {
          "unique_count": 2,
          "nan_count": 1,
          "categories": [
           {
            "name": "Never-married",
            "count": 2
           },
           {
            "name": "Married",
            "count": 2
           },
           {
            "name": "Missing",
            "count": 1
           }
          ]
         }
        },
        {
         "name": "cv_bio_child_hh_2017",
         "dtype": "float64",
         "stats": {
          "unique_count": 2,
          "nan_count": 2,
          "min": "1.0",
          "max": "2.0",
          "histogram": [
           {
            "bin_start": 1,
            "bin_end": 1.1,
            "count": 1
           },
           {
            "bin_start": 1.1,
            "bin_end": 1.2,
            "count": 0
           },
           {
            "bin_start": 1.2,
            "bin_end": 1.3,
            "count": 0
           },
           {
            "bin_start": 1.3,
            "bin_end": 1.4,
            "count": 0
           },
           {
            "bin_start": 1.4,
            "bin_end": 1.5,
            "count": 0
           },
           {
            "bin_start": 1.5,
            "bin_end": 1.6,
            "count": 0
           },
           {
            "bin_start": 1.6,
            "bin_end": 1.7000000000000002,
            "count": 0
           },
           {
            "bin_start": 1.7000000000000002,
            "bin_end": 1.8,
            "count": 0
           },
           {
            "bin_start": 1.8,
            "bin_end": 1.9,
            "count": 0
           },
           {
            "bin_start": 1.9,
            "bin_end": 2,
            "count": 2
           }
          ]
         }
        },
        {
         "name": "cv_bio_child_nr_2017",
         "dtype": "float64",
         "stats": {
          "unique_count": 2,
          "nan_count": 2,
          "min": "0.0",
          "max": "1.0",
          "histogram": [
           {
            "bin_start": 0,
            "bin_end": 0.1,
            "count": 2
           },
           {
            "bin_start": 0.1,
            "bin_end": 0.2,
            "count": 0
           },
           {
            "bin_start": 0.2,
            "bin_end": 0.30000000000000004,
            "count": 0
           },
           {
            "bin_start": 0.30000000000000004,
            "bin_end": 0.4,
            "count": 0
           },
           {
            "bin_start": 0.4,
            "bin_end": 0.5,
            "count": 0
           },
           {
            "bin_start": 0.5,
            "bin_end": 0.6000000000000001,
            "count": 0
           },
           {
            "bin_start": 0.6000000000000001,
            "bin_end": 0.7000000000000001,
            "count": 0
           },
           {
            "bin_start": 0.7000000000000001,
            "bin_end": 0.8,
            "count": 0
           },
           {
            "bin_start": 0.8,
            "bin_end": 0.9,
            "count": 0
           },
           {
            "bin_start": 0.9,
            "bin_end": 1,
            "count": 1
           }
          ]
         }
        },
        {
         "name": "diplomadegree_rcvd_l1_2017",
         "dtype": "category",
         "stats": {
          "unique_count": 0,
          "nan_count": 5,
          "categories": [
           {
            "name": "Missing",
            "count": 5
           }
          ]
         }
        },
        {
         "name": "diplomadegree_rcvd_l2_2017",
         "dtype": "category",
         "stats": {
          "unique_count": 0,
          "nan_count": 5,
          "categories": [
           {
            "name": "Missing",
            "count": 5
           }
          ]
         }
        },
        {
         "name": "diplomadegree_rcvd_l3_2017",
         "dtype": "category",
         "stats": {
          "unique_count": 0,
          "nan_count": 5,
          "categories": [
           {
            "name": "Missing",
            "count": 5
           }
          ]
         }
        },
        {
         "name": "diplomadegree_rcvd_l4_2017",
         "dtype": "category",
         "stats": {
          "unique_count": 0,
          "nan_count": 5,
          "categories": [
           {
            "name": "Missing",
            "count": 5
           }
          ]
         }
        },
        {
         "name": "est_inc_wages_tips_past_yr_2017",
         "dtype": "category",
         "stats": {
          "unique_count": 0,
          "nan_count": 5,
          "categories": [
           {
            "name": "Missing",
            "count": 5
           }
          ]
         }
        },
        {
         "name": "hrswk_r_uses_a_computer_2017",
         "dtype": "category",
         "stats": {
          "unique_count": 4,
          "nan_count": 1,
          "categories": [
           {
            "name": "4 to 6 hours a week",
            "count": 1
           },
           {
            "name": "3 others",
            "count": 3
           },
           {
            "name": "Missing",
            "count": 1
           }
          ]
         }
        },
        {
         "name": "hrswk_r_watches_television_2017",
         "dtype": "category",
         "stats": {
          "unique_count": 1,
          "nan_count": 1,
          "categories": [
           {
            "name": "3 to 10 hours a week",
            "count": 4
           },
           {
            "name": "Missing",
            "count": 1
           }
          ]
         }
        },
        {
         "name": "hrsnight_r_sleeps_2017",
         "dtype": "float64",
         "stats": {
          "unique_count": 2,
          "nan_count": 1,
          "min": "5.0",
          "max": "6.0",
          "histogram": [
           {
            "bin_start": 5,
            "bin_end": 5.1,
            "count": 1
           },
           {
            "bin_start": 5.1,
            "bin_end": 5.2,
            "count": 0
           },
           {
            "bin_start": 5.2,
            "bin_end": 5.3,
            "count": 0
           },
           {
            "bin_start": 5.3,
            "bin_end": 5.4,
            "count": 0
           },
           {
            "bin_start": 5.4,
            "bin_end": 5.5,
            "count": 0
           },
           {
            "bin_start": 5.5,
            "bin_end": 5.6,
            "count": 0
           },
           {
            "bin_start": 5.6,
            "bin_end": 5.7,
            "count": 0
           },
           {
            "bin_start": 5.7,
            "bin_end": 5.8,
            "count": 0
           },
           {
            "bin_start": 5.8,
            "bin_end": 5.9,
            "count": 0
           },
           {
            "bin_start": 5.9,
            "bin_end": 6,
            "count": 3
           }
          ]
         }
        },
        {
         "name": "cvc_wkswk_yr_all_l99",
         "dtype": "float64",
         "stats": {
          "unique_count": 4,
          "nan_count": 0,
          "min": "0.0",
          "max": "52.0",
          "histogram": [
           {
            "bin_start": 0,
            "bin_end": 5.2,
            "count": 3
           },
           {
            "bin_start": 5.2,
            "bin_end": 10.4,
            "count": 0
           },
           {
            "bin_start": 10.4,
            "bin_end": 15.600000000000001,
            "count": 1
           },
           {
            "bin_start": 15.600000000000001,
            "bin_end": 20.8,
            "count": 0
           },
           {
            "bin_start": 20.8,
            "bin_end": 26,
            "count": 0
           },
           {
            "bin_start": 26,
            "bin_end": 31.200000000000003,
            "count": 0
           },
           {
            "bin_start": 31.200000000000003,
            "bin_end": 36.4,
            "count": 0
           },
           {
            "bin_start": 36.4,
            "bin_end": 41.6,
            "count": 0
           },
           {
            "bin_start": 41.6,
            "bin_end": 46.800000000000004,
            "count": 0
           },
           {
            "bin_start": 46.800000000000004,
            "bin_end": 52,
            "count": 1
           }
          ]
         }
        },
        {
         "name": "_deepnote_index_column",
         "dtype": "int64"
        }
       ],
       "rows_top": [
        {
         "pubid__yth_id_code_1997": 1,
         "keysex_symbol_1997": "Female",
         "keybdate_my_symbol_1997": 9,
         "keybdate_my_symbol_1997.1": 1981,
         "cv_sample_type_1997": "Cross-sectional",
         "keyrace_ethnicity_symbol_1997": "Non-Black / Non-Hispanic",
         "trans_sat_verbal_hstr": 350,
         "trans_sat_math_hstr": 470,
         "trans_crd_gpa_overall_hstr": 309,
         "trans_crd_gpa_eng_hstr": 310,
         "trans_crd_gpa_math_hstr": 293,
         "trans_crd_gpa_lp_sci_hstr": 333,
         "govt_responsibility__provide_jobs_2006": "nan",
         "govt_respnsblty__keep_prices_und_ctrl_2006": "nan",
         "govt_respnsblty__hlth_care_for_sick_2006": "nan",
         "govt_respnsblty_prov_eld_liv_stand_2006": "nan",
         "govt_respnsblty_prov_ind_help_2006": "nan",
         "govt_respnsblty_prov_unemp_liv_stand_2006": "nan",
         "govt_respnsblty_reduce_inc_diff_2006": "nan",
         "govt_respnsblty_prov_coll_fin_aid_2006": "nan",
         "govt_respnsblty_prov_decent_housing_2006": "nan",
         "govt_respnsblty_protect_environment_2006": "nan",
         "cv_ba_credits_l1_2011": "nan",
         "cv_college_type_l1_2017": "nan",
         "cv_college_type_l2_2017": "nan",
         "cv_college_type_l3_2017": "nan",
         "cv_college_type_l4_2017": "nan",
         "cv_college_type_l5_2017": "nan",
         "cv_college_type_l6_2017": "nan",
         "cv_hgc_ever_2017": "nan",
         "cv_marstat_collapsed_2017": "nan",
         "cv_bio_child_hh_2017": "nan",
         "cv_bio_child_nr_2017": "nan",
         "diplomadegree_rcvd_l1_2017": "nan",
         "diplomadegree_rcvd_l2_2017": "nan",
         "diplomadegree_rcvd_l3_2017": "nan",
         "diplomadegree_rcvd_l4_2017": "nan",
         "est_inc_wages_tips_past_yr_2017": "nan",
         "hrswk_r_uses_a_computer_2017": "nan",
         "hrswk_r_watches_television_2017": "nan",
         "hrsnight_r_sleeps_2017": "nan",
         "cvc_wkswk_yr_all_l99": 52,
         "_deepnote_index_column": 0
        },
        {
         "pubid__yth_id_code_1997": 2,
         "keysex_symbol_1997": "Male",
         "keybdate_my_symbol_1997": 7,
         "keybdate_my_symbol_1997.1": 1982,
         "cv_sample_type_1997": "Cross-sectional",
         "keyrace_ethnicity_symbol_1997": "Hispanic",
         "trans_sat_verbal_hstr": 460,
         "trans_sat_math_hstr": 440,
         "trans_crd_gpa_overall_hstr": 217,
         "trans_crd_gpa_eng_hstr": 280,
         "trans_crd_gpa_math_hstr": 114,
         "trans_crd_gpa_lp_sci_hstr": 143,
         "govt_responsibility__provide_jobs_2006": "nan",
         "govt_respnsblty__keep_prices_und_ctrl_2006": "nan",
         "govt_respnsblty__hlth_care_for_sick_2006": "nan",
         "govt_respnsblty_prov_eld_liv_stand_2006": "nan",
         "govt_respnsblty_prov_ind_help_2006": "nan",
         "govt_respnsblty_prov_unemp_liv_stand_2006": "nan",
         "govt_respnsblty_reduce_inc_diff_2006": "nan",
         "govt_respnsblty_prov_coll_fin_aid_2006": "nan",
         "govt_respnsblty_prov_decent_housing_2006": "nan",
         "govt_respnsblty_protect_environment_2006": "nan",
         "cv_ba_credits_l1_2011": "nan",
         "cv_college_type_l1_2017": "nan",
         "cv_college_type_l2_2017": "nan",
         "cv_college_type_l3_2017": "nan",
         "cv_college_type_l4_2017": "nan",
         "cv_college_type_l5_2017": "nan",
         "cv_college_type_l6_2017": "nan",
         "cv_hgc_ever_2017": "2ND YEAR COLLEGE",
         "cv_marstat_collapsed_2017": "Never-married",
         "cv_bio_child_hh_2017": "nan",
         "cv_bio_child_nr_2017": "nan",
         "diplomadegree_rcvd_l1_2017": "nan",
         "diplomadegree_rcvd_l2_2017": "nan",
         "diplomadegree_rcvd_l3_2017": "nan",
         "diplomadegree_rcvd_l4_2017": "nan",
         "est_inc_wages_tips_past_yr_2017": "nan",
         "hrswk_r_uses_a_computer_2017": "4 to 6 hours a week",
         "hrswk_r_watches_television_2017": "3 to 10 hours a week",
         "hrsnight_r_sleeps_2017": 6,
         "cvc_wkswk_yr_all_l99": 0,
         "_deepnote_index_column": 1
        },
        {
         "pubid__yth_id_code_1997": 3,
         "keysex_symbol_1997": "Female",
         "keybdate_my_symbol_1997": 9,
         "keybdate_my_symbol_1997.1": 1983,
         "cv_sample_type_1997": "Cross-sectional",
         "keyrace_ethnicity_symbol_1997": "Hispanic",
         "trans_sat_verbal_hstr": "nan",
         "trans_sat_math_hstr": "nan",
         "trans_crd_gpa_overall_hstr": "nan",
         "trans_crd_gpa_eng_hstr": "nan",
         "trans_crd_gpa_math_hstr": "nan",
         "trans_crd_gpa_lp_sci_hstr": "nan",
         "govt_responsibility__provide_jobs_2006": "nan",
         "govt_respnsblty__keep_prices_und_ctrl_2006": "nan",
         "govt_respnsblty__hlth_care_for_sick_2006": "nan",
         "govt_respnsblty_prov_eld_liv_stand_2006": "nan",
         "govt_respnsblty_prov_ind_help_2006": "nan",
         "govt_respnsblty_prov_unemp_liv_stand_2006": "nan",
         "govt_respnsblty_reduce_inc_diff_2006": "nan",
         "govt_respnsblty_prov_coll_fin_aid_2006": "nan",
         "govt_respnsblty_prov_decent_housing_2006": "nan",
         "govt_respnsblty_protect_environment_2006": "nan",
         "cv_ba_credits_l1_2011": "nan",
         "cv_college_type_l1_2017": "Private for-profit institution",
         "cv_college_type_l2_2017": "nan",
         "cv_college_type_l3_2017": "nan",
         "cv_college_type_l4_2017": "nan",
         "cv_college_type_l5_2017": "nan",
         "cv_college_type_l6_2017": "nan",
         "cv_hgc_ever_2017": "4TH YEAR COLLEGE",
         "cv_marstat_collapsed_2017": "Married",
         "cv_bio_child_hh_2017": 2,
         "cv_bio_child_nr_2017": 0,
         "diplomadegree_rcvd_l1_2017": "nan",
         "diplomadegree_rcvd_l2_2017": "nan",
         "diplomadegree_rcvd_l3_2017": "nan",
         "diplomadegree_rcvd_l4_2017": "nan",
         "est_inc_wages_tips_past_yr_2017": "nan",
         "hrswk_r_uses_a_computer_2017": "10 hours or more a week",
         "hrswk_r_watches_television_2017": "3 to 10 hours a week",
         "hrsnight_r_sleeps_2017": 6,
         "cvc_wkswk_yr_all_l99": 0,
         "_deepnote_index_column": 2
        },
        {
         "pubid__yth_id_code_1997": 4,
         "keysex_symbol_1997": "Female",
         "keybdate_my_symbol_1997": 2,
         "keybdate_my_symbol_1997.1": 1981,
         "cv_sample_type_1997": "Cross-sectional",
         "keyrace_ethnicity_symbol_1997": "Hispanic",
         "trans_sat_verbal_hstr": "nan",
         "trans_sat_math_hstr": "nan",
         "trans_crd_gpa_overall_hstr": 253,
         "trans_crd_gpa_eng_hstr": 216,
         "trans_crd_gpa_math_hstr": 195,
         "trans_crd_gpa_lp_sci_hstr": 216,
         "govt_responsibility__provide_jobs_2006": "nan",
         "govt_respnsblty__keep_prices_und_ctrl_2006": "nan",
         "govt_respnsblty__hlth_care_for_sick_2006": "nan",
         "govt_respnsblty_prov_eld_liv_stand_2006": "nan",
         "govt_respnsblty_prov_ind_help_2006": "nan",
         "govt_respnsblty_prov_unemp_liv_stand_2006": "nan",
         "govt_respnsblty_reduce_inc_diff_2006": "nan",
         "govt_respnsblty_prov_coll_fin_aid_2006": "nan",
         "govt_respnsblty_prov_decent_housing_2006": "nan",
         "govt_respnsblty_protect_environment_2006": "nan",
         "cv_ba_credits_l1_2011": "nan",
         "cv_college_type_l1_2017": "nan",
         "cv_college_type_l2_2017": "nan",
         "cv_college_type_l3_2017": "nan",
         "cv_college_type_l4_2017": "nan",
         "cv_college_type_l5_2017": "nan",
         "cv_college_type_l6_2017": "nan",
         "cv_hgc_ever_2017": "1ST YEAR COLLEGE",
         "cv_marstat_collapsed_2017": "Never-married",
         "cv_bio_child_hh_2017": 1,
         "cv_bio_child_nr_2017": 1,
         "diplomadegree_rcvd_l1_2017": "nan",
         "diplomadegree_rcvd_l2_2017": "nan",
         "diplomadegree_rcvd_l3_2017": "nan",
         "diplomadegree_rcvd_l4_2017": "nan",
         "est_inc_wages_tips_past_yr_2017": "nan",
         "hrswk_r_uses_a_computer_2017": "1 to 3 hours a week",
         "hrswk_r_watches_television_2017": "3 to 10 hours a week",
         "hrsnight_r_sleeps_2017": 6,
         "cvc_wkswk_yr_all_l99": 4,
         "_deepnote_index_column": 3
        },
        {
         "pubid__yth_id_code_1997": 5,
         "keysex_symbol_1997": "Male",
         "keybdate_my_symbol_1997": 10,
         "keybdate_my_symbol_1997.1": 1982,
         "cv_sample_type_1997": "Cross-sectional",
         "keyrace_ethnicity_symbol_1997": "Hispanic",
         "trans_sat_verbal_hstr": "nan",
         "trans_sat_math_hstr": "nan",
         "trans_crd_gpa_overall_hstr": 243,
         "trans_crd_gpa_eng_hstr": 235,
         "trans_crd_gpa_math_hstr": 293,
         "trans_crd_gpa_lp_sci_hstr": 231,
         "govt_responsibility__provide_jobs_2006": "nan",
         "govt_respnsblty__keep_prices_und_ctrl_2006": "nan",
         "govt_respnsblty__hlth_care_for_sick_2006": "nan",
         "govt_respnsblty_prov_eld_liv_stand_2006": "nan",
         "govt_respnsblty_prov_ind_help_2006": "nan",
         "govt_respnsblty_prov_unemp_liv_stand_2006": "nan",
         "govt_respnsblty_reduce_inc_diff_2006": "nan",
         "govt_respnsblty_prov_coll_fin_aid_2006": "nan",
         "govt_respnsblty_prov_decent_housing_2006": "nan",
         "govt_respnsblty_protect_environment_2006": "nan",
         "cv_ba_credits_l1_2011": "nan",
         "cv_college_type_l1_2017": "nan",
         "cv_college_type_l2_2017": "nan",
         "cv_college_type_l3_2017": "nan",
         "cv_college_type_l4_2017": "nan",
         "cv_college_type_l5_2017": "nan",
         "cv_college_type_l6_2017": "nan",
         "cv_hgc_ever_2017": "12TH GRADE",
         "cv_marstat_collapsed_2017": "Married",
         "cv_bio_child_hh_2017": 2,
         "cv_bio_child_nr_2017": 0,
         "diplomadegree_rcvd_l1_2017": "nan",
         "diplomadegree_rcvd_l2_2017": "nan",
         "diplomadegree_rcvd_l3_2017": "nan",
         "diplomadegree_rcvd_l4_2017": "nan",
         "est_inc_wages_tips_past_yr_2017": "nan",
         "hrswk_r_uses_a_computer_2017": "Less than 1 hour a week",
         "hrswk_r_watches_television_2017": "3 to 10 hours a week",
         "hrsnight_r_sleeps_2017": 5,
         "cvc_wkswk_yr_all_l99": 12,
         "_deepnote_index_column": 4
        }
       ],
       "rows_bottom": null
      },
      "text/plain": "   pubid__yth_id_code_1997 keysex_symbol_1997  keybdate_my_symbol_1997  \\\n0                      1.0             Female                      9.0   \n1                      2.0               Male                      7.0   \n2                      3.0             Female                      9.0   \n3                      4.0             Female                      2.0   \n4                      5.0               Male                     10.0   \n\n   keybdate_my_symbol_1997 cv_sample_type_1997 keyrace_ethnicity_symbol_1997  \\\n0                   1981.0     Cross-sectional      Non-Black / Non-Hispanic   \n1                   1982.0     Cross-sectional                      Hispanic   \n2                   1983.0     Cross-sectional                      Hispanic   \n3                   1981.0     Cross-sectional                      Hispanic   \n4                   1982.0     Cross-sectional                      Hispanic   \n\n   trans_sat_verbal_hstr  trans_sat_math_hstr  trans_crd_gpa_overall_hstr  \\\n0                  350.0                470.0                       309.0   \n1                  460.0                440.0                       217.0   \n2                    NaN                  NaN                         NaN   \n3                    NaN                  NaN                       253.0   \n4                    NaN                  NaN                       243.0   \n\n   trans_crd_gpa_eng_hstr  ...  cv_bio_child_nr_2017  \\\n0                   310.0  ...                   NaN   \n1                   280.0  ...                   NaN   \n2                     NaN  ...                   0.0   \n3                   216.0  ...                   1.0   \n4                   235.0  ...                   0.0   \n\n   diplomadegree_rcvd_l1_2017 diplomadegree_rcvd_l2_2017  \\\n0                         NaN                        NaN   \n1                         NaN                        NaN   \n2                         NaN                        NaN   \n3                         NaN                        NaN   \n4                         NaN                        NaN   \n\n  diplomadegree_rcvd_l3_2017 diplomadegree_rcvd_l4_2017  \\\n0                        NaN                        NaN   \n1                        NaN                        NaN   \n2                        NaN                        NaN   \n3                        NaN                        NaN   \n4                        NaN                        NaN   \n\n  est_inc_wages_tips_past_yr_2017 hrswk_r_uses_a_computer_2017  \\\n0                             NaN                          NaN   \n1                             NaN          4 to 6 hours a week   \n2                             NaN      10 hours or more a week   \n3                             NaN          1 to 3 hours a week   \n4                             NaN      Less than 1 hour a week   \n\n  hrswk_r_watches_television_2017 hrsnight_r_sleeps_2017 cvc_wkswk_yr_all_l99  \n0                             NaN                    NaN                 52.0  \n1            3 to 10 hours a week                    6.0                  0.0  \n2            3 to 10 hours a week                    6.0                  0.0  \n3            3 to 10 hours a week                    6.0                  4.0  \n4            3 to 10 hours a week                    5.0                 12.0  \n\n[5 rows x 42 columns]",
      "text/html": "<div>\n<style scoped>\n    .dataframe tbody tr th:only-of-type {\n        vertical-align: middle;\n    }\n\n    .dataframe tbody tr th {\n        vertical-align: top;\n    }\n\n    .dataframe thead th {\n        text-align: right;\n    }\n</style>\n<table border=\"1\" class=\"dataframe\">\n  <thead>\n    <tr style=\"text-align: right;\">\n      <th></th>\n      <th>pubid__yth_id_code_1997</th>\n      <th>keysex_symbol_1997</th>\n      <th>keybdate_my_symbol_1997</th>\n      <th>keybdate_my_symbol_1997</th>\n      <th>cv_sample_type_1997</th>\n      <th>keyrace_ethnicity_symbol_1997</th>\n      <th>trans_sat_verbal_hstr</th>\n      <th>trans_sat_math_hstr</th>\n      <th>trans_crd_gpa_overall_hstr</th>\n      <th>trans_crd_gpa_eng_hstr</th>\n      <th>...</th>\n      <th>cv_bio_child_nr_2017</th>\n      <th>diplomadegree_rcvd_l1_2017</th>\n      <th>diplomadegree_rcvd_l2_2017</th>\n      <th>diplomadegree_rcvd_l3_2017</th>\n      <th>diplomadegree_rcvd_l4_2017</th>\n      <th>est_inc_wages_tips_past_yr_2017</th>\n      <th>hrswk_r_uses_a_computer_2017</th>\n      <th>hrswk_r_watches_television_2017</th>\n      <th>hrsnight_r_sleeps_2017</th>\n      <th>cvc_wkswk_yr_all_l99</th>\n    </tr>\n  </thead>\n  <tbody>\n    <tr>\n      <th>0</th>\n      <td>1.0</td>\n      <td>Female</td>\n      <td>9.0</td>\n      <td>1981.0</td>\n      <td>Cross-sectional</td>\n      <td>Non-Black / Non-Hispanic</td>\n      <td>350.0</td>\n      <td>470.0</td>\n      <td>309.0</td>\n      <td>310.0</td>\n      <td>...</td>\n      <td>NaN</td>\n      <td>NaN</td>\n      <td>NaN</td>\n      <td>NaN</td>\n      <td>NaN</td>\n      <td>NaN</td>\n      <td>NaN</td>\n      <td>NaN</td>\n      <td>NaN</td>\n      <td>52.0</td>\n    </tr>\n    <tr>\n      <th>1</th>\n      <td>2.0</td>\n      <td>Male</td>\n      <td>7.0</td>\n      <td>1982.0</td>\n      <td>Cross-sectional</td>\n      <td>Hispanic</td>\n      <td>460.0</td>\n      <td>440.0</td>\n      <td>217.0</td>\n      <td>280.0</td>\n      <td>...</td>\n      <td>NaN</td>\n      <td>NaN</td>\n      <td>NaN</td>\n      <td>NaN</td>\n      <td>NaN</td>\n      <td>NaN</td>\n      <td>4 to 6 hours a week</td>\n      <td>3 to 10 hours a week</td>\n      <td>6.0</td>\n      <td>0.0</td>\n    </tr>\n    <tr>\n      <th>2</th>\n      <td>3.0</td>\n      <td>Female</td>\n      <td>9.0</td>\n      <td>1983.0</td>\n      <td>Cross-sectional</td>\n      <td>Hispanic</td>\n      <td>NaN</td>\n      <td>NaN</td>\n      <td>NaN</td>\n      <td>NaN</td>\n      <td>...</td>\n      <td>0.0</td>\n      <td>NaN</td>\n      <td>NaN</td>\n      <td>NaN</td>\n      <td>NaN</td>\n      <td>NaN</td>\n      <td>10 hours or more a week</td>\n      <td>3 to 10 hours a week</td>\n      <td>6.0</td>\n      <td>0.0</td>\n    </tr>\n    <tr>\n      <th>3</th>\n      <td>4.0</td>\n      <td>Female</td>\n      <td>2.0</td>\n      <td>1981.0</td>\n      <td>Cross-sectional</td>\n      <td>Hispanic</td>\n      <td>NaN</td>\n      <td>NaN</td>\n      <td>253.0</td>\n      <td>216.0</td>\n      <td>...</td>\n      <td>1.0</td>\n      <td>NaN</td>\n      <td>NaN</td>\n      <td>NaN</td>\n      <td>NaN</td>\n      <td>NaN</td>\n      <td>1 to 3 hours a week</td>\n      <td>3 to 10 hours a week</td>\n      <td>6.0</td>\n      <td>4.0</td>\n    </tr>\n    <tr>\n      <th>4</th>\n      <td>5.0</td>\n      <td>Male</td>\n      <td>10.0</td>\n      <td>1982.0</td>\n      <td>Cross-sectional</td>\n      <td>Hispanic</td>\n      <td>NaN</td>\n      <td>NaN</td>\n      <td>243.0</td>\n      <td>235.0</td>\n      <td>...</td>\n      <td>0.0</td>\n      <td>NaN</td>\n      <td>NaN</td>\n      <td>NaN</td>\n      <td>NaN</td>\n      <td>NaN</td>\n      <td>Less than 1 hour a week</td>\n      <td>3 to 10 hours a week</td>\n      <td>5.0</td>\n      <td>12.0</td>\n    </tr>\n  </tbody>\n</table>\n<p>5 rows × 42 columns</p>\n</div>"
     },
     "metadata": {}
    }
   ],
   "execution_count": 7
  },
  {
   "cell_type": "markdown",
   "source": "### Run `frequencies` on one of the columns and set the index.",
   "metadata": {
    "tags": [],
    "cell_id": "00005-704f98df-5943-4861-837c-e37f26ba5e9f",
    "deepnote_cell_type": "markdown"
   }
  },
  {
   "cell_type": "code",
   "source": "nls97spss.govt_responsibility__provide_jobs_2006.value_counts(sort=False)",
   "metadata": {
    "tags": [],
    "cell_id": "00006-558bd7d0-581d-4bbb-876a-d806580e6c8c",
    "deepnote_to_be_reexecuted": false,
    "source_hash": "1dce7ddd",
    "execution_start": 1635260151303,
    "execution_millis": 17,
    "deepnote_cell_type": "code"
   },
   "outputs": [
    {
     "output_type": "execute_result",
     "execution_count": 8,
     "data": {
      "text/plain": "Definitely should be        454\nDefinitely should not be    300\nProbably should be          617\nProbably should not be      462\nName: govt_responsibility__provide_jobs_2006, dtype: int64"
     },
     "metadata": {}
    }
   ],
   "execution_count": 8
  },
  {
   "cell_type": "code",
   "source": "nls97spss.pubid__yth_id_code_1997.count() == nls97spss.pubid__yth_id_code_1997.nunique()",
   "metadata": {
    "tags": [],
    "cell_id": "00008-a6e43e84-f043-40ce-92e1-eacb32ed3d6d",
    "deepnote_to_be_reexecuted": false,
    "source_hash": "26e84c3a",
    "execution_start": 1635260279259,
    "execution_millis": 3,
    "deepnote_cell_type": "code"
   },
   "outputs": [
    {
     "output_type": "execute_result",
     "execution_count": 10,
     "data": {
      "text/plain": "True"
     },
     "metadata": {}
    }
   ],
   "execution_count": 10
  },
  {
   "cell_type": "code",
   "source": "nls97spss.set_index('pubid__yth_id_code_1997')",
   "metadata": {
    "tags": [],
    "cell_id": "00009-1430c619-9996-4bc7-ab83-2652244ae04e",
    "deepnote_to_be_reexecuted": false,
    "source_hash": "df3c550c",
    "execution_start": 1635260305836,
    "execution_millis": 266,
    "deepnote_cell_type": "code"
   },
   "outputs": [
    {
     "output_type": "execute_result",
     "execution_count": 11,
     "data": {
      "application/vnd.deepnote.dataframe.v2+json": {
       "row_count": 8984,
       "column_count": 41,
       "columns": [
        {
         "name": "keysex_symbol_1997",
         "dtype": "category",
         "stats": {
          "unique_count": 2,
          "nan_count": 0,
          "categories": [
           {
            "name": "Male",
            "count": 4599
           },
           {
            "name": "Female",
            "count": 4385
           }
          ]
         }
        },
        {
         "name": "keybdate_my_symbol_1997",
         "dtype": "float64",
         "stats": {
          "unique_count": 12,
          "nan_count": 0,
          "min": "1.0",
          "max": "12.0",
          "histogram": [
           {
            "bin_start": 1,
            "bin_end": 2.1,
            "count": 1509
           },
           {
            "bin_start": 2.1,
            "bin_end": 3.2,
            "count": 760
           },
           {
            "bin_start": 3.2,
            "bin_end": 4.300000000000001,
            "count": 659
           },
           {
            "bin_start": 4.300000000000001,
            "bin_end": 5.4,
            "count": 689
           },
           {
            "bin_start": 5.4,
            "bin_end": 6.5,
            "count": 720
           },
           {
            "bin_start": 6.5,
            "bin_end": 7.6000000000000005,
            "count": 762
           },
           {
            "bin_start": 7.6000000000000005,
            "bin_end": 8.700000000000001,
            "count": 782
           },
           {
            "bin_start": 8.700000000000001,
            "bin_end": 9.8,
            "count": 839
           },
           {
            "bin_start": 9.8,
            "bin_end": 10.9,
            "count": 765
           },
           {
            "bin_start": 10.9,
            "bin_end": 12,
            "count": 1499
           }
          ]
         }
        },
        {
         "name": "keybdate_my_symbol_1997.1",
         "dtype": "float64",
         "stats": {
          "unique_count": 5,
          "nan_count": 0,
          "min": "1980.0",
          "max": "1984.0",
          "histogram": [
           {
            "bin_start": 1980,
            "bin_end": 1980.4,
            "count": 1691
           },
           {
            "bin_start": 1980.4,
            "bin_end": 1980.8,
            "count": 0
           },
           {
            "bin_start": 1980.8,
            "bin_end": 1981.2,
            "count": 1874
           },
           {
            "bin_start": 1981.2,
            "bin_end": 1981.6,
            "count": 0
           },
           {
            "bin_start": 1981.6,
            "bin_end": 1982,
            "count": 0
           },
           {
            "bin_start": 1982,
            "bin_end": 1982.4,
            "count": 1841
           },
           {
            "bin_start": 1982.4,
            "bin_end": 1982.8,
            "count": 0
           },
           {
            "bin_start": 1982.8,
            "bin_end": 1983.2,
            "count": 1807
           },
           {
            "bin_start": 1983.2,
            "bin_end": 1983.6,
            "count": 0
           },
           {
            "bin_start": 1983.6,
            "bin_end": 1984,
            "count": 1771
           }
          ]
         }
        },
        {
         "name": "cv_sample_type_1997",
         "dtype": "category",
         "stats": {
          "unique_count": 2,
          "nan_count": 0,
          "categories": [
           {
            "name": "Cross-sectional",
            "count": 6748
           },
           {
            "name": "Oversample",
            "count": 2236
           }
          ]
         }
        },
        {
         "name": "keyrace_ethnicity_symbol_1997",
         "dtype": "category",
         "stats": {
          "unique_count": 4,
          "nan_count": 0,
          "categories": [
           {
            "name": "Non-Black / Non-Hispanic",
            "count": 4665
           },
           {
            "name": "Black",
            "count": 2335
           },
           {
            "name": "2 others",
            "count": 1984
           }
          ]
         }
        },
        {
         "name": "trans_sat_verbal_hstr",
         "dtype": "float64",
         "stats": {
          "unique_count": 67,
          "nan_count": 7578,
          "min": "14.0",
          "max": "800.0",
          "histogram": [
           {
            "bin_start": 14,
            "bin_end": 92.6,
            "count": 6
           },
           {
            "bin_start": 92.6,
            "bin_end": 171.2,
            "count": 0
           },
           {
            "bin_start": 171.2,
            "bin_end": 249.79999999999998,
            "count": 10
           },
           {
            "bin_start": 249.79999999999998,
            "bin_end": 328.4,
            "count": 55
           },
           {
            "bin_start": 328.4,
            "bin_end": 407,
            "count": 191
           },
           {
            "bin_start": 407,
            "bin_end": 485.59999999999997,
            "count": 373
           },
           {
            "bin_start": 485.59999999999997,
            "bin_end": 564.1999999999999,
            "count": 381
           },
           {
            "bin_start": 564.1999999999999,
            "bin_end": 642.8,
            "count": 259
           },
           {
            "bin_start": 642.8,
            "bin_end": 721.4,
            "count": 99
           },
           {
            "bin_start": 721.4,
            "bin_end": 800,
            "count": 32
           }
          ]
         }
        },
        {
         "name": "trans_sat_math_hstr",
         "dtype": "float64",
         "stats": {
          "unique_count": 70,
          "nan_count": 7577,
          "min": "7.0",
          "max": "800.0",
          "histogram": [
           {
            "bin_start": 7,
            "bin_end": 86.3,
            "count": 8
           },
           {
            "bin_start": 86.3,
            "bin_end": 165.6,
            "count": 0
           },
           {
            "bin_start": 165.6,
            "bin_end": 244.89999999999998,
            "count": 15
           },
           {
            "bin_start": 244.89999999999998,
            "bin_end": 324.2,
            "count": 49
           },
           {
            "bin_start": 324.2,
            "bin_end": 403.5,
            "count": 194
           },
           {
            "bin_start": 403.5,
            "bin_end": 482.79999999999995,
            "count": 387
           },
           {
            "bin_start": 482.79999999999995,
            "bin_end": 562.1,
            "count": 366
           },
           {
            "bin_start": 562.1,
            "bin_end": 641.4,
            "count": 216
           },
           {
            "bin_start": 641.4,
            "bin_end": 720.6999999999999,
            "count": 146
           },
           {
            "bin_start": 720.6999999999999,
            "bin_end": 800,
            "count": 26
           }
          ]
         }
        },
        {
         "name": "trans_crd_gpa_overall_hstr",
         "dtype": "float64",
         "stats": {
          "unique_count": 325,
          "nan_count": 2752,
          "min": "-9.0",
          "max": "417.0",
          "histogram": [
           {
            "bin_start": -9,
            "bin_end": 33.6,
            "count": 230
           },
           {
            "bin_start": 33.6,
            "bin_end": 76.2,
            "count": 15
           },
           {
            "bin_start": 76.2,
            "bin_end": 118.80000000000001,
            "count": 66
           },
           {
            "bin_start": 118.80000000000001,
            "bin_end": 161.4,
            "count": 135
           },
           {
            "bin_start": 161.4,
            "bin_end": 204,
            "count": 396
           },
           {
            "bin_start": 204,
            "bin_end": 246.60000000000002,
            "count": 986
           },
           {
            "bin_start": 246.60000000000002,
            "bin_end": 289.2,
            "count": 1521
           },
           {
            "bin_start": 289.2,
            "bin_end": 331.8,
            "count": 1559
           },
           {
            "bin_start": 331.8,
            "bin_end": 374.40000000000003,
            "count": 1003
           },
           {
            "bin_start": 374.40000000000003,
            "bin_end": 417,
            "count": 321
           }
          ]
         }
        },
        {
         "name": "trans_crd_gpa_eng_hstr",
         "dtype": "float64",
         "stats": {
          "unique_count": 334,
          "nan_count": 2752,
          "min": "-9.0",
          "max": "418.0",
          "histogram": [
           {
            "bin_start": -9,
            "bin_end": 33.7,
            "count": 443
           },
           {
            "bin_start": 33.7,
            "bin_end": 76.4,
            "count": 30
           },
           {
            "bin_start": 76.4,
            "bin_end": 119.10000000000002,
            "count": 187
           },
           {
            "bin_start": 119.10000000000002,
            "bin_end": 161.8,
            "count": 277
           },
           {
            "bin_start": 161.8,
            "bin_end": 204.5,
            "count": 586
           },
           {
            "bin_start": 204.5,
            "bin_end": 247.20000000000005,
            "count": 838
           },
           {
            "bin_start": 247.20000000000005,
            "bin_end": 289.90000000000003,
            "count": 1212
           },
           {
            "bin_start": 289.90000000000003,
            "bin_end": 332.6,
            "count": 1427
           },
           {
            "bin_start": 332.6,
            "bin_end": 375.3,
            "count": 830
           },
           {
            "bin_start": 375.3,
            "bin_end": 418,
            "count": 402
           }
          ]
         }
        },
        {
         "name": "trans_crd_gpa_math_hstr",
         "dtype": "float64",
         "stats": {
          "unique_count": 328,
          "nan_count": 2752,
          "min": "-9.0",
          "max": "423.0",
          "histogram": [
           {
            "bin_start": -9,
            "bin_end": 34.2,
            "count": 475
           },
           {
            "bin_start": 34.2,
            "bin_end": 77.4,
            "count": 24
           },
           {
            "bin_start": 77.4,
            "bin_end": 120.60000000000002,
            "count": 290
           },
           {
            "bin_start": 120.60000000000002,
            "bin_end": 163.8,
            "count": 344
           },
           {
            "bin_start": 163.8,
            "bin_end": 207,
            "count": 675
           },
           {
            "bin_start": 207,
            "bin_end": 250.20000000000005,
            "count": 1002
           },
           {
            "bin_start": 250.20000000000005,
            "bin_end": 293.40000000000003,
            "count": 1487
           },
           {
            "bin_start": 293.40000000000003,
            "bin_end": 336.6,
            "count": 1108
           },
           {
            "bin_start": 336.6,
            "bin_end": 379.8,
            "count": 559
           },
           {
            "bin_start": 379.8,
            "bin_end": 423,
            "count": 268
           }
          ]
         }
        },
        {
         "name": "trans_crd_gpa_lp_sci_hstr",
         "dtype": "float64",
         "stats": {
          "unique_count": 325,
          "nan_count": 2752,
          "min": "-9.0",
          "max": "424.0",
          "histogram": [
           {
            "bin_start": -9,
            "bin_end": 34.3,
            "count": 559
           },
           {
            "bin_start": 34.3,
            "bin_end": 77.6,
            "count": 33
           },
           {
            "bin_start": 77.6,
            "bin_end": 120.89999999999998,
            "count": 348
           },
           {
            "bin_start": 120.89999999999998,
            "bin_end": 164.2,
            "count": 304
           },
           {
            "bin_start": 164.2,
            "bin_end": 207.5,
            "count": 606
           },
           {
            "bin_start": 207.5,
            "bin_end": 250.79999999999995,
            "count": 825
           },
           {
            "bin_start": 250.79999999999995,
            "bin_end": 294.09999999999997,
            "count": 1513
           },
           {
            "bin_start": 294.09999999999997,
            "bin_end": 337.4,
            "count": 1126
           },
           {
            "bin_start": 337.4,
            "bin_end": 380.7,
            "count": 622
           },
           {
            "bin_start": 380.7,
            "bin_end": 424,
            "count": 296
           }
          ]
         }
        },
        {
         "name": "govt_responsibility__provide_jobs_2006",
         "dtype": "category"
        },
        {
         "name": "govt_respnsblty__keep_prices_und_ctrl_2006",
         "dtype": "category"
        },
        {
         "name": "govt_respnsblty__hlth_care_for_sick_2006",
         "dtype": "category"
        },
        {
         "name": "govt_respnsblty_prov_eld_liv_stand_2006",
         "dtype": "category"
        },
        {
         "name": "govt_respnsblty_prov_ind_help_2006",
         "dtype": "category"
        },
        {
         "name": "govt_respnsblty_prov_unemp_liv_stand_2006",
         "dtype": "category"
        },
        {
         "name": "govt_respnsblty_reduce_inc_diff_2006",
         "dtype": "category"
        },
        {
         "name": "govt_respnsblty_prov_coll_fin_aid_2006",
         "dtype": "category"
        },
        {
         "name": "govt_respnsblty_prov_decent_housing_2006",
         "dtype": "category"
        },
        {
         "name": "govt_respnsblty_protect_environment_2006",
         "dtype": "category"
        },
        {
         "name": "cv_ba_credits_l1_2011",
         "dtype": "float64"
        },
        {
         "name": "cv_college_type_l1_2017",
         "dtype": "category"
        },
        {
         "name": "cv_college_type_l2_2017",
         "dtype": "category"
        },
        {
         "name": "cv_college_type_l3_2017",
         "dtype": "category"
        },
        {
         "name": "cv_college_type_l4_2017",
         "dtype": "category"
        },
        {
         "name": "cv_college_type_l5_2017",
         "dtype": "category"
        },
        {
         "name": "cv_college_type_l6_2017",
         "dtype": "category"
        },
        {
         "name": "cv_hgc_ever_2017",
         "dtype": "category"
        },
        {
         "name": "cv_marstat_collapsed_2017",
         "dtype": "category"
        },
        {
         "name": "cv_bio_child_hh_2017",
         "dtype": "float64"
        },
        {
         "name": "cv_bio_child_nr_2017",
         "dtype": "float64"
        },
        {
         "name": "diplomadegree_rcvd_l1_2017",
         "dtype": "category"
        },
        {
         "name": "diplomadegree_rcvd_l2_2017",
         "dtype": "category"
        },
        {
         "name": "diplomadegree_rcvd_l3_2017",
         "dtype": "category"
        },
        {
         "name": "diplomadegree_rcvd_l4_2017",
         "dtype": "category"
        },
        {
         "name": "est_inc_wages_tips_past_yr_2017",
         "dtype": "category"
        },
        {
         "name": "hrswk_r_uses_a_computer_2017",
         "dtype": "category"
        },
        {
         "name": "hrswk_r_watches_television_2017",
         "dtype": "category"
        },
        {
         "name": "hrsnight_r_sleeps_2017",
         "dtype": "float64"
        },
        {
         "name": "cvc_wkswk_yr_all_l99",
         "dtype": "float64"
        },
        {
         "name": "_deepnote_index_column",
         "dtype": "float64"
        }
       ],
       "rows_top": [
        {
         "keysex_symbol_1997": "Female",
         "keybdate_my_symbol_1997": 9,
         "keybdate_my_symbol_1997.1": 1981,
         "cv_sample_type_1997": "Cross-sectional",
         "keyrace_ethnicity_symbol_1997": "Non-Black / Non-Hispanic",
         "trans_sat_verbal_hstr": 350,
         "trans_sat_math_hstr": 470,
         "trans_crd_gpa_overall_hstr": 309,
         "trans_crd_gpa_eng_hstr": 310,
         "trans_crd_gpa_math_hstr": 293,
         "trans_crd_gpa_lp_sci_hstr": 333,
         "govt_responsibility__provide_jobs_2006": "nan",
         "govt_respnsblty__keep_prices_und_ctrl_2006": "nan",
         "govt_respnsblty__hlth_care_for_sick_2006": "nan",
         "govt_respnsblty_prov_eld_liv_stand_2006": "nan",
         "govt_respnsblty_prov_ind_help_2006": "nan",
         "govt_respnsblty_prov_unemp_liv_stand_2006": "nan",
         "govt_respnsblty_reduce_inc_diff_2006": "nan",
         "govt_respnsblty_prov_coll_fin_aid_2006": "nan",
         "govt_respnsblty_prov_decent_housing_2006": "nan",
         "govt_respnsblty_protect_environment_2006": "nan",
         "cv_ba_credits_l1_2011": "nan",
         "cv_college_type_l1_2017": "nan",
         "cv_college_type_l2_2017": "nan",
         "cv_college_type_l3_2017": "nan",
         "cv_college_type_l4_2017": "nan",
         "cv_college_type_l5_2017": "nan",
         "cv_college_type_l6_2017": "nan",
         "cv_hgc_ever_2017": "nan",
         "cv_marstat_collapsed_2017": "nan",
         "cv_bio_child_hh_2017": "nan",
         "cv_bio_child_nr_2017": "nan",
         "diplomadegree_rcvd_l1_2017": "nan",
         "diplomadegree_rcvd_l2_2017": "nan",
         "diplomadegree_rcvd_l3_2017": "nan",
         "diplomadegree_rcvd_l4_2017": "nan",
         "est_inc_wages_tips_past_yr_2017": "nan",
         "hrswk_r_uses_a_computer_2017": "nan",
         "hrswk_r_watches_television_2017": "nan",
         "hrsnight_r_sleeps_2017": "nan",
         "cvc_wkswk_yr_all_l99": 52,
         "_deepnote_index_column": 1
        },
        {
         "keysex_symbol_1997": "Male",
         "keybdate_my_symbol_1997": 7,
         "keybdate_my_symbol_1997.1": 1982,
         "cv_sample_type_1997": "Cross-sectional",
         "keyrace_ethnicity_symbol_1997": "Hispanic",
         "trans_sat_verbal_hstr": 460,
         "trans_sat_math_hstr": 440,
         "trans_crd_gpa_overall_hstr": 217,
         "trans_crd_gpa_eng_hstr": 280,
         "trans_crd_gpa_math_hstr": 114,
         "trans_crd_gpa_lp_sci_hstr": 143,
         "govt_responsibility__provide_jobs_2006": "nan",
         "govt_respnsblty__keep_prices_und_ctrl_2006": "nan",
         "govt_respnsblty__hlth_care_for_sick_2006": "nan",
         "govt_respnsblty_prov_eld_liv_stand_2006": "nan",
         "govt_respnsblty_prov_ind_help_2006": "nan",
         "govt_respnsblty_prov_unemp_liv_stand_2006": "nan",
         "govt_respnsblty_reduce_inc_diff_2006": "nan",
         "govt_respnsblty_prov_coll_fin_aid_2006": "nan",
         "govt_respnsblty_prov_decent_housing_2006": "nan",
         "govt_respnsblty_protect_environment_2006": "nan",
         "cv_ba_credits_l1_2011": "nan",
         "cv_college_type_l1_2017": "nan",
         "cv_college_type_l2_2017": "nan",
         "cv_college_type_l3_2017": "nan",
         "cv_college_type_l4_2017": "nan",
         "cv_college_type_l5_2017": "nan",
         "cv_college_type_l6_2017": "nan",
         "cv_hgc_ever_2017": "2ND YEAR COLLEGE",
         "cv_marstat_collapsed_2017": "Never-married",
         "cv_bio_child_hh_2017": "nan",
         "cv_bio_child_nr_2017": "nan",
         "diplomadegree_rcvd_l1_2017": "nan",
         "diplomadegree_rcvd_l2_2017": "nan",
         "diplomadegree_rcvd_l3_2017": "nan",
         "diplomadegree_rcvd_l4_2017": "nan",
         "est_inc_wages_tips_past_yr_2017": "nan",
         "hrswk_r_uses_a_computer_2017": "4 to 6 hours a week",
         "hrswk_r_watches_television_2017": "3 to 10 hours a week",
         "hrsnight_r_sleeps_2017": 6,
         "cvc_wkswk_yr_all_l99": 0,
         "_deepnote_index_column": 2
        },
        {
         "keysex_symbol_1997": "Female",
         "keybdate_my_symbol_1997": 9,
         "keybdate_my_symbol_1997.1": 1983,
         "cv_sample_type_1997": "Cross-sectional",
         "keyrace_ethnicity_symbol_1997": "Hispanic",
         "trans_sat_verbal_hstr": "nan",
         "trans_sat_math_hstr": "nan",
         "trans_crd_gpa_overall_hstr": "nan",
         "trans_crd_gpa_eng_hstr": "nan",
         "trans_crd_gpa_math_hstr": "nan",
         "trans_crd_gpa_lp_sci_hstr": "nan",
         "govt_responsibility__provide_jobs_2006": "nan",
         "govt_respnsblty__keep_prices_und_ctrl_2006": "nan",
         "govt_respnsblty__hlth_care_for_sick_2006": "nan",
         "govt_respnsblty_prov_eld_liv_stand_2006": "nan",
         "govt_respnsblty_prov_ind_help_2006": "nan",
         "govt_respnsblty_prov_unemp_liv_stand_2006": "nan",
         "govt_respnsblty_reduce_inc_diff_2006": "nan",
         "govt_respnsblty_prov_coll_fin_aid_2006": "nan",
         "govt_respnsblty_prov_decent_housing_2006": "nan",
         "govt_respnsblty_protect_environment_2006": "nan",
         "cv_ba_credits_l1_2011": "nan",
         "cv_college_type_l1_2017": "Private for-profit institution",
         "cv_college_type_l2_2017": "nan",
         "cv_college_type_l3_2017": "nan",
         "cv_college_type_l4_2017": "nan",
         "cv_college_type_l5_2017": "nan",
         "cv_college_type_l6_2017": "nan",
         "cv_hgc_ever_2017": "4TH YEAR COLLEGE",
         "cv_marstat_collapsed_2017": "Married",
         "cv_bio_child_hh_2017": 2,
         "cv_bio_child_nr_2017": 0,
         "diplomadegree_rcvd_l1_2017": "nan",
         "diplomadegree_rcvd_l2_2017": "nan",
         "diplomadegree_rcvd_l3_2017": "nan",
         "diplomadegree_rcvd_l4_2017": "nan",
         "est_inc_wages_tips_past_yr_2017": "nan",
         "hrswk_r_uses_a_computer_2017": "10 hours or more a week",
         "hrswk_r_watches_television_2017": "3 to 10 hours a week",
         "hrsnight_r_sleeps_2017": 6,
         "cvc_wkswk_yr_all_l99": 0,
         "_deepnote_index_column": 3
        },
        {
         "keysex_symbol_1997": "Female",
         "keybdate_my_symbol_1997": 2,
         "keybdate_my_symbol_1997.1": 1981,
         "cv_sample_type_1997": "Cross-sectional",
         "keyrace_ethnicity_symbol_1997": "Hispanic",
         "trans_sat_verbal_hstr": "nan",
         "trans_sat_math_hstr": "nan",
         "trans_crd_gpa_overall_hstr": 253,
         "trans_crd_gpa_eng_hstr": 216,
         "trans_crd_gpa_math_hstr": 195,
         "trans_crd_gpa_lp_sci_hstr": 216,
         "govt_responsibility__provide_jobs_2006": "nan",
         "govt_respnsblty__keep_prices_und_ctrl_2006": "nan",
         "govt_respnsblty__hlth_care_for_sick_2006": "nan",
         "govt_respnsblty_prov_eld_liv_stand_2006": "nan",
         "govt_respnsblty_prov_ind_help_2006": "nan",
         "govt_respnsblty_prov_unemp_liv_stand_2006": "nan",
         "govt_respnsblty_reduce_inc_diff_2006": "nan",
         "govt_respnsblty_prov_coll_fin_aid_2006": "nan",
         "govt_respnsblty_prov_decent_housing_2006": "nan",
         "govt_respnsblty_protect_environment_2006": "nan",
         "cv_ba_credits_l1_2011": "nan",
         "cv_college_type_l1_2017": "nan",
         "cv_college_type_l2_2017": "nan",
         "cv_college_type_l3_2017": "nan",
         "cv_college_type_l4_2017": "nan",
         "cv_college_type_l5_2017": "nan",
         "cv_college_type_l6_2017": "nan",
         "cv_hgc_ever_2017": "1ST YEAR COLLEGE",
         "cv_marstat_collapsed_2017": "Never-married",
         "cv_bio_child_hh_2017": 1,
         "cv_bio_child_nr_2017": 1,
         "diplomadegree_rcvd_l1_2017": "nan",
         "diplomadegree_rcvd_l2_2017": "nan",
         "diplomadegree_rcvd_l3_2017": "nan",
         "diplomadegree_rcvd_l4_2017": "nan",
         "est_inc_wages_tips_past_yr_2017": "nan",
         "hrswk_r_uses_a_computer_2017": "1 to 3 hours a week",
         "hrswk_r_watches_television_2017": "3 to 10 hours a week",
         "hrsnight_r_sleeps_2017": 6,
         "cvc_wkswk_yr_all_l99": 4,
         "_deepnote_index_column": 4
        },
        {
         "keysex_symbol_1997": "Male",
         "keybdate_my_symbol_1997": 10,
         "keybdate_my_symbol_1997.1": 1982,
         "cv_sample_type_1997": "Cross-sectional",
         "keyrace_ethnicity_symbol_1997": "Hispanic",
         "trans_sat_verbal_hstr": "nan",
         "trans_sat_math_hstr": "nan",
         "trans_crd_gpa_overall_hstr": 243,
         "trans_crd_gpa_eng_hstr": 235,
         "trans_crd_gpa_math_hstr": 293,
         "trans_crd_gpa_lp_sci_hstr": 231,
         "govt_responsibility__provide_jobs_2006": "nan",
         "govt_respnsblty__keep_prices_und_ctrl_2006": "nan",
         "govt_respnsblty__hlth_care_for_sick_2006": "nan",
         "govt_respnsblty_prov_eld_liv_stand_2006": "nan",
         "govt_respnsblty_prov_ind_help_2006": "nan",
         "govt_respnsblty_prov_unemp_liv_stand_2006": "nan",
         "govt_respnsblty_reduce_inc_diff_2006": "nan",
         "govt_respnsblty_prov_coll_fin_aid_2006": "nan",
         "govt_respnsblty_prov_decent_housing_2006": "nan",
         "govt_respnsblty_protect_environment_2006": "nan",
         "cv_ba_credits_l1_2011": "nan",
         "cv_college_type_l1_2017": "nan",
         "cv_college_type_l2_2017": "nan",
         "cv_college_type_l3_2017": "nan",
         "cv_college_type_l4_2017": "nan",
         "cv_college_type_l5_2017": "nan",
         "cv_college_type_l6_2017": "nan",
         "cv_hgc_ever_2017": "12TH GRADE",
         "cv_marstat_collapsed_2017": "Married",
         "cv_bio_child_hh_2017": 2,
         "cv_bio_child_nr_2017": 0,
         "diplomadegree_rcvd_l1_2017": "nan",
         "diplomadegree_rcvd_l2_2017": "nan",
         "diplomadegree_rcvd_l3_2017": "nan",
         "diplomadegree_rcvd_l4_2017": "nan",
         "est_inc_wages_tips_past_yr_2017": "nan",
         "hrswk_r_uses_a_computer_2017": "Less than 1 hour a week",
         "hrswk_r_watches_television_2017": "3 to 10 hours a week",
         "hrsnight_r_sleeps_2017": 5,
         "cvc_wkswk_yr_all_l99": 12,
         "_deepnote_index_column": 5
        },
        {
         "keysex_symbol_1997": "Female",
         "keybdate_my_symbol_1997": 1,
         "keybdate_my_symbol_1997.1": 1982,
         "cv_sample_type_1997": "Cross-sectional",
         "keyrace_ethnicity_symbol_1997": "Hispanic",
         "trans_sat_verbal_hstr": "nan",
         "trans_sat_math_hstr": "nan",
         "trans_crd_gpa_overall_hstr": 162,
         "trans_crd_gpa_eng_hstr": 100,
         "trans_crd_gpa_math_hstr": -7,
         "trans_crd_gpa_lp_sci_hstr": -7,
         "govt_responsibility__provide_jobs_2006": "nan",
         "govt_respnsblty__keep_prices_und_ctrl_2006": "nan",
         "govt_respnsblty__hlth_care_for_sick_2006": "nan",
         "govt_respnsblty_prov_eld_liv_stand_2006": "nan",
         "govt_respnsblty_prov_ind_help_2006": "nan",
         "govt_respnsblty_prov_unemp_liv_stand_2006": "nan",
         "govt_respnsblty_reduce_inc_diff_2006": "nan",
         "govt_respnsblty_prov_coll_fin_aid_2006": "nan",
         "govt_respnsblty_prov_decent_housing_2006": "nan",
         "govt_respnsblty_protect_environment_2006": "nan",
         "cv_ba_credits_l1_2011": "nan",
         "cv_college_type_l1_2017": "nan",
         "cv_college_type_l2_2017": "nan",
         "cv_college_type_l3_2017": "nan",
         "cv_college_type_l4_2017": "nan",
         "cv_college_type_l5_2017": "nan",
         "cv_college_type_l6_2017": "nan",
         "cv_hgc_ever_2017": "2ND YEAR COLLEGE",
         "cv_marstat_collapsed_2017": "Married",
         "cv_bio_child_hh_2017": 2,
         "cv_bio_child_nr_2017": 0,
         "diplomadegree_rcvd_l1_2017": "nan",
         "diplomadegree_rcvd_l2_2017": "nan",
         "diplomadegree_rcvd_l3_2017": "nan",
         "diplomadegree_rcvd_l4_2017": "nan",
         "est_inc_wages_tips_past_yr_2017": "C. $10,001 - $25,000",
         "hrswk_r_uses_a_computer_2017": "4 to 6 hours a week",
         "hrswk_r_watches_television_2017": "3 to 10 hours a week",
         "hrsnight_r_sleeps_2017": 6,
         "cvc_wkswk_yr_all_l99": 6,
         "_deepnote_index_column": 6
        },
        {
         "keysex_symbol_1997": "Male",
         "keybdate_my_symbol_1997": 4,
         "keybdate_my_symbol_1997.1": 1983,
         "cv_sample_type_1997": "Cross-sectional",
         "keyrace_ethnicity_symbol_1997": "Hispanic",
         "trans_sat_verbal_hstr": "nan",
         "trans_sat_math_hstr": "nan",
         "trans_crd_gpa_overall_hstr": "nan",
         "trans_crd_gpa_eng_hstr": "nan",
         "trans_crd_gpa_math_hstr": "nan",
         "trans_crd_gpa_lp_sci_hstr": "nan",
         "govt_responsibility__provide_jobs_2006": "nan",
         "govt_respnsblty__keep_prices_und_ctrl_2006": "nan",
         "govt_respnsblty__hlth_care_for_sick_2006": "nan",
         "govt_respnsblty_prov_eld_liv_stand_2006": "nan",
         "govt_respnsblty_prov_ind_help_2006": "nan",
         "govt_respnsblty_prov_unemp_liv_stand_2006": "nan",
         "govt_respnsblty_reduce_inc_diff_2006": "nan",
         "govt_respnsblty_prov_coll_fin_aid_2006": "nan",
         "govt_respnsblty_prov_decent_housing_2006": "nan",
         "govt_respnsblty_protect_environment_2006": "nan",
         "cv_ba_credits_l1_2011": "nan",
         "cv_college_type_l1_2017": "nan",
         "cv_college_type_l2_2017": "nan",
         "cv_college_type_l3_2017": "nan",
         "cv_college_type_l4_2017": "nan",
         "cv_college_type_l5_2017": "nan",
         "cv_college_type_l6_2017": "nan",
         "cv_hgc_ever_2017": "nan",
         "cv_marstat_collapsed_2017": "nan",
         "cv_bio_child_hh_2017": "nan",
         "cv_bio_child_nr_2017": "nan",
         "diplomadegree_rcvd_l1_2017": "nan",
         "diplomadegree_rcvd_l2_2017": "nan",
         "diplomadegree_rcvd_l3_2017": "nan",
         "diplomadegree_rcvd_l4_2017": "nan",
         "est_inc_wages_tips_past_yr_2017": "nan",
         "hrswk_r_uses_a_computer_2017": "nan",
         "hrswk_r_watches_television_2017": "nan",
         "hrsnight_r_sleeps_2017": "nan",
         "cvc_wkswk_yr_all_l99": 0,
         "_deepnote_index_column": 7
        },
        {
         "keysex_symbol_1997": "Female",
         "keybdate_my_symbol_1997": 6,
         "keybdate_my_symbol_1997.1": 1981,
         "cv_sample_type_1997": "Cross-sectional",
         "keyrace_ethnicity_symbol_1997": "Non-Black / Non-Hispanic",
         "trans_sat_verbal_hstr": 620,
         "trans_sat_math_hstr": 620,
         "trans_crd_gpa_overall_hstr": 281,
         "trans_crd_gpa_eng_hstr": 304,
         "trans_crd_gpa_math_hstr": 240,
         "trans_crd_gpa_lp_sci_hstr": 240,
         "govt_responsibility__provide_jobs_2006": "nan",
         "govt_respnsblty__keep_prices_und_ctrl_2006": "nan",
         "govt_respnsblty__hlth_care_for_sick_2006": "nan",
         "govt_respnsblty_prov_eld_liv_stand_2006": "nan",
         "govt_respnsblty_prov_ind_help_2006": "nan",
         "govt_respnsblty_prov_unemp_liv_stand_2006": "nan",
         "govt_respnsblty_reduce_inc_diff_2006": "nan",
         "govt_respnsblty_prov_coll_fin_aid_2006": "nan",
         "govt_respnsblty_prov_decent_housing_2006": "nan",
         "govt_respnsblty_protect_environment_2006": "nan",
         "cv_ba_credits_l1_2011": "nan",
         "cv_college_type_l1_2017": "nan",
         "cv_college_type_l2_2017": "nan",
         "cv_college_type_l3_2017": "nan",
         "cv_college_type_l4_2017": "nan",
         "cv_college_type_l5_2017": "nan",
         "cv_college_type_l6_2017": "nan",
         "cv_hgc_ever_2017": "nan",
         "cv_marstat_collapsed_2017": "nan",
         "cv_bio_child_hh_2017": "nan",
         "cv_bio_child_nr_2017": "nan",
         "diplomadegree_rcvd_l1_2017": "nan",
         "diplomadegree_rcvd_l2_2017": "nan",
         "diplomadegree_rcvd_l3_2017": "nan",
         "diplomadegree_rcvd_l4_2017": "nan",
         "est_inc_wages_tips_past_yr_2017": "nan",
         "hrswk_r_uses_a_computer_2017": "nan",
         "hrswk_r_watches_television_2017": "nan",
         "hrsnight_r_sleeps_2017": "nan",
         "cvc_wkswk_yr_all_l99": 39,
         "_deepnote_index_column": 8
        },
        {
         "keysex_symbol_1997": "Male",
         "keybdate_my_symbol_1997": 10,
         "keybdate_my_symbol_1997.1": 1982,
         "cv_sample_type_1997": "Cross-sectional",
         "keyrace_ethnicity_symbol_1997": "Non-Black / Non-Hispanic",
         "trans_sat_verbal_hstr": 380,
         "trans_sat_math_hstr": 460,
         "trans_crd_gpa_overall_hstr": 286,
         "trans_crd_gpa_eng_hstr": 290,
         "trans_crd_gpa_math_hstr": 250,
         "trans_crd_gpa_lp_sci_hstr": 233,
         "govt_responsibility__provide_jobs_2006": "nan",
         "govt_respnsblty__keep_prices_und_ctrl_2006": "nan",
         "govt_respnsblty__hlth_care_for_sick_2006": "nan",
         "govt_respnsblty_prov_eld_liv_stand_2006": "nan",
         "govt_respnsblty_prov_ind_help_2006": "nan",
         "govt_respnsblty_prov_unemp_liv_stand_2006": "nan",
         "govt_respnsblty_reduce_inc_diff_2006": "nan",
         "govt_respnsblty_prov_coll_fin_aid_2006": "nan",
         "govt_respnsblty_prov_decent_housing_2006": "nan",
         "govt_respnsblty_protect_environment_2006": "nan",
         "cv_ba_credits_l1_2011": "nan",
         "cv_college_type_l1_2017": "nan",
         "cv_college_type_l2_2017": "nan",
         "cv_college_type_l3_2017": "nan",
         "cv_college_type_l4_2017": "nan",
         "cv_college_type_l5_2017": "nan",
         "cv_college_type_l6_2017": "nan",
         "cv_hgc_ever_2017": "6TH YEAR COLLEGE",
         "cv_marstat_collapsed_2017": "Married",
         "cv_bio_child_hh_2017": "nan",
         "cv_bio_child_nr_2017": "nan",
         "diplomadegree_rcvd_l1_2017": "nan",
         "diplomadegree_rcvd_l2_2017": "nan",
         "diplomadegree_rcvd_l3_2017": "nan",
         "diplomadegree_rcvd_l4_2017": "nan",
         "est_inc_wages_tips_past_yr_2017": "nan",
         "hrswk_r_uses_a_computer_2017": "10 hours or more a week",
         "hrswk_r_watches_television_2017": "3 to 10 hours a week",
         "hrsnight_r_sleeps_2017": 4,
         "cvc_wkswk_yr_all_l99": 0,
         "_deepnote_index_column": 9
        },
        {
         "keysex_symbol_1997": "Male",
         "keybdate_my_symbol_1997": 3,
         "keybdate_my_symbol_1997.1": 1984,
         "cv_sample_type_1997": "Cross-sectional",
         "keyrace_ethnicity_symbol_1997": "Non-Black / Non-Hispanic",
         "trans_sat_verbal_hstr": 600,
         "trans_sat_math_hstr": 560,
         "trans_crd_gpa_overall_hstr": 362,
         "trans_crd_gpa_eng_hstr": 375,
         "trans_crd_gpa_math_hstr": 345,
         "trans_crd_gpa_lp_sci_hstr": 320,
         "govt_responsibility__provide_jobs_2006": "nan",
         "govt_respnsblty__keep_prices_und_ctrl_2006": "nan",
         "govt_respnsblty__hlth_care_for_sick_2006": "nan",
         "govt_respnsblty_prov_eld_liv_stand_2006": "nan",
         "govt_respnsblty_prov_ind_help_2006": "nan",
         "govt_respnsblty_prov_unemp_liv_stand_2006": "nan",
         "govt_respnsblty_reduce_inc_diff_2006": "nan",
         "govt_respnsblty_prov_coll_fin_aid_2006": "nan",
         "govt_respnsblty_prov_decent_housing_2006": "nan",
         "govt_respnsblty_protect_environment_2006": "nan",
         "cv_ba_credits_l1_2011": "nan",
         "cv_college_type_l1_2017": "nan",
         "cv_college_type_l2_2017": "nan",
         "cv_college_type_l3_2017": "nan",
         "cv_college_type_l4_2017": "nan",
         "cv_college_type_l5_2017": "nan",
         "cv_college_type_l6_2017": "nan",
         "cv_hgc_ever_2017": "4TH YEAR COLLEGE",
         "cv_marstat_collapsed_2017": "Married",
         "cv_bio_child_hh_2017": 1,
         "cv_bio_child_nr_2017": 0,
         "diplomadegree_rcvd_l1_2017": "nan",
         "diplomadegree_rcvd_l2_2017": "nan",
         "diplomadegree_rcvd_l3_2017": "nan",
         "diplomadegree_rcvd_l4_2017": "nan",
         "est_inc_wages_tips_past_yr_2017": "nan",
         "hrswk_r_uses_a_computer_2017": "10 hours or more a week",
         "hrswk_r_watches_television_2017": "3 to 10 hours a week",
         "hrsnight_r_sleeps_2017": 6,
         "cvc_wkswk_yr_all_l99": 0,
         "_deepnote_index_column": 10
        },
        {
         "keysex_symbol_1997": "Female",
         "keybdate_my_symbol_1997": 6,
         "keybdate_my_symbol_1997.1": 1982,
         "cv_sample_type_1997": "Cross-sectional",
         "keyrace_ethnicity_symbol_1997": "Hispanic",
         "trans_sat_verbal_hstr": "nan",
         "trans_sat_math_hstr": "nan",
         "trans_crd_gpa_overall_hstr": 283,
         "trans_crd_gpa_eng_hstr": 247,
         "trans_crd_gpa_math_hstr": 249,
         "trans_crd_gpa_lp_sci_hstr": 312,
         "govt_responsibility__provide_jobs_2006": "Definitely should be",
         "govt_respnsblty__keep_prices_und_ctrl_2006": "Definitely should be",
         "govt_respnsblty__hlth_care_for_sick_2006": "Definitely should be",
         "govt_respnsblty_prov_eld_liv_stand_2006": "Definitely should be",
         "govt_respnsblty_prov_ind_help_2006": "Definitely should be",
         "govt_respnsblty_prov_unemp_liv_stand_2006": "Probably should not be",
         "govt_respnsblty_reduce_inc_diff_2006": "Probably should be",
         "govt_respnsblty_prov_coll_fin_aid_2006": "Definitely should be",
         "govt_respnsblty_prov_decent_housing_2006": "Probably should be",
         "govt_respnsblty_protect_environment_2006": "nan",
         "cv_ba_credits_l1_2011": "nan",
         "cv_college_type_l1_2017": "nan",
         "cv_college_type_l2_2017": "nan",
         "cv_college_type_l3_2017": "nan",
         "cv_college_type_l4_2017": "nan",
         "cv_college_type_l5_2017": "nan",
         "cv_college_type_l6_2017": "nan",
         "cv_hgc_ever_2017": "4TH YEAR COLLEGE",
         "cv_marstat_collapsed_2017": "Married",
         "cv_bio_child_hh_2017": 1,
         "cv_bio_child_nr_2017": 0,
         "diplomadegree_rcvd_l1_2017": "nan",
         "diplomadegree_rcvd_l2_2017": "nan",
         "diplomadegree_rcvd_l3_2017": "nan",
         "diplomadegree_rcvd_l4_2017": "nan",
         "est_inc_wages_tips_past_yr_2017": "nan",
         "hrswk_r_uses_a_computer_2017": "10 hours or more a week",
         "hrswk_r_watches_television_2017": "11 to 20 hours a week",
         "hrsnight_r_sleeps_2017": 5,
         "cvc_wkswk_yr_all_l99": 37,
         "_deepnote_index_column": 11
        },
        {
         "keysex_symbol_1997": "Male",
         "keybdate_my_symbol_1997": 10,
         "keybdate_my_symbol_1997.1": 1981,
         "cv_sample_type_1997": "Cross-sectional",
         "keyrace_ethnicity_symbol_1997": "Hispanic",
         "trans_sat_verbal_hstr": "nan",
         "trans_sat_math_hstr": "nan",
         "trans_crd_gpa_overall_hstr": 239,
         "trans_crd_gpa_eng_hstr": 200,
         "trans_crd_gpa_math_hstr": 250,
         "trans_crd_gpa_lp_sci_hstr": 208,
         "govt_responsibility__provide_jobs_2006": "Definitely should be",
         "govt_respnsblty__keep_prices_und_ctrl_2006": "Definitely should be",
         "govt_respnsblty__hlth_care_for_sick_2006": "Definitely should be",
         "govt_respnsblty_prov_eld_liv_stand_2006": "Definitely should be",
         "govt_respnsblty_prov_ind_help_2006": "Definitely should be",
         "govt_respnsblty_prov_unemp_liv_stand_2006": "Probably should not be",
         "govt_respnsblty_reduce_inc_diff_2006": "Definitely should not be",
         "govt_respnsblty_prov_coll_fin_aid_2006": "Definitely should be",
         "govt_respnsblty_prov_decent_housing_2006": "Probably should be",
         "govt_respnsblty_protect_environment_2006": "Definitely should be",
         "cv_ba_credits_l1_2011": "nan",
         "cv_college_type_l1_2017": "Private for-profit institution",
         "cv_college_type_l2_2017": "nan",
         "cv_college_type_l3_2017": "nan",
         "cv_college_type_l4_2017": "nan",
         "cv_college_type_l5_2017": "nan",
         "cv_college_type_l6_2017": "nan",
         "cv_hgc_ever_2017": "2ND YEAR COLLEGE",
         "cv_marstat_collapsed_2017": "Never-married",
         "cv_bio_child_hh_2017": 1,
         "cv_bio_child_nr_2017": 0,
         "diplomadegree_rcvd_l1_2017": "nan",
         "diplomadegree_rcvd_l2_2017": "nan",
         "diplomadegree_rcvd_l3_2017": "nan",
         "diplomadegree_rcvd_l4_2017": "nan",
         "est_inc_wages_tips_past_yr_2017": "nan",
         "hrswk_r_uses_a_computer_2017": "10 hours or more a week",
         "hrswk_r_watches_television_2017": "3 to 10 hours a week",
         "hrsnight_r_sleeps_2017": 5,
         "cvc_wkswk_yr_all_l99": 26,
         "_deepnote_index_column": 12
        }
       ],
       "rows_bottom": [
        {
         "keysex_symbol_1997": "Female",
         "keybdate_my_symbol_1997": 6,
         "keybdate_my_symbol_1997.1": 1982,
         "cv_sample_type_1997": "Cross-sectional",
         "keyrace_ethnicity_symbol_1997": "Non-Black / Non-Hispanic",
         "trans_sat_verbal_hstr": 370,
         "trans_sat_math_hstr": 410,
         "trans_crd_gpa_overall_hstr": 341,
         "trans_crd_gpa_eng_hstr": 310,
         "trans_crd_gpa_math_hstr": 315,
         "trans_crd_gpa_lp_sci_hstr": 360,
         "govt_responsibility__provide_jobs_2006": "nan",
         "govt_respnsblty__keep_prices_und_ctrl_2006": "nan",
         "govt_respnsblty__hlth_care_for_sick_2006": "nan",
         "govt_respnsblty_prov_eld_liv_stand_2006": "nan",
         "govt_respnsblty_prov_ind_help_2006": "nan",
         "govt_respnsblty_prov_unemp_liv_stand_2006": "nan",
         "govt_respnsblty_reduce_inc_diff_2006": "nan",
         "govt_respnsblty_prov_coll_fin_aid_2006": "nan",
         "govt_respnsblty_prov_decent_housing_2006": "nan",
         "govt_respnsblty_protect_environment_2006": "nan",
         "cv_ba_credits_l1_2011": "nan",
         "cv_college_type_l1_2017": "nan",
         "cv_college_type_l2_2017": "nan",
         "cv_college_type_l3_2017": "nan",
         "cv_college_type_l4_2017": "nan",
         "cv_college_type_l5_2017": "nan",
         "cv_college_type_l6_2017": "nan",
         "cv_hgc_ever_2017": "12TH GRADE",
         "cv_marstat_collapsed_2017": "Married",
         "cv_bio_child_hh_2017": 1,
         "cv_bio_child_nr_2017": 0,
         "diplomadegree_rcvd_l1_2017": "nan",
         "diplomadegree_rcvd_l2_2017": "nan",
         "diplomadegree_rcvd_l3_2017": "nan",
         "diplomadegree_rcvd_l4_2017": "nan",
         "est_inc_wages_tips_past_yr_2017": "nan",
         "hrswk_r_uses_a_computer_2017": "1 to 3 hours a week",
         "hrswk_r_watches_television_2017": "3 to 10 hours a week",
         "hrsnight_r_sleeps_2017": 8,
         "cvc_wkswk_yr_all_l99": 49,
         "_deepnote_index_column": 9011
        },
        {
         "keysex_symbol_1997": "Female",
         "keybdate_my_symbol_1997": 6,
         "keybdate_my_symbol_1997.1": 1984,
         "cv_sample_type_1997": "Cross-sectional",
         "keyrace_ethnicity_symbol_1997": "Black",
         "trans_sat_verbal_hstr": 440,
         "trans_sat_math_hstr": 420,
         "trans_crd_gpa_overall_hstr": 376,
         "trans_crd_gpa_eng_hstr": 377,
         "trans_crd_gpa_math_hstr": 337,
         "trans_crd_gpa_lp_sci_hstr": 400,
         "govt_responsibility__provide_jobs_2006": "nan",
         "govt_respnsblty__keep_prices_und_ctrl_2006": "nan",
         "govt_respnsblty__hlth_care_for_sick_2006": "nan",
         "govt_respnsblty_prov_eld_liv_stand_2006": "nan",
         "govt_respnsblty_prov_ind_help_2006": "nan",
         "govt_respnsblty_prov_unemp_liv_stand_2006": "nan",
         "govt_respnsblty_reduce_inc_diff_2006": "nan",
         "govt_respnsblty_prov_coll_fin_aid_2006": "nan",
         "govt_respnsblty_prov_decent_housing_2006": "nan",
         "govt_respnsblty_protect_environment_2006": "nan",
         "cv_ba_credits_l1_2011": "nan",
         "cv_college_type_l1_2017": "nan",
         "cv_college_type_l2_2017": "nan",
         "cv_college_type_l3_2017": "nan",
         "cv_college_type_l4_2017": "nan",
         "cv_college_type_l5_2017": "nan",
         "cv_college_type_l6_2017": "nan",
         "cv_hgc_ever_2017": "4TH YEAR COLLEGE",
         "cv_marstat_collapsed_2017": "Never-married",
         "cv_bio_child_hh_2017": "nan",
         "cv_bio_child_nr_2017": "nan",
         "diplomadegree_rcvd_l1_2017": "nan",
         "diplomadegree_rcvd_l2_2017": "nan",
         "diplomadegree_rcvd_l3_2017": "nan",
         "diplomadegree_rcvd_l4_2017": "nan",
         "est_inc_wages_tips_past_yr_2017": "nan",
         "hrswk_r_uses_a_computer_2017": "10 hours or more a week",
         "hrswk_r_watches_television_2017": "3 to 10 hours a week",
         "hrsnight_r_sleeps_2017": 5,
         "cvc_wkswk_yr_all_l99": "nan",
         "_deepnote_index_column": 9012
        },
        {
         "keysex_symbol_1997": "Male",
         "keybdate_my_symbol_1997": 6,
         "keybdate_my_symbol_1997.1": 1982,
         "cv_sample_type_1997": "Oversample",
         "keyrace_ethnicity_symbol_1997": "Black",
         "trans_sat_verbal_hstr": "nan",
         "trans_sat_math_hstr": "nan",
         "trans_crd_gpa_overall_hstr": 228,
         "trans_crd_gpa_eng_hstr": 145,
         "trans_crd_gpa_math_hstr": 303,
         "trans_crd_gpa_lp_sci_hstr": 236,
         "govt_responsibility__provide_jobs_2006": "nan",
         "govt_respnsblty__keep_prices_und_ctrl_2006": "nan",
         "govt_respnsblty__hlth_care_for_sick_2006": "nan",
         "govt_respnsblty_prov_eld_liv_stand_2006": "nan",
         "govt_respnsblty_prov_ind_help_2006": "nan",
         "govt_respnsblty_prov_unemp_liv_stand_2006": "nan",
         "govt_respnsblty_reduce_inc_diff_2006": "nan",
         "govt_respnsblty_prov_coll_fin_aid_2006": "nan",
         "govt_respnsblty_prov_decent_housing_2006": "nan",
         "govt_respnsblty_protect_environment_2006": "nan",
         "cv_ba_credits_l1_2011": "nan",
         "cv_college_type_l1_2017": "nan",
         "cv_college_type_l2_2017": "nan",
         "cv_college_type_l3_2017": "nan",
         "cv_college_type_l4_2017": "nan",
         "cv_college_type_l5_2017": "nan",
         "cv_college_type_l6_2017": "nan",
         "cv_hgc_ever_2017": "11TH GRADE",
         "cv_marstat_collapsed_2017": "Never-married",
         "cv_bio_child_hh_2017": 0,
         "cv_bio_child_nr_2017": 2,
         "diplomadegree_rcvd_l1_2017": "nan",
         "diplomadegree_rcvd_l2_2017": "nan",
         "diplomadegree_rcvd_l3_2017": "nan",
         "diplomadegree_rcvd_l4_2017": "nan",
         "est_inc_wages_tips_past_yr_2017": "C. $10,001 - $25,000",
         "hrswk_r_uses_a_computer_2017": "Less than 1 hour a week",
         "hrswk_r_watches_television_2017": "11 to 20 hours a week",
         "hrsnight_r_sleeps_2017": 5,
         "cvc_wkswk_yr_all_l99": 0,
         "_deepnote_index_column": 9013
        },
        {
         "keysex_symbol_1997": "Female",
         "keybdate_my_symbol_1997": 7,
         "keybdate_my_symbol_1997.1": 1984,
         "cv_sample_type_1997": "Oversample",
         "keyrace_ethnicity_symbol_1997": "Black",
         "trans_sat_verbal_hstr": "nan",
         "trans_sat_math_hstr": "nan",
         "trans_crd_gpa_overall_hstr": 149,
         "trans_crd_gpa_eng_hstr": 100,
         "trans_crd_gpa_math_hstr": -7,
         "trans_crd_gpa_lp_sci_hstr": 100,
         "govt_responsibility__provide_jobs_2006": "nan",
         "govt_respnsblty__keep_prices_und_ctrl_2006": "nan",
         "govt_respnsblty__hlth_care_for_sick_2006": "nan",
         "govt_respnsblty_prov_eld_liv_stand_2006": "nan",
         "govt_respnsblty_prov_ind_help_2006": "nan",
         "govt_respnsblty_prov_unemp_liv_stand_2006": "nan",
         "govt_respnsblty_reduce_inc_diff_2006": "nan",
         "govt_respnsblty_prov_coll_fin_aid_2006": "nan",
         "govt_respnsblty_prov_decent_housing_2006": "nan",
         "govt_respnsblty_protect_environment_2006": "nan",
         "cv_ba_credits_l1_2011": "nan",
         "cv_college_type_l1_2017": "nan",
         "cv_college_type_l2_2017": "nan",
         "cv_college_type_l3_2017": "nan",
         "cv_college_type_l4_2017": "nan",
         "cv_college_type_l5_2017": "nan",
         "cv_college_type_l6_2017": "nan",
         "cv_hgc_ever_2017": "11TH GRADE",
         "cv_marstat_collapsed_2017": "Never-married",
         "cv_bio_child_hh_2017": 2,
         "cv_bio_child_nr_2017": 0,
         "diplomadegree_rcvd_l1_2017": "nan",
         "diplomadegree_rcvd_l2_2017": "nan",
         "diplomadegree_rcvd_l3_2017": "nan",
         "diplomadegree_rcvd_l4_2017": "nan",
         "est_inc_wages_tips_past_yr_2017": "C. $10,001 - $25,000",
         "hrswk_r_uses_a_computer_2017": "10 hours or more a week",
         "hrswk_r_watches_television_2017": "Less than 2 hours per week",
         "hrsnight_r_sleeps_2017": 5,
         "cvc_wkswk_yr_all_l99": 0,
         "_deepnote_index_column": 9014
        },
        {
         "keysex_symbol_1997": "Female",
         "keybdate_my_symbol_1997": 1,
         "keybdate_my_symbol_1997.1": 1980,
         "cv_sample_type_1997": "Oversample",
         "keyrace_ethnicity_symbol_1997": "Black",
         "trans_sat_verbal_hstr": "nan",
         "trans_sat_math_hstr": "nan",
         "trans_crd_gpa_overall_hstr": 307,
         "trans_crd_gpa_eng_hstr": 307,
         "trans_crd_gpa_math_hstr": 230,
         "trans_crd_gpa_lp_sci_hstr": 277,
         "govt_responsibility__provide_jobs_2006": "nan",
         "govt_respnsblty__keep_prices_und_ctrl_2006": "nan",
         "govt_respnsblty__hlth_care_for_sick_2006": "nan",
         "govt_respnsblty_prov_eld_liv_stand_2006": "nan",
         "govt_respnsblty_prov_ind_help_2006": "nan",
         "govt_respnsblty_prov_unemp_liv_stand_2006": "nan",
         "govt_respnsblty_reduce_inc_diff_2006": "nan",
         "govt_respnsblty_prov_coll_fin_aid_2006": "nan",
         "govt_respnsblty_prov_decent_housing_2006": "nan",
         "govt_respnsblty_protect_environment_2006": "nan",
         "cv_ba_credits_l1_2011": 89,
         "cv_college_type_l1_2017": "Public institution",
         "cv_college_type_l2_2017": "nan",
         "cv_college_type_l3_2017": "nan",
         "cv_college_type_l4_2017": "nan",
         "cv_college_type_l5_2017": "nan",
         "cv_college_type_l6_2017": "nan",
         "cv_hgc_ever_2017": "4TH YEAR COLLEGE",
         "cv_marstat_collapsed_2017": "Married",
         "cv_bio_child_hh_2017": 3,
         "cv_bio_child_nr_2017": 0,
         "diplomadegree_rcvd_l1_2017": "nan",
         "diplomadegree_rcvd_l2_2017": "nan",
         "diplomadegree_rcvd_l3_2017": "nan",
         "diplomadegree_rcvd_l4_2017": "nan",
         "est_inc_wages_tips_past_yr_2017": "nan",
         "hrswk_r_uses_a_computer_2017": "10 hours or more a week",
         "hrswk_r_watches_television_2017": "3 to 10 hours a week",
         "hrsnight_r_sleeps_2017": 6,
         "cvc_wkswk_yr_all_l99": 52,
         "_deepnote_index_column": 9015
        },
        {
         "keysex_symbol_1997": "Female",
         "keybdate_my_symbol_1997": 10,
         "keybdate_my_symbol_1997.1": 1982,
         "cv_sample_type_1997": "Oversample",
         "keyrace_ethnicity_symbol_1997": "Black",
         "trans_sat_verbal_hstr": "nan",
         "trans_sat_math_hstr": "nan",
         "trans_crd_gpa_overall_hstr": 336,
         "trans_crd_gpa_eng_hstr": 308,
         "trans_crd_gpa_math_hstr": 324,
         "trans_crd_gpa_lp_sci_hstr": 304,
         "govt_responsibility__provide_jobs_2006": "nan",
         "govt_respnsblty__keep_prices_und_ctrl_2006": "nan",
         "govt_respnsblty__hlth_care_for_sick_2006": "nan",
         "govt_respnsblty_prov_eld_liv_stand_2006": "nan",
         "govt_respnsblty_prov_ind_help_2006": "nan",
         "govt_respnsblty_prov_unemp_liv_stand_2006": "nan",
         "govt_respnsblty_reduce_inc_diff_2006": "nan",
         "govt_respnsblty_prov_coll_fin_aid_2006": "nan",
         "govt_respnsblty_prov_decent_housing_2006": "nan",
         "govt_respnsblty_protect_environment_2006": "nan",
         "cv_ba_credits_l1_2011": "nan",
         "cv_college_type_l1_2017": "nan",
         "cv_college_type_l2_2017": "nan",
         "cv_college_type_l3_2017": "nan",
         "cv_college_type_l4_2017": "nan",
         "cv_college_type_l5_2017": "nan",
         "cv_college_type_l6_2017": "nan",
         "cv_hgc_ever_2017": "4TH YEAR COLLEGE",
         "cv_marstat_collapsed_2017": "Never-married",
         "cv_bio_child_hh_2017": "nan",
         "cv_bio_child_nr_2017": "nan",
         "diplomadegree_rcvd_l1_2017": "nan",
         "diplomadegree_rcvd_l2_2017": "nan",
         "diplomadegree_rcvd_l3_2017": "nan",
         "diplomadegree_rcvd_l4_2017": "nan",
         "est_inc_wages_tips_past_yr_2017": "nan",
         "hrswk_r_uses_a_computer_2017": "7 to 9 hours a week",
         "hrswk_r_watches_television_2017": "3 to 10 hours a week",
         "hrsnight_r_sleeps_2017": 8,
         "cvc_wkswk_yr_all_l99": 0,
         "_deepnote_index_column": 9016
        },
        {
         "keysex_symbol_1997": "Male",
         "keybdate_my_symbol_1997": 3,
         "keybdate_my_symbol_1997.1": 1983,
         "cv_sample_type_1997": "Cross-sectional",
         "keyrace_ethnicity_symbol_1997": "Non-Black / Non-Hispanic",
         "trans_sat_verbal_hstr": "nan",
         "trans_sat_math_hstr": "nan",
         "trans_crd_gpa_overall_hstr": "nan",
         "trans_crd_gpa_eng_hstr": "nan",
         "trans_crd_gpa_math_hstr": "nan",
         "trans_crd_gpa_lp_sci_hstr": "nan",
         "govt_responsibility__provide_jobs_2006": "nan",
         "govt_respnsblty__keep_prices_und_ctrl_2006": "nan",
         "govt_respnsblty__hlth_care_for_sick_2006": "nan",
         "govt_respnsblty_prov_eld_liv_stand_2006": "nan",
         "govt_respnsblty_prov_ind_help_2006": "nan",
         "govt_respnsblty_prov_unemp_liv_stand_2006": "nan",
         "govt_respnsblty_reduce_inc_diff_2006": "nan",
         "govt_respnsblty_prov_coll_fin_aid_2006": "nan",
         "govt_respnsblty_prov_decent_housing_2006": "nan",
         "govt_respnsblty_protect_environment_2006": "nan",
         "cv_ba_credits_l1_2011": "nan",
         "cv_college_type_l1_2017": "nan",
         "cv_college_type_l2_2017": "nan",
         "cv_college_type_l3_2017": "nan",
         "cv_college_type_l4_2017": "nan",
         "cv_college_type_l5_2017": "nan",
         "cv_college_type_l6_2017": "nan",
         "cv_hgc_ever_2017": "nan",
         "cv_marstat_collapsed_2017": "nan",
         "cv_bio_child_hh_2017": "nan",
         "cv_bio_child_nr_2017": "nan",
         "diplomadegree_rcvd_l1_2017": "nan",
         "diplomadegree_rcvd_l2_2017": "nan",
         "diplomadegree_rcvd_l3_2017": "nan",
         "diplomadegree_rcvd_l4_2017": "nan",
         "est_inc_wages_tips_past_yr_2017": "nan",
         "hrswk_r_uses_a_computer_2017": "nan",
         "hrswk_r_watches_television_2017": "nan",
         "hrsnight_r_sleeps_2017": "nan",
         "cvc_wkswk_yr_all_l99": 41,
         "_deepnote_index_column": 9017
        },
        {
         "keysex_symbol_1997": "Female",
         "keybdate_my_symbol_1997": 3,
         "keybdate_my_symbol_1997.1": 1980,
         "cv_sample_type_1997": "Cross-sectional",
         "keyrace_ethnicity_symbol_1997": "Non-Black / Non-Hispanic",
         "trans_sat_verbal_hstr": "nan",
         "trans_sat_math_hstr": "nan",
         "trans_crd_gpa_overall_hstr": "nan",
         "trans_crd_gpa_eng_hstr": "nan",
         "trans_crd_gpa_math_hstr": "nan",
         "trans_crd_gpa_lp_sci_hstr": "nan",
         "govt_responsibility__provide_jobs_2006": "nan",
         "govt_respnsblty__keep_prices_und_ctrl_2006": "nan",
         "govt_respnsblty__hlth_care_for_sick_2006": "nan",
         "govt_respnsblty_prov_eld_liv_stand_2006": "nan",
         "govt_respnsblty_prov_ind_help_2006": "nan",
         "govt_respnsblty_prov_unemp_liv_stand_2006": "nan",
         "govt_respnsblty_reduce_inc_diff_2006": "nan",
         "govt_respnsblty_prov_coll_fin_aid_2006": "nan",
         "govt_respnsblty_prov_decent_housing_2006": "nan",
         "govt_respnsblty_protect_environment_2006": "nan",
         "cv_ba_credits_l1_2011": "nan",
         "cv_college_type_l1_2017": "nan",
         "cv_college_type_l2_2017": "nan",
         "cv_college_type_l3_2017": "nan",
         "cv_college_type_l4_2017": "nan",
         "cv_college_type_l5_2017": "nan",
         "cv_college_type_l6_2017": "nan",
         "cv_hgc_ever_2017": "10TH GRADE",
         "cv_marstat_collapsed_2017": "Married",
         "cv_bio_child_hh_2017": 0,
         "cv_bio_child_nr_2017": 3,
         "diplomadegree_rcvd_l1_2017": "nan",
         "diplomadegree_rcvd_l2_2017": "nan",
         "diplomadegree_rcvd_l3_2017": "nan",
         "diplomadegree_rcvd_l4_2017": "nan",
         "est_inc_wages_tips_past_yr_2017": "nan",
         "hrswk_r_uses_a_computer_2017": "4 to 6 hours a week",
         "hrswk_r_watches_television_2017": "3 to 10 hours a week",
         "hrsnight_r_sleeps_2017": 4,
         "cvc_wkswk_yr_all_l99": 49,
         "_deepnote_index_column": 9018
        },
        {
         "keysex_symbol_1997": "Male",
         "keybdate_my_symbol_1997": 9,
         "keybdate_my_symbol_1997.1": 1984,
         "cv_sample_type_1997": "Oversample",
         "keyrace_ethnicity_symbol_1997": "Hispanic",
         "trans_sat_verbal_hstr": "nan",
         "trans_sat_math_hstr": "nan",
         "trans_crd_gpa_overall_hstr": "nan",
         "trans_crd_gpa_eng_hstr": "nan",
         "trans_crd_gpa_math_hstr": "nan",
         "trans_crd_gpa_lp_sci_hstr": "nan",
         "govt_responsibility__provide_jobs_2006": "Definitely should be",
         "govt_respnsblty__keep_prices_und_ctrl_2006": "Probably should not be",
         "govt_respnsblty__hlth_care_for_sick_2006": "Definitely should be",
         "govt_respnsblty_prov_eld_liv_stand_2006": "Definitely should be",
         "govt_respnsblty_prov_ind_help_2006": "Definitely should be",
         "govt_respnsblty_prov_unemp_liv_stand_2006": "Probably should be",
         "govt_respnsblty_reduce_inc_diff_2006": "Definitely should be",
         "govt_respnsblty_prov_coll_fin_aid_2006": "Definitely should be",
         "govt_respnsblty_prov_decent_housing_2006": "Definitely should be",
         "govt_respnsblty_protect_environment_2006": "Definitely should be",
         "cv_ba_credits_l1_2011": "nan",
         "cv_college_type_l1_2017": "nan",
         "cv_college_type_l2_2017": "nan",
         "cv_college_type_l3_2017": "nan",
         "cv_college_type_l4_2017": "nan",
         "cv_college_type_l5_2017": "nan",
         "cv_college_type_l6_2017": "nan",
         "cv_hgc_ever_2017": "2ND YEAR COLLEGE",
         "cv_marstat_collapsed_2017": "Never-married",
         "cv_bio_child_hh_2017": 0,
         "cv_bio_child_nr_2017": 4,
         "diplomadegree_rcvd_l1_2017": "nan",
         "diplomadegree_rcvd_l2_2017": "nan",
         "diplomadegree_rcvd_l3_2017": "nan",
         "diplomadegree_rcvd_l4_2017": "nan",
         "est_inc_wages_tips_past_yr_2017": "nan",
         "hrswk_r_uses_a_computer_2017": "Less than 1 hour a week",
         "hrswk_r_watches_television_2017": "3 to 10 hours a week",
         "hrsnight_r_sleeps_2017": 6,
         "cvc_wkswk_yr_all_l99": 0,
         "_deepnote_index_column": 9019
        },
        {
         "keysex_symbol_1997": "Male",
         "keybdate_my_symbol_1997": 7,
         "keybdate_my_symbol_1997.1": 1980,
         "cv_sample_type_1997": "Cross-sectional",
         "keyrace_ethnicity_symbol_1997": "Non-Black / Non-Hispanic",
         "trans_sat_verbal_hstr": "nan",
         "trans_sat_math_hstr": "nan",
         "trans_crd_gpa_overall_hstr": 322,
         "trans_crd_gpa_eng_hstr": 290,
         "trans_crd_gpa_math_hstr": 293,
         "trans_crd_gpa_lp_sci_hstr": 333,
         "govt_responsibility__provide_jobs_2006": "nan",
         "govt_respnsblty__keep_prices_und_ctrl_2006": "nan",
         "govt_respnsblty__hlth_care_for_sick_2006": "nan",
         "govt_respnsblty_prov_eld_liv_stand_2006": "nan",
         "govt_respnsblty_prov_ind_help_2006": "nan",
         "govt_respnsblty_prov_unemp_liv_stand_2006": "nan",
         "govt_respnsblty_reduce_inc_diff_2006": "nan",
         "govt_respnsblty_prov_coll_fin_aid_2006": "nan",
         "govt_respnsblty_prov_decent_housing_2006": "nan",
         "govt_respnsblty_protect_environment_2006": "nan",
         "cv_ba_credits_l1_2011": "nan",
         "cv_college_type_l1_2017": "nan",
         "cv_college_type_l2_2017": "nan",
         "cv_college_type_l3_2017": "nan",
         "cv_college_type_l4_2017": "nan",
         "cv_college_type_l5_2017": "nan",
         "cv_college_type_l6_2017": "nan",
         "cv_hgc_ever_2017": "nan",
         "cv_marstat_collapsed_2017": "nan",
         "cv_bio_child_hh_2017": "nan",
         "cv_bio_child_nr_2017": "nan",
         "diplomadegree_rcvd_l1_2017": "nan",
         "diplomadegree_rcvd_l2_2017": "nan",
         "diplomadegree_rcvd_l3_2017": "nan",
         "diplomadegree_rcvd_l4_2017": "nan",
         "est_inc_wages_tips_past_yr_2017": "nan",
         "hrswk_r_uses_a_computer_2017": "nan",
         "hrswk_r_watches_television_2017": "nan",
         "hrsnight_r_sleeps_2017": "nan",
         "cvc_wkswk_yr_all_l99": 15,
         "_deepnote_index_column": 9020
        },
        {
         "keysex_symbol_1997": "Male",
         "keybdate_my_symbol_1997": 7,
         "keybdate_my_symbol_1997.1": 1980,
         "cv_sample_type_1997": "Cross-sectional",
         "keyrace_ethnicity_symbol_1997": "Non-Black / Non-Hispanic",
         "trans_sat_verbal_hstr": "nan",
         "trans_sat_math_hstr": "nan",
         "trans_crd_gpa_overall_hstr": 230,
         "trans_crd_gpa_eng_hstr": 184,
         "trans_crd_gpa_math_hstr": 343,
         "trans_crd_gpa_lp_sci_hstr": 197,
         "govt_responsibility__provide_jobs_2006": "nan",
         "govt_respnsblty__keep_prices_und_ctrl_2006": "nan",
         "govt_respnsblty__hlth_care_for_sick_2006": "nan",
         "govt_respnsblty_prov_eld_liv_stand_2006": "nan",
         "govt_respnsblty_prov_ind_help_2006": "nan",
         "govt_respnsblty_prov_unemp_liv_stand_2006": "nan",
         "govt_respnsblty_reduce_inc_diff_2006": "nan",
         "govt_respnsblty_prov_coll_fin_aid_2006": "nan",
         "govt_respnsblty_prov_decent_housing_2006": "nan",
         "govt_respnsblty_protect_environment_2006": "nan",
         "cv_ba_credits_l1_2011": "nan",
         "cv_college_type_l1_2017": "nan",
         "cv_college_type_l2_2017": "nan",
         "cv_college_type_l3_2017": "nan",
         "cv_college_type_l4_2017": "nan",
         "cv_college_type_l5_2017": "nan",
         "cv_college_type_l6_2017": "nan",
         "cv_hgc_ever_2017": "5TH YEAR COLLEGE",
         "cv_marstat_collapsed_2017": "Never-married",
         "cv_bio_child_hh_2017": 1,
         "cv_bio_child_nr_2017": 0,
         "diplomadegree_rcvd_l1_2017": "nan",
         "diplomadegree_rcvd_l2_2017": "nan",
         "diplomadegree_rcvd_l3_2017": "nan",
         "diplomadegree_rcvd_l4_2017": "nan",
         "est_inc_wages_tips_past_yr_2017": "nan",
         "hrswk_r_uses_a_computer_2017": "10 hours or more a week",
         "hrswk_r_watches_television_2017": "3 to 10 hours a week",
         "hrsnight_r_sleeps_2017": 7,
         "cvc_wkswk_yr_all_l99": 50,
         "_deepnote_index_column": 9021
        },
        {
         "keysex_symbol_1997": "Female",
         "keybdate_my_symbol_1997": 1,
         "keybdate_my_symbol_1997.1": 1982,
         "cv_sample_type_1997": "Cross-sectional",
         "keyrace_ethnicity_symbol_1997": "Non-Black / Non-Hispanic",
         "trans_sat_verbal_hstr": "nan",
         "trans_sat_math_hstr": "nan",
         "trans_crd_gpa_overall_hstr": "nan",
         "trans_crd_gpa_eng_hstr": "nan",
         "trans_crd_gpa_math_hstr": "nan",
         "trans_crd_gpa_lp_sci_hstr": "nan",
         "govt_responsibility__provide_jobs_2006": "nan",
         "govt_respnsblty__keep_prices_und_ctrl_2006": "nan",
         "govt_respnsblty__hlth_care_for_sick_2006": "nan",
         "govt_respnsblty_prov_eld_liv_stand_2006": "nan",
         "govt_respnsblty_prov_ind_help_2006": "nan",
         "govt_respnsblty_prov_unemp_liv_stand_2006": "nan",
         "govt_respnsblty_reduce_inc_diff_2006": "nan",
         "govt_respnsblty_prov_coll_fin_aid_2006": "nan",
         "govt_respnsblty_prov_decent_housing_2006": "nan",
         "govt_respnsblty_protect_environment_2006": "nan",
         "cv_ba_credits_l1_2011": 100,
         "cv_college_type_l1_2017": "nan",
         "cv_college_type_l2_2017": "nan",
         "cv_college_type_l3_2017": "nan",
         "cv_college_type_l4_2017": "nan",
         "cv_college_type_l5_2017": "nan",
         "cv_college_type_l6_2017": "nan",
         "cv_hgc_ever_2017": "8TH YEAR COLLEGE OR MORE",
         "cv_marstat_collapsed_2017": "Divorced",
         "cv_bio_child_hh_2017": 2,
         "cv_bio_child_nr_2017": 0,
         "diplomadegree_rcvd_l1_2017": "nan",
         "diplomadegree_rcvd_l2_2017": "nan",
         "diplomadegree_rcvd_l3_2017": "nan",
         "diplomadegree_rcvd_l4_2017": "nan",
         "est_inc_wages_tips_past_yr_2017": "nan",
         "hrswk_r_uses_a_computer_2017": "10 hours or more a week",
         "hrswk_r_watches_television_2017": "Less than 2 hours per week",
         "hrsnight_r_sleeps_2017": 7,
         "cvc_wkswk_yr_all_l99": 20,
         "_deepnote_index_column": 9022
        }
       ]
      },
      "text/plain": "                        keysex_symbol_1997  keybdate_my_symbol_1997  \\\npubid__yth_id_code_1997                                               \n1.0                                 Female                      9.0   \n2.0                                   Male                      7.0   \n3.0                                 Female                      9.0   \n4.0                                 Female                      2.0   \n5.0                                   Male                     10.0   \n...                                    ...                      ...   \n9018.0                              Female                      3.0   \n9019.0                                Male                      9.0   \n9020.0                                Male                      7.0   \n9021.0                                Male                      7.0   \n9022.0                              Female                      1.0   \n\n                         keybdate_my_symbol_1997 cv_sample_type_1997  \\\npubid__yth_id_code_1997                                                \n1.0                                       1981.0     Cross-sectional   \n2.0                                       1982.0     Cross-sectional   \n3.0                                       1983.0     Cross-sectional   \n4.0                                       1981.0     Cross-sectional   \n5.0                                       1982.0     Cross-sectional   \n...                                          ...                 ...   \n9018.0                                    1980.0     Cross-sectional   \n9019.0                                    1984.0          Oversample   \n9020.0                                    1980.0     Cross-sectional   \n9021.0                                    1980.0     Cross-sectional   \n9022.0                                    1982.0     Cross-sectional   \n\n                        keyrace_ethnicity_symbol_1997  trans_sat_verbal_hstr  \\\npubid__yth_id_code_1997                                                        \n1.0                          Non-Black / Non-Hispanic                  350.0   \n2.0                                          Hispanic                  460.0   \n3.0                                          Hispanic                    NaN   \n4.0                                          Hispanic                    NaN   \n5.0                                          Hispanic                    NaN   \n...                                               ...                    ...   \n9018.0                       Non-Black / Non-Hispanic                    NaN   \n9019.0                                       Hispanic                    NaN   \n9020.0                       Non-Black / Non-Hispanic                    NaN   \n9021.0                       Non-Black / Non-Hispanic                    NaN   \n9022.0                       Non-Black / Non-Hispanic                    NaN   \n\n                         trans_sat_math_hstr  trans_crd_gpa_overall_hstr  \\\npubid__yth_id_code_1997                                                    \n1.0                                    470.0                       309.0   \n2.0                                    440.0                       217.0   \n3.0                                      NaN                         NaN   \n4.0                                      NaN                       253.0   \n5.0                                      NaN                       243.0   \n...                                      ...                         ...   \n9018.0                                   NaN                         NaN   \n9019.0                                   NaN                         NaN   \n9020.0                                   NaN                       322.0   \n9021.0                                   NaN                       230.0   \n9022.0                                   NaN                         NaN   \n\n                         trans_crd_gpa_eng_hstr  trans_crd_gpa_math_hstr  ...  \\\npubid__yth_id_code_1997                                                   ...   \n1.0                                       310.0                    293.0  ...   \n2.0                                       280.0                    114.0  ...   \n3.0                                         NaN                      NaN  ...   \n4.0                                       216.0                    195.0  ...   \n5.0                                       235.0                    293.0  ...   \n...                                         ...                      ...  ...   \n9018.0                                      NaN                      NaN  ...   \n9019.0                                      NaN                      NaN  ...   \n9020.0                                    290.0                    293.0  ...   \n9021.0                                    184.0                    343.0  ...   \n9022.0                                      NaN                      NaN  ...   \n\n                         cv_bio_child_nr_2017 diplomadegree_rcvd_l1_2017  \\\npubid__yth_id_code_1997                                                    \n1.0                                       NaN                        NaN   \n2.0                                       NaN                        NaN   \n3.0                                       0.0                        NaN   \n4.0                                       1.0                        NaN   \n5.0                                       0.0                        NaN   \n...                                       ...                        ...   \n9018.0                                    3.0                        NaN   \n9019.0                                    4.0                        NaN   \n9020.0                                    NaN                        NaN   \n9021.0                                    0.0                        NaN   \n9022.0                                    0.0                        NaN   \n\n                        diplomadegree_rcvd_l2_2017 diplomadegree_rcvd_l3_2017  \\\npubid__yth_id_code_1997                                                         \n1.0                                            NaN                        NaN   \n2.0                                            NaN                        NaN   \n3.0                                            NaN                        NaN   \n4.0                                            NaN                        NaN   \n5.0                                            NaN                        NaN   \n...                                            ...                        ...   \n9018.0                                         NaN                        NaN   \n9019.0                                         NaN                        NaN   \n9020.0                                         NaN                        NaN   \n9021.0                                         NaN                        NaN   \n9022.0                                         NaN                        NaN   \n\n                        diplomadegree_rcvd_l4_2017  \\\npubid__yth_id_code_1997                              \n1.0                                            NaN   \n2.0                                            NaN   \n3.0                                            NaN   \n4.0                                            NaN   \n5.0                                            NaN   \n...                                            ...   \n9018.0                                         NaN   \n9019.0                                         NaN   \n9020.0                                         NaN   \n9021.0                                         NaN   \n9022.0                                         NaN   \n\n                        est_inc_wages_tips_past_yr_2017  \\\npubid__yth_id_code_1997                                   \n1.0                                                 NaN   \n2.0                                                 NaN   \n3.0                                                 NaN   \n4.0                                                 NaN   \n5.0                                                 NaN   \n...                                                 ...   \n9018.0                                              NaN   \n9019.0                                              NaN   \n9020.0                                              NaN   \n9021.0                                              NaN   \n9022.0                                              NaN   \n\n                        hrswk_r_uses_a_computer_2017  \\\npubid__yth_id_code_1997                                \n1.0                                              NaN   \n2.0                              4 to 6 hours a week   \n3.0                          10 hours or more a week   \n4.0                              1 to 3 hours a week   \n5.0                          Less than 1 hour a week   \n...                                              ...   \n9018.0                           4 to 6 hours a week   \n9019.0                       Less than 1 hour a week   \n9020.0                                           NaN   \n9021.0                       10 hours or more a week   \n9022.0                       10 hours or more a week   \n\n                        hrswk_r_watches_television_2017  \\\npubid__yth_id_code_1997                                   \n1.0                                                 NaN   \n2.0                                3 to 10 hours a week   \n3.0                                3 to 10 hours a week   \n4.0                                3 to 10 hours a week   \n5.0                                3 to 10 hours a week   \n...                                                 ...   \n9018.0                             3 to 10 hours a week   \n9019.0                             3 to 10 hours a week   \n9020.0                                              NaN   \n9021.0                             3 to 10 hours a week   \n9022.0                       Less than 2 hours per week   \n\n                        hrsnight_r_sleeps_2017 cvc_wkswk_yr_all_l99  \npubid__yth_id_code_1997                                              \n1.0                                        NaN                 52.0  \n2.0                                        6.0                  0.0  \n3.0                                        6.0                  0.0  \n4.0                                        6.0                  4.0  \n5.0                                        5.0                 12.0  \n...                                        ...                  ...  \n9018.0                                     4.0                 49.0  \n9019.0                                     6.0                  0.0  \n9020.0                                     NaN                 15.0  \n9021.0                                     7.0                 50.0  \n9022.0                                     7.0                 20.0  \n\n[8984 rows x 41 columns]",
      "text/html": "<div>\n<style scoped>\n    .dataframe tbody tr th:only-of-type {\n        vertical-align: middle;\n    }\n\n    .dataframe tbody tr th {\n        vertical-align: top;\n    }\n\n    .dataframe thead th {\n        text-align: right;\n    }\n</style>\n<table border=\"1\" class=\"dataframe\">\n  <thead>\n    <tr style=\"text-align: right;\">\n      <th></th>\n      <th>keysex_symbol_1997</th>\n      <th>keybdate_my_symbol_1997</th>\n      <th>keybdate_my_symbol_1997</th>\n      <th>cv_sample_type_1997</th>\n      <th>keyrace_ethnicity_symbol_1997</th>\n      <th>trans_sat_verbal_hstr</th>\n      <th>trans_sat_math_hstr</th>\n      <th>trans_crd_gpa_overall_hstr</th>\n      <th>trans_crd_gpa_eng_hstr</th>\n      <th>trans_crd_gpa_math_hstr</th>\n      <th>...</th>\n      <th>cv_bio_child_nr_2017</th>\n      <th>diplomadegree_rcvd_l1_2017</th>\n      <th>diplomadegree_rcvd_l2_2017</th>\n      <th>diplomadegree_rcvd_l3_2017</th>\n      <th>diplomadegree_rcvd_l4_2017</th>\n      <th>est_inc_wages_tips_past_yr_2017</th>\n      <th>hrswk_r_uses_a_computer_2017</th>\n      <th>hrswk_r_watches_television_2017</th>\n      <th>hrsnight_r_sleeps_2017</th>\n      <th>cvc_wkswk_yr_all_l99</th>\n    </tr>\n    <tr>\n      <th>pubid__yth_id_code_1997</th>\n      <th></th>\n      <th></th>\n      <th></th>\n      <th></th>\n      <th></th>\n      <th></th>\n      <th></th>\n      <th></th>\n      <th></th>\n      <th></th>\n      <th></th>\n      <th></th>\n      <th></th>\n      <th></th>\n      <th></th>\n      <th></th>\n      <th></th>\n      <th></th>\n      <th></th>\n      <th></th>\n      <th></th>\n    </tr>\n  </thead>\n  <tbody>\n    <tr>\n      <th>1.0</th>\n      <td>Female</td>\n      <td>9.0</td>\n      <td>1981.0</td>\n      <td>Cross-sectional</td>\n      <td>Non-Black / Non-Hispanic</td>\n      <td>350.0</td>\n      <td>470.0</td>\n      <td>309.0</td>\n      <td>310.0</td>\n      <td>293.0</td>\n      <td>...</td>\n      <td>NaN</td>\n      <td>NaN</td>\n      <td>NaN</td>\n      <td>NaN</td>\n      <td>NaN</td>\n      <td>NaN</td>\n      <td>NaN</td>\n      <td>NaN</td>\n      <td>NaN</td>\n      <td>52.0</td>\n    </tr>\n    <tr>\n      <th>2.0</th>\n      <td>Male</td>\n      <td>7.0</td>\n      <td>1982.0</td>\n      <td>Cross-sectional</td>\n      <td>Hispanic</td>\n      <td>460.0</td>\n      <td>440.0</td>\n      <td>217.0</td>\n      <td>280.0</td>\n      <td>114.0</td>\n      <td>...</td>\n      <td>NaN</td>\n      <td>NaN</td>\n      <td>NaN</td>\n      <td>NaN</td>\n      <td>NaN</td>\n      <td>NaN</td>\n      <td>4 to 6 hours a week</td>\n      <td>3 to 10 hours a week</td>\n      <td>6.0</td>\n      <td>0.0</td>\n    </tr>\n    <tr>\n      <th>3.0</th>\n      <td>Female</td>\n      <td>9.0</td>\n      <td>1983.0</td>\n      <td>Cross-sectional</td>\n      <td>Hispanic</td>\n      <td>NaN</td>\n      <td>NaN</td>\n      <td>NaN</td>\n      <td>NaN</td>\n      <td>NaN</td>\n      <td>...</td>\n      <td>0.0</td>\n      <td>NaN</td>\n      <td>NaN</td>\n      <td>NaN</td>\n      <td>NaN</td>\n      <td>NaN</td>\n      <td>10 hours or more a week</td>\n      <td>3 to 10 hours a week</td>\n      <td>6.0</td>\n      <td>0.0</td>\n    </tr>\n    <tr>\n      <th>4.0</th>\n      <td>Female</td>\n      <td>2.0</td>\n      <td>1981.0</td>\n      <td>Cross-sectional</td>\n      <td>Hispanic</td>\n      <td>NaN</td>\n      <td>NaN</td>\n      <td>253.0</td>\n      <td>216.0</td>\n      <td>195.0</td>\n      <td>...</td>\n      <td>1.0</td>\n      <td>NaN</td>\n      <td>NaN</td>\n      <td>NaN</td>\n      <td>NaN</td>\n      <td>NaN</td>\n      <td>1 to 3 hours a week</td>\n      <td>3 to 10 hours a week</td>\n      <td>6.0</td>\n      <td>4.0</td>\n    </tr>\n    <tr>\n      <th>5.0</th>\n      <td>Male</td>\n      <td>10.0</td>\n      <td>1982.0</td>\n      <td>Cross-sectional</td>\n      <td>Hispanic</td>\n      <td>NaN</td>\n      <td>NaN</td>\n      <td>243.0</td>\n      <td>235.0</td>\n      <td>293.0</td>\n      <td>...</td>\n      <td>0.0</td>\n      <td>NaN</td>\n      <td>NaN</td>\n      <td>NaN</td>\n      <td>NaN</td>\n      <td>NaN</td>\n      <td>Less than 1 hour a week</td>\n      <td>3 to 10 hours a week</td>\n      <td>5.0</td>\n      <td>12.0</td>\n    </tr>\n    <tr>\n      <th>...</th>\n      <td>...</td>\n      <td>...</td>\n      <td>...</td>\n      <td>...</td>\n      <td>...</td>\n      <td>...</td>\n      <td>...</td>\n      <td>...</td>\n      <td>...</td>\n      <td>...</td>\n      <td>...</td>\n      <td>...</td>\n      <td>...</td>\n      <td>...</td>\n      <td>...</td>\n      <td>...</td>\n      <td>...</td>\n      <td>...</td>\n      <td>...</td>\n      <td>...</td>\n      <td>...</td>\n    </tr>\n    <tr>\n      <th>9018.0</th>\n      <td>Female</td>\n      <td>3.0</td>\n      <td>1980.0</td>\n      <td>Cross-sectional</td>\n      <td>Non-Black / Non-Hispanic</td>\n      <td>NaN</td>\n      <td>NaN</td>\n      <td>NaN</td>\n      <td>NaN</td>\n      <td>NaN</td>\n      <td>...</td>\n      <td>3.0</td>\n      <td>NaN</td>\n      <td>NaN</td>\n      <td>NaN</td>\n      <td>NaN</td>\n      <td>NaN</td>\n      <td>4 to 6 hours a week</td>\n      <td>3 to 10 hours a week</td>\n      <td>4.0</td>\n      <td>49.0</td>\n    </tr>\n    <tr>\n      <th>9019.0</th>\n      <td>Male</td>\n      <td>9.0</td>\n      <td>1984.0</td>\n      <td>Oversample</td>\n      <td>Hispanic</td>\n      <td>NaN</td>\n      <td>NaN</td>\n      <td>NaN</td>\n      <td>NaN</td>\n      <td>NaN</td>\n      <td>...</td>\n      <td>4.0</td>\n      <td>NaN</td>\n      <td>NaN</td>\n      <td>NaN</td>\n      <td>NaN</td>\n      <td>NaN</td>\n      <td>Less than 1 hour a week</td>\n      <td>3 to 10 hours a week</td>\n      <td>6.0</td>\n      <td>0.0</td>\n    </tr>\n    <tr>\n      <th>9020.0</th>\n      <td>Male</td>\n      <td>7.0</td>\n      <td>1980.0</td>\n      <td>Cross-sectional</td>\n      <td>Non-Black / Non-Hispanic</td>\n      <td>NaN</td>\n      <td>NaN</td>\n      <td>322.0</td>\n      <td>290.0</td>\n      <td>293.0</td>\n      <td>...</td>\n      <td>NaN</td>\n      <td>NaN</td>\n      <td>NaN</td>\n      <td>NaN</td>\n      <td>NaN</td>\n      <td>NaN</td>\n      <td>NaN</td>\n      <td>NaN</td>\n      <td>NaN</td>\n      <td>15.0</td>\n    </tr>\n    <tr>\n      <th>9021.0</th>\n      <td>Male</td>\n      <td>7.0</td>\n      <td>1980.0</td>\n      <td>Cross-sectional</td>\n      <td>Non-Black / Non-Hispanic</td>\n      <td>NaN</td>\n      <td>NaN</td>\n      <td>230.0</td>\n      <td>184.0</td>\n      <td>343.0</td>\n      <td>...</td>\n      <td>0.0</td>\n      <td>NaN</td>\n      <td>NaN</td>\n      <td>NaN</td>\n      <td>NaN</td>\n      <td>NaN</td>\n      <td>10 hours or more a week</td>\n      <td>3 to 10 hours a week</td>\n      <td>7.0</td>\n      <td>50.0</td>\n    </tr>\n    <tr>\n      <th>9022.0</th>\n      <td>Female</td>\n      <td>1.0</td>\n      <td>1982.0</td>\n      <td>Cross-sectional</td>\n      <td>Non-Black / Non-Hispanic</td>\n      <td>NaN</td>\n      <td>NaN</td>\n      <td>NaN</td>\n      <td>NaN</td>\n      <td>NaN</td>\n      <td>...</td>\n      <td>0.0</td>\n      <td>NaN</td>\n      <td>NaN</td>\n      <td>NaN</td>\n      <td>NaN</td>\n      <td>NaN</td>\n      <td>10 hours or more a week</td>\n      <td>Less than 2 hours per week</td>\n      <td>7.0</td>\n      <td>20.0</td>\n    </tr>\n  </tbody>\n</table>\n<p>8984 rows × 41 columns</p>\n</div>"
     },
     "metadata": {}
    }
   ],
   "execution_count": 11
  },
  {
   "cell_type": "code",
   "source": "nls97spss.set_index('pubid___yth_id_code_1997',inplace=True)",
   "metadata": {
    "tags": [],
    "cell_id": "00017-a725c88e-88c3-40af-adbc-cdd1624f0beb",
    "deepnote_to_be_reexecuted": false,
    "source_hash": "4e35661c",
    "execution_start": 1635259495421,
    "execution_millis": 5,
    "deepnote_cell_type": "code"
   },
   "outputs": [],
   "execution_count": null
  },
  {
   "cell_type": "markdown",
   "source": "### Fix the logical missing values that show up with the Stata data",
   "metadata": {
    "tags": [],
    "cell_id": "00011-950dfc77-3b1a-40e5-bd45-e41d80f48a9b",
    "deepnote_cell_type": "markdown"
   }
  },
  {
   "cell_type": "code",
   "source": "nls97spss.min()",
   "metadata": {
    "tags": [],
    "cell_id": "00012-4a91f923-aaff-42c7-af1b-84c6265debdd",
    "deepnote_to_be_reexecuted": false,
    "source_hash": "59023c02",
    "execution_start": 1635260477292,
    "execution_millis": 10,
    "deepnote_cell_type": "code"
   },
   "outputs": [
    {
     "output_type": "execute_result",
     "execution_count": 12,
     "data": {
      "text/plain": "pubid__yth_id_code_1997          1.0\nkeybdate_my_symbol_1997          1.0\nkeybdate_my_symbol_1997       1980.0\ntrans_sat_verbal_hstr           14.0\ntrans_sat_math_hstr              7.0\ntrans_crd_gpa_overall_hstr      -9.0\ntrans_crd_gpa_eng_hstr          -9.0\ntrans_crd_gpa_math_hstr         -9.0\ntrans_crd_gpa_lp_sci_hstr       -9.0\ncv_ba_credits_l1_2011            0.0\ncv_bio_child_hh_2017             0.0\ncv_bio_child_nr_2017             0.0\nhrsnight_r_sleeps_2017           0.0\ncvc_wkswk_yr_all_l99             0.0\ndtype: float64"
     },
     "metadata": {}
    }
   ],
   "execution_count": 12
  },
  {
   "cell_type": "code",
   "source": "nls97spss.replace(list(range(-9, 0)), np.nan, inplace=True)",
   "metadata": {
    "tags": [],
    "cell_id": "00013-961a4516-ed42-4e35-a7a1-a0a3bad390c3",
    "deepnote_to_be_reexecuted": false,
    "source_hash": "ba834aaa",
    "execution_start": 1635260551823,
    "execution_millis": 14,
    "deepnote_cell_type": "code"
   },
   "outputs": [],
   "execution_count": 13
  },
  {
   "cell_type": "code",
   "source": "nls97spss.min()",
   "metadata": {
    "tags": [],
    "cell_id": "00014-1a500bb8-8e51-422e-8916-58a65ed9da77",
    "deepnote_to_be_reexecuted": false,
    "source_hash": "59023c02",
    "execution_start": 1635260565194,
    "execution_millis": 3,
    "deepnote_cell_type": "code"
   },
   "outputs": [
    {
     "output_type": "execute_result",
     "execution_count": 14,
     "data": {
      "text/plain": "pubid__yth_id_code_1997          1.0\nkeybdate_my_symbol_1997          1.0\nkeybdate_my_symbol_1997       1980.0\ntrans_sat_verbal_hstr           14.0\ntrans_sat_math_hstr              7.0\ntrans_crd_gpa_overall_hstr      10.0\ntrans_crd_gpa_eng_hstr           0.0\ntrans_crd_gpa_math_hstr          0.0\ntrans_crd_gpa_lp_sci_hstr        0.0\ncv_ba_credits_l1_2011            0.0\ncv_bio_child_hh_2017             0.0\ncv_bio_child_nr_2017             0.0\nhrsnight_r_sleeps_2017           0.0\ncvc_wkswk_yr_all_l99             0.0\ndtype: float64"
     },
     "metadata": {}
    }
   ],
   "execution_count": 14
  },
  {
   "cell_type": "markdown",
   "source": "<a style='text-decoration:none;line-height:16px;display:flex;color:#5B5B62;padding:10px;justify-content:end;' href='https://deepnote.com?utm_source=created-in-deepnote-cell&projectId=48bf7820-5e38-454a-a6db-ca906c5b65d0' target=\"_blank\">\n<img alt='Created in deepnote.com' style='display:inline;max-height:16px;margin:0px;margin-right:7.5px;' src='data:image/svg+xml;base64,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' > </img>\nCreated in <span style='font-weight:600;margin-left:4px;'>Deepnote</span></a>",
   "metadata": {
    "tags": [],
    "created_in_deepnote_cell": true,
    "deepnote_cell_type": "markdown"
   }
  }
 ],
 "nbformat": 4,
 "nbformat_minor": 2,
 "metadata": {
  "orig_nbformat": 2,
  "deepnote": {
   "is_reactive": false
  },
  "deepnote_notebook_id": "7250acfa-d774-4e08-acdf-2f4dd96739c6",
  "deepnote_execution_queue": []
 }
}