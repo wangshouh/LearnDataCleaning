{
  "nbformat": 4,
  "nbformat_minor": 0,
  "metadata": {
    "colab": {
      "name": "cleardata_ch1_SQL.ipynb",
      "provenance": [],
      "authorship_tag": "ABX9TyP8i/xj+TJ1P1zugU5fjK1J",
      "include_colab_link": true
    },
    "kernelspec": {
      "name": "python3",
      "display_name": "Python 3"
    },
    "language_info": {
      "name": "python"
    }
  },
  "cells": [
    {
      "cell_type": "markdown",
      "metadata": {
        "id": "view-in-github",
        "colab_type": "text"
      },
      "source": [
        "<a href=\"https://colab.research.google.com/github/wangshouh/LearnDataCleaning/blob/main/cleardata_ch1_SQL.ipynb\" target=\"_parent\"><img src=\"https://colab.research.google.com/assets/colab-badge.svg\" alt=\"Open In Colab\"/></a>"
      ]
    },
    {
      "cell_type": "code",
      "metadata": {
        "colab": {
          "base_uri": "https://localhost:8080/"
        },
        "id": "vgA2jWClngK7",
        "outputId": "334119b9-3b0d-4b1f-9409-a15919cb3128"
      },
      "source": [
        "!pip install pymssql\n",
        "!pip install mysql-connector-python"
      ],
      "execution_count": 4,
      "outputs": [
        {
          "output_type": "stream",
          "name": "stdout",
          "text": [
            "Requirement already satisfied: pymssql in /usr/local/lib/python3.7/dist-packages (2.2.2)\n",
            "Collecting mysql-connector-python\n",
            "  Downloading mysql_connector_python-8.0.27-1commercial-cp37-cp37m-manylinux1_x86_64.whl (37.5 MB)\n",
            "\u001b[K     |████████████████████████████████| 37.5 MB 53 kB/s \n",
            "\u001b[?25hRequirement already satisfied: protobuf>=3.0.0 in /usr/local/lib/python3.7/dist-packages (from mysql-connector-python) (3.17.3)\n",
            "Requirement already satisfied: six>=1.9 in /usr/local/lib/python3.7/dist-packages (from protobuf>=3.0.0->mysql-connector-python) (1.15.0)\n",
            "Installing collected packages: mysql-connector-python\n",
            "Successfully installed mysql-connector-python-8.0.27\n"
          ]
        }
      ]
    },
    {
      "cell_type": "code",
      "metadata": {
        "id": "oaA5zwoolZ6L"
      },
      "source": [
        "import pandas as pd\n",
        "import numpy as np\n",
        "import pymssql\n",
        "import mysql.connector"
      ],
      "execution_count": 5,
      "outputs": []
    },
    {
      "cell_type": "code",
      "metadata": {
        "id": "SoDLn60hnfYQ"
      },
      "source": [
        "query = \"SELECT studentid, school, sex, age, famsize, medu AS mothereducation, fedu AS fathereducation, traveltime, studytime, failures, famrel, freetime,\\\n",
        "goout, g1 AS gradeperiod1, g2 AS gradeperiod2,g3 AS gradeperiod3 From studentmath\"\n",
        "\n",
        "server = \"pdcc.c9sqqzd5fulv.us-west-2.rds.amazonaws.com\"\n",
        "user = \"pdccuser\"\n",
        "password = \"pdccpass\"\n",
        "database = \"pdcctest\"\n",
        "\n",
        "conn = pymssql.connect(server=server, user=user, password=password, database=database)\n",
        "studentmath = pd.read_sql(query, conn)\n",
        "conn.close()"
      ],
      "execution_count": 14,
      "outputs": []
    },
    {
      "cell_type": "code",
      "metadata": {
        "colab": {
          "base_uri": "https://localhost:8080/",
          "height": 206
        },
        "id": "soU2H9FipvV5",
        "outputId": "a1db2a42-6503-468a-b180-385092a7b464"
      },
      "source": [
        "studentmath.head()"
      ],
      "execution_count": 15,
      "outputs": [
        {
          "output_type": "execute_result",
          "data": {
            "text/html": [
              "<div>\n",
              "<style scoped>\n",
              "    .dataframe tbody tr th:only-of-type {\n",
              "        vertical-align: middle;\n",
              "    }\n",
              "\n",
              "    .dataframe tbody tr th {\n",
              "        vertical-align: top;\n",
              "    }\n",
              "\n",
              "    .dataframe thead th {\n",
              "        text-align: right;\n",
              "    }\n",
              "</style>\n",
              "<table border=\"1\" class=\"dataframe\">\n",
              "  <thead>\n",
              "    <tr style=\"text-align: right;\">\n",
              "      <th></th>\n",
              "      <th>studentid</th>\n",
              "      <th>school</th>\n",
              "      <th>sex</th>\n",
              "      <th>age</th>\n",
              "      <th>famsize</th>\n",
              "      <th>mothereducation</th>\n",
              "      <th>fathereducation</th>\n",
              "      <th>traveltime</th>\n",
              "      <th>studytime</th>\n",
              "      <th>failures</th>\n",
              "      <th>famrel</th>\n",
              "      <th>freetime</th>\n",
              "      <th>goout</th>\n",
              "      <th>gradeperiod1</th>\n",
              "      <th>gradeperiod2</th>\n",
              "      <th>gradeperiod3</th>\n",
              "    </tr>\n",
              "  </thead>\n",
              "  <tbody>\n",
              "    <tr>\n",
              "      <th>0</th>\n",
              "      <td>001</td>\n",
              "      <td>GP</td>\n",
              "      <td>F</td>\n",
              "      <td>18</td>\n",
              "      <td>GT3</td>\n",
              "      <td>4</td>\n",
              "      <td>4</td>\n",
              "      <td>2</td>\n",
              "      <td>2</td>\n",
              "      <td>0</td>\n",
              "      <td>4</td>\n",
              "      <td>3</td>\n",
              "      <td>4</td>\n",
              "      <td>5</td>\n",
              "      <td>6</td>\n",
              "      <td>6</td>\n",
              "    </tr>\n",
              "    <tr>\n",
              "      <th>1</th>\n",
              "      <td>002</td>\n",
              "      <td>GP</td>\n",
              "      <td>F</td>\n",
              "      <td>17</td>\n",
              "      <td>GT3</td>\n",
              "      <td>1</td>\n",
              "      <td>1</td>\n",
              "      <td>1</td>\n",
              "      <td>2</td>\n",
              "      <td>0</td>\n",
              "      <td>5</td>\n",
              "      <td>3</td>\n",
              "      <td>3</td>\n",
              "      <td>5</td>\n",
              "      <td>5</td>\n",
              "      <td>6</td>\n",
              "    </tr>\n",
              "    <tr>\n",
              "      <th>2</th>\n",
              "      <td>003</td>\n",
              "      <td>GP</td>\n",
              "      <td>F</td>\n",
              "      <td>15</td>\n",
              "      <td>LE3</td>\n",
              "      <td>1</td>\n",
              "      <td>1</td>\n",
              "      <td>1</td>\n",
              "      <td>2</td>\n",
              "      <td>3</td>\n",
              "      <td>4</td>\n",
              "      <td>3</td>\n",
              "      <td>2</td>\n",
              "      <td>7</td>\n",
              "      <td>8</td>\n",
              "      <td>10</td>\n",
              "    </tr>\n",
              "    <tr>\n",
              "      <th>3</th>\n",
              "      <td>004</td>\n",
              "      <td>GP</td>\n",
              "      <td>F</td>\n",
              "      <td>15</td>\n",
              "      <td>GT3</td>\n",
              "      <td>4</td>\n",
              "      <td>2</td>\n",
              "      <td>1</td>\n",
              "      <td>3</td>\n",
              "      <td>0</td>\n",
              "      <td>3</td>\n",
              "      <td>2</td>\n",
              "      <td>2</td>\n",
              "      <td>15</td>\n",
              "      <td>14</td>\n",
              "      <td>15</td>\n",
              "    </tr>\n",
              "    <tr>\n",
              "      <th>4</th>\n",
              "      <td>005</td>\n",
              "      <td>GP</td>\n",
              "      <td>F</td>\n",
              "      <td>16</td>\n",
              "      <td>GT3</td>\n",
              "      <td>3</td>\n",
              "      <td>3</td>\n",
              "      <td>1</td>\n",
              "      <td>2</td>\n",
              "      <td>0</td>\n",
              "      <td>4</td>\n",
              "      <td>3</td>\n",
              "      <td>2</td>\n",
              "      <td>6</td>\n",
              "      <td>10</td>\n",
              "      <td>10</td>\n",
              "    </tr>\n",
              "  </tbody>\n",
              "</table>\n",
              "</div>"
            ],
            "text/plain": [
              "  studentid school sex  age  ... goout  gradeperiod1  gradeperiod2  gradeperiod3\n",
              "0       001     GP   F   18  ...     4             5             6             6\n",
              "1       002     GP   F   17  ...     3             5             5             6\n",
              "2       003     GP   F   15  ...     2             7             8            10\n",
              "3       004     GP   F   15  ...     2            15            14            15\n",
              "4       005     GP   F   16  ...     2             6            10            10\n",
              "\n",
              "[5 rows x 16 columns]"
            ]
          },
          "metadata": {},
          "execution_count": 15
        }
      ]
    },
    {
      "cell_type": "code",
      "metadata": {
        "colab": {
          "base_uri": "https://localhost:8080/"
        },
        "id": "PzDk8trlpyQU",
        "outputId": "28ee7b5a-6dba-4f0b-cc46-f430c116bf6a"
      },
      "source": [
        "studentmath.dtypes"
      ],
      "execution_count": 16,
      "outputs": [
        {
          "output_type": "execute_result",
          "data": {
            "text/plain": [
              "studentid          object\n",
              "school             object\n",
              "sex                object\n",
              "age                 int64\n",
              "famsize            object\n",
              "mothereducation     int64\n",
              "fathereducation     int64\n",
              "traveltime          int64\n",
              "studytime           int64\n",
              "failures            int64\n",
              "famrel              int64\n",
              "freetime            int64\n",
              "goout               int64\n",
              "gradeperiod1        int64\n",
              "gradeperiod2        int64\n",
              "gradeperiod3        int64\n",
              "dtype: object"
            ]
          },
          "metadata": {},
          "execution_count": 16
        }
      ]
    },
    {
      "cell_type": "code",
      "metadata": {
        "id": "SvojqHONp3qZ"
      },
      "source": [
        "newcolorder = ['studentid', 'gradeperiod1','gradeperiod2','gradeperiod3', 'school', 'sex', 'age', 'famsize','mothereducation', 'fathereducation', 'traveltime','studytime', 'freetime', 'failures', 'famrel','goout']\n",
        "studentmath = studentmath[newcolorder]"
      ],
      "execution_count": 17,
      "outputs": []
    },
    {
      "cell_type": "code",
      "metadata": {
        "colab": {
          "base_uri": "https://localhost:8080/"
        },
        "id": "7Sw5_uPKsMrL",
        "outputId": "52afc26f-08cb-4516-8ed4-b227f9867099"
      },
      "source": [
        "studentmath.studentid.count() == studentmath.studentid.nunique()"
      ],
      "execution_count": 24,
      "outputs": [
        {
          "output_type": "execute_result",
          "data": {
            "text/plain": [
              "True"
            ]
          },
          "metadata": {},
          "execution_count": 24
        }
      ]
    },
    {
      "cell_type": "code",
      "metadata": {
        "id": "rclcw0imuO-X"
      },
      "source": [
        "studentmath.set_index('studentid', inplace=True)"
      ],
      "execution_count": 27,
      "outputs": []
    },
    {
      "cell_type": "code",
      "metadata": {
        "colab": {
          "base_uri": "https://localhost:8080/"
        },
        "id": "QxMuur3rs4kx",
        "outputId": "00b2a7bb-d60e-4782-83d7-04b50388e169"
      },
      "source": [
        "studentmath.count()"
      ],
      "execution_count": 25,
      "outputs": [
        {
          "output_type": "execute_result",
          "data": {
            "text/plain": [
              "studentid          395\n",
              "gradeperiod1       395\n",
              "gradeperiod2       395\n",
              "gradeperiod3       395\n",
              "school             395\n",
              "sex                395\n",
              "age                395\n",
              "famsize            395\n",
              "mothereducation    395\n",
              "fathereducation    395\n",
              "traveltime         395\n",
              "studytime          395\n",
              "freetime           395\n",
              "failures           395\n",
              "famrel             395\n",
              "goout              395\n",
              "dtype: int64"
            ]
          },
          "metadata": {},
          "execution_count": 25
        }
      ]
    },
    {
      "cell_type": "code",
      "metadata": {
        "id": "RKebC_83tPAL"
      },
      "source": [
        "setvalues={\n",
        "    \"famrel\":{1:\"1:very bad\",2:\"2:bad\",3:\"3:neutral\",4:\"4:good\",5:\"5:excellent\"},\n",
        "    \"freetime\":{1:\"1:very low\",2:\"2:low\",3:\"3:neutral\",4:\"4:high\",5:\"5:very high\"},\n",
        "    \"goout\":{1:\"1:very low\",2:\"2:low\",3:\"3:neutral\",4:\"4:high\",5:\"5:very high\"},\n",
        "    \"mothereducation\":{0:np.nan,1:\"1:k-4\",2:\"2:5-9\",3:\"3:secondary ed\",4:\"4:higher ed\"},\n",
        "    \"fathereducation\":{0:np.nan,1:\"1:k-4\",2:\"2:5-9\",3:\"3:secondary ed\",4:\"4:higher ed\"}\n",
        "           }\n",
        "studentmath.replace(setvalues, inplace=True)  \n",
        "setvalueskeys = [k for k in setvalues]      "
      ],
      "execution_count": 28,
      "outputs": []
    },
    {
      "cell_type": "code",
      "metadata": {
        "colab": {
          "base_uri": "https://localhost:8080/",
          "height": 455
        },
        "id": "vseSzJ4XudDL",
        "outputId": "ec102082-29b7-4f10-d4fb-721ae8d435c9"
      },
      "source": [
        "studentmath"
      ],
      "execution_count": 30,
      "outputs": [
        {
          "output_type": "execute_result",
          "data": {
            "text/html": [
              "<div>\n",
              "<style scoped>\n",
              "    .dataframe tbody tr th:only-of-type {\n",
              "        vertical-align: middle;\n",
              "    }\n",
              "\n",
              "    .dataframe tbody tr th {\n",
              "        vertical-align: top;\n",
              "    }\n",
              "\n",
              "    .dataframe thead th {\n",
              "        text-align: right;\n",
              "    }\n",
              "</style>\n",
              "<table border=\"1\" class=\"dataframe\">\n",
              "  <thead>\n",
              "    <tr style=\"text-align: right;\">\n",
              "      <th></th>\n",
              "      <th>gradeperiod1</th>\n",
              "      <th>gradeperiod2</th>\n",
              "      <th>gradeperiod3</th>\n",
              "      <th>school</th>\n",
              "      <th>sex</th>\n",
              "      <th>age</th>\n",
              "      <th>famsize</th>\n",
              "      <th>mothereducation</th>\n",
              "      <th>fathereducation</th>\n",
              "      <th>traveltime</th>\n",
              "      <th>studytime</th>\n",
              "      <th>freetime</th>\n",
              "      <th>failures</th>\n",
              "      <th>famrel</th>\n",
              "      <th>goout</th>\n",
              "    </tr>\n",
              "    <tr>\n",
              "      <th>studentid</th>\n",
              "      <th></th>\n",
              "      <th></th>\n",
              "      <th></th>\n",
              "      <th></th>\n",
              "      <th></th>\n",
              "      <th></th>\n",
              "      <th></th>\n",
              "      <th></th>\n",
              "      <th></th>\n",
              "      <th></th>\n",
              "      <th></th>\n",
              "      <th></th>\n",
              "      <th></th>\n",
              "      <th></th>\n",
              "      <th></th>\n",
              "    </tr>\n",
              "  </thead>\n",
              "  <tbody>\n",
              "    <tr>\n",
              "      <th>001</th>\n",
              "      <td>5</td>\n",
              "      <td>6</td>\n",
              "      <td>6</td>\n",
              "      <td>GP</td>\n",
              "      <td>F</td>\n",
              "      <td>18</td>\n",
              "      <td>GT3</td>\n",
              "      <td>4:higher ed</td>\n",
              "      <td>4:higher ed</td>\n",
              "      <td>2</td>\n",
              "      <td>2</td>\n",
              "      <td>3:neutral</td>\n",
              "      <td>0</td>\n",
              "      <td>4:good</td>\n",
              "      <td>4:high</td>\n",
              "    </tr>\n",
              "    <tr>\n",
              "      <th>002</th>\n",
              "      <td>5</td>\n",
              "      <td>5</td>\n",
              "      <td>6</td>\n",
              "      <td>GP</td>\n",
              "      <td>F</td>\n",
              "      <td>17</td>\n",
              "      <td>GT3</td>\n",
              "      <td>1:k-4</td>\n",
              "      <td>1:k-4</td>\n",
              "      <td>1</td>\n",
              "      <td>2</td>\n",
              "      <td>3:neutral</td>\n",
              "      <td>0</td>\n",
              "      <td>5:excellent</td>\n",
              "      <td>3:neutral</td>\n",
              "    </tr>\n",
              "    <tr>\n",
              "      <th>003</th>\n",
              "      <td>7</td>\n",
              "      <td>8</td>\n",
              "      <td>10</td>\n",
              "      <td>GP</td>\n",
              "      <td>F</td>\n",
              "      <td>15</td>\n",
              "      <td>LE3</td>\n",
              "      <td>1:k-4</td>\n",
              "      <td>1:k-4</td>\n",
              "      <td>1</td>\n",
              "      <td>2</td>\n",
              "      <td>3:neutral</td>\n",
              "      <td>3</td>\n",
              "      <td>4:good</td>\n",
              "      <td>2:low</td>\n",
              "    </tr>\n",
              "    <tr>\n",
              "      <th>004</th>\n",
              "      <td>15</td>\n",
              "      <td>14</td>\n",
              "      <td>15</td>\n",
              "      <td>GP</td>\n",
              "      <td>F</td>\n",
              "      <td>15</td>\n",
              "      <td>GT3</td>\n",
              "      <td>4:higher ed</td>\n",
              "      <td>2:5-9</td>\n",
              "      <td>1</td>\n",
              "      <td>3</td>\n",
              "      <td>2:low</td>\n",
              "      <td>0</td>\n",
              "      <td>3:neutral</td>\n",
              "      <td>2:low</td>\n",
              "    </tr>\n",
              "    <tr>\n",
              "      <th>005</th>\n",
              "      <td>6</td>\n",
              "      <td>10</td>\n",
              "      <td>10</td>\n",
              "      <td>GP</td>\n",
              "      <td>F</td>\n",
              "      <td>16</td>\n",
              "      <td>GT3</td>\n",
              "      <td>3:secondary ed</td>\n",
              "      <td>3:secondary ed</td>\n",
              "      <td>1</td>\n",
              "      <td>2</td>\n",
              "      <td>3:neutral</td>\n",
              "      <td>0</td>\n",
              "      <td>4:good</td>\n",
              "      <td>2:low</td>\n",
              "    </tr>\n",
              "    <tr>\n",
              "      <th>...</th>\n",
              "      <td>...</td>\n",
              "      <td>...</td>\n",
              "      <td>...</td>\n",
              "      <td>...</td>\n",
              "      <td>...</td>\n",
              "      <td>...</td>\n",
              "      <td>...</td>\n",
              "      <td>...</td>\n",
              "      <td>...</td>\n",
              "      <td>...</td>\n",
              "      <td>...</td>\n",
              "      <td>...</td>\n",
              "      <td>...</td>\n",
              "      <td>...</td>\n",
              "      <td>...</td>\n",
              "    </tr>\n",
              "    <tr>\n",
              "      <th>391</th>\n",
              "      <td>9</td>\n",
              "      <td>9</td>\n",
              "      <td>9</td>\n",
              "      <td>MS</td>\n",
              "      <td>M</td>\n",
              "      <td>20</td>\n",
              "      <td>LE3</td>\n",
              "      <td>2:5-9</td>\n",
              "      <td>2:5-9</td>\n",
              "      <td>1</td>\n",
              "      <td>2</td>\n",
              "      <td>5:very high</td>\n",
              "      <td>2</td>\n",
              "      <td>5:excellent</td>\n",
              "      <td>4:high</td>\n",
              "    </tr>\n",
              "    <tr>\n",
              "      <th>392</th>\n",
              "      <td>14</td>\n",
              "      <td>16</td>\n",
              "      <td>16</td>\n",
              "      <td>MS</td>\n",
              "      <td>M</td>\n",
              "      <td>17</td>\n",
              "      <td>LE3</td>\n",
              "      <td>3:secondary ed</td>\n",
              "      <td>1:k-4</td>\n",
              "      <td>2</td>\n",
              "      <td>1</td>\n",
              "      <td>4:high</td>\n",
              "      <td>0</td>\n",
              "      <td>2:bad</td>\n",
              "      <td>5:very high</td>\n",
              "    </tr>\n",
              "    <tr>\n",
              "      <th>393</th>\n",
              "      <td>10</td>\n",
              "      <td>8</td>\n",
              "      <td>7</td>\n",
              "      <td>MS</td>\n",
              "      <td>M</td>\n",
              "      <td>21</td>\n",
              "      <td>GT3</td>\n",
              "      <td>1:k-4</td>\n",
              "      <td>1:k-4</td>\n",
              "      <td>1</td>\n",
              "      <td>1</td>\n",
              "      <td>5:very high</td>\n",
              "      <td>3</td>\n",
              "      <td>5:excellent</td>\n",
              "      <td>3:neutral</td>\n",
              "    </tr>\n",
              "    <tr>\n",
              "      <th>394</th>\n",
              "      <td>11</td>\n",
              "      <td>12</td>\n",
              "      <td>10</td>\n",
              "      <td>MS</td>\n",
              "      <td>M</td>\n",
              "      <td>18</td>\n",
              "      <td>LE3</td>\n",
              "      <td>3:secondary ed</td>\n",
              "      <td>2:5-9</td>\n",
              "      <td>3</td>\n",
              "      <td>1</td>\n",
              "      <td>4:high</td>\n",
              "      <td>0</td>\n",
              "      <td>4:good</td>\n",
              "      <td>1:very low</td>\n",
              "    </tr>\n",
              "    <tr>\n",
              "      <th>395</th>\n",
              "      <td>8</td>\n",
              "      <td>9</td>\n",
              "      <td>9</td>\n",
              "      <td>MS</td>\n",
              "      <td>M</td>\n",
              "      <td>19</td>\n",
              "      <td>LE3</td>\n",
              "      <td>1:k-4</td>\n",
              "      <td>1:k-4</td>\n",
              "      <td>1</td>\n",
              "      <td>1</td>\n",
              "      <td>2:low</td>\n",
              "      <td>0</td>\n",
              "      <td>3:neutral</td>\n",
              "      <td>3:neutral</td>\n",
              "    </tr>\n",
              "  </tbody>\n",
              "</table>\n",
              "<p>395 rows × 15 columns</p>\n",
              "</div>"
            ],
            "text/plain": [
              "           gradeperiod1  gradeperiod2  ...       famrel        goout\n",
              "studentid                              ...                          \n",
              "001                   5             6  ...       4:good       4:high\n",
              "002                   5             5  ...  5:excellent    3:neutral\n",
              "003                   7             8  ...       4:good        2:low\n",
              "004                  15            14  ...    3:neutral        2:low\n",
              "005                   6            10  ...       4:good        2:low\n",
              "...                 ...           ...  ...          ...          ...\n",
              "391                   9             9  ...  5:excellent       4:high\n",
              "392                  14            16  ...        2:bad  5:very high\n",
              "393                  10             8  ...  5:excellent    3:neutral\n",
              "394                  11            12  ...       4:good   1:very low\n",
              "395                   8             9  ...    3:neutral    3:neutral\n",
              "\n",
              "[395 rows x 15 columns]"
            ]
          },
          "metadata": {},
          "execution_count": 30
        }
      ]
    },
    {
      "cell_type": "code",
      "metadata": {
        "colab": {
          "base_uri": "https://localhost:8080/"
        },
        "id": "gnR-SyCGuv6U",
        "outputId": "1e266103-2c87-4b99-e955-1ca03ec29b41"
      },
      "source": [
        "studentmath[setvalueskeys].memory_usage(index=False)"
      ],
      "execution_count": 31,
      "outputs": [
        {
          "output_type": "execute_result",
          "data": {
            "text/plain": [
              "famrel             3160\n",
              "freetime           3160\n",
              "goout              3160\n",
              "mothereducation    3160\n",
              "fathereducation    3160\n",
              "dtype: int64"
            ]
          },
          "metadata": {},
          "execution_count": 31
        }
      ]
    },
    {
      "cell_type": "code",
      "metadata": {
        "id": "cir7ry-su42D"
      },
      "source": [
        "for col in studentmath[setvalueskeys].columns:\n",
        "  studentmath[col] = studentmath[col].astype('category')"
      ],
      "execution_count": 34,
      "outputs": []
    },
    {
      "cell_type": "code",
      "metadata": {
        "colab": {
          "base_uri": "https://localhost:8080/"
        },
        "id": "RoAZSaXJvYy9",
        "outputId": "1700eda7-5b5f-4cb5-fbc3-c2a918eea72b"
      },
      "source": [
        "studentmath[setvalueskeys].memory_usage(index=False)"
      ],
      "execution_count": 35,
      "outputs": [
        {
          "output_type": "execute_result",
          "data": {
            "text/plain": [
              "famrel             595\n",
              "freetime           595\n",
              "goout              595\n",
              "mothereducation    587\n",
              "fathereducation    587\n",
              "dtype: int64"
            ]
          },
          "metadata": {},
          "execution_count": 35
        }
      ]
    },
    {
      "cell_type": "code",
      "metadata": {
        "colab": {
          "base_uri": "https://localhost:8080/"
        },
        "id": "0Ee-AzudviEF",
        "outputId": "ebbaac0e-1713-4d0a-9fb6-2daa92cb4788"
      },
      "source": [
        "studentmath['famrel'].value_counts(sort=False, normalize=True)"
      ],
      "execution_count": 36,
      "outputs": [
        {
          "output_type": "execute_result",
          "data": {
            "text/plain": [
              "1:very bad     0.020253\n",
              "2:bad          0.045570\n",
              "3:neutral      0.172152\n",
              "4:good         0.493671\n",
              "5:excellent    0.268354\n",
              "Name: famrel, dtype: float64"
            ]
          },
          "metadata": {},
          "execution_count": 36
        }
      ]
    },
    {
      "cell_type": "code",
      "metadata": {
        "colab": {
          "base_uri": "https://localhost:8080/",
          "height": 206
        },
        "id": "HdLm38n5vvbn",
        "outputId": "8ffbac36-7a8b-46be-d3bd-e639e969ddf4"
      },
      "source": [
        "studentmath[['freetime', 'goout']].apply(pd.Series.value_counts, sort=False, normalize=True)"
      ],
      "execution_count": 38,
      "outputs": [
        {
          "output_type": "execute_result",
          "data": {
            "text/html": [
              "<div>\n",
              "<style scoped>\n",
              "    .dataframe tbody tr th:only-of-type {\n",
              "        vertical-align: middle;\n",
              "    }\n",
              "\n",
              "    .dataframe tbody tr th {\n",
              "        vertical-align: top;\n",
              "    }\n",
              "\n",
              "    .dataframe thead th {\n",
              "        text-align: right;\n",
              "    }\n",
              "</style>\n",
              "<table border=\"1\" class=\"dataframe\">\n",
              "  <thead>\n",
              "    <tr style=\"text-align: right;\">\n",
              "      <th></th>\n",
              "      <th>freetime</th>\n",
              "      <th>goout</th>\n",
              "    </tr>\n",
              "  </thead>\n",
              "  <tbody>\n",
              "    <tr>\n",
              "      <th>1:very low</th>\n",
              "      <td>0.048101</td>\n",
              "      <td>0.058228</td>\n",
              "    </tr>\n",
              "    <tr>\n",
              "      <th>2:low</th>\n",
              "      <td>0.162025</td>\n",
              "      <td>0.260759</td>\n",
              "    </tr>\n",
              "    <tr>\n",
              "      <th>3:neutral</th>\n",
              "      <td>0.397468</td>\n",
              "      <td>0.329114</td>\n",
              "    </tr>\n",
              "    <tr>\n",
              "      <th>4:high</th>\n",
              "      <td>0.291139</td>\n",
              "      <td>0.217722</td>\n",
              "    </tr>\n",
              "    <tr>\n",
              "      <th>5:very high</th>\n",
              "      <td>0.101266</td>\n",
              "      <td>0.134177</td>\n",
              "    </tr>\n",
              "  </tbody>\n",
              "</table>\n",
              "</div>"
            ],
            "text/plain": [
              "             freetime     goout\n",
              "1:very low   0.048101  0.058228\n",
              "2:low        0.162025  0.260759\n",
              "3:neutral    0.397468  0.329114\n",
              "4:high       0.291139  0.217722\n",
              "5:very high  0.101266  0.134177"
            ]
          },
          "metadata": {},
          "execution_count": 38
        }
      ]
    }
  ]
}
